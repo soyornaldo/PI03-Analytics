{
 "cells": [
  {
   "cell_type": "code",
   "execution_count": 80,
   "id": "ad5fd9ba-16a1-48c8-8203-87fbb5225663",
   "metadata": {},
   "outputs": [],
   "source": [
    "import pandas as pd\n",
    "import polars as pl\n",
    "import numpy as np\n",
    "import panel as pn\n",
    "pn.extension('tabulator')\n",
    "import hvplot.pandas\n",
    "import math"
   ]
  },
  {
   "cell_type": "markdown",
   "id": "d69df0b7-504d-49aa-b0c8-0db9583b8d88",
   "metadata": {},
   "source": [
    "## Cargo los cursos de coursera\n",
    "#### No hay nulos\n",
    "#### Me quedo solo con la columna ['course_id']\n",
    "#### No hay nulos en la tabla"
   ]
  },
  {
   "cell_type": "code",
   "execution_count": 34,
   "id": "d53c2800-f219-4dfe-a6dc-b55fff0dc2be",
   "metadata": {},
   "outputs": [],
   "source": [
    "df_c = pl.read_csv(r\"C:\\Users\\ornal\\Desktop\\Data Analitics\\PI03-Analytics-Origen\\Coursera_courses.csv\");"
   ]
  },
  {
   "cell_type": "code",
   "execution_count": 35,
   "id": "4a239893-8a08-48dd-b5b8-00e1b63de677",
   "metadata": {},
   "outputs": [],
   "source": [
    "df_c = df_c.select(pl.col('course_id'))\n",
    "pd_c = df_c.to_pandas()"
   ]
  },
  {
   "cell_type": "code",
   "execution_count": null,
   "id": "41edc9fd-146e-4f09-a25f-9b2524f0e954",
   "metadata": {},
   "outputs": [],
   "source": [
    "df_c.drop_nulls()"
   ]
  },
  {
   "cell_type": "markdown",
   "id": "79702b06-a3a9-4842-a778-5dddca9638fd",
   "metadata": {},
   "source": [
    "## Voy a usar la version pandas de la tabla para rabajar el titulo"
   ]
  },
  {
   "cell_type": "code",
   "execution_count": 38,
   "id": "da20dc1e-3548-4349-a6ea-d318b07ba733",
   "metadata": {},
   "outputs": [],
   "source": [
    "pd_c[['course_id-split-0-lpxo', \n",
    "      'course_id-split-1-lpxo', \n",
    "      'course_id-split-2-lpxo', \n",
    "      'course_id-split-3-lpxo', \n",
    "      'course_id-split-4-lpxo', \n",
    "      'course_id-split-5-lpxo', \n",
    "      'course_id-split-6-lpxo', \n",
    "      'course_id-split-7-lpxo', \n",
    "      'course_id-split-8-lpxo']] = pd_c['course_id'].str.split('-', n=-1, expand=True, regex=None)"
   ]
  },
  {
   "cell_type": "code",
   "execution_count": 39,
   "id": "d8712cca-aeb1-4a01-9091-2164e3cc7d8d",
   "metadata": {},
   "outputs": [],
   "source": [
    "pd_c = pd_c[pd_c.columns[:1].tolist() + ['course_id-split-0-lpxo', \n",
    "                                         'course_id-split-1-lpxo', \n",
    "                                         'course_id-split-2-lpxo', \n",
    "                                         'course_id-split-3-lpxo', \n",
    "                                         'course_id-split-4-lpxo', \n",
    "                                         'course_id-split-5-lpxo', \n",
    "                                         'course_id-split-6-lpxo', \n",
    "                                         'course_id-split-7-lpxo', \n",
    "                                         'course_id-split-8-lpxo'] + pd_c.columns[1:-9].tolist()]"
   ]
  },
  {
   "cell_type": "code",
   "execution_count": 40,
   "id": "f04beeb0-22c1-4ca5-bd33-1a5439d1bd40",
   "metadata": {},
   "outputs": [],
   "source": [
    "# Deleted columns course_id\n",
    "pd_c.drop(['course_id'], axis=1, inplace=True)"
   ]
  },
  {
   "cell_type": "code",
   "execution_count": 41,
   "id": "06ef9262-6e69-40f5-8e97-8025a1cd9991",
   "metadata": {},
   "outputs": [],
   "source": [
    "pd_c.to_csv(r\"C:\\Users\\ornal\\Desktop\\Data Analitics\\PI03-Analytics\\wordcloud.csv\")"
   ]
  },
  {
   "cell_type": "code",
   "execution_count": 42,
   "id": "9dc12aa9-40af-40ce-9108-e209461ad1f8",
   "metadata": {},
   "outputs": [],
   "source": [
    "pl_wordcloud = pl.read_csv(r\"C:\\Users\\ornal\\Desktop\\Data Analitics\\PI03-Analytics\\wordcloud.csv\")"
   ]
  },
  {
   "cell_type": "code",
   "execution_count": 43,
   "id": "7b8ff2e8-45d9-48e2-9c2d-65f34b6b4e27",
   "metadata": {},
   "outputs": [],
   "source": [
    "pl_wordcloud_final = pl.concat([pl_wordcloud.select(pl.col('course_id-split-0-lpxo').alias('course_id')),\n",
    "                                pl_wordcloud.select(pl.col('course_id-split-1-lpxo').alias('course_id')), \n",
    "                                pl_wordcloud.select(pl.col('course_id-split-2-lpxo').alias('course_id')), \n",
    "                                pl_wordcloud.select(pl.col('course_id-split-3-lpxo').alias('course_id')), \n",
    "                                pl_wordcloud.select(pl.col('course_id-split-4-lpxo').alias('course_id')), \n",
    "                                pl_wordcloud.select(pl.col('course_id-split-5-lpxo').alias('course_id')), \n",
    "                                pl_wordcloud.select(pl.col('course_id-split-6-lpxo').alias('course_id')), \n",
    "                                pl_wordcloud.select(pl.col('course_id-split-7-lpxo').alias('course_id')), \n",
    "                                pl_wordcloud.select(pl.col('course_id-split-8-lpxo').alias('course_id'))],how='vertical')"
   ]
  },
  {
   "cell_type": "code",
   "execution_count": null,
   "id": "53d9391d-4e0e-4453-80a0-a509a13292d0",
   "metadata": {},
   "outputs": [],
   "source": [
    "pl_wordcloud_final.drop_nulls()"
   ]
  },
  {
   "cell_type": "markdown",
   "id": "e702dbf8-10d6-4ebf-a730-4f21a20b3536",
   "metadata": {},
   "source": [
    "### Salvo coursera"
   ]
  },
  {
   "cell_type": "code",
   "execution_count": 45,
   "id": "e3068679-5668-4028-8b72-44cb09ee8d31",
   "metadata": {},
   "outputs": [],
   "source": [
    "df_c.write_parquet(r\"C:\\Users\\ornal\\Desktop\\Data Analitics\\PI03-Analytics\\coursera.parquet\")\n",
    "df_c.write_csv(r\"C:\\Users\\ornal\\Desktop\\Data Analitics\\PI03-Analytics-Origen\\coursera.csv\")\n",
    "pl_wordcloud_final.write_csv(r\"C:\\Users\\ornal\\Desktop\\Data Analitics\\PI03-Analytics\\wordcloud.csv\")"
   ]
  },
  {
   "cell_type": "markdown",
   "id": "44bb318c-fbee-4b45-84ff-cc83537c7a20",
   "metadata": {},
   "source": [
    "## Cargo los reviews a los cursos de coursera"
   ]
  },
  {
   "cell_type": "code",
   "execution_count": 64,
   "id": "46a61e2d-518e-4ffb-bb78-397332dd05fd",
   "metadata": {},
   "outputs": [],
   "source": [
    "df_r = pl.read_csv(r\"C:\\Users\\ornal\\Desktop\\Data Analitics\\PI03-Analytics-Origen\\Coursera_reviews.csv\")\n",
    "pd_r = df_r.to_pandas()"
   ]
  },
  {
   "cell_type": "code",
   "execution_count": 65,
   "id": "1516f98d-4a81-4508-81ee-5e58a8fa6a61",
   "metadata": {},
   "outputs": [
    {
     "data": {
      "text/html": [
       "<div>\n",
       "<style scoped>\n",
       "    .dataframe tbody tr th:only-of-type {\n",
       "        vertical-align: middle;\n",
       "    }\n",
       "\n",
       "    .dataframe tbody tr th {\n",
       "        vertical-align: top;\n",
       "    }\n",
       "\n",
       "    .dataframe thead th {\n",
       "        text-align: right;\n",
       "    }\n",
       "\n",
       "    .dataframe td {\n",
       "        white-space: pre;\n",
       "    }\n",
       "\n",
       "    .dataframe td {\n",
       "        padding-top: 0;\n",
       "    }\n",
       "\n",
       "    .dataframe td {\n",
       "        padding-bottom: 0;\n",
       "    }\n",
       "\n",
       "    .dataframe td {\n",
       "        line-height: 95%;\n",
       "    }\n",
       "</style>\n",
       "<table border=\"1\" class=\"dataframe\">\n",
       "<small>shape: (1, 6)</small>\n",
       "<thead>\n",
       "<tr>\n",
       "<th>\n",
       "\n",
       "</th>\n",
       "<th>\n",
       "reviews\n",
       "</th>\n",
       "<th>\n",
       "reviewers\n",
       "</th>\n",
       "<th>\n",
       "date_reviews\n",
       "</th>\n",
       "<th>\n",
       "rating\n",
       "</th>\n",
       "<th>\n",
       "course_id\n",
       "</th>\n",
       "</tr>\n",
       "<tr>\n",
       "<td>\n",
       "u32\n",
       "</td>\n",
       "<td>\n",
       "u32\n",
       "</td>\n",
       "<td>\n",
       "u32\n",
       "</td>\n",
       "<td>\n",
       "u32\n",
       "</td>\n",
       "<td>\n",
       "u32\n",
       "</td>\n",
       "<td>\n",
       "u32\n",
       "</td>\n",
       "</tr>\n",
       "</thead>\n",
       "<tbody>\n",
       "<tr>\n",
       "<td>\n",
       "0\n",
       "</td>\n",
       "<td>\n",
       "0\n",
       "</td>\n",
       "<td>\n",
       "0\n",
       "</td>\n",
       "<td>\n",
       "0\n",
       "</td>\n",
       "<td>\n",
       "0\n",
       "</td>\n",
       "<td>\n",
       "0\n",
       "</td>\n",
       "</tr>\n",
       "</tbody>\n",
       "</table>\n",
       "</div>"
      ],
      "text/plain": [
       "shape: (1, 6)\n",
       "┌─────┬─────────┬───────────┬──────────────┬────────┬───────────┐\n",
       "│     ┆ reviews ┆ reviewers ┆ date_reviews ┆ rating ┆ course_id │\n",
       "│ --- ┆ ---     ┆ ---       ┆ ---          ┆ ---    ┆ ---       │\n",
       "│ u32 ┆ u32     ┆ u32       ┆ u32          ┆ u32    ┆ u32       │\n",
       "╞═════╪═════════╪═══════════╪══════════════╪════════╪═══════════╡\n",
       "│ 0   ┆ 0       ┆ 0         ┆ 0            ┆ 0      ┆ 0         │\n",
       "└─────┴─────────┴───────────┴──────────────┴────────┴───────────┘"
      ]
     },
     "execution_count": 65,
     "metadata": {},
     "output_type": "execute_result"
    }
   ],
   "source": [
    "df_r.null_count()"
   ]
  },
  {
   "cell_type": "code",
   "execution_count": 66,
   "id": "303ba5a8-fb54-4123-a471-62e1e16ce389",
   "metadata": {},
   "outputs": [
    {
     "name": "stdout",
     "output_type": "stream",
     "text": [
      "<class 'pandas.core.frame.DataFrame'>\n",
      "RangeIndex: 1454711 entries, 0 to 1454710\n",
      "Data columns (total 6 columns):\n",
      " #   Column        Non-Null Count    Dtype \n",
      "---  ------        --------------    ----- \n",
      " 0                 1454711 non-null  int64 \n",
      " 1   reviews       1454711 non-null  object\n",
      " 2   reviewers     1454711 non-null  object\n",
      " 3   date_reviews  1454711 non-null  object\n",
      " 4   rating        1454711 non-null  int64 \n",
      " 5   course_id     1454711 non-null  object\n",
      "dtypes: int64(2), object(4)\n",
      "memory usage: 66.6+ MB\n"
     ]
    }
   ],
   "source": [
    "pd_r.info()"
   ]
  },
  {
   "cell_type": "markdown",
   "id": "3ea2c097-16c5-4cd2-9ed6-c3f216df803a",
   "metadata": {},
   "source": [
    "#### La tabla tiene 55.5 MB\n",
    "#### Hago cambios en los tipos de datos para mejorar"
   ]
  },
  {
   "cell_type": "code",
   "execution_count": 67,
   "id": "97810335-e48c-41ee-834d-c679ba8c8d46",
   "metadata": {},
   "outputs": [],
   "source": [
    "pd_r['reviewers'] = pd_r['reviewers'].astype('category')"
   ]
  },
  {
   "cell_type": "code",
   "execution_count": 68,
   "id": "fb7389f9-403e-491e-97d5-130bcc3f906b",
   "metadata": {},
   "outputs": [],
   "source": [
    "pd_r['rating'] = pd_r['rating'].astype('int16')"
   ]
  },
  {
   "cell_type": "code",
   "execution_count": 69,
   "id": "655bfdec-2c1e-4a5d-8e4d-74c2f7cd16af",
   "metadata": {},
   "outputs": [],
   "source": [
    "pd_r['course_id'] = pd_r['course_id'].astype('category')"
   ]
  },
  {
   "cell_type": "code",
   "execution_count": 70,
   "id": "6008f6b3-153a-49cc-be75-9650a76c61b3",
   "metadata": {},
   "outputs": [
    {
     "name": "stdout",
     "output_type": "stream",
     "text": [
      "<class 'pandas.core.frame.DataFrame'>\n",
      "RangeIndex: 1454711 entries, 0 to 1454710\n",
      "Data columns (total 6 columns):\n",
      " #   Column        Non-Null Count    Dtype   \n",
      "---  ------        --------------    -----   \n",
      " 0                 1454711 non-null  int64   \n",
      " 1   reviews       1454711 non-null  object  \n",
      " 2   reviewers     1454711 non-null  category\n",
      " 3   date_reviews  1454711 non-null  object  \n",
      " 4   rating        1454711 non-null  int16   \n",
      " 5   course_id     1454711 non-null  category\n",
      "dtypes: category(2), int16(1), int64(1), object(2)\n",
      "memory usage: 54.7+ MB\n"
     ]
    }
   ],
   "source": [
    "pd_r.info()"
   ]
  },
  {
   "cell_type": "markdown",
   "id": "efc28a65-a51d-4937-906c-79700378baed",
   "metadata": {},
   "source": [
    "#### Termino rebajandola a 42.2 MB\n",
    "#### Salvo"
   ]
  },
  {
   "cell_type": "code",
   "execution_count": 73,
   "id": "178705b1-26c1-4e8b-9ee9-bb8be0acaaf5",
   "metadata": {},
   "outputs": [],
   "source": [
    "pd_r.to_csv(r\"C:\\Users\\ornal\\Desktop\\Data Analitics\\PI03-Analytics-Origen\\Coursera_reviews.csv\")\n",
    "pd_r.to_parquet(r\"C:\\Users\\ornal\\Desktop\\Data Analitics\\PI03-Analytics\\coursera.parquet\")"
   ]
  },
  {
   "cell_type": "code",
   "execution_count": 75,
   "id": "c3d4cc8c-52c6-41bd-88bf-b93689df28f5",
   "metadata": {},
   "outputs": [],
   "source": [
    "df_r = pl.read_parquet(r\"C:\\Users\\ornal\\Desktop\\Data Analitics\\PI03-Analytics\\coursera.parquet\")"
   ]
  },
  {
   "cell_type": "code",
   "execution_count": 78,
   "id": "781d023e-1537-4be7-aeb5-1715a7bcc8d4",
   "metadata": {},
   "outputs": [],
   "source": [
    "sr_r_id = pd_r.groupby(\"course_id\")[\"rating\"].count()\n",
    "pd_r_id = pd.DataFrame(sr_r_id)\n",
    "pd_r_id = pd_r_id.reset_index()\n",
    "pd_r_id = pd_r_id.rename(columns={'rating':'cantidad'})"
   ]
  },
  {
   "cell_type": "markdown",
   "id": "9f7ed88b-4a31-4f2e-a9d3-f66ade34a916",
   "metadata": {},
   "source": [
    "#### A partir de \n",
    "### pd_r_id\n",
    "#### voy a obtener dos df llamados\n",
    "### most_r\n",
    "### lest_r\n",
    "#### que son dos df ordenados de forma ascendente y descendente para tener a mano los id mas revisados y los id menos revisados"
   ]
  },
  {
   "cell_type": "code",
   "execution_count": 79,
   "id": "ed884373-7387-4924-b7c4-b7a729db70b9",
   "metadata": {},
   "outputs": [],
   "source": [
    "most_r = pd_r_id.sort_values(by='cantidad', ascending=False, na_position='last')\n",
    "lest_r = pd_r_id.sort_values(by='cantidad', ascending=True, na_position='last')"
   ]
  },
  {
   "cell_type": "markdown",
   "id": "9adbb848-c124-4317-b163-a6a2c6dc8605",
   "metadata": {},
   "source": [
    "## dfr_group_rating = (•\tNivel de ventas según rating)\n",
    "### DataFrame con datos de Review Coursera agrupados por rating\n",
    "### agrega(cantidad_cursos)"
   ]
  },
  {
   "cell_type": "code",
   "execution_count": 81,
   "id": "fc2df8fa-7185-4f01-a498-41a27144415b",
   "metadata": {},
   "outputs": [],
   "source": [
    "dfr_group_rating = (\n",
    "  df_r\n",
    "  .groupby('course_id')\n",
    "  .agg(\n",
    "  [\n",
    "    pl.col('rating').mean().alias('rating_promedio'),\n",
    "    pl.col('rating').count().alias('cantidad')  \n",
    "  ]\n",
    "  )  \n",
    ")"
   ]
  },
  {
   "cell_type": "code",
   "execution_count": 82,
   "id": "9c45d6f0-91e5-4d24-b886-b4334ef5b9bb",
   "metadata": {},
   "outputs": [],
   "source": [
    "dfr_group_rating = dfr_group_rating.with_column(pl.col('rating_promedio')\n",
    "                   .apply(lambda x: math.modf(x)[1] if (math.modf(x)[0] > 0 and math.modf(x)[0] < 5) else round(x))                             \n",
    "                   )"
   ]
  },
  {
   "cell_type": "code",
   "execution_count": 83,
   "id": "91d96271-f9c2-4443-a44a-906d814ba69e",
   "metadata": {},
   "outputs": [],
   "source": [
    "dfr_group_rating_prom = (\n",
    "  dfr_group_rating\n",
    "  .groupby('rating_promedio')\n",
    "  .agg(\n",
    "  [\n",
    "    pl.col('course_id').count().alias('cantidad_cursos')\n",
    "  ]\n",
    "  )\n",
    "  .sort('rating_promedio')  \n",
    ")"
   ]
  },
  {
   "cell_type": "code",
   "execution_count": 84,
   "id": "260ebfa3-8c5d-43b0-b564-8c89559a7a27",
   "metadata": {},
   "outputs": [
    {
     "data": {
      "application/vnd.holoviews_exec.v0+json": "",
      "text/html": [
       "<div id='1002'>\n",
       "  <div class=\"bk-root\" id=\"3335d435-68c2-42c8-b84e-bd2d3b601ed6\" data-root-id=\"1002\"></div>\n",
       "</div>\n",
       "<script type=\"application/javascript\">(function(root) {\n",
       "  function embed_document(root) {\n",
       "    var docs_json = {\"c3585d0a-06d4-43d7-9b52-cbcc6c2049a1\":{\"defs\":[{\"extends\":null,\"module\":null,\"name\":\"ReactiveHTML1\",\"overrides\":[],\"properties\":[]},{\"extends\":null,\"module\":null,\"name\":\"FlexBox1\",\"overrides\":[],\"properties\":[{\"default\":\"flex-start\",\"kind\":null,\"name\":\"align_content\"},{\"default\":\"flex-start\",\"kind\":null,\"name\":\"align_items\"},{\"default\":\"row\",\"kind\":null,\"name\":\"flex_direction\"},{\"default\":\"wrap\",\"kind\":null,\"name\":\"flex_wrap\"},{\"default\":\"flex-start\",\"kind\":null,\"name\":\"justify_content\"}]},{\"extends\":null,\"module\":null,\"name\":\"GridStack1\",\"overrides\":[],\"properties\":[{\"default\":\"warn\",\"kind\":null,\"name\":\"mode\"},{\"default\":null,\"kind\":null,\"name\":\"ncols\"},{\"default\":null,\"kind\":null,\"name\":\"nrows\"},{\"default\":true,\"kind\":null,\"name\":\"allow_resize\"},{\"default\":true,\"kind\":null,\"name\":\"allow_drag\"},{\"default\":[],\"kind\":null,\"name\":\"state\"}]},{\"extends\":null,\"module\":null,\"name\":\"click1\",\"overrides\":[],\"properties\":[{\"default\":\"\",\"kind\":null,\"name\":\"terminal_output\"},{\"default\":\"\",\"kind\":null,\"name\":\"debug_name\"},{\"default\":0,\"kind\":null,\"name\":\"clears\"}]},{\"extends\":null,\"module\":null,\"name\":\"NotificationAreaBase1\",\"overrides\":[],\"properties\":[{\"default\":\"bottom-right\",\"kind\":null,\"name\":\"position\"},{\"default\":0,\"kind\":null,\"name\":\"_clear\"}]},{\"extends\":null,\"module\":null,\"name\":\"NotificationArea1\",\"overrides\":[],\"properties\":[{\"default\":[],\"kind\":null,\"name\":\"notifications\"},{\"default\":\"bottom-right\",\"kind\":null,\"name\":\"position\"},{\"default\":0,\"kind\":null,\"name\":\"_clear\"},{\"default\":[{\"background\":\"#ffc107\",\"icon\":{\"className\":\"fas fa-exclamation-triangle\",\"color\":\"white\",\"tagName\":\"i\"},\"type\":\"warning\"},{\"background\":\"#007bff\",\"icon\":{\"className\":\"fas fa-info-circle\",\"color\":\"white\",\"tagName\":\"i\"},\"type\":\"info\"}],\"kind\":null,\"name\":\"types\"}]},{\"extends\":null,\"module\":null,\"name\":\"Notification\",\"overrides\":[],\"properties\":[{\"default\":null,\"kind\":null,\"name\":\"background\"},{\"default\":3000,\"kind\":null,\"name\":\"duration\"},{\"default\":null,\"kind\":null,\"name\":\"icon\"},{\"default\":\"\",\"kind\":null,\"name\":\"message\"},{\"default\":null,\"kind\":null,\"name\":\"notification_type\"},{\"default\":false,\"kind\":null,\"name\":\"_destroyed\"}]},{\"extends\":null,\"module\":null,\"name\":\"TemplateActions1\",\"overrides\":[],\"properties\":[{\"default\":0,\"kind\":null,\"name\":\"open_modal\"},{\"default\":0,\"kind\":null,\"name\":\"close_modal\"}]},{\"extends\":null,\"module\":null,\"name\":\"MaterialTemplateActions1\",\"overrides\":[],\"properties\":[{\"default\":0,\"kind\":null,\"name\":\"open_modal\"},{\"default\":0,\"kind\":null,\"name\":\"close_modal\"}]}],\"roots\":{\"references\":[{\"attributes\":{\"axis_label\":\"rating_promedio\",\"coordinates\":null,\"formatter\":{\"id\":\"1047\"},\"group\":null,\"major_label_policy\":{\"id\":\"1048\"},\"ticker\":{\"id\":\"1017\"}},\"id\":\"1016\",\"type\":\"LinearAxis\"},{\"attributes\":{\"margin\":[5,5,5,5],\"name\":\"HSpacer00869\",\"sizing_mode\":\"stretch_width\"},\"id\":\"1066\",\"type\":\"Spacer\"},{\"attributes\":{\"line_color\":\"#30a2da\",\"line_width\":2,\"x\":{\"field\":\"rating_promedio\"},\"y\":{\"field\":\"cantidad_cursos\"}},\"id\":\"1040\",\"type\":\"Line\"},{\"attributes\":{\"coordinates\":null,\"data_source\":{\"id\":\"1037\"},\"glyph\":{\"id\":\"1040\"},\"group\":null,\"hover_glyph\":null,\"muted_glyph\":{\"id\":\"1042\"},\"nonselection_glyph\":{\"id\":\"1041\"},\"selection_glyph\":{\"id\":\"1045\"},\"view\":{\"id\":\"1044\"}},\"id\":\"1043\",\"type\":\"GlyphRenderer\"},{\"attributes\":{},\"id\":\"1048\",\"type\":\"AllLabels\"},{\"attributes\":{\"line_alpha\":0.2,\"line_color\":\"#30a2da\",\"line_width\":2,\"x\":{\"field\":\"rating_promedio\"},\"y\":{\"field\":\"cantidad_cursos\"}},\"id\":\"1042\",\"type\":\"Line\"},{\"attributes\":{},\"id\":\"1051\",\"type\":\"AllLabels\"},{\"attributes\":{},\"id\":\"1047\",\"type\":\"BasicTickFormatter\"},{\"attributes\":{\"below\":[{\"id\":\"1016\"}],\"center\":[{\"id\":\"1019\"},{\"id\":\"1023\"}],\"height\":300,\"left\":[{\"id\":\"1020\"}],\"margin\":[5,5,5,5],\"min_border_bottom\":10,\"min_border_left\":10,\"min_border_right\":10,\"min_border_top\":10,\"renderers\":[{\"id\":\"1043\"}],\"sizing_mode\":\"fixed\",\"title\":{\"id\":\"1008\"},\"toolbar\":{\"id\":\"1030\"},\"width\":700,\"x_range\":{\"id\":\"1004\"},\"x_scale\":{\"id\":\"1012\"},\"y_range\":{\"id\":\"1005\"},\"y_scale\":{\"id\":\"1014\"}},\"id\":\"1007\",\"subtype\":\"Figure\",\"type\":\"Plot\"},{\"attributes\":{\"callback\":null,\"renderers\":[{\"id\":\"1043\"}],\"tags\":[\"hv_created\"],\"tooltips\":[[\"rating_promedio\",\"@{rating_promedio}\"],[\"cantidad_cursos\",\"@{cantidad_cursos}\"]]},\"id\":\"1006\",\"type\":\"HoverTool\"},{\"attributes\":{},\"id\":\"1028\",\"type\":\"ResetTool\"},{\"attributes\":{\"coordinates\":null,\"group\":null,\"text_color\":\"black\",\"text_font_size\":\"12pt\"},\"id\":\"1008\",\"type\":\"Title\"},{\"attributes\":{},\"id\":\"1026\",\"type\":\"WheelZoomTool\"},{\"attributes\":{},\"id\":\"1012\",\"type\":\"LinearScale\"},{\"attributes\":{},\"id\":\"1025\",\"type\":\"PanTool\"},{\"attributes\":{},\"id\":\"1017\",\"type\":\"BasicTicker\"},{\"attributes\":{\"bottom_units\":\"screen\",\"coordinates\":null,\"fill_alpha\":0.5,\"fill_color\":\"lightgrey\",\"group\":null,\"left_units\":\"screen\",\"level\":\"overlay\",\"line_alpha\":1.0,\"line_color\":\"black\",\"line_dash\":[4,4],\"line_width\":2,\"right_units\":\"screen\",\"syncable\":false,\"top_units\":\"screen\"},\"id\":\"1029\",\"type\":\"BoxAnnotation\"},{\"attributes\":{\"end\":633.2,\"reset_end\":633.2,\"reset_start\":-53.2,\"start\":-53.2,\"tags\":[[[\"cantidad_cursos\",\"cantidad_cursos\",null]]]},\"id\":\"1005\",\"type\":\"Range1d\"},{\"attributes\":{\"axis_label\":\"cantidad_cursos\",\"coordinates\":null,\"formatter\":{\"id\":\"1050\"},\"group\":null,\"major_label_policy\":{\"id\":\"1051\"},\"ticker\":{\"id\":\"1021\"}},\"id\":\"1020\",\"type\":\"LinearAxis\"},{\"attributes\":{},\"id\":\"1063\",\"type\":\"UnionRenderers\"},{\"attributes\":{},\"id\":\"1021\",\"type\":\"BasicTicker\"},{\"attributes\":{},\"id\":\"1024\",\"type\":\"SaveTool\"},{\"attributes\":{},\"id\":\"1050\",\"type\":\"BasicTickFormatter\"},{\"attributes\":{\"active_drag\":{\"id\":\"1025\"},\"active_scroll\":{\"id\":\"1026\"},\"tools\":[{\"id\":\"1006\"},{\"id\":\"1024\"},{\"id\":\"1025\"},{\"id\":\"1026\"},{\"id\":\"1027\"},{\"id\":\"1028\"}]},\"id\":\"1030\",\"type\":\"Toolbar\"},{\"attributes\":{},\"id\":\"1014\",\"type\":\"LinearScale\"},{\"attributes\":{\"axis\":{\"id\":\"1020\"},\"coordinates\":null,\"dimension\":1,\"grid_line_color\":null,\"group\":null,\"ticker\":null},\"id\":\"1023\",\"type\":\"Grid\"},{\"attributes\":{\"source\":{\"id\":\"1037\"}},\"id\":\"1044\",\"type\":\"CDSView\"},{\"attributes\":{\"line_alpha\":0.1,\"line_color\":\"#30a2da\",\"line_width\":2,\"x\":{\"field\":\"rating_promedio\"},\"y\":{\"field\":\"cantidad_cursos\"}},\"id\":\"1041\",\"type\":\"Line\"},{\"attributes\":{\"children\":[{\"id\":\"1003\"},{\"id\":\"1007\"},{\"id\":\"1066\"}],\"margin\":[0,0,0,0],\"name\":\"Row00864\",\"tags\":[\"embedded\"]},\"id\":\"1002\",\"type\":\"Row\"},{\"attributes\":{\"line_color\":\"#30a2da\",\"line_width\":2,\"x\":{\"field\":\"rating_promedio\"},\"y\":{\"field\":\"cantidad_cursos\"}},\"id\":\"1045\",\"type\":\"Line\"},{\"attributes\":{\"data\":{\"cantidad_cursos\":{\"__ndarray__\":\"BAAAABQAAABAAgAABAAAAA==\",\"dtype\":\"uint32\",\"order\":\"little\",\"shape\":[4]},\"rating_promedio\":{\"__ndarray__\":\"AAAAAAAA8D8AAAAAAAAIQAAAAAAAABBAAAAAAAAAFEA=\",\"dtype\":\"float64\",\"order\":\"little\",\"shape\":[4]}},\"selected\":{\"id\":\"1038\"},\"selection_policy\":{\"id\":\"1063\"}},\"id\":\"1037\",\"type\":\"ColumnDataSource\"},{\"attributes\":{\"margin\":[5,5,5,5],\"name\":\"HSpacer00868\",\"sizing_mode\":\"stretch_width\"},\"id\":\"1003\",\"type\":\"Spacer\"},{\"attributes\":{\"end\":5.0,\"reset_end\":5.0,\"reset_start\":1.0,\"start\":1.0,\"tags\":[[[\"rating_promedio\",\"rating_promedio\",null]]]},\"id\":\"1004\",\"type\":\"Range1d\"},{\"attributes\":{\"axis\":{\"id\":\"1016\"},\"coordinates\":null,\"grid_line_color\":null,\"group\":null,\"ticker\":null},\"id\":\"1019\",\"type\":\"Grid\"},{\"attributes\":{},\"id\":\"1038\",\"type\":\"Selection\"},{\"attributes\":{\"overlay\":{\"id\":\"1029\"}},\"id\":\"1027\",\"type\":\"BoxZoomTool\"}],\"root_ids\":[\"1002\"]},\"title\":\"Bokeh Application\",\"version\":\"2.4.3\"}};\n",
       "    var render_items = [{\"docid\":\"c3585d0a-06d4-43d7-9b52-cbcc6c2049a1\",\"root_ids\":[\"1002\"],\"roots\":{\"1002\":\"3335d435-68c2-42c8-b84e-bd2d3b601ed6\"}}];\n",
       "    root.Bokeh.embed.embed_items_notebook(docs_json, render_items);\n",
       "    for (const render_item of render_items) {\n",
       "      for (const root_id of render_item.root_ids) {\n",
       "\tconst id_el = document.getElementById(root_id)\n",
       "\tif (id_el.children.length && (id_el.children[0].className === 'bk-root')) {\n",
       "\t  const root_el = id_el.children[0]\n",
       "\t  root_el.id = root_el.id + '-rendered'\n",
       "\t}\n",
       "      }\n",
       "    }\n",
       "  }\n",
       "  if (root.Bokeh !== undefined && root.Bokeh.Panel !== undefined && ( root['Tabulator'] !== undefined) && ( root['Tabulator'] !== undefined) && ( root['Tabulator'] !== undefined)) {\n",
       "    embed_document(root);\n",
       "  } else {\n",
       "    var attempts = 0;\n",
       "    var timer = setInterval(function(root) {\n",
       "      if (root.Bokeh !== undefined && root.Bokeh.Panel !== undefined && (root['Tabulator'] !== undefined) && (root['Tabulator'] !== undefined) && (root['Tabulator'] !== undefined)) {\n",
       "        clearInterval(timer);\n",
       "        embed_document(root);\n",
       "      } else if (document.readyState == \"complete\") {\n",
       "        attempts++;\n",
       "        if (attempts > 200) {\n",
       "          clearInterval(timer);\n",
       "          console.log(\"Bokeh: ERROR: Unable to run BokehJS code because BokehJS library is missing\");\n",
       "        }\n",
       "      }\n",
       "    }, 25, root)\n",
       "  }\n",
       "})(window);</script>"
      ],
      "text/plain": [
       ":Curve   [rating_promedio]   (cantidad_cursos)"
      ]
     },
     "execution_count": 84,
     "metadata": {
      "application/vnd.holoviews_exec.v0+json": {
       "id": "1002"
      }
     },
     "output_type": "execute_result"
    }
   ],
   "source": [
    "dfr_group_rating_prom.to_pandas().hvplot('rating_promedio','cantidad_cursos')"
   ]
  },
  {
   "cell_type": "code",
   "execution_count": null,
   "id": "6e78e412-ac35-4c92-bd03-65213625d903",
   "metadata": {},
   "outputs": [],
   "source": []
  },
  {
   "cell_type": "code",
   "execution_count": null,
   "id": "a89b93e9-8926-4dec-8c55-8c891b60bc8a",
   "metadata": {},
   "outputs": [],
   "source": []
  },
  {
   "cell_type": "code",
   "execution_count": null,
   "id": "a42bac96-497a-4df7-aa99-2d275bb5ffee",
   "metadata": {},
   "outputs": [],
   "source": []
  },
  {
   "cell_type": "code",
   "execution_count": null,
   "id": "808e96d6-1387-492c-abe5-8583808edb74",
   "metadata": {},
   "outputs": [],
   "source": []
  },
  {
   "cell_type": "markdown",
   "id": "25bc3197-adc2-45dd-b97b-0bda489b6d03",
   "metadata": {},
   "source": [
    "## Edx"
   ]
  },
  {
   "cell_type": "code",
   "execution_count": 133,
   "id": "b76e3cd6-414f-4605-a9ec-5e8a2d4179bd",
   "metadata": {},
   "outputs": [],
   "source": [
    "df_e = pl.read_csv(r\"C:\\Users\\ornal\\Desktop\\Data Analitics\\PI03-Analytics-Origen\\edx_courses.csv\")\n",
    "df_e = df_e.select(['title','n_enrolled','course_type','Level','subject','language','course_effort','course_length','price'])"
   ]
  },
  {
   "cell_type": "code",
   "execution_count": 134,
   "id": "5237abcc-79df-4994-b0a4-ed5339677fba",
   "metadata": {},
   "outputs": [],
   "source": [
    "df_e = df_e.drop_nulls()"
   ]
  },
  {
   "cell_type": "code",
   "execution_count": 135,
   "id": "5e1a8aa8-89fa-42e1-bbfb-fb950ac97440",
   "metadata": {},
   "outputs": [],
   "source": [
    "pd_e = df_e.to_pandas()"
   ]
  },
  {
   "cell_type": "markdown",
   "id": "177792c7-f038-48ce-b2d4-c9de26c066bf",
   "metadata": {},
   "source": [
    "### Convertir la columna course_effort mas la columna course_length en horas que serian\n",
    "### las horas necesarias para terminar el curso"
   ]
  },
  {
   "cell_type": "code",
   "execution_count": 136,
   "id": "6ef1d807-d106-4cc4-819d-708cd8e0e123",
   "metadata": {},
   "outputs": [],
   "source": [
    "# Split course_effort on \" \"\n",
    "pd_e[['course_effort-split-0-5j95', \n",
    "      'course_effort-split-1-5j95', \n",
    "      'course_effort-split-2-5j95', \n",
    "      'course_effort-split-3-5j95']] = pd_e['course_effort'].str.split(' ', n=-1, expand=True, regex=None)\n",
    "pd_e = pd_e[pd_e.columns[:8].tolist() + ['course_effort-split-0-5j95', \n",
    "                                         'course_effort-split-1-5j95', \n",
    "                                         'course_effort-split-2-5j95', \n",
    "                                         'course_effort-split-3-5j95'] + pd_e.columns[8:-4].tolist()]"
   ]
  },
  {
   "cell_type": "code",
   "execution_count": 137,
   "id": "2f1b24bd-2cde-4170-8fa1-ab7b9e8281c0",
   "metadata": {},
   "outputs": [],
   "source": [
    "# Split course_effort-split-0-5j95 on \"-\"\n",
    "pd_e[['course_effort-split-0-5j95-split-0-671r']] = pd_e['course_effort-split-0-5j95'].str.split('-', n=-1, expand=True, regex=None)\n",
    "pd_e = pd_e[pd_e.columns[:11].tolist() + ['course_effort-split-0-5j95-split-0-671r'] + pd_e.columns[11:-1].tolist()]"
   ]
  },
  {
   "cell_type": "code",
   "execution_count": 138,
   "id": "17f1861f-fc38-4b6f-b6a4-8c6877621530",
   "metadata": {},
   "outputs": [],
   "source": [
    "# Split course_effort on \" \"\n",
    "pd_e[['course_effort-split-0-exqx', \n",
    "      'course_effort-split-1-exqx', \n",
    "      'course_effort-split-2-exqx', \n",
    "      'course_effort-split-3-exqx']] = pd_e['course_effort'].str.split(' ', n=-1, expand=True, regex=None)\n",
    "pd_e = pd_e[pd_e.columns[:8].tolist() + ['course_effort-split-0-exqx', \n",
    "                                         'course_effort-split-1-exqx', \n",
    "                                         'course_effort-split-2-exqx', \n",
    "                                         'course_effort-split-3-exqx'] + pd_e.columns[8:-4].tolist()]"
   ]
  },
  {
   "cell_type": "code",
   "execution_count": 139,
   "id": "4d7d6382-0fa2-44e3-92a5-3761f00ac41c",
   "metadata": {},
   "outputs": [],
   "source": [
    "# Split course_effort-split-0-exqx on \"-\"\n",
    "pd_e[['course_effort-split-0-exqx-split-0-jynp']] = pd_e['course_effort-split-0-exqx'].str.split('-', n=-1, expand=True, regex=None)\n",
    "pd_e = pd_e[pd_e.columns[:11].tolist() + ['course_effort-split-0-exqx-split-0-jynp'] + pd_e.columns[11:-1].tolist()]"
   ]
  },
  {
   "cell_type": "code",
   "execution_count": 140,
   "id": "cb51ef39-10ec-456e-bdfb-db9b7108c166",
   "metadata": {},
   "outputs": [],
   "source": [
    "# Split course_effort on \" \"\n",
    "pd_e[['course_effort-split-0-jyiu', \n",
    "      'course_effort-split-1-jyiu', \n",
    "      'course_effort-split-2-jyiu', \n",
    "      'course_effort-split-3-jyiu']] = pd_e['course_effort'].str.split(' ', n=-1, expand=True, regex=None)\n",
    "pd_e = pd_e[pd_e.columns[:8].tolist() + ['course_effort-split-0-jyiu', \n",
    "                                         'course_effort-split-1-jyiu', \n",
    "                                         'course_effort-split-2-jyiu', \n",
    "                                         'course_effort-split-3-jyiu'] + pd_e.columns[8:-4].tolist()]"
   ]
  },
  {
   "cell_type": "code",
   "execution_count": 141,
   "id": "5003e6bc-96b1-4f6c-94bf-487bd8c9f344",
   "metadata": {},
   "outputs": [],
   "source": [
    "# Split course_effort-split-0-jyiu on \"–\"\n",
    "pd_e[['course_effort-split-0-jyiu-split-0-o7o7', \n",
    "      'course_effort-split-0-jyiu-split-1-o7o7']] = pd_e['course_effort-split-0-jyiu'].str.split('–', n=-1, expand=True, regex=None)\n",
    "pd_e = pd_e[pd_e.columns[:11].tolist() + ['course_effort-split-0-jyiu-split-0-o7o7', \n",
    "                                          'course_effort-split-0-jyiu-split-1-o7o7'] + pd_e.columns[11:-2].tolist()]"
   ]
  },
  {
   "cell_type": "code",
   "execution_count": 142,
   "id": "735329f3-4556-4283-8936-10d5c7c17153",
   "metadata": {},
   "outputs": [],
   "source": [
    "# Deleted columns course_effort-split-0-jyiu-split-0-o7o7\n",
    "pd_e.drop(['course_effort-split-0-jyiu-split-0-o7o7'], axis=1, inplace=True)\n",
    "\n",
    "# Deleted columns course_effort-split-0-jyiu\n",
    "pd_e.drop(['course_effort-split-0-jyiu'], axis=1, inplace=True)\n",
    "\n",
    "# Deleted columns course_effort\n",
    "pd_e.drop(['course_effort'], axis=1, inplace=True)\n",
    "\n",
    "# Deleted columns course_effort-split-3-jyiu\n",
    "pd_e.drop(['course_effort-split-3-jyiu'], axis=1, inplace=True)\n",
    "\n",
    "# Deleted columns course_effort-split-2-jyiu\n",
    "pd_e.drop(['course_effort-split-2-jyiu'], axis=1, inplace=True)\n",
    "\n",
    "# Deleted columns course_effort-split-1-jyiu\n",
    "pd_e.drop(['course_effort-split-1-jyiu'], axis=1, inplace=True)"
   ]
  },
  {
   "cell_type": "code",
   "execution_count": 143,
   "id": "eee5bc87-7a3c-4624-8e31-7ec713a395c9",
   "metadata": {},
   "outputs": [],
   "source": [
    "# Split course_length on \" \"\n",
    "pd_e[['course_length-split-0-3xns', \n",
    "      'course_length-split-1-3xns']] = pd_e['course_length'].str.split(' ', n=-1, expand=True, regex=None)\n",
    "pd_e = pd_e[pd_e.columns[:8].tolist() + ['course_length-split-0-3xns', \n",
    "                                         'course_length-split-1-3xns'] + pd_e.columns[8:-2].tolist()]"
   ]
  },
  {
   "cell_type": "code",
   "execution_count": 144,
   "id": "19c6e53d-0fd6-42dc-9d44-9d61c61d5185",
   "metadata": {},
   "outputs": [],
   "source": [
    "# Deleted columns course_length-split-1-3xns\n",
    "pd_e.drop(['course_length-split-1-3xns'], axis=1, inplace=True)\n",
    "\n",
    "# Deleted columns course_length\n",
    "pd_e.drop(['course_length'], axis=1, inplace=True)\n",
    "\n",
    "# Renamed columns horas\n",
    "pd_e.rename(columns={'course_effort-split-0-jyiu-split-1-o7o7': 'horas'}, inplace=True)\n",
    "\n",
    "# Renamed columns semanas\n",
    "pd_e.rename(columns={'course_length-split-0-3xns': 'semanas'}, inplace=True)\n",
    "\n",
    "pd_e.horas = pd_e.horas.astype('int16')\n",
    "pd_e.semanas = pd_e.semanas.astype('int16')\n",
    "\n",
    "pd_e['horas'] = pd_e.horas * pd_e.semanas\n",
    "\n",
    "pd_e.drop(['semanas'], axis=1, inplace=True)"
   ]
  },
  {
   "cell_type": "code",
   "execution_count": 145,
   "id": "4a256f02-7ef6-45d6-8baa-97570b4b5abd",
   "metadata": {},
   "outputs": [
    {
     "data": {
      "text/plain": [
       "0        6\n",
       "1       28\n",
       "2      216\n",
       "3      195\n",
       "4       28\n",
       "      ... \n",
       "970     50\n",
       "971     60\n",
       "972     36\n",
       "973      2\n",
       "974     24\n",
       "Name: horas, Length: 975, dtype: int16"
      ]
     },
     "execution_count": 145,
     "metadata": {},
     "output_type": "execute_result"
    }
   ],
   "source": [
    "pd_e['horas']"
   ]
  },
  {
   "cell_type": "code",
   "execution_count": 146,
   "id": "177b3b6f-8b54-4e8a-8bb6-44cef87f0dae",
   "metadata": {},
   "outputs": [
    {
     "data": {
      "text/plain": [
       "title                                      0\n",
       "n_enrolled                                 0\n",
       "course_type                                0\n",
       "Level                                      0\n",
       "subject                                    0\n",
       "language                                   0\n",
       "horas                                      0\n",
       "course_effort-split-0-exqx                 0\n",
       "course_effort-split-1-exqx                 0\n",
       "course_effort-split-2-exqx                 0\n",
       "course_effort-split-0-exqx-split-0-jynp    0\n",
       "course_effort-split-3-exqx                 0\n",
       "course_effort-split-0-5j95                 0\n",
       "course_effort-split-1-5j95                 0\n",
       "course_effort-split-2-5j95                 0\n",
       "course_effort-split-0-5j95-split-0-671r    0\n",
       "course_effort-split-3-5j95                 0\n",
       "price                                      0\n",
       "dtype: int64"
      ]
     },
     "execution_count": 146,
     "metadata": {},
     "output_type": "execute_result"
    }
   ],
   "source": [
    "pd_e.isnull().sum()"
   ]
  },
  {
   "cell_type": "markdown",
   "id": "7841dd22-df4e-4dd2-81f6-b64cc3f7c88d",
   "metadata": {},
   "source": [
    "## Extraer el precio dentro de la cadena de texto de la columna price \n",
    "## y transformar esta columna en numerico entero"
   ]
  },
  {
   "cell_type": "code",
   "execution_count": 147,
   "id": "6512dadb-5cf4-4a03-bf8f-993d65fecbe3",
   "metadata": {},
   "outputs": [],
   "source": [
    "# Split price on \"$\"\n",
    "pd_e[['price-split-0-rf65', \n",
    "      'price-split-1-rf65']] = pd_e['price'].str.split('$', n=-1, expand=True, regex=None)\n",
    "pd_e = pd_e[pd_e.columns[:9].tolist() + ['price-split-0-rf65', \n",
    "                                         'price-split-1-rf65'] + pd_e.columns[9:-2].tolist()]"
   ]
  },
  {
   "cell_type": "code",
   "execution_count": 148,
   "id": "cd09923b-35a1-4e1a-b439-cb8464505b00",
   "metadata": {},
   "outputs": [],
   "source": [
    "# Split price-split-1-rf65 on \" \"\n",
    "pd_e[['price-split-1-rf65-split-0-6uec', \n",
    "      'price-split-1-rf65-split-1-6uec']] = pd_e['price-split-1-rf65'].str.split(' ', n=-1, expand=True, regex=None)\n",
    "pd_e = pd_e[pd_e.columns[:11].tolist() + ['price-split-1-rf65-split-0-6uec', \n",
    "                                          'price-split-1-rf65-split-1-6uec'] + pd_e.columns[11:-2].tolist()]"
   ]
  },
  {
   "cell_type": "code",
   "execution_count": 149,
   "id": "929db8f2-b5ea-4043-aad2-cee8d4a5fdd9",
   "metadata": {},
   "outputs": [],
   "source": [
    "# Deleted columns price-split-1-rf65-split-1-6uec\n",
    "pd_e.drop(['price-split-1-rf65-split-1-6uec'], axis=1, inplace=True)\n",
    "\n",
    "# Deleted columns price-split-1-rf65\n",
    "pd_e.drop(['price-split-1-rf65'], axis=1, inplace=True)\n",
    "\n",
    "# Deleted columns price-split-0-rf65\n",
    "pd_e.drop(['price-split-0-rf65'], axis=1, inplace=True)\n",
    "\n",
    "# Deleted columns price\n",
    "pd_e.drop(['price'], axis=1, inplace=True)\n",
    "\n",
    "# Renamed columns price\n",
    "pd_e.rename(columns={'price-split-1-rf65-split-0-6uec': 'price'}, inplace=True)\n",
    "\n",
    "# Changed price to dtype int\n",
    "pd_e['price'] = pd_e['price'].astype('float16')"
   ]
  },
  {
   "cell_type": "code",
   "execution_count": null,
   "id": "21df9c24-5c7b-4fef-9666-055a0a7ca8f6",
   "metadata": {},
   "outputs": [],
   "source": []
  },
  {
   "cell_type": "code",
   "execution_count": null,
   "id": "366062ab-121a-4607-8b5e-cc12170420af",
   "metadata": {},
   "outputs": [],
   "source": []
  },
  {
   "cell_type": "code",
   "execution_count": null,
   "id": "9eafa55e-84e9-411f-b0f3-13e4d0531b0f",
   "metadata": {},
   "outputs": [],
   "source": []
  },
  {
   "cell_type": "code",
   "execution_count": null,
   "id": "0bacd34a-a010-470d-9bef-bda7b3b58f1b",
   "metadata": {},
   "outputs": [],
   "source": []
  },
  {
   "cell_type": "code",
   "execution_count": null,
   "id": "f322ba6c-bae5-45e9-994d-7da963780f71",
   "metadata": {},
   "outputs": [],
   "source": []
  },
  {
   "cell_type": "code",
   "execution_count": 150,
   "id": "cb2cf7b5-5add-4151-9b53-4b4ce87349aa",
   "metadata": {},
   "outputs": [
    {
     "name": "stdout",
     "output_type": "stream",
     "text": [
      "<class 'pandas.core.frame.DataFrame'>\n",
      "RangeIndex: 975 entries, 0 to 974\n",
      "Data columns (total 18 columns):\n",
      " #   Column                                   Non-Null Count  Dtype  \n",
      "---  ------                                   --------------  -----  \n",
      " 0   title                                    975 non-null    object \n",
      " 1   n_enrolled                               975 non-null    object \n",
      " 2   course_type                              975 non-null    object \n",
      " 3   Level                                    975 non-null    object \n",
      " 4   subject                                  975 non-null    object \n",
      " 5   language                                 975 non-null    object \n",
      " 6   horas                                    975 non-null    int16  \n",
      " 7   course_effort-split-0-exqx               975 non-null    object \n",
      " 8   course_effort-split-1-exqx               975 non-null    object \n",
      " 9   price                                    975 non-null    float16\n",
      " 10  course_effort-split-2-exqx               975 non-null    object \n",
      " 11  course_effort-split-0-exqx-split-0-jynp  975 non-null    object \n",
      " 12  course_effort-split-3-exqx               975 non-null    object \n",
      " 13  course_effort-split-0-5j95               975 non-null    object \n",
      " 14  course_effort-split-1-5j95               975 non-null    object \n",
      " 15  course_effort-split-2-5j95               975 non-null    object \n",
      " 16  course_effort-split-0-5j95-split-0-671r  975 non-null    object \n",
      " 17  course_effort-split-3-5j95               975 non-null    object \n",
      "dtypes: float16(1), int16(1), object(16)\n",
      "memory usage: 125.8+ KB\n"
     ]
    }
   ],
   "source": [
    "pd_e.info()"
   ]
  },
  {
   "cell_type": "code",
   "execution_count": 152,
   "id": "f913b710-2789-422a-b9ba-cd9bc89a102b",
   "metadata": {},
   "outputs": [],
   "source": [
    "pd_e.to_csv(r\"C:\\Users\\ornal\\Desktop\\Data Analitics\\PI03-Analytics-Origen\\edx.csv\")"
   ]
  },
  {
   "cell_type": "code",
   "execution_count": 156,
   "id": "cbbe31f6-f452-4b78-b340-8e78491efa05",
   "metadata": {},
   "outputs": [],
   "source": [
    "df_e = pl.read_csv(r\"C:\\Users\\ornal\\Desktop\\Data Analitics\\PI03-Analytics-Origen\\edx.csv\")"
   ]
  },
  {
   "cell_type": "code",
   "execution_count": 157,
   "id": "f1f83051-84e0-4269-a528-1a0ceb36fbfe",
   "metadata": {},
   "outputs": [],
   "source": [
    "df_e.write_parquet(r\"C:\\Users\\ornal\\Desktop\\Data Analitics\\PI03-Analytics\\edx.parquet\")"
   ]
  },
  {
   "cell_type": "markdown",
   "id": "cdb84cdd-ffe6-482b-afc3-00e470388051",
   "metadata": {},
   "source": [
    "## Udemy"
   ]
  },
  {
   "cell_type": "code",
   "execution_count": 180,
   "id": "f356be96-0fd8-42b1-bbaa-6da11d1bdd2a",
   "metadata": {},
   "outputs": [],
   "source": [
    "dtypes={'price':pl.Float64}\n",
    "df_u = pl.read_csv(r\"C:\\Users\\ornal\\Desktop\\Data Analitics\\PI03-Analytics-Origen\\udemy_courses.csv\",dtypes=dtypes)"
   ]
  },
  {
   "cell_type": "code",
   "execution_count": 181,
   "id": "e655a795-fe60-4c9c-b18c-59fd56967885",
   "metadata": {},
   "outputs": [],
   "source": [
    "df_u = df_u.select(['course_title', 'price', 'num_subscribers', 'num_reviews', 'num_lectures', 'level', 'content_duration', 'published_timestamp', 'subject'])"
   ]
  },
  {
   "cell_type": "code",
   "execution_count": 182,
   "id": "523b379a-3f55-4407-a7d8-4becea98c33a",
   "metadata": {},
   "outputs": [],
   "source": [
    "pd_u = df_u.to_pandas()"
   ]
  },
  {
   "cell_type": "code",
   "execution_count": 183,
   "id": "bfc674f9-25ff-4a9e-bd87-78ef8c0e74c9",
   "metadata": {},
   "outputs": [
    {
     "data": {
      "text/plain": [
       "course_title           0\n",
       "price                  0\n",
       "num_subscribers        0\n",
       "num_reviews            0\n",
       "num_lectures           0\n",
       "level                  0\n",
       "content_duration       0\n",
       "published_timestamp    0\n",
       "subject                0\n",
       "dtype: int64"
      ]
     },
     "execution_count": 183,
     "metadata": {},
     "output_type": "execute_result"
    }
   ],
   "source": [
    "pd_u.isnull().sum()"
   ]
  },
  {
   "cell_type": "code",
   "execution_count": 184,
   "id": "91734cbd-36f0-4d0b-8c91-c691e6f3b83f",
   "metadata": {},
   "outputs": [
    {
     "name": "stdout",
     "output_type": "stream",
     "text": [
      "<class 'pandas.core.frame.DataFrame'>\n",
      "RangeIndex: 3678 entries, 0 to 3677\n",
      "Data columns (total 9 columns):\n",
      " #   Column               Non-Null Count  Dtype  \n",
      "---  ------               --------------  -----  \n",
      " 0   course_title         3678 non-null   object \n",
      " 1   price                3678 non-null   float64\n",
      " 2   num_subscribers      3678 non-null   int64  \n",
      " 3   num_reviews          3678 non-null   int64  \n",
      " 4   num_lectures         3678 non-null   int64  \n",
      " 5   level                3678 non-null   object \n",
      " 6   content_duration     3678 non-null   float64\n",
      " 7   published_timestamp  3678 non-null   object \n",
      " 8   subject              3678 non-null   object \n",
      "dtypes: float64(2), int64(3), object(4)\n",
      "memory usage: 258.7+ KB\n"
     ]
    }
   ],
   "source": [
    "pd_u.info()"
   ]
  },
  {
   "cell_type": "code",
   "execution_count": 185,
   "id": "80378a67-387e-448b-80a5-591daaf2d984",
   "metadata": {},
   "outputs": [],
   "source": [
    "df_u.write_parquet(r\"C:\\Users\\ornal\\Desktop\\Data Analitics\\PI03-Analytics\\udemy.parquet\")\n",
    "df_u.write_csv(r\"C:\\Users\\ornal\\Desktop\\Data Analitics\\PI03-Analytics-Origen\\udemy.csv\")"
   ]
  },
  {
   "cell_type": "markdown",
   "id": "fc111c63-eb75-47f3-b090-11cdef721e33",
   "metadata": {},
   "source": [
    "## dfu_group_level (•\tNivel de ventas según nivel)\n",
    "### DataFrame con datos de Udemy agrupado por nivel de complejidad\n",
    "### Agrega(precio promedio, promedio de reseñas, promedio de cuantas clases tienen los cursos, promedio de duracion de los cursos) "
   ]
  },
  {
   "cell_type": "code",
   "execution_count": 167,
   "id": "b166d091-f750-4b0a-bf94-ab5613d992f8",
   "metadata": {},
   "outputs": [],
   "source": [
    "dfu_group_level = (\n",
    "  df_u\n",
    "  .groupby('level')\n",
    "  .agg(\n",
    "  [\n",
    "    pl.col('price').mean().alias('precio_promedio'),\n",
    "    pl.col('num_reviews').mean().alias('promedio_reseñas'),\n",
    "    pl.col('num_lectures').mean().alias('cant_clases_promedio'),\n",
    "    pl.col('content_duration').mean().alias('duracion_promedio(h)')\n",
    "  ]\n",
    "  )  \n",
    ")"
   ]
  },
  {
   "cell_type": "code",
   "execution_count": 168,
   "id": "0f529dba-3e24-4287-ba88-4222f294fb66",
   "metadata": {},
   "outputs": [
    {
     "data": {
      "text/html": [
       "<div>\n",
       "<style scoped>\n",
       "    .dataframe tbody tr th:only-of-type {\n",
       "        vertical-align: middle;\n",
       "    }\n",
       "\n",
       "    .dataframe tbody tr th {\n",
       "        vertical-align: top;\n",
       "    }\n",
       "\n",
       "    .dataframe thead th {\n",
       "        text-align: right;\n",
       "    }\n",
       "\n",
       "    .dataframe td {\n",
       "        white-space: pre;\n",
       "    }\n",
       "\n",
       "    .dataframe td {\n",
       "        padding-top: 0;\n",
       "    }\n",
       "\n",
       "    .dataframe td {\n",
       "        padding-bottom: 0;\n",
       "    }\n",
       "\n",
       "    .dataframe td {\n",
       "        line-height: 95%;\n",
       "    }\n",
       "</style>\n",
       "<table border=\"1\" class=\"dataframe\">\n",
       "<small>shape: (4, 5)</small>\n",
       "<thead>\n",
       "<tr>\n",
       "<th>\n",
       "level\n",
       "</th>\n",
       "<th>\n",
       "precio_promedio\n",
       "</th>\n",
       "<th>\n",
       "promedio_reseñas\n",
       "</th>\n",
       "<th>\n",
       "cant_clases_promedio\n",
       "</th>\n",
       "<th>\n",
       "duracion_promedio(h)\n",
       "</th>\n",
       "</tr>\n",
       "<tr>\n",
       "<td>\n",
       "str\n",
       "</td>\n",
       "<td>\n",
       "f64\n",
       "</td>\n",
       "<td>\n",
       "f64\n",
       "</td>\n",
       "<td>\n",
       "f64\n",
       "</td>\n",
       "<td>\n",
       "f64\n",
       "</td>\n",
       "</tr>\n",
       "</thead>\n",
       "<tbody>\n",
       "<tr>\n",
       "<td>\n",
       "&quot;All Levels&quot;\n",
       "</td>\n",
       "<td>\n",
       "73.022291\n",
       "</td>\n",
       "<td>\n",
       "209.588906\n",
       "</td>\n",
       "<td>\n",
       "45.981337\n",
       "</td>\n",
       "<td>\n",
       "4.869656\n",
       "</td>\n",
       "</tr>\n",
       "<tr>\n",
       "<td>\n",
       "&quot;Expert Level&quot;\n",
       "</td>\n",
       "<td>\n",
       "91.12069\n",
       "</td>\n",
       "<td>\n",
       "40.224138\n",
       "</td>\n",
       "<td>\n",
       "30.775862\n",
       "</td>\n",
       "<td>\n",
       "2.90546\n",
       "</td>\n",
       "</tr>\n",
       "<tr>\n",
       "<td>\n",
       "&quot;Intermediate L...\n",
       "</td>\n",
       "<td>\n",
       "61.92399\n",
       "</td>\n",
       "<td>\n",
       "92.674584\n",
       "</td>\n",
       "<td>\n",
       "35.935867\n",
       "</td>\n",
       "<td>\n",
       "3.733333\n",
       "</td>\n",
       "</tr>\n",
       "<tr>\n",
       "<td>\n",
       "&quot;Beginner Level...\n",
       "</td>\n",
       "<td>\n",
       "55.681102\n",
       "</td>\n",
       "<td>\n",
       "101.633858\n",
       "</td>\n",
       "<td>\n",
       "32.998425\n",
       "</td>\n",
       "<td>\n",
       "3.091194\n",
       "</td>\n",
       "</tr>\n",
       "</tbody>\n",
       "</table>\n",
       "</div>"
      ],
      "text/plain": [
       "shape: (4, 5)\n",
       "┌────────────────────┬─────────────────┬──────────────────┬──────────────────────┬──────────────────────┐\n",
       "│ level              ┆ precio_promedio ┆ promedio_reseñas ┆ cant_clases_promedio ┆ duracion_promedio(h) │\n",
       "│ ---                ┆ ---             ┆ ---              ┆ ---                  ┆ ---                  │\n",
       "│ str                ┆ f64             ┆ f64              ┆ f64                  ┆ f64                  │\n",
       "╞════════════════════╪═════════════════╪══════════════════╪══════════════════════╪══════════════════════╡\n",
       "│ All Levels         ┆ 73.022291       ┆ 209.588906       ┆ 45.981337            ┆ 4.869656             │\n",
       "│ Expert Level       ┆ 91.12069        ┆ 40.224138        ┆ 30.775862            ┆ 2.90546              │\n",
       "│ Intermediate Level ┆ 61.92399        ┆ 92.674584        ┆ 35.935867            ┆ 3.733333             │\n",
       "│ Beginner Level     ┆ 55.681102       ┆ 101.633858       ┆ 32.998425            ┆ 3.091194             │\n",
       "└────────────────────┴─────────────────┴──────────────────┴──────────────────────┴──────────────────────┘"
      ]
     },
     "execution_count": 168,
     "metadata": {},
     "output_type": "execute_result"
    }
   ],
   "source": [
    "dfu_group_level"
   ]
  },
  {
   "cell_type": "markdown",
   "id": "15ac1574-8a54-4569-b83a-fd9bb5746a62",
   "metadata": {},
   "source": [
    "## dfu_group_level_subject (•\tNivel de ventas según nivel) + Tipo Cursos\n",
    "### DataFrame con datos de Udemy agrupado por nivel de complejidad/tipo de cursos\n",
    "### Agrega(precio promedio, promedio de reseñas, promedio de cuantas clases tienen los cursos, promedio de duracion de los cursos) "
   ]
  },
  {
   "cell_type": "code",
   "execution_count": 169,
   "id": "3e93c0f9-bcc5-4b26-a9bc-556fbfea2463",
   "metadata": {},
   "outputs": [],
   "source": [
    "dfu_group_level_subject = (\n",
    "  df_u\n",
    "  .groupby(['level','subject'])\n",
    "  .agg(\n",
    "  [\n",
    "    pl.col('price').mean().alias('precio_promedio'),\n",
    "    pl.col('num_reviews').mean().alias('promedio_reseñas'),\n",
    "    pl.col('num_lectures').mean().alias('cant_clases_promedio'),\n",
    "    pl.col('content_duration').mean().alias('duracion_promedio(h)')\n",
    "  ]\n",
    "  )  \n",
    ")"
   ]
  },
  {
   "cell_type": "markdown",
   "id": "1e07646c-0860-448d-8070-be95e7b1fea6",
   "metadata": {},
   "source": [
    "## dfu_group_year\n",
    "### Dataframe con datos de Udemy agrupado por años\n",
    "### Agrega(Cantidad de cursos por año)"
   ]
  },
  {
   "cell_type": "code",
   "execution_count": 172,
   "id": "8dbd9a4f-947f-4f25-8d6a-f12aaaf0c324",
   "metadata": {},
   "outputs": [],
   "source": [
    "dfu_group_year = (\n",
    "  pl.read_csv(r\"C:\\Users\\ornal\\Desktop\\Data Analitics\\PI03-Analytics-Origen\\udemy.csv\", parse_dates=True)\n",
    "  .with_column(pl.col('published_timestamp').cast(pl.Datetime).dt.year().alias('year'))  \n",
    "  .groupby('year')\n",
    "  .agg(\n",
    "  [\n",
    "    pl.col('price').count().alias('cantidad_cursos')\n",
    "  ]\n",
    "  )\n",
    "  .sort('year')  \n",
    ")"
   ]
  },
  {
   "cell_type": "code",
   "execution_count": 173,
   "id": "85621f55-64aa-41eb-a051-15c0dbef78ed",
   "metadata": {},
   "outputs": [
    {
     "data": {
      "application/vnd.holoviews_exec.v0+json": "",
      "text/html": [
       "<div id='1118'>\n",
       "  <div class=\"bk-root\" id=\"0e291104-be3b-44c9-b904-e5db530cbc96\" data-root-id=\"1118\"></div>\n",
       "</div>\n",
       "<script type=\"application/javascript\">(function(root) {\n",
       "  function embed_document(root) {\n",
       "    var docs_json = {\"dd82bbbc-d853-4c50-90cc-d787ace1671f\":{\"defs\":[{\"extends\":null,\"module\":null,\"name\":\"ReactiveHTML1\",\"overrides\":[],\"properties\":[]},{\"extends\":null,\"module\":null,\"name\":\"FlexBox1\",\"overrides\":[],\"properties\":[{\"default\":\"flex-start\",\"kind\":null,\"name\":\"align_content\"},{\"default\":\"flex-start\",\"kind\":null,\"name\":\"align_items\"},{\"default\":\"row\",\"kind\":null,\"name\":\"flex_direction\"},{\"default\":\"wrap\",\"kind\":null,\"name\":\"flex_wrap\"},{\"default\":\"flex-start\",\"kind\":null,\"name\":\"justify_content\"}]},{\"extends\":null,\"module\":null,\"name\":\"GridStack1\",\"overrides\":[],\"properties\":[{\"default\":\"warn\",\"kind\":null,\"name\":\"mode\"},{\"default\":null,\"kind\":null,\"name\":\"ncols\"},{\"default\":null,\"kind\":null,\"name\":\"nrows\"},{\"default\":true,\"kind\":null,\"name\":\"allow_resize\"},{\"default\":true,\"kind\":null,\"name\":\"allow_drag\"},{\"default\":[],\"kind\":null,\"name\":\"state\"}]},{\"extends\":null,\"module\":null,\"name\":\"click1\",\"overrides\":[],\"properties\":[{\"default\":\"\",\"kind\":null,\"name\":\"terminal_output\"},{\"default\":\"\",\"kind\":null,\"name\":\"debug_name\"},{\"default\":0,\"kind\":null,\"name\":\"clears\"}]},{\"extends\":null,\"module\":null,\"name\":\"NotificationAreaBase1\",\"overrides\":[],\"properties\":[{\"default\":\"bottom-right\",\"kind\":null,\"name\":\"position\"},{\"default\":0,\"kind\":null,\"name\":\"_clear\"}]},{\"extends\":null,\"module\":null,\"name\":\"NotificationArea1\",\"overrides\":[],\"properties\":[{\"default\":[],\"kind\":null,\"name\":\"notifications\"},{\"default\":\"bottom-right\",\"kind\":null,\"name\":\"position\"},{\"default\":0,\"kind\":null,\"name\":\"_clear\"},{\"default\":[{\"background\":\"#ffc107\",\"icon\":{\"className\":\"fas fa-exclamation-triangle\",\"color\":\"white\",\"tagName\":\"i\"},\"type\":\"warning\"},{\"background\":\"#007bff\",\"icon\":{\"className\":\"fas fa-info-circle\",\"color\":\"white\",\"tagName\":\"i\"},\"type\":\"info\"}],\"kind\":null,\"name\":\"types\"}]},{\"extends\":null,\"module\":null,\"name\":\"Notification\",\"overrides\":[],\"properties\":[{\"default\":null,\"kind\":null,\"name\":\"background\"},{\"default\":3000,\"kind\":null,\"name\":\"duration\"},{\"default\":null,\"kind\":null,\"name\":\"icon\"},{\"default\":\"\",\"kind\":null,\"name\":\"message\"},{\"default\":null,\"kind\":null,\"name\":\"notification_type\"},{\"default\":false,\"kind\":null,\"name\":\"_destroyed\"}]},{\"extends\":null,\"module\":null,\"name\":\"TemplateActions1\",\"overrides\":[],\"properties\":[{\"default\":0,\"kind\":null,\"name\":\"open_modal\"},{\"default\":0,\"kind\":null,\"name\":\"close_modal\"}]},{\"extends\":null,\"module\":null,\"name\":\"MaterialTemplateActions1\",\"overrides\":[],\"properties\":[{\"default\":0,\"kind\":null,\"name\":\"open_modal\"},{\"default\":0,\"kind\":null,\"name\":\"close_modal\"}]}],\"roots\":{\"references\":[{\"attributes\":{\"data\":{\"cantidad_cursos\":{\"__ndarray__\":\"BQAAAC0AAADKAAAA6wEAAPYDAAC2BAAAywIAAA==\",\"dtype\":\"uint32\",\"order\":\"little\",\"shape\":[7]},\"year\":{\"__ndarray__\":\"2wcAANwHAADdBwAA3gcAAN8HAADgBwAA4QcAAA==\",\"dtype\":\"int32\",\"order\":\"little\",\"shape\":[7]}},\"selected\":{\"id\":\"1154\"},\"selection_policy\":{\"id\":\"1179\"}},\"id\":\"1153\",\"type\":\"ColumnDataSource\"},{\"attributes\":{\"line_alpha\":0.2,\"line_color\":\"#30a2da\",\"line_width\":2,\"x\":{\"field\":\"year\"},\"y\":{\"field\":\"cantidad_cursos\"}},\"id\":\"1158\",\"type\":\"Line\"},{\"attributes\":{\"end\":2017.0,\"reset_end\":2017.0,\"reset_start\":2011.0,\"start\":2011.0,\"tags\":[[[\"year\",\"year\",null]]]},\"id\":\"1120\",\"type\":\"Range1d\"},{\"attributes\":{\"source\":{\"id\":\"1153\"}},\"id\":\"1160\",\"type\":\"CDSView\"},{\"attributes\":{\"line_color\":\"#30a2da\",\"line_width\":2,\"x\":{\"field\":\"year\"},\"y\":{\"field\":\"cantidad_cursos\"}},\"id\":\"1161\",\"type\":\"Line\"},{\"attributes\":{\"below\":[{\"id\":\"1132\"}],\"center\":[{\"id\":\"1135\"},{\"id\":\"1139\"}],\"height\":300,\"left\":[{\"id\":\"1136\"}],\"margin\":[5,5,5,5],\"min_border_bottom\":10,\"min_border_left\":10,\"min_border_right\":10,\"min_border_top\":10,\"renderers\":[{\"id\":\"1159\"}],\"sizing_mode\":\"fixed\",\"title\":{\"id\":\"1124\"},\"toolbar\":{\"id\":\"1146\"},\"width\":700,\"x_range\":{\"id\":\"1120\"},\"x_scale\":{\"id\":\"1128\"},\"y_range\":{\"id\":\"1121\"},\"y_scale\":{\"id\":\"1130\"}},\"id\":\"1123\",\"subtype\":\"Figure\",\"type\":\"Plot\"},{\"attributes\":{\"end\":1326.1,\"reset_end\":1326.1,\"reset_start\":-115.10000000000001,\"start\":-115.10000000000001,\"tags\":[[[\"cantidad_cursos\",\"cantidad_cursos\",null]]]},\"id\":\"1121\",\"type\":\"Range1d\"},{\"attributes\":{},\"id\":\"1154\",\"type\":\"Selection\"},{\"attributes\":{\"line_color\":\"#30a2da\",\"line_width\":2,\"x\":{\"field\":\"year\"},\"y\":{\"field\":\"cantidad_cursos\"}},\"id\":\"1156\",\"type\":\"Line\"},{\"attributes\":{\"callback\":null,\"renderers\":[{\"id\":\"1159\"}],\"tags\":[\"hv_created\"],\"tooltips\":[[\"year\",\"@{year}\"],[\"cantidad_cursos\",\"@{cantidad_cursos}\"]]},\"id\":\"1122\",\"type\":\"HoverTool\"},{\"attributes\":{},\"id\":\"1128\",\"type\":\"LinearScale\"},{\"attributes\":{},\"id\":\"1130\",\"type\":\"LinearScale\"},{\"attributes\":{},\"id\":\"1133\",\"type\":\"BasicTicker\"},{\"attributes\":{\"coordinates\":null,\"group\":null,\"text_color\":\"black\",\"text_font_size\":\"12pt\"},\"id\":\"1124\",\"type\":\"Title\"},{\"attributes\":{},\"id\":\"1166\",\"type\":\"BasicTickFormatter\"},{\"attributes\":{\"axis\":{\"id\":\"1132\"},\"coordinates\":null,\"grid_line_color\":null,\"group\":null,\"ticker\":null},\"id\":\"1135\",\"type\":\"Grid\"},{\"attributes\":{\"axis_label\":\"year\",\"coordinates\":null,\"formatter\":{\"id\":\"1163\"},\"group\":null,\"major_label_policy\":{\"id\":\"1164\"},\"ticker\":{\"id\":\"1133\"}},\"id\":\"1132\",\"type\":\"LinearAxis\"},{\"attributes\":{},\"id\":\"1179\",\"type\":\"UnionRenderers\"},{\"attributes\":{},\"id\":\"1163\",\"type\":\"BasicTickFormatter\"},{\"attributes\":{},\"id\":\"1141\",\"type\":\"PanTool\"},{\"attributes\":{\"axis_label\":\"cantidad_cursos\",\"coordinates\":null,\"formatter\":{\"id\":\"1166\"},\"group\":null,\"major_label_policy\":{\"id\":\"1167\"},\"ticker\":{\"id\":\"1137\"}},\"id\":\"1136\",\"type\":\"LinearAxis\"},{\"attributes\":{},\"id\":\"1164\",\"type\":\"AllLabels\"},{\"attributes\":{\"axis\":{\"id\":\"1136\"},\"coordinates\":null,\"dimension\":1,\"grid_line_color\":null,\"group\":null,\"ticker\":null},\"id\":\"1139\",\"type\":\"Grid\"},{\"attributes\":{},\"id\":\"1137\",\"type\":\"BasicTicker\"},{\"attributes\":{},\"id\":\"1142\",\"type\":\"WheelZoomTool\"},{\"attributes\":{},\"id\":\"1167\",\"type\":\"AllLabels\"},{\"attributes\":{},\"id\":\"1140\",\"type\":\"SaveTool\"},{\"attributes\":{\"overlay\":{\"id\":\"1145\"}},\"id\":\"1143\",\"type\":\"BoxZoomTool\"},{\"attributes\":{\"children\":[{\"id\":\"1119\"},{\"id\":\"1123\"},{\"id\":\"1182\"}],\"margin\":[0,0,0,0],\"name\":\"Row00969\",\"tags\":[\"embedded\"]},\"id\":\"1118\",\"type\":\"Row\"},{\"attributes\":{},\"id\":\"1144\",\"type\":\"ResetTool\"},{\"attributes\":{\"margin\":[5,5,5,5],\"name\":\"HSpacer00974\",\"sizing_mode\":\"stretch_width\"},\"id\":\"1182\",\"type\":\"Spacer\"},{\"attributes\":{\"bottom_units\":\"screen\",\"coordinates\":null,\"fill_alpha\":0.5,\"fill_color\":\"lightgrey\",\"group\":null,\"left_units\":\"screen\",\"level\":\"overlay\",\"line_alpha\":1.0,\"line_color\":\"black\",\"line_dash\":[4,4],\"line_width\":2,\"right_units\":\"screen\",\"syncable\":false,\"top_units\":\"screen\"},\"id\":\"1145\",\"type\":\"BoxAnnotation\"},{\"attributes\":{\"margin\":[5,5,5,5],\"name\":\"HSpacer00973\",\"sizing_mode\":\"stretch_width\"},\"id\":\"1119\",\"type\":\"Spacer\"},{\"attributes\":{\"coordinates\":null,\"data_source\":{\"id\":\"1153\"},\"glyph\":{\"id\":\"1156\"},\"group\":null,\"hover_glyph\":null,\"muted_glyph\":{\"id\":\"1158\"},\"nonselection_glyph\":{\"id\":\"1157\"},\"selection_glyph\":{\"id\":\"1161\"},\"view\":{\"id\":\"1160\"}},\"id\":\"1159\",\"type\":\"GlyphRenderer\"},{\"attributes\":{\"line_alpha\":0.1,\"line_color\":\"#30a2da\",\"line_width\":2,\"x\":{\"field\":\"year\"},\"y\":{\"field\":\"cantidad_cursos\"}},\"id\":\"1157\",\"type\":\"Line\"},{\"attributes\":{\"active_drag\":{\"id\":\"1141\"},\"active_scroll\":{\"id\":\"1142\"},\"tools\":[{\"id\":\"1122\"},{\"id\":\"1140\"},{\"id\":\"1141\"},{\"id\":\"1142\"},{\"id\":\"1143\"},{\"id\":\"1144\"}]},\"id\":\"1146\",\"type\":\"Toolbar\"}],\"root_ids\":[\"1118\"]},\"title\":\"Bokeh Application\",\"version\":\"2.4.3\"}};\n",
       "    var render_items = [{\"docid\":\"dd82bbbc-d853-4c50-90cc-d787ace1671f\",\"root_ids\":[\"1118\"],\"roots\":{\"1118\":\"0e291104-be3b-44c9-b904-e5db530cbc96\"}}];\n",
       "    root.Bokeh.embed.embed_items_notebook(docs_json, render_items);\n",
       "    for (const render_item of render_items) {\n",
       "      for (const root_id of render_item.root_ids) {\n",
       "\tconst id_el = document.getElementById(root_id)\n",
       "\tif (id_el.children.length && (id_el.children[0].className === 'bk-root')) {\n",
       "\t  const root_el = id_el.children[0]\n",
       "\t  root_el.id = root_el.id + '-rendered'\n",
       "\t}\n",
       "      }\n",
       "    }\n",
       "  }\n",
       "  if (root.Bokeh !== undefined && root.Bokeh.Panel !== undefined && ( root['Tabulator'] !== undefined) && ( root['Tabulator'] !== undefined) && ( root['Tabulator'] !== undefined)) {\n",
       "    embed_document(root);\n",
       "  } else {\n",
       "    var attempts = 0;\n",
       "    var timer = setInterval(function(root) {\n",
       "      if (root.Bokeh !== undefined && root.Bokeh.Panel !== undefined && (root['Tabulator'] !== undefined) && (root['Tabulator'] !== undefined) && (root['Tabulator'] !== undefined)) {\n",
       "        clearInterval(timer);\n",
       "        embed_document(root);\n",
       "      } else if (document.readyState == \"complete\") {\n",
       "        attempts++;\n",
       "        if (attempts > 200) {\n",
       "          clearInterval(timer);\n",
       "          console.log(\"Bokeh: ERROR: Unable to run BokehJS code because BokehJS library is missing\");\n",
       "        }\n",
       "      }\n",
       "    }, 25, root)\n",
       "  }\n",
       "})(window);</script>"
      ],
      "text/plain": [
       ":Curve   [year]   (cantidad_cursos)"
      ]
     },
     "execution_count": 173,
     "metadata": {
      "application/vnd.holoviews_exec.v0+json": {
       "id": "1118"
      }
     },
     "output_type": "execute_result"
    }
   ],
   "source": [
    "dfu_group_year.to_pandas().hvplot('year','cantidad_cursos')"
   ]
  },
  {
   "cell_type": "markdown",
   "id": "53ae00f8-cb0f-4394-add6-054dc8b8473c",
   "metadata": {},
   "source": [
    "## dfu_group_precio (•\tNivel de ventas según precio.)\n",
    "### DataFrame con datos de Udemy agrupados por precio\n",
    "### Agrega(Cantidad Vendida)"
   ]
  },
  {
   "cell_type": "code",
   "execution_count": 174,
   "id": "f1dd48bf-36c5-4900-a903-ee9c430a228d",
   "metadata": {},
   "outputs": [],
   "source": [
    "dfu_group_precio = (\n",
    "  df_u\n",
    "  .filter(pl.col('price') != 0)  \n",
    "  .groupby('price')\n",
    "  .agg(\n",
    "  [\n",
    "    pl.col('price').count().alias('cantidad_cursos')\n",
    "  ]\n",
    "  )\n",
    "  .sort('price')  \n",
    ")"
   ]
  },
  {
   "cell_type": "code",
   "execution_count": 175,
   "id": "ca761ffd-1ba0-4e71-afd7-d20b54517f67",
   "metadata": {},
   "outputs": [
    {
     "data": {
      "application/vnd.holoviews_exec.v0+json": "",
      "text/html": [
       "<div id='1234'>\n",
       "  <div class=\"bk-root\" id=\"60bc38ca-cbd0-403c-aa20-b91458779c2e\" data-root-id=\"1234\"></div>\n",
       "</div>\n",
       "<script type=\"application/javascript\">(function(root) {\n",
       "  function embed_document(root) {\n",
       "    var docs_json = {\"28da5e2d-622b-4f9c-ba80-2734e936db54\":{\"defs\":[{\"extends\":null,\"module\":null,\"name\":\"ReactiveHTML1\",\"overrides\":[],\"properties\":[]},{\"extends\":null,\"module\":null,\"name\":\"FlexBox1\",\"overrides\":[],\"properties\":[{\"default\":\"flex-start\",\"kind\":null,\"name\":\"align_content\"},{\"default\":\"flex-start\",\"kind\":null,\"name\":\"align_items\"},{\"default\":\"row\",\"kind\":null,\"name\":\"flex_direction\"},{\"default\":\"wrap\",\"kind\":null,\"name\":\"flex_wrap\"},{\"default\":\"flex-start\",\"kind\":null,\"name\":\"justify_content\"}]},{\"extends\":null,\"module\":null,\"name\":\"GridStack1\",\"overrides\":[],\"properties\":[{\"default\":\"warn\",\"kind\":null,\"name\":\"mode\"},{\"default\":null,\"kind\":null,\"name\":\"ncols\"},{\"default\":null,\"kind\":null,\"name\":\"nrows\"},{\"default\":true,\"kind\":null,\"name\":\"allow_resize\"},{\"default\":true,\"kind\":null,\"name\":\"allow_drag\"},{\"default\":[],\"kind\":null,\"name\":\"state\"}]},{\"extends\":null,\"module\":null,\"name\":\"click1\",\"overrides\":[],\"properties\":[{\"default\":\"\",\"kind\":null,\"name\":\"terminal_output\"},{\"default\":\"\",\"kind\":null,\"name\":\"debug_name\"},{\"default\":0,\"kind\":null,\"name\":\"clears\"}]},{\"extends\":null,\"module\":null,\"name\":\"NotificationAreaBase1\",\"overrides\":[],\"properties\":[{\"default\":\"bottom-right\",\"kind\":null,\"name\":\"position\"},{\"default\":0,\"kind\":null,\"name\":\"_clear\"}]},{\"extends\":null,\"module\":null,\"name\":\"NotificationArea1\",\"overrides\":[],\"properties\":[{\"default\":[],\"kind\":null,\"name\":\"notifications\"},{\"default\":\"bottom-right\",\"kind\":null,\"name\":\"position\"},{\"default\":0,\"kind\":null,\"name\":\"_clear\"},{\"default\":[{\"background\":\"#ffc107\",\"icon\":{\"className\":\"fas fa-exclamation-triangle\",\"color\":\"white\",\"tagName\":\"i\"},\"type\":\"warning\"},{\"background\":\"#007bff\",\"icon\":{\"className\":\"fas fa-info-circle\",\"color\":\"white\",\"tagName\":\"i\"},\"type\":\"info\"}],\"kind\":null,\"name\":\"types\"}]},{\"extends\":null,\"module\":null,\"name\":\"Notification\",\"overrides\":[],\"properties\":[{\"default\":null,\"kind\":null,\"name\":\"background\"},{\"default\":3000,\"kind\":null,\"name\":\"duration\"},{\"default\":null,\"kind\":null,\"name\":\"icon\"},{\"default\":\"\",\"kind\":null,\"name\":\"message\"},{\"default\":null,\"kind\":null,\"name\":\"notification_type\"},{\"default\":false,\"kind\":null,\"name\":\"_destroyed\"}]},{\"extends\":null,\"module\":null,\"name\":\"TemplateActions1\",\"overrides\":[],\"properties\":[{\"default\":0,\"kind\":null,\"name\":\"open_modal\"},{\"default\":0,\"kind\":null,\"name\":\"close_modal\"}]},{\"extends\":null,\"module\":null,\"name\":\"MaterialTemplateActions1\",\"overrides\":[],\"properties\":[{\"default\":0,\"kind\":null,\"name\":\"open_modal\"},{\"default\":0,\"kind\":null,\"name\":\"close_modal\"}]}],\"roots\":{\"references\":[{\"attributes\":{\"end\":912.8,\"reset_end\":912.8,\"reset_start\":-80.80000000000001,\"start\":-80.80000000000001,\"tags\":[[[\"cantidad_cursos\",\"cantidad_cursos\",null]]]},\"id\":\"1237\",\"type\":\"Range1d\"},{\"attributes\":{},\"id\":\"1258\",\"type\":\"WheelZoomTool\"},{\"attributes\":{\"callback\":null,\"renderers\":[{\"id\":\"1275\"}],\"tags\":[\"hv_created\"],\"tooltips\":[[\"price\",\"@{price}\"],[\"cantidad_cursos\",\"@{cantidad_cursos}\"]]},\"id\":\"1238\",\"type\":\"HoverTool\"},{\"attributes\":{\"margin\":[5,5,5,5],\"name\":\"HSpacer01078\",\"sizing_mode\":\"stretch_width\"},\"id\":\"1235\",\"type\":\"Spacer\"},{\"attributes\":{},\"id\":\"1256\",\"type\":\"SaveTool\"},{\"attributes\":{},\"id\":\"1282\",\"type\":\"BasicTickFormatter\"},{\"attributes\":{},\"id\":\"1246\",\"type\":\"LinearScale\"},{\"attributes\":{},\"id\":\"1283\",\"type\":\"AllLabels\"},{\"attributes\":{\"overlay\":{\"id\":\"1261\"}},\"id\":\"1259\",\"type\":\"BoxZoomTool\"},{\"attributes\":{},\"id\":\"1244\",\"type\":\"LinearScale\"},{\"attributes\":{},\"id\":\"1260\",\"type\":\"ResetTool\"},{\"attributes\":{},\"id\":\"1249\",\"type\":\"BasicTicker\"},{\"attributes\":{\"coordinates\":null,\"group\":null,\"text_color\":\"black\",\"text_font_size\":\"12pt\"},\"id\":\"1240\",\"type\":\"Title\"},{\"attributes\":{\"axis\":{\"id\":\"1248\"},\"coordinates\":null,\"grid_line_color\":null,\"group\":null,\"ticker\":null},\"id\":\"1251\",\"type\":\"Grid\"},{\"attributes\":{\"axis_label\":\"price\",\"coordinates\":null,\"formatter\":{\"id\":\"1279\"},\"group\":null,\"major_label_policy\":{\"id\":\"1280\"},\"ticker\":{\"id\":\"1249\"}},\"id\":\"1248\",\"type\":\"LinearAxis\"},{\"attributes\":{\"axis_label\":\"cantidad_cursos\",\"coordinates\":null,\"formatter\":{\"id\":\"1282\"},\"group\":null,\"major_label_policy\":{\"id\":\"1283\"},\"ticker\":{\"id\":\"1253\"}},\"id\":\"1252\",\"type\":\"LinearAxis\"},{\"attributes\":{\"bottom_units\":\"screen\",\"coordinates\":null,\"fill_alpha\":0.5,\"fill_color\":\"lightgrey\",\"group\":null,\"left_units\":\"screen\",\"level\":\"overlay\",\"line_alpha\":1.0,\"line_color\":\"black\",\"line_dash\":[4,4],\"line_width\":2,\"right_units\":\"screen\",\"syncable\":false,\"top_units\":\"screen\"},\"id\":\"1261\",\"type\":\"BoxAnnotation\"},{\"attributes\":{},\"id\":\"1253\",\"type\":\"BasicTicker\"},{\"attributes\":{\"coordinates\":null,\"data_source\":{\"id\":\"1269\"},\"glyph\":{\"id\":\"1272\"},\"group\":null,\"hover_glyph\":null,\"muted_glyph\":{\"id\":\"1274\"},\"nonselection_glyph\":{\"id\":\"1273\"},\"selection_glyph\":{\"id\":\"1277\"},\"view\":{\"id\":\"1276\"}},\"id\":\"1275\",\"type\":\"GlyphRenderer\"},{\"attributes\":{\"margin\":[5,5,5,5],\"name\":\"HSpacer01079\",\"sizing_mode\":\"stretch_width\"},\"id\":\"1298\",\"type\":\"Spacer\"},{\"attributes\":{\"line_alpha\":0.1,\"line_color\":\"#30a2da\",\"line_width\":2,\"x\":{\"field\":\"price\"},\"y\":{\"field\":\"cantidad_cursos\"}},\"id\":\"1273\",\"type\":\"Line\"},{\"attributes\":{\"active_drag\":{\"id\":\"1257\"},\"active_scroll\":{\"id\":\"1258\"},\"tools\":[{\"id\":\"1238\"},{\"id\":\"1256\"},{\"id\":\"1257\"},{\"id\":\"1258\"},{\"id\":\"1259\"},{\"id\":\"1260\"}]},\"id\":\"1262\",\"type\":\"Toolbar\"},{\"attributes\":{\"data\":{\"cantidad_cursos\":{\"__ndarray__\":\"PgMAAJoAAACmAAAAdAAAANkAAABTAAAA1AEAACMAAABLAAAAHgAAABoAAABRAAAAHQAAAB8AAAATAAAAmAAAAIUAAAALAAAACAAAABAAAAAlAAAAHgAAAAMAAAAIAAAACgAAABsAAABYAAAAAgAAAAQAAAAGAAAABQAAAA0AAAARAAAABgAAAAoAAAB/AAAAJwEAAA==\",\"dtype\":\"uint32\",\"order\":\"little\",\"shape\":[37]},\"price\":[20,25,30,35,40,45,50,55,60,65,70,75,80,85,90,95,100,105,110,115,120,125,130,135,140,145,150,155,160,165,170,175,180,185,190,195,200]},\"selected\":{\"id\":\"1270\"},\"selection_policy\":{\"id\":\"1295\"}},\"id\":\"1269\",\"type\":\"ColumnDataSource\"},{\"attributes\":{},\"id\":\"1279\",\"type\":\"BasicTickFormatter\"},{\"attributes\":{\"line_alpha\":0.2,\"line_color\":\"#30a2da\",\"line_width\":2,\"x\":{\"field\":\"price\"},\"y\":{\"field\":\"cantidad_cursos\"}},\"id\":\"1274\",\"type\":\"Line\"},{\"attributes\":{\"source\":{\"id\":\"1269\"}},\"id\":\"1276\",\"type\":\"CDSView\"},{\"attributes\":{\"children\":[{\"id\":\"1235\"},{\"id\":\"1239\"},{\"id\":\"1298\"}],\"margin\":[0,0,0,0],\"name\":\"Row01074\",\"tags\":[\"embedded\"]},\"id\":\"1234\",\"type\":\"Row\"},{\"attributes\":{\"line_color\":\"#30a2da\",\"line_width\":2,\"x\":{\"field\":\"price\"},\"y\":{\"field\":\"cantidad_cursos\"}},\"id\":\"1277\",\"type\":\"Line\"},{\"attributes\":{},\"id\":\"1270\",\"type\":\"Selection\"},{\"attributes\":{\"line_color\":\"#30a2da\",\"line_width\":2,\"x\":{\"field\":\"price\"},\"y\":{\"field\":\"cantidad_cursos\"}},\"id\":\"1272\",\"type\":\"Line\"},{\"attributes\":{\"below\":[{\"id\":\"1248\"}],\"center\":[{\"id\":\"1251\"},{\"id\":\"1255\"}],\"height\":300,\"left\":[{\"id\":\"1252\"}],\"margin\":[5,5,5,5],\"min_border_bottom\":10,\"min_border_left\":10,\"min_border_right\":10,\"min_border_top\":10,\"renderers\":[{\"id\":\"1275\"}],\"sizing_mode\":\"fixed\",\"title\":{\"id\":\"1240\"},\"toolbar\":{\"id\":\"1262\"},\"width\":700,\"x_range\":{\"id\":\"1236\"},\"x_scale\":{\"id\":\"1244\"},\"y_range\":{\"id\":\"1237\"},\"y_scale\":{\"id\":\"1246\"}},\"id\":\"1239\",\"subtype\":\"Figure\",\"type\":\"Plot\"},{\"attributes\":{},\"id\":\"1295\",\"type\":\"UnionRenderers\"},{\"attributes\":{\"end\":200.0,\"reset_end\":200.0,\"reset_start\":20.0,\"start\":20.0,\"tags\":[[[\"price\",\"price\",null]]]},\"id\":\"1236\",\"type\":\"Range1d\"},{\"attributes\":{},\"id\":\"1257\",\"type\":\"PanTool\"},{\"attributes\":{},\"id\":\"1280\",\"type\":\"AllLabels\"},{\"attributes\":{\"axis\":{\"id\":\"1252\"},\"coordinates\":null,\"dimension\":1,\"grid_line_color\":null,\"group\":null,\"ticker\":null},\"id\":\"1255\",\"type\":\"Grid\"}],\"root_ids\":[\"1234\"]},\"title\":\"Bokeh Application\",\"version\":\"2.4.3\"}};\n",
       "    var render_items = [{\"docid\":\"28da5e2d-622b-4f9c-ba80-2734e936db54\",\"root_ids\":[\"1234\"],\"roots\":{\"1234\":\"60bc38ca-cbd0-403c-aa20-b91458779c2e\"}}];\n",
       "    root.Bokeh.embed.embed_items_notebook(docs_json, render_items);\n",
       "    for (const render_item of render_items) {\n",
       "      for (const root_id of render_item.root_ids) {\n",
       "\tconst id_el = document.getElementById(root_id)\n",
       "\tif (id_el.children.length && (id_el.children[0].className === 'bk-root')) {\n",
       "\t  const root_el = id_el.children[0]\n",
       "\t  root_el.id = root_el.id + '-rendered'\n",
       "\t}\n",
       "      }\n",
       "    }\n",
       "  }\n",
       "  if (root.Bokeh !== undefined && root.Bokeh.Panel !== undefined && ( root['Tabulator'] !== undefined) && ( root['Tabulator'] !== undefined) && ( root['Tabulator'] !== undefined)) {\n",
       "    embed_document(root);\n",
       "  } else {\n",
       "    var attempts = 0;\n",
       "    var timer = setInterval(function(root) {\n",
       "      if (root.Bokeh !== undefined && root.Bokeh.Panel !== undefined && (root['Tabulator'] !== undefined) && (root['Tabulator'] !== undefined) && (root['Tabulator'] !== undefined)) {\n",
       "        clearInterval(timer);\n",
       "        embed_document(root);\n",
       "      } else if (document.readyState == \"complete\") {\n",
       "        attempts++;\n",
       "        if (attempts > 200) {\n",
       "          clearInterval(timer);\n",
       "          console.log(\"Bokeh: ERROR: Unable to run BokehJS code because BokehJS library is missing\");\n",
       "        }\n",
       "      }\n",
       "    }, 25, root)\n",
       "  }\n",
       "})(window);</script>"
      ],
      "text/plain": [
       ":Curve   [price]   (cantidad_cursos)"
      ]
     },
     "execution_count": 175,
     "metadata": {
      "application/vnd.holoviews_exec.v0+json": {
       "id": "1234"
      }
     },
     "output_type": "execute_result"
    }
   ],
   "source": [
    "dfu_group_precio.to_pandas().hvplot('price','cantidad_cursos')"
   ]
  },
  {
   "cell_type": "code",
   "execution_count": 177,
   "id": "2d18e157-9de1-4f68-82d8-8ed032a3cb00",
   "metadata": {},
   "outputs": [],
   "source": [
    "dfu_group_level1 = (\n",
    "  df_u\n",
    "  .groupby('level')\n",
    "  .agg(\n",
    "  [\n",
    "    pl.col('price').mean().alias('precio_promedio'),\n",
    "    pl.col('price').count().alias('cantidad_cursos')\n",
    "  ]\n",
    "  )\n",
    "  .sort(['level','precio_promedio'])  \n",
    ")\n",
    "dfu_group_level1 = dfu_group_level1.with_column(pl.col('level').alias('nivel_complejidad'))\n",
    "dfu_group_level1 = dfu_group_level1.select(pl.exclude('level'))"
   ]
  },
  {
   "cell_type": "markdown",
   "id": "1acfcc43-0641-4aab-a9c5-0fbb4c4e9ad7",
   "metadata": {},
   "source": [
    "### Ordenar la columna level"
   ]
  },
  {
   "cell_type": "code",
   "execution_count": 178,
   "id": "729219c3-384b-4bf1-8b35-8fcaeab9714d",
   "metadata": {},
   "outputs": [],
   "source": [
    "dfu_group_level1 = (\n",
    "       dfu_group_level1.with_column(pl.col('nivel_complejidad')\n",
    "       .apply(lambda x: '1'+x if x == 'All Levels' else x)                 \n",
    "       .apply(lambda x: '2'+x if x == 'Beginner Level' else x)                 \n",
    "       .apply(lambda x: '3'+x if x == 'Intermediate Level' else x)                                  \n",
    "       .apply(lambda x: '4'+x if x == 'Expert Level' else x)                                  \n",
    "       .alias('level1'))\n",
    "       .sort('level1') \n",
    "       ) \n",
    "dfu_group_level1 = dfu_group_level1.select(pl.exclude('level1'))\n",
    "#df_u.head()"
   ]
  },
  {
   "cell_type": "code",
   "execution_count": 179,
   "id": "f13c00a3-3656-4437-af8f-33348d0db4c4",
   "metadata": {},
   "outputs": [
    {
     "data": {
      "application/vnd.holoviews_exec.v0+json": "",
      "text/html": [
       "<div id='1350'>\n",
       "  <div class=\"bk-root\" id=\"06ba7342-4a8d-4ecd-9d0b-acd76b59b1a0\" data-root-id=\"1350\"></div>\n",
       "</div>\n",
       "<script type=\"application/javascript\">(function(root) {\n",
       "  function embed_document(root) {\n",
       "    var docs_json = {\"01625561-caee-4d80-9793-adf7af9b7130\":{\"defs\":[{\"extends\":null,\"module\":null,\"name\":\"ReactiveHTML1\",\"overrides\":[],\"properties\":[]},{\"extends\":null,\"module\":null,\"name\":\"FlexBox1\",\"overrides\":[],\"properties\":[{\"default\":\"flex-start\",\"kind\":null,\"name\":\"align_content\"},{\"default\":\"flex-start\",\"kind\":null,\"name\":\"align_items\"},{\"default\":\"row\",\"kind\":null,\"name\":\"flex_direction\"},{\"default\":\"wrap\",\"kind\":null,\"name\":\"flex_wrap\"},{\"default\":\"flex-start\",\"kind\":null,\"name\":\"justify_content\"}]},{\"extends\":null,\"module\":null,\"name\":\"GridStack1\",\"overrides\":[],\"properties\":[{\"default\":\"warn\",\"kind\":null,\"name\":\"mode\"},{\"default\":null,\"kind\":null,\"name\":\"ncols\"},{\"default\":null,\"kind\":null,\"name\":\"nrows\"},{\"default\":true,\"kind\":null,\"name\":\"allow_resize\"},{\"default\":true,\"kind\":null,\"name\":\"allow_drag\"},{\"default\":[],\"kind\":null,\"name\":\"state\"}]},{\"extends\":null,\"module\":null,\"name\":\"click1\",\"overrides\":[],\"properties\":[{\"default\":\"\",\"kind\":null,\"name\":\"terminal_output\"},{\"default\":\"\",\"kind\":null,\"name\":\"debug_name\"},{\"default\":0,\"kind\":null,\"name\":\"clears\"}]},{\"extends\":null,\"module\":null,\"name\":\"NotificationAreaBase1\",\"overrides\":[],\"properties\":[{\"default\":\"bottom-right\",\"kind\":null,\"name\":\"position\"},{\"default\":0,\"kind\":null,\"name\":\"_clear\"}]},{\"extends\":null,\"module\":null,\"name\":\"NotificationArea1\",\"overrides\":[],\"properties\":[{\"default\":[],\"kind\":null,\"name\":\"notifications\"},{\"default\":\"bottom-right\",\"kind\":null,\"name\":\"position\"},{\"default\":0,\"kind\":null,\"name\":\"_clear\"},{\"default\":[{\"background\":\"#ffc107\",\"icon\":{\"className\":\"fas fa-exclamation-triangle\",\"color\":\"white\",\"tagName\":\"i\"},\"type\":\"warning\"},{\"background\":\"#007bff\",\"icon\":{\"className\":\"fas fa-info-circle\",\"color\":\"white\",\"tagName\":\"i\"},\"type\":\"info\"}],\"kind\":null,\"name\":\"types\"}]},{\"extends\":null,\"module\":null,\"name\":\"Notification\",\"overrides\":[],\"properties\":[{\"default\":null,\"kind\":null,\"name\":\"background\"},{\"default\":3000,\"kind\":null,\"name\":\"duration\"},{\"default\":null,\"kind\":null,\"name\":\"icon\"},{\"default\":\"\",\"kind\":null,\"name\":\"message\"},{\"default\":null,\"kind\":null,\"name\":\"notification_type\"},{\"default\":false,\"kind\":null,\"name\":\"_destroyed\"}]},{\"extends\":null,\"module\":null,\"name\":\"TemplateActions1\",\"overrides\":[],\"properties\":[{\"default\":0,\"kind\":null,\"name\":\"open_modal\"},{\"default\":0,\"kind\":null,\"name\":\"close_modal\"}]},{\"extends\":null,\"module\":null,\"name\":\"MaterialTemplateActions1\",\"overrides\":[],\"properties\":[{\"default\":0,\"kind\":null,\"name\":\"open_modal\"},{\"default\":0,\"kind\":null,\"name\":\"close_modal\"}]}],\"roots\":{\"references\":[{\"attributes\":{},\"id\":\"1395\",\"type\":\"AllLabels\"},{\"attributes\":{\"axis\":{\"id\":\"1367\"},\"coordinates\":null,\"dimension\":1,\"grid_line_color\":null,\"group\":null,\"ticker\":null},\"id\":\"1370\",\"type\":\"Grid\"},{\"attributes\":{},\"id\":\"1368\",\"type\":\"BasicTicker\"},{\"attributes\":{},\"id\":\"1360\",\"type\":\"CategoricalScale\"},{\"attributes\":{},\"id\":\"1373\",\"type\":\"WheelZoomTool\"},{\"attributes\":{},\"id\":\"1398\",\"type\":\"AllLabels\"},{\"attributes\":{},\"id\":\"1371\",\"type\":\"SaveTool\"},{\"attributes\":{\"overlay\":{\"id\":\"1376\"}},\"id\":\"1374\",\"type\":\"BoxZoomTool\"},{\"attributes\":{\"end\":2116.1,\"reset_end\":2116.1,\"reset_start\":-129.10000000000002,\"start\":-129.10000000000002,\"tags\":[[[\"cantidad_cursos\",\"cantidad_cursos\",null]]]},\"id\":\"1353\",\"type\":\"Range1d\"},{\"attributes\":{},\"id\":\"1375\",\"type\":\"ResetTool\"},{\"attributes\":{\"bottom_units\":\"screen\",\"coordinates\":null,\"fill_alpha\":0.5,\"fill_color\":\"lightgrey\",\"group\":null,\"left_units\":\"screen\",\"level\":\"overlay\",\"line_alpha\":1.0,\"line_color\":\"black\",\"line_dash\":[4,4],\"line_width\":2,\"right_units\":\"screen\",\"syncable\":false,\"top_units\":\"screen\"},\"id\":\"1376\",\"type\":\"BoxAnnotation\"},{\"attributes\":{\"coordinates\":null,\"data_source\":{\"id\":\"1384\"},\"glyph\":{\"id\":\"1387\"},\"group\":null,\"hover_glyph\":null,\"muted_glyph\":{\"id\":\"1389\"},\"nonselection_glyph\":{\"id\":\"1388\"},\"selection_glyph\":{\"id\":\"1392\"},\"view\":{\"id\":\"1391\"}},\"id\":\"1390\",\"type\":\"GlyphRenderer\"},{\"attributes\":{\"line_alpha\":0.1,\"line_color\":\"#30a2da\",\"line_width\":2,\"x\":{\"field\":\"nivel_complejidad\"},\"y\":{\"field\":\"cantidad_cursos\"}},\"id\":\"1388\",\"type\":\"Line\"},{\"attributes\":{\"margin\":[5,5,5,5],\"name\":\"HSpacer01185\",\"sizing_mode\":\"stretch_width\"},\"id\":\"1413\",\"type\":\"Spacer\"},{\"attributes\":{\"factors\":[\"All Levels\",\"Beginner Level\",\"Intermediate Level\",\"Expert Level\"],\"tags\":[[[\"nivel_complejidad\",\"nivel_complejidad\",null]]]},\"id\":\"1352\",\"type\":\"FactorRange\"},{\"attributes\":{\"active_drag\":{\"id\":\"1372\"},\"active_scroll\":{\"id\":\"1373\"},\"tools\":[{\"id\":\"1354\"},{\"id\":\"1371\"},{\"id\":\"1372\"},{\"id\":\"1373\"},{\"id\":\"1374\"},{\"id\":\"1375\"}]},\"id\":\"1377\",\"type\":\"Toolbar\"},{\"attributes\":{\"margin\":[5,5,5,5],\"name\":\"HSpacer01184\",\"sizing_mode\":\"stretch_width\"},\"id\":\"1351\",\"type\":\"Spacer\"},{\"attributes\":{},\"id\":\"1394\",\"type\":\"CategoricalTickFormatter\"},{\"attributes\":{},\"id\":\"1410\",\"type\":\"UnionRenderers\"},{\"attributes\":{\"line_alpha\":0.2,\"line_color\":\"#30a2da\",\"line_width\":2,\"x\":{\"field\":\"nivel_complejidad\"},\"y\":{\"field\":\"cantidad_cursos\"}},\"id\":\"1389\",\"type\":\"Line\"},{\"attributes\":{\"source\":{\"id\":\"1384\"}},\"id\":\"1391\",\"type\":\"CDSView\"},{\"attributes\":{\"children\":[{\"id\":\"1351\"},{\"id\":\"1355\"},{\"id\":\"1413\"}],\"margin\":[0,0,0,0],\"name\":\"Row01180\",\"tags\":[\"embedded\"]},\"id\":\"1350\",\"type\":\"Row\"},{\"attributes\":{\"below\":[{\"id\":\"1364\"}],\"center\":[{\"id\":\"1366\"},{\"id\":\"1370\"}],\"height\":300,\"left\":[{\"id\":\"1367\"}],\"margin\":[5,5,5,5],\"min_border_bottom\":10,\"min_border_left\":10,\"min_border_right\":10,\"min_border_top\":10,\"renderers\":[{\"id\":\"1390\"}],\"sizing_mode\":\"fixed\",\"title\":{\"id\":\"1356\"},\"toolbar\":{\"id\":\"1377\"},\"width\":700,\"x_range\":{\"id\":\"1352\"},\"x_scale\":{\"id\":\"1360\"},\"y_range\":{\"id\":\"1353\"},\"y_scale\":{\"id\":\"1362\"}},\"id\":\"1355\",\"subtype\":\"Figure\",\"type\":\"Plot\"},{\"attributes\":{\"line_color\":\"#30a2da\",\"line_width\":2,\"x\":{\"field\":\"nivel_complejidad\"},\"y\":{\"field\":\"cantidad_cursos\"}},\"id\":\"1392\",\"type\":\"Line\"},{\"attributes\":{},\"id\":\"1362\",\"type\":\"LinearScale\"},{\"attributes\":{\"callback\":null,\"renderers\":[{\"id\":\"1390\"}],\"tags\":[\"hv_created\"],\"tooltips\":[[\"nivel_complejidad\",\"@{nivel_complejidad}\"],[\"cantidad_cursos\",\"@{cantidad_cursos}\"]]},\"id\":\"1354\",\"type\":\"HoverTool\"},{\"attributes\":{},\"id\":\"1385\",\"type\":\"Selection\"},{\"attributes\":{\"line_color\":\"#30a2da\",\"line_width\":2,\"x\":{\"field\":\"nivel_complejidad\"},\"y\":{\"field\":\"cantidad_cursos\"}},\"id\":\"1387\",\"type\":\"Line\"},{\"attributes\":{},\"id\":\"1365\",\"type\":\"CategoricalTicker\"},{\"attributes\":{\"coordinates\":null,\"group\":null,\"text_color\":\"black\",\"text_font_size\":\"12pt\"},\"id\":\"1356\",\"type\":\"Title\"},{\"attributes\":{},\"id\":\"1397\",\"type\":\"BasicTickFormatter\"},{\"attributes\":{\"axis\":{\"id\":\"1364\"},\"coordinates\":null,\"grid_line_color\":null,\"group\":null,\"ticker\":null},\"id\":\"1366\",\"type\":\"Grid\"},{\"attributes\":{\"axis_label\":\"nivel_complejidad\",\"coordinates\":null,\"formatter\":{\"id\":\"1394\"},\"group\":null,\"major_label_policy\":{\"id\":\"1395\"},\"ticker\":{\"id\":\"1365\"}},\"id\":\"1364\",\"type\":\"CategoricalAxis\"},{\"attributes\":{\"data\":{\"cantidad_cursos\":{\"__ndarray__\":\"iQcAAPYEAAClAQAAOgAAAA==\",\"dtype\":\"uint32\",\"order\":\"little\",\"shape\":[4]},\"nivel_complejidad\":[\"All Levels\",\"Beginner Level\",\"Intermediate Level\",\"Expert Level\"]},\"selected\":{\"id\":\"1385\"},\"selection_policy\":{\"id\":\"1410\"}},\"id\":\"1384\",\"type\":\"ColumnDataSource\"},{\"attributes\":{},\"id\":\"1372\",\"type\":\"PanTool\"},{\"attributes\":{\"axis_label\":\"cantidad_cursos\",\"coordinates\":null,\"formatter\":{\"id\":\"1397\"},\"group\":null,\"major_label_policy\":{\"id\":\"1398\"},\"ticker\":{\"id\":\"1368\"}},\"id\":\"1367\",\"type\":\"LinearAxis\"}],\"root_ids\":[\"1350\"]},\"title\":\"Bokeh Application\",\"version\":\"2.4.3\"}};\n",
       "    var render_items = [{\"docid\":\"01625561-caee-4d80-9793-adf7af9b7130\",\"root_ids\":[\"1350\"],\"roots\":{\"1350\":\"06ba7342-4a8d-4ecd-9d0b-acd76b59b1a0\"}}];\n",
       "    root.Bokeh.embed.embed_items_notebook(docs_json, render_items);\n",
       "    for (const render_item of render_items) {\n",
       "      for (const root_id of render_item.root_ids) {\n",
       "\tconst id_el = document.getElementById(root_id)\n",
       "\tif (id_el.children.length && (id_el.children[0].className === 'bk-root')) {\n",
       "\t  const root_el = id_el.children[0]\n",
       "\t  root_el.id = root_el.id + '-rendered'\n",
       "\t}\n",
       "      }\n",
       "    }\n",
       "  }\n",
       "  if (root.Bokeh !== undefined && root.Bokeh.Panel !== undefined && ( root['Tabulator'] !== undefined) && ( root['Tabulator'] !== undefined) && ( root['Tabulator'] !== undefined)) {\n",
       "    embed_document(root);\n",
       "  } else {\n",
       "    var attempts = 0;\n",
       "    var timer = setInterval(function(root) {\n",
       "      if (root.Bokeh !== undefined && root.Bokeh.Panel !== undefined && (root['Tabulator'] !== undefined) && (root['Tabulator'] !== undefined) && (root['Tabulator'] !== undefined)) {\n",
       "        clearInterval(timer);\n",
       "        embed_document(root);\n",
       "      } else if (document.readyState == \"complete\") {\n",
       "        attempts++;\n",
       "        if (attempts > 200) {\n",
       "          clearInterval(timer);\n",
       "          console.log(\"Bokeh: ERROR: Unable to run BokehJS code because BokehJS library is missing\");\n",
       "        }\n",
       "      }\n",
       "    }, 25, root)\n",
       "  }\n",
       "})(window);</script>"
      ],
      "text/plain": [
       ":Curve   [nivel_complejidad]   (cantidad_cursos)"
      ]
     },
     "execution_count": 179,
     "metadata": {
      "application/vnd.holoviews_exec.v0+json": {
       "id": "1350"
      }
     },
     "output_type": "execute_result"
    }
   ],
   "source": [
    "dfu_group_level1.to_pandas().hvplot('nivel_complejidad','cantidad_cursos')"
   ]
  },
  {
   "cell_type": "markdown",
   "id": "6b7d2d85-be6b-4983-be4e-71f6217011c1",
   "metadata": {},
   "source": [
    "## Reviews"
   ]
  },
  {
   "cell_type": "code",
   "execution_count": null,
   "id": "3cc6da1e-f8da-43f2-8107-d80c84aa3ecc",
   "metadata": {},
   "outputs": [],
   "source": []
  }
 ],
 "metadata": {
  "kernelspec": {
   "display_name": "Python 3 (ipykernel)",
   "language": "python",
   "name": "python3"
  },
  "language_info": {
   "codemirror_mode": {
    "name": "ipython",
    "version": 3
   },
   "file_extension": ".py",
   "mimetype": "text/x-python",
   "name": "python",
   "nbconvert_exporter": "python",
   "pygments_lexer": "ipython3",
   "version": "3.10.5"
  }
 },
 "nbformat": 4,
 "nbformat_minor": 5
}
