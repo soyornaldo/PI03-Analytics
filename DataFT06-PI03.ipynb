{
 "cells": [
  {
   "cell_type": "code",
   "execution_count": 24,
   "id": "08734b92-307d-47fe-978a-6b015d911f76",
   "metadata": {},
   "outputs": [],
   "source": [
    "import pandas as pd\n",
    "import polars as pl\n",
    "import numpy as np\n",
    "import panel as pn\n",
    "pn.extension('tabulator')\n",
    "from panel.interact import interact\n",
    "\n",
    "import hvplot.pandas\n",
    "\n",
    "import holoviews as hv\n",
    "from holoviews import opts\n",
    "hv.extension('bokeh')\n",
    "\n"
   ]
  },
  {
   "cell_type": "code",
   "execution_count": 2,
   "id": "397a1758-2ba3-4abb-b554-ed8904edb673",
   "metadata": {},
   "outputs": [],
   "source": [
    "from wordcloud import WordCloud, STOPWORDS\n",
    "import matplotlib.pyplot as plt\n",
    "import imageio\n",
    "import ipywidgets"
   ]
  },
  {
   "cell_type": "code",
   "execution_count": 56,
   "id": "422ebad6-78cd-4ee7-b9bd-5d1905f5dcdc",
   "metadata": {},
   "outputs": [],
   "source": [
    "pl_udemy = pl.read_parquet(r\"C:\\Users\\ornal\\Desktop\\Data Analitics\\PI03-Analytics\\udemy.parquet\")\n",
    "pd_udemy = pl_udemy.to_pandas()"
   ]
  },
  {
   "cell_type": "code",
   "execution_count": 5,
   "id": "38a54df5-3f5d-4f61-bbbe-b804a5a71716",
   "metadata": {},
   "outputs": [],
   "source": [
    "pl_coursera = pl.read_parquet(r\"C:\\Users\\ornal\\Desktop\\Data Analitics\\PI03-Analytics\\coursera.parquet\")\n",
    "pd_coursera = pl_coursera.to_pandas()"
   ]
  },
  {
   "cell_type": "code",
   "execution_count": 140,
   "id": "619c4c21-1773-49ff-85fa-81ab71e59da0",
   "metadata": {},
   "outputs": [],
   "source": [
    "pl_edx = pl.read_csv(r\"C:\\Users\\ornal\\Desktop\\Data Analitics\\PI03-Analytics-Origen\\edx.csv\")\n",
    "pd_edx = pl_edx.to_pandas()"
   ]
  },
  {
   "cell_type": "code",
   "execution_count": null,
   "id": "76766528-ea3f-4dce-bcf6-17d1494b1120",
   "metadata": {},
   "outputs": [],
   "source": [
    "pl_edx.columns"
   ]
  },
  {
   "cell_type": "code",
   "execution_count": 118,
   "id": "3c15e882-d28a-41ea-a34b-964daef66bc2",
   "metadata": {},
   "outputs": [],
   "source": [
    "pl_review = pl.read_parquet(r\"C:\\Users\\ornal\\Desktop\\Data Analitics\\PI03-Analytics\\reviews.parquet\")\n",
    "pd_review = pl_review.to_pandas()"
   ]
  },
  {
   "cell_type": "code",
   "execution_count": 161,
   "id": "a49dad37-df18-4446-95e0-e15556fe2cce",
   "metadata": {},
   "outputs": [
    {
     "data": {
      "text/plain": [
       "Index(['reviews', 'reviewers', 'date_reviews', 'rating', 'course_id'], dtype='object')"
      ]
     },
     "execution_count": 161,
     "metadata": {},
     "output_type": "execute_result"
    }
   ],
   "source": [
    "pd_review.columns"
   ]
  },
  {
   "cell_type": "markdown",
   "id": "8efb5f40-ffdc-4ac6-a432-c0349c57e514",
   "metadata": {},
   "source": [
    "## Ventas por año"
   ]
  },
  {
   "cell_type": "code",
   "execution_count": 58,
   "id": "2a918fab-0e61-4cfc-86c3-8d9ef969a88c",
   "metadata": {},
   "outputs": [
    {
     "data": {
      "text/html": [
       "<div>\n",
       "<style scoped>\n",
       "    .dataframe tbody tr th:only-of-type {\n",
       "        vertical-align: middle;\n",
       "    }\n",
       "\n",
       "    .dataframe tbody tr th {\n",
       "        vertical-align: top;\n",
       "    }\n",
       "\n",
       "    .dataframe thead th {\n",
       "        text-align: right;\n",
       "    }\n",
       "\n",
       "    .dataframe td {\n",
       "        white-space: pre;\n",
       "    }\n",
       "\n",
       "    .dataframe td {\n",
       "        padding-top: 0;\n",
       "    }\n",
       "\n",
       "    .dataframe td {\n",
       "        padding-bottom: 0;\n",
       "    }\n",
       "\n",
       "    .dataframe td {\n",
       "        line-height: 95%;\n",
       "    }\n",
       "</style>\n",
       "<table border=\"1\" class=\"dataframe\">\n",
       "<small>shape: (7, 2)</small>\n",
       "<thead>\n",
       "<tr>\n",
       "<th>\n",
       "year\n",
       "</th>\n",
       "<th>\n",
       "cantidad_cursos\n",
       "</th>\n",
       "</tr>\n",
       "<tr>\n",
       "<td>\n",
       "i32\n",
       "</td>\n",
       "<td>\n",
       "u32\n",
       "</td>\n",
       "</tr>\n",
       "</thead>\n",
       "<tbody>\n",
       "<tr>\n",
       "<td>\n",
       "2011\n",
       "</td>\n",
       "<td>\n",
       "5\n",
       "</td>\n",
       "</tr>\n",
       "<tr>\n",
       "<td>\n",
       "2012\n",
       "</td>\n",
       "<td>\n",
       "45\n",
       "</td>\n",
       "</tr>\n",
       "<tr>\n",
       "<td>\n",
       "2013\n",
       "</td>\n",
       "<td>\n",
       "202\n",
       "</td>\n",
       "</tr>\n",
       "<tr>\n",
       "<td>\n",
       "2014\n",
       "</td>\n",
       "<td>\n",
       "491\n",
       "</td>\n",
       "</tr>\n",
       "<tr>\n",
       "<td>\n",
       "2015\n",
       "</td>\n",
       "<td>\n",
       "1014\n",
       "</td>\n",
       "</tr>\n",
       "<tr>\n",
       "<td>\n",
       "2016\n",
       "</td>\n",
       "<td>\n",
       "1206\n",
       "</td>\n",
       "</tr>\n",
       "<tr>\n",
       "<td>\n",
       "2017\n",
       "</td>\n",
       "<td>\n",
       "715\n",
       "</td>\n",
       "</tr>\n",
       "</tbody>\n",
       "</table>\n",
       "</div>"
      ],
      "text/plain": [
       "shape: (7, 2)\n",
       "┌──────┬─────────────────┐\n",
       "│ year ┆ cantidad_cursos │\n",
       "│ ---  ┆ ---             │\n",
       "│ i32  ┆ u32             │\n",
       "╞══════╪═════════════════╡\n",
       "│ 2011 ┆ 5               │\n",
       "│ 2012 ┆ 45              │\n",
       "│ 2013 ┆ 202             │\n",
       "│ 2014 ┆ 491             │\n",
       "│ 2015 ┆ 1014            │\n",
       "│ 2016 ┆ 1206            │\n",
       "│ 2017 ┆ 715             │\n",
       "└──────┴─────────────────┘"
      ]
     },
     "execution_count": 58,
     "metadata": {},
     "output_type": "execute_result"
    }
   ],
   "source": [
    "plu_group_year = (\n",
    "  pl.read_csv(r\"C:\\Users\\ornal\\Desktop\\Data Analitics\\PI03-Analytics-Origen\\udemy.csv\", parse_dates=True)\n",
    "  .with_column(pl.col('published_timestamp').cast(pl.Datetime).dt.year().alias('year'))  \n",
    "  .groupby('year')\n",
    "  .agg(\n",
    "  [\n",
    "    pl.col('price').count().alias('cantidad_cursos')\n",
    "  ]\n",
    "  )\n",
    "  .sort('year')  \n",
    ")\n",
    "plu_group_year"
   ]
  },
  {
   "cell_type": "code",
   "execution_count": 10,
   "id": "113e2e47-b256-487b-86e1-2d6e361bc713",
   "metadata": {},
   "outputs": [],
   "source": [
    "pdu_group_year = plu_group_year.to_pandas()"
   ]
  },
  {
   "cell_type": "code",
   "execution_count": 11,
   "id": "313813ab-dba7-40ae-919d-8fe73e080acb",
   "metadata": {},
   "outputs": [],
   "source": [
    "ipdu_group_year = pdu_group_year.interactive()"
   ]
  },
  {
   "cell_type": "code",
   "execution_count": 12,
   "id": "9333cf0e-804d-41cc-b88d-bd75b7fd3dd5",
   "metadata": {},
   "outputs": [],
   "source": [
    "u_year_pipeline = (\n",
    "    ipdu_group_year\n",
    "    #.to_frame()\n",
    "    .reset_index()\n",
    "    .sort_values('year')\n",
    "    .reset_index(drop=True)\n",
    ")"
   ]
  },
  {
   "cell_type": "code",
   "execution_count": 13,
   "id": "f5a3d313-6958-4104-b01f-a232b9c2fce4",
   "metadata": {},
   "outputs": [
    {
     "data": {},
     "metadata": {},
     "output_type": "display_data"
    },
    {
     "data": {},
     "metadata": {},
     "output_type": "display_data"
    },
    {
     "data": {
      "application/vnd.holoviews_exec.v0+json": "",
      "text/html": [
       "<div id='1002'>\n",
       "  <div class=\"bk-root\" id=\"aabdc895-421f-4a96-9efb-168940ea4fb7\" data-root-id=\"1002\"></div>\n",
       "</div>\n",
       "<script type=\"application/javascript\">(function(root) {\n",
       "  function embed_document(root) {\n",
       "    var docs_json = {\"aa6d0b15-3dbc-4996-a3e0-b1e66eecfb43\":{\"defs\":[{\"extends\":null,\"module\":null,\"name\":\"ReactiveHTML1\",\"overrides\":[],\"properties\":[]},{\"extends\":null,\"module\":null,\"name\":\"FlexBox1\",\"overrides\":[],\"properties\":[{\"default\":\"flex-start\",\"kind\":null,\"name\":\"align_content\"},{\"default\":\"flex-start\",\"kind\":null,\"name\":\"align_items\"},{\"default\":\"row\",\"kind\":null,\"name\":\"flex_direction\"},{\"default\":\"wrap\",\"kind\":null,\"name\":\"flex_wrap\"},{\"default\":\"flex-start\",\"kind\":null,\"name\":\"justify_content\"}]},{\"extends\":null,\"module\":null,\"name\":\"GridStack1\",\"overrides\":[],\"properties\":[{\"default\":\"warn\",\"kind\":null,\"name\":\"mode\"},{\"default\":null,\"kind\":null,\"name\":\"ncols\"},{\"default\":null,\"kind\":null,\"name\":\"nrows\"},{\"default\":true,\"kind\":null,\"name\":\"allow_resize\"},{\"default\":true,\"kind\":null,\"name\":\"allow_drag\"},{\"default\":[],\"kind\":null,\"name\":\"state\"}]},{\"extends\":null,\"module\":null,\"name\":\"click1\",\"overrides\":[],\"properties\":[{\"default\":\"\",\"kind\":null,\"name\":\"terminal_output\"},{\"default\":\"\",\"kind\":null,\"name\":\"debug_name\"},{\"default\":0,\"kind\":null,\"name\":\"clears\"}]},{\"extends\":null,\"module\":null,\"name\":\"NotificationAreaBase1\",\"overrides\":[],\"properties\":[{\"default\":\"bottom-right\",\"kind\":null,\"name\":\"position\"},{\"default\":0,\"kind\":null,\"name\":\"_clear\"}]},{\"extends\":null,\"module\":null,\"name\":\"NotificationArea1\",\"overrides\":[],\"properties\":[{\"default\":[],\"kind\":null,\"name\":\"notifications\"},{\"default\":\"bottom-right\",\"kind\":null,\"name\":\"position\"},{\"default\":0,\"kind\":null,\"name\":\"_clear\"},{\"default\":[{\"background\":\"#ffc107\",\"icon\":{\"className\":\"fas fa-exclamation-triangle\",\"color\":\"white\",\"tagName\":\"i\"},\"type\":\"warning\"},{\"background\":\"#007bff\",\"icon\":{\"className\":\"fas fa-info-circle\",\"color\":\"white\",\"tagName\":\"i\"},\"type\":\"info\"}],\"kind\":null,\"name\":\"types\"}]},{\"extends\":null,\"module\":null,\"name\":\"Notification\",\"overrides\":[],\"properties\":[{\"default\":null,\"kind\":null,\"name\":\"background\"},{\"default\":3000,\"kind\":null,\"name\":\"duration\"},{\"default\":null,\"kind\":null,\"name\":\"icon\"},{\"default\":\"\",\"kind\":null,\"name\":\"message\"},{\"default\":null,\"kind\":null,\"name\":\"notification_type\"},{\"default\":false,\"kind\":null,\"name\":\"_destroyed\"}]},{\"extends\":null,\"module\":null,\"name\":\"TemplateActions1\",\"overrides\":[],\"properties\":[{\"default\":0,\"kind\":null,\"name\":\"open_modal\"},{\"default\":0,\"kind\":null,\"name\":\"close_modal\"}]},{\"extends\":null,\"module\":null,\"name\":\"MaterialTemplateActions1\",\"overrides\":[],\"properties\":[{\"default\":0,\"kind\":null,\"name\":\"open_modal\"},{\"default\":0,\"kind\":null,\"name\":\"close_modal\"}]}],\"roots\":{\"references\":[{\"attributes\":{\"coordinates\":null,\"data_source\":{\"id\":\"1040\"},\"glyph\":{\"id\":\"1043\"},\"group\":null,\"hover_glyph\":null,\"muted_glyph\":{\"id\":\"1045\"},\"nonselection_glyph\":{\"id\":\"1044\"},\"selection_glyph\":{\"id\":\"1048\"},\"view\":{\"id\":\"1047\"}},\"id\":\"1046\",\"type\":\"GlyphRenderer\"},{\"attributes\":{\"below\":[{\"id\":\"1019\"}],\"center\":[{\"id\":\"1022\"},{\"id\":\"1026\"}],\"height\":300,\"left\":[{\"id\":\"1023\"}],\"margin\":[5,5,5,5],\"min_border_bottom\":10,\"min_border_left\":10,\"min_border_right\":10,\"min_border_top\":10,\"renderers\":[{\"id\":\"1046\"}],\"sizing_mode\":\"fixed\",\"title\":{\"id\":\"1011\"},\"toolbar\":{\"id\":\"1033\"},\"width\":700,\"x_range\":{\"id\":\"1007\"},\"x_scale\":{\"id\":\"1015\"},\"y_range\":{\"id\":\"1008\"},\"y_scale\":{\"id\":\"1017\"}},\"id\":\"1010\",\"subtype\":\"Figure\",\"type\":\"Plot\"},{\"attributes\":{},\"id\":\"1041\",\"type\":\"Selection\"},{\"attributes\":{},\"id\":\"1031\",\"type\":\"ResetTool\"},{\"attributes\":{},\"id\":\"1054\",\"type\":\"AllLabels\"},{\"attributes\":{},\"id\":\"1029\",\"type\":\"WheelZoomTool\"},{\"attributes\":{\"line_alpha\":0.2,\"line_color\":\"#30a2da\",\"line_width\":2,\"x\":{\"field\":\"year\"},\"y\":{\"field\":\"cantidad_cursos\"}},\"id\":\"1045\",\"type\":\"Line\"},{\"attributes\":{\"overlay\":{\"id\":\"1032\"}},\"id\":\"1030\",\"type\":\"BoxZoomTool\"},{\"attributes\":{\"coordinates\":null,\"group\":null,\"text_color\":\"black\",\"text_font_size\":\"12pt\"},\"id\":\"1011\",\"type\":\"Title\"},{\"attributes\":{\"reload\":false},\"id\":\"1130\",\"type\":\"panel.models.location.Location\"},{\"attributes\":{\"line_alpha\":0.1,\"line_color\":\"#30a2da\",\"line_width\":2,\"x\":{\"field\":\"year\"},\"y\":{\"field\":\"cantidad_cursos\"}},\"id\":\"1044\",\"type\":\"Line\"},{\"attributes\":{},\"id\":\"1015\",\"type\":\"LinearScale\"},{\"attributes\":{\"active_drag\":{\"id\":\"1028\"},\"active_scroll\":{\"id\":\"1029\"},\"tools\":[{\"id\":\"1009\"},{\"id\":\"1027\"},{\"id\":\"1028\"},{\"id\":\"1029\"},{\"id\":\"1030\"},{\"id\":\"1031\"}]},\"id\":\"1033\",\"type\":\"Toolbar\"},{\"attributes\":{},\"id\":\"1024\",\"type\":\"BasicTicker\"},{\"attributes\":{\"axis_label\":\"year\",\"coordinates\":null,\"formatter\":{\"id\":\"1050\"},\"group\":null,\"major_label_policy\":{\"id\":\"1051\"},\"ticker\":{\"id\":\"1020\"}},\"id\":\"1019\",\"type\":\"LinearAxis\"},{\"attributes\":{\"margin\":[5,5,5,5],\"name\":\"HSpacer00961\",\"sizing_mode\":\"stretch_width\"},\"id\":\"1006\",\"type\":\"Spacer\"},{\"attributes\":{\"callback\":null,\"renderers\":[{\"id\":\"1046\"}],\"tags\":[\"hv_created\"],\"tooltips\":[[\"year\",\"@{year}\"],[\"cantidad_cursos\",\"@{cantidad_cursos}\"]]},\"id\":\"1009\",\"type\":\"HoverTool\"},{\"attributes\":{},\"id\":\"1066\",\"type\":\"UnionRenderers\"},{\"attributes\":{},\"id\":\"1051\",\"type\":\"AllLabels\"},{\"attributes\":{\"bottom_units\":\"screen\",\"coordinates\":null,\"fill_alpha\":0.5,\"fill_color\":\"lightgrey\",\"group\":null,\"left_units\":\"screen\",\"level\":\"overlay\",\"line_alpha\":1.0,\"line_color\":\"black\",\"line_dash\":[4,4],\"line_width\":2,\"right_units\":\"screen\",\"syncable\":false,\"top_units\":\"screen\"},\"id\":\"1032\",\"type\":\"BoxAnnotation\"},{\"attributes\":{\"end\":1326.1,\"reset_end\":1326.1,\"reset_start\":-115.10000000000001,\"start\":-115.10000000000001,\"tags\":[[[\"cantidad_cursos\",\"cantidad_cursos\",null]]]},\"id\":\"1008\",\"type\":\"Range1d\"},{\"attributes\":{},\"id\":\"1017\",\"type\":\"LinearScale\"},{\"attributes\":{},\"id\":\"1053\",\"type\":\"BasicTickFormatter\"},{\"attributes\":{},\"id\":\"1020\",\"type\":\"BasicTicker\"},{\"attributes\":{},\"id\":\"1050\",\"type\":\"BasicTickFormatter\"},{\"attributes\":{\"children\":[{\"id\":\"1003\"}],\"margin\":[0,0,0,0],\"name\":\"Row00969\"},\"id\":\"1002\",\"type\":\"Row\"},{\"attributes\":{\"line_color\":\"#30a2da\",\"line_width\":2,\"x\":{\"field\":\"year\"},\"y\":{\"field\":\"cantidad_cursos\"}},\"id\":\"1048\",\"type\":\"Line\"},{\"attributes\":{\"children\":[{\"id\":\"1005\"},{\"id\":\"1006\"}],\"margin\":[0,0,0,0],\"name\":\"Row00962\"},\"id\":\"1004\",\"type\":\"Row\"},{\"attributes\":{\"children\":[{\"id\":\"1004\"},{\"id\":\"1010\"}],\"margin\":[0,0,0,0],\"name\":\"Column00968\"},\"id\":\"1003\",\"type\":\"Column\"},{\"attributes\":{},\"id\":\"1028\",\"type\":\"PanTool\"},{\"attributes\":{\"axis\":{\"id\":\"1023\"},\"coordinates\":null,\"dimension\":1,\"grid_line_color\":null,\"group\":null,\"ticker\":null},\"id\":\"1026\",\"type\":\"Grid\"},{\"attributes\":{\"axis_label\":\"cantidad_cursos\",\"coordinates\":null,\"formatter\":{\"id\":\"1053\"},\"group\":null,\"major_label_policy\":{\"id\":\"1054\"},\"ticker\":{\"id\":\"1024\"}},\"id\":\"1023\",\"type\":\"LinearAxis\"},{\"attributes\":{},\"id\":\"1027\",\"type\":\"SaveTool\"},{\"attributes\":{\"axis\":{\"id\":\"1019\"},\"coordinates\":null,\"grid_line_color\":null,\"group\":null,\"ticker\":null},\"id\":\"1022\",\"type\":\"Grid\"},{\"attributes\":{\"line_color\":\"#30a2da\",\"line_width\":2,\"x\":{\"field\":\"year\"},\"y\":{\"field\":\"cantidad_cursos\"}},\"id\":\"1043\",\"type\":\"Line\"},{\"attributes\":{\"data\":{\"cantidad_cursos\":{\"__ndarray__\":\"BQAAAC0AAADKAAAA6wEAAPYDAAC2BAAAywIAAA==\",\"dtype\":\"uint32\",\"order\":\"little\",\"shape\":[7]},\"year\":{\"__ndarray__\":\"2wcAANwHAADdBwAA3gcAAN8HAADgBwAA4QcAAA==\",\"dtype\":\"int32\",\"order\":\"little\",\"shape\":[7]}},\"selected\":{\"id\":\"1041\"},\"selection_policy\":{\"id\":\"1066\"}},\"id\":\"1040\",\"type\":\"ColumnDataSource\"},{\"attributes\":{\"margin\":[0,0,0,0],\"name\":\"Column00958\"},\"id\":\"1005\",\"type\":\"Column\"},{\"attributes\":{\"end\":2017.0,\"reset_end\":2017.0,\"reset_start\":2011.0,\"start\":2011.0,\"tags\":[[[\"year\",\"year\",null]]]},\"id\":\"1007\",\"type\":\"Range1d\"},{\"attributes\":{\"source\":{\"id\":\"1040\"}},\"id\":\"1047\",\"type\":\"CDSView\"},{\"attributes\":{\"client_comm_id\":\"3dbffd87796349fc905dea80122a37d4\",\"comm_id\":\"0141bda3243d4ccea946f3645e26a5c7\",\"plot_id\":\"1002\"},\"id\":\"1099\",\"type\":\"panel.models.comm_manager.CommManager\"}],\"root_ids\":[\"1002\",\"1099\",\"1130\"]},\"title\":\"Bokeh Application\",\"version\":\"2.4.3\"}};\n",
       "    var render_items = [{\"docid\":\"aa6d0b15-3dbc-4996-a3e0-b1e66eecfb43\",\"root_ids\":[\"1002\"],\"roots\":{\"1002\":\"aabdc895-421f-4a96-9efb-168940ea4fb7\"}}];\n",
       "    root.Bokeh.embed.embed_items_notebook(docs_json, render_items);\n",
       "    for (const render_item of render_items) {\n",
       "      for (const root_id of render_item.root_ids) {\n",
       "\tconst id_el = document.getElementById(root_id)\n",
       "\tif (id_el.children.length && (id_el.children[0].className === 'bk-root')) {\n",
       "\t  const root_el = id_el.children[0]\n",
       "\t  root_el.id = root_el.id + '-rendered'\n",
       "\t}\n",
       "      }\n",
       "    }\n",
       "  }\n",
       "  if (root.Bokeh !== undefined && root.Bokeh.Panel !== undefined && ( root['Tabulator'] !== undefined)) {\n",
       "    embed_document(root);\n",
       "  } else {\n",
       "    var attempts = 0;\n",
       "    var timer = setInterval(function(root) {\n",
       "      if (root.Bokeh !== undefined && root.Bokeh.Panel !== undefined && (root['Tabulator'] !== undefined)) {\n",
       "        clearInterval(timer);\n",
       "        embed_document(root);\n",
       "      } else if (document.readyState == \"complete\") {\n",
       "        attempts++;\n",
       "        if (attempts > 200) {\n",
       "          clearInterval(timer);\n",
       "          console.log(\"Bokeh: ERROR: Unable to run BokehJS code because BokehJS library is missing\");\n",
       "        }\n",
       "      }\n",
       "    }, 25, root)\n",
       "  }\n",
       "})(window);</script>"
      ],
      "text/plain": [
       "<hvplot.interactive.Interactive at 0x1ccc1a30340>"
      ]
     },
     "execution_count": 13,
     "metadata": {
      "application/vnd.holoviews_exec.v0+json": {
       "id": "1002"
      }
     },
     "output_type": "execute_result"
    }
   ],
   "source": [
    "year_plot = u_year_pipeline.hvplot('year','cantidad_cursos')\n",
    "year_plot"
   ]
  },
  {
   "cell_type": "markdown",
   "id": "1a25df87-fb67-4e3b-ac02-34435299360d",
   "metadata": {},
   "source": [
    "## Agrupar por Precio"
   ]
  },
  {
   "cell_type": "code",
   "execution_count": 59,
   "id": "152f9d9f-5e68-47ef-a78d-b4904b45e178",
   "metadata": {},
   "outputs": [],
   "source": [
    "udemy_group_precio = (\n",
    "  pl_udemy\n",
    "  .filter(pl.col('price') != 0)  \n",
    "  .groupby('price')\n",
    "  .agg(\n",
    "  [\n",
    "    pl.col('price').count().alias('cantidad_cursos')\n",
    "  ]\n",
    "  )\n",
    "  .sort('price')  \n",
    ")\n",
    "#udemy_group_precio"
   ]
  },
  {
   "cell_type": "code",
   "execution_count": 60,
   "id": "123dc778-ccc7-4451-bb2a-a14400253cdd",
   "metadata": {},
   "outputs": [],
   "source": [
    "edx_group_precio = (\n",
    "  pl_edx\n",
    "  .filter(pl.col('price') != 0)  \n",
    "  .groupby('price')\n",
    "  .agg(\n",
    "  [\n",
    "    pl.col('price').count().alias('cantidad_cursos')\n",
    "  ]\n",
    "  )\n",
    "  .sort('price')  \n",
    ")\n",
    "#edx_group_precio"
   ]
  },
  {
   "cell_type": "code",
   "execution_count": 68,
   "id": "279f0518-2fc1-4177-a51d-0bbdc090463c",
   "metadata": {},
   "outputs": [],
   "source": [
    "group_precio = (\n",
    "    pl.concat([udemy_group_precio,edx_group_precio],how='vertical')\n",
    "    .groupby('price')\n",
    "    .agg(\n",
    "     pl.col('cantidad_cursos').sum()\n",
    "    )\n",
    "    .sort('price')\n",
    ")\n",
    "#group_precio"
   ]
  },
  {
   "cell_type": "code",
   "execution_count": 71,
   "id": "98351e07-84d9-4e60-b6d8-a7afd5694a64",
   "metadata": {},
   "outputs": [],
   "source": [
    "i_group_precio = group_precio.to_pandas().interactive()"
   ]
  },
  {
   "cell_type": "code",
   "execution_count": 79,
   "id": "28566f99-54f9-46d9-a98a-76d2025b1a20",
   "metadata": {},
   "outputs": [],
   "source": [
    "precio_pipeline = (\n",
    "    i_group_precio\n",
    "    #.to_frame()\n",
    "    .reset_index()\n",
    "    .sort_values('price')\n",
    "    .reset_index(drop=True)\n",
    ")"
   ]
  },
  {
   "cell_type": "code",
   "execution_count": 80,
   "id": "22411c7f-ffb9-42d3-95ea-632920151728",
   "metadata": {},
   "outputs": [
    {
     "data": {},
     "metadata": {},
     "output_type": "display_data"
    },
    {
     "data": {},
     "metadata": {},
     "output_type": "display_data"
    },
    {
     "data": {
      "application/vnd.holoviews_exec.v0+json": "",
      "text/html": [
       "<div id='3423'>\n",
       "  <div class=\"bk-root\" id=\"c0b1d34d-a076-4420-861e-03f994fdc067\" data-root-id=\"3423\"></div>\n",
       "</div>\n",
       "<script type=\"application/javascript\">(function(root) {\n",
       "  function embed_document(root) {\n",
       "    var docs_json = {\"72475e22-cfdd-42cf-9702-e6bfd94d5cef\":{\"defs\":[{\"extends\":null,\"module\":null,\"name\":\"ReactiveHTML1\",\"overrides\":[],\"properties\":[]},{\"extends\":null,\"module\":null,\"name\":\"FlexBox1\",\"overrides\":[],\"properties\":[{\"default\":\"flex-start\",\"kind\":null,\"name\":\"align_content\"},{\"default\":\"flex-start\",\"kind\":null,\"name\":\"align_items\"},{\"default\":\"row\",\"kind\":null,\"name\":\"flex_direction\"},{\"default\":\"wrap\",\"kind\":null,\"name\":\"flex_wrap\"},{\"default\":\"flex-start\",\"kind\":null,\"name\":\"justify_content\"}]},{\"extends\":null,\"module\":null,\"name\":\"GridStack1\",\"overrides\":[],\"properties\":[{\"default\":\"warn\",\"kind\":null,\"name\":\"mode\"},{\"default\":null,\"kind\":null,\"name\":\"ncols\"},{\"default\":null,\"kind\":null,\"name\":\"nrows\"},{\"default\":true,\"kind\":null,\"name\":\"allow_resize\"},{\"default\":true,\"kind\":null,\"name\":\"allow_drag\"},{\"default\":[],\"kind\":null,\"name\":\"state\"}]},{\"extends\":null,\"module\":null,\"name\":\"click1\",\"overrides\":[],\"properties\":[{\"default\":\"\",\"kind\":null,\"name\":\"terminal_output\"},{\"default\":\"\",\"kind\":null,\"name\":\"debug_name\"},{\"default\":0,\"kind\":null,\"name\":\"clears\"}]},{\"extends\":null,\"module\":null,\"name\":\"NotificationAreaBase1\",\"overrides\":[],\"properties\":[{\"default\":\"bottom-right\",\"kind\":null,\"name\":\"position\"},{\"default\":0,\"kind\":null,\"name\":\"_clear\"}]},{\"extends\":null,\"module\":null,\"name\":\"NotificationArea1\",\"overrides\":[],\"properties\":[{\"default\":[],\"kind\":null,\"name\":\"notifications\"},{\"default\":\"bottom-right\",\"kind\":null,\"name\":\"position\"},{\"default\":0,\"kind\":null,\"name\":\"_clear\"},{\"default\":[{\"background\":\"#ffc107\",\"icon\":{\"className\":\"fas fa-exclamation-triangle\",\"color\":\"white\",\"tagName\":\"i\"},\"type\":\"warning\"},{\"background\":\"#007bff\",\"icon\":{\"className\":\"fas fa-info-circle\",\"color\":\"white\",\"tagName\":\"i\"},\"type\":\"info\"}],\"kind\":null,\"name\":\"types\"}]},{\"extends\":null,\"module\":null,\"name\":\"Notification\",\"overrides\":[],\"properties\":[{\"default\":null,\"kind\":null,\"name\":\"background\"},{\"default\":3000,\"kind\":null,\"name\":\"duration\"},{\"default\":null,\"kind\":null,\"name\":\"icon\"},{\"default\":\"\",\"kind\":null,\"name\":\"message\"},{\"default\":null,\"kind\":null,\"name\":\"notification_type\"},{\"default\":false,\"kind\":null,\"name\":\"_destroyed\"}]},{\"extends\":null,\"module\":null,\"name\":\"TemplateActions1\",\"overrides\":[],\"properties\":[{\"default\":0,\"kind\":null,\"name\":\"open_modal\"},{\"default\":0,\"kind\":null,\"name\":\"close_modal\"}]},{\"extends\":null,\"module\":null,\"name\":\"MaterialTemplateActions1\",\"overrides\":[],\"properties\":[{\"default\":0,\"kind\":null,\"name\":\"open_modal\"},{\"default\":0,\"kind\":null,\"name\":\"close_modal\"}]}],\"roots\":{\"references\":[{\"attributes\":{\"margin\":[5,5,5,5],\"name\":\"HSpacer03540\",\"sizing_mode\":\"stretch_width\"},\"id\":\"3427\",\"type\":\"Spacer\"},{\"attributes\":{\"end\":450.0,\"reset_end\":450.0,\"reset_start\":5.0,\"start\":5.0,\"tags\":[[[\"price\",\"price\",null]]]},\"id\":\"3428\",\"type\":\"Range1d\"},{\"attributes\":{\"margin\":[0,0,0,0],\"name\":\"Column03537\"},\"id\":\"3426\",\"type\":\"Column\"},{\"attributes\":{\"coordinates\":null,\"group\":null,\"text_color\":\"black\",\"text_font_size\":\"12pt\"},\"id\":\"3432\",\"type\":\"Title\"},{\"attributes\":{\"axis_label\":\"price\",\"coordinates\":null,\"formatter\":{\"id\":\"3471\"},\"group\":null,\"major_label_policy\":{\"id\":\"3472\"},\"ticker\":{\"id\":\"3441\"}},\"id\":\"3440\",\"type\":\"LinearAxis\"},{\"attributes\":{},\"id\":\"3441\",\"type\":\"BasicTicker\"},{\"attributes\":{\"callback\":null,\"renderers\":[{\"id\":\"3467\"}],\"tags\":[\"hv_created\"],\"tooltips\":[[\"price\",\"@{price}\"],[\"cantidad_cursos\",\"@{cantidad_cursos}\"]]},\"id\":\"3430\",\"type\":\"HoverTool\"},{\"attributes\":{\"end\":912.9,\"reset_end\":912.9,\"reset_start\":-81.9,\"start\":-81.9,\"tags\":[[[\"cantidad_cursos\",\"cantidad_cursos\",null]]]},\"id\":\"3429\",\"type\":\"Range1d\"},{\"attributes\":{},\"id\":\"3445\",\"type\":\"BasicTicker\"},{\"attributes\":{\"below\":[{\"id\":\"3440\"}],\"center\":[{\"id\":\"3443\"},{\"id\":\"3447\"}],\"height\":300,\"left\":[{\"id\":\"3444\"}],\"margin\":[5,5,5,5],\"min_border_bottom\":10,\"min_border_left\":10,\"min_border_right\":10,\"min_border_top\":10,\"renderers\":[{\"id\":\"3467\"}],\"sizing_mode\":\"fixed\",\"title\":{\"id\":\"3432\"},\"toolbar\":{\"id\":\"3454\"},\"width\":700,\"x_range\":{\"id\":\"3428\"},\"x_scale\":{\"id\":\"3436\"},\"y_range\":{\"id\":\"3429\"},\"y_scale\":{\"id\":\"3438\"}},\"id\":\"3431\",\"subtype\":\"Figure\",\"type\":\"Plot\"},{\"attributes\":{},\"id\":\"3438\",\"type\":\"LinearScale\"},{\"attributes\":{\"client_comm_id\":\"c941ae35e65344e68c296a391ea0776b\",\"comm_id\":\"d111a5260c3d4eca98519c16f7a27e1a\",\"plot_id\":\"3423\"},\"id\":\"3520\",\"type\":\"panel.models.comm_manager.CommManager\"},{\"attributes\":{\"source\":{\"id\":\"3461\"}},\"id\":\"3468\",\"type\":\"CDSView\"},{\"attributes\":{},\"id\":\"3474\",\"type\":\"BasicTickFormatter\"},{\"attributes\":{\"data\":{\"cantidad_cursos\":{\"__ndarray__\":\"BwAAAAEAAAABAAAAAgAAAD4DAADFAAAACwAAAKYAAAB0AAAACQAAANsAAABTAAAA7QAAAAEAAAApAgAAIwAAAAYAAABOAAAAIAAAAAEAAAAdAAAAVQAAAA4AAAAdAAAAHwAAABcAAACYAAAAfwAAAIgAAAALAAAACAAAABAAAAADAAAAJQAAACYAAAAGAAAAAwAAAAgAAAAfAAAACgAAABsAAAA+AAAAdQAAAAIAAAABAAAABAAAAAYAAAATAAAABQAAAA0AAAACAAAAEQAAAAYAAAAKAAAAfwAAAEkAAAAoAQAAAwAAAAMAAAAZAAAAAgAAAAkAAAABAAAAAwAAAAMAAAABAAAAAgAAAAEAAAABAAAA\",\"dtype\":\"uint32\",\"order\":\"little\",\"shape\":[69]},\"price\":{\"__ndarray__\":\"AAAAAAAAFEAAAAAAAAAkQAAAAAAAAC5AAAAAAAAAM0AAAAAAAAA0QAAAAAAAADlAAAAAAAAAPUAAAAAAAAA+QAAAAAAAgEFAAAAAAACAQ0AAAAAAAABEQAAAAAAAgEZAAAAAAACASEAzMzMzM/NIQAAAAAAAAElAAAAAAACAS0AAAAAAAIBNQAAAAAAAAE5AAAAAAABAUEAAAAAAAEBRQAAAAAAAgFFAAAAAAADAUkAAAAAAAMBTQAAAAAAAAFRAAAAAAABAVUAAAAAAAIBWQAAAAAAAwFdAAAAAAADAWEAAAAAAAABZQAAAAAAAQFpAAAAAAACAW0AAAAAAAMBcQAAAAAAAwF1AAAAAAAAAXkAAAAAAAEBfQAAAAAAAIGBAAAAAAABAYEAAAAAAAOBgQAAAAAAAYGFAAAAAAACAYUAAAAAAACBiQAAAAAAAoGJAAAAAAADAYkAAAAAAAGBjQAAAAAAA4GNAAAAAAAAAZEAAAAAAAKBkQAAAAAAAIGVAAAAAAABAZUAAAAAAAOBlQAAAAAAAYGZAAAAAAACAZkAAAAAAACBnQAAAAAAAwGdAAAAAAABgaEAAAAAAAOBoQAAAAAAAAGlAAAAAAADAakAAAAAAACBsQAAAAAAAIG9AAAAAAABAb0AAAAAAALByQM3MzMzMvHJAAAAAAADAckAAAAAAAOB1QAAAAAAAcHdAAAAAAADweEAAAAAAAPh4QAAAAAAAIHxA\",\"dtype\":\"float64\",\"order\":\"little\",\"shape\":[69]}},\"selected\":{\"id\":\"3462\"},\"selection_policy\":{\"id\":\"3487\"}},\"id\":\"3461\",\"type\":\"ColumnDataSource\"},{\"attributes\":{},\"id\":\"3472\",\"type\":\"AllLabels\"},{\"attributes\":{\"children\":[{\"id\":\"3424\"}],\"margin\":[0,0,0,0],\"name\":\"Row03548\"},\"id\":\"3423\",\"type\":\"Row\"},{\"attributes\":{\"line_alpha\":0.1,\"line_color\":\"#30a2da\",\"line_width\":2,\"x\":{\"field\":\"price\"},\"y\":{\"field\":\"cantidad_cursos\"}},\"id\":\"3465\",\"type\":\"Line\"},{\"attributes\":{},\"id\":\"3475\",\"type\":\"AllLabels\"},{\"attributes\":{\"line_color\":\"#30a2da\",\"line_width\":2,\"x\":{\"field\":\"price\"},\"y\":{\"field\":\"cantidad_cursos\"}},\"id\":\"3469\",\"type\":\"Line\"},{\"attributes\":{\"children\":[{\"id\":\"3425\"},{\"id\":\"3431\"}],\"margin\":[0,0,0,0],\"name\":\"Column03547\"},\"id\":\"3424\",\"type\":\"Column\"},{\"attributes\":{},\"id\":\"3448\",\"type\":\"SaveTool\"},{\"attributes\":{},\"id\":\"3436\",\"type\":\"LinearScale\"},{\"attributes\":{},\"id\":\"3471\",\"type\":\"BasicTickFormatter\"},{\"attributes\":{\"children\":[{\"id\":\"3426\"},{\"id\":\"3427\"}],\"margin\":[0,0,0,0],\"name\":\"Row03541\"},\"id\":\"3425\",\"type\":\"Row\"},{\"attributes\":{\"active_drag\":{\"id\":\"3449\"},\"active_scroll\":{\"id\":\"3450\"},\"tools\":[{\"id\":\"3430\"},{\"id\":\"3448\"},{\"id\":\"3449\"},{\"id\":\"3450\"},{\"id\":\"3451\"},{\"id\":\"3452\"}]},\"id\":\"3454\",\"type\":\"Toolbar\"},{\"attributes\":{},\"id\":\"3449\",\"type\":\"PanTool\"},{\"attributes\":{},\"id\":\"3487\",\"type\":\"UnionRenderers\"},{\"attributes\":{\"axis\":{\"id\":\"3440\"},\"coordinates\":null,\"grid_line_color\":null,\"group\":null,\"ticker\":null},\"id\":\"3443\",\"type\":\"Grid\"},{\"attributes\":{\"overlay\":{\"id\":\"3453\"}},\"id\":\"3451\",\"type\":\"BoxZoomTool\"},{\"attributes\":{},\"id\":\"3452\",\"type\":\"ResetTool\"},{\"attributes\":{\"coordinates\":null,\"data_source\":{\"id\":\"3461\"},\"glyph\":{\"id\":\"3464\"},\"group\":null,\"hover_glyph\":null,\"muted_glyph\":{\"id\":\"3466\"},\"nonselection_glyph\":{\"id\":\"3465\"},\"selection_glyph\":{\"id\":\"3469\"},\"view\":{\"id\":\"3468\"}},\"id\":\"3467\",\"type\":\"GlyphRenderer\"},{\"attributes\":{\"axis_label\":\"cantidad_cursos\",\"coordinates\":null,\"formatter\":{\"id\":\"3474\"},\"group\":null,\"major_label_policy\":{\"id\":\"3475\"},\"ticker\":{\"id\":\"3445\"}},\"id\":\"3444\",\"type\":\"LinearAxis\"},{\"attributes\":{\"axis\":{\"id\":\"3444\"},\"coordinates\":null,\"dimension\":1,\"grid_line_color\":null,\"group\":null,\"ticker\":null},\"id\":\"3447\",\"type\":\"Grid\"},{\"attributes\":{},\"id\":\"3450\",\"type\":\"WheelZoomTool\"},{\"attributes\":{\"line_color\":\"#30a2da\",\"line_width\":2,\"x\":{\"field\":\"price\"},\"y\":{\"field\":\"cantidad_cursos\"}},\"id\":\"3464\",\"type\":\"Line\"},{\"attributes\":{\"bottom_units\":\"screen\",\"coordinates\":null,\"fill_alpha\":0.5,\"fill_color\":\"lightgrey\",\"group\":null,\"left_units\":\"screen\",\"level\":\"overlay\",\"line_alpha\":1.0,\"line_color\":\"black\",\"line_dash\":[4,4],\"line_width\":2,\"right_units\":\"screen\",\"syncable\":false,\"top_units\":\"screen\"},\"id\":\"3453\",\"type\":\"BoxAnnotation\"},{\"attributes\":{},\"id\":\"3462\",\"type\":\"Selection\"},{\"attributes\":{\"line_alpha\":0.2,\"line_color\":\"#30a2da\",\"line_width\":2,\"x\":{\"field\":\"price\"},\"y\":{\"field\":\"cantidad_cursos\"}},\"id\":\"3466\",\"type\":\"Line\"}],\"root_ids\":[\"3423\",\"3520\"]},\"title\":\"Bokeh Application\",\"version\":\"2.4.3\"}};\n",
       "    var render_items = [{\"docid\":\"72475e22-cfdd-42cf-9702-e6bfd94d5cef\",\"root_ids\":[\"3423\"],\"roots\":{\"3423\":\"c0b1d34d-a076-4420-861e-03f994fdc067\"}}];\n",
       "    root.Bokeh.embed.embed_items_notebook(docs_json, render_items);\n",
       "    for (const render_item of render_items) {\n",
       "      for (const root_id of render_item.root_ids) {\n",
       "\tconst id_el = document.getElementById(root_id)\n",
       "\tif (id_el.children.length && (id_el.children[0].className === 'bk-root')) {\n",
       "\t  const root_el = id_el.children[0]\n",
       "\t  root_el.id = root_el.id + '-rendered'\n",
       "\t}\n",
       "      }\n",
       "    }\n",
       "  }\n",
       "  if (root.Bokeh !== undefined && root.Bokeh.Panel !== undefined && ( root['Tabulator'] !== undefined) && ( root['Tabulator'] !== undefined)) {\n",
       "    embed_document(root);\n",
       "  } else {\n",
       "    var attempts = 0;\n",
       "    var timer = setInterval(function(root) {\n",
       "      if (root.Bokeh !== undefined && root.Bokeh.Panel !== undefined && (root['Tabulator'] !== undefined) && (root['Tabulator'] !== undefined)) {\n",
       "        clearInterval(timer);\n",
       "        embed_document(root);\n",
       "      } else if (document.readyState == \"complete\") {\n",
       "        attempts++;\n",
       "        if (attempts > 200) {\n",
       "          clearInterval(timer);\n",
       "          console.log(\"Bokeh: ERROR: Unable to run BokehJS code because BokehJS library is missing\");\n",
       "        }\n",
       "      }\n",
       "    }, 25, root)\n",
       "  }\n",
       "})(window);</script>"
      ],
      "text/plain": [
       "<hvplot.interactive.Interactive at 0x1ccc8cc9d80>"
      ]
     },
     "execution_count": 80,
     "metadata": {
      "application/vnd.holoviews_exec.v0+json": {
       "id": "3423"
      }
     },
     "output_type": "execute_result"
    }
   ],
   "source": [
    "precio_plot = precio_pipeline.hvplot('price','cantidad_cursos')\n",
    "precio_plot"
   ]
  },
  {
   "cell_type": "markdown",
   "id": "4d43c580-231e-4158-8a8a-46e1b2f834b8",
   "metadata": {},
   "source": [
    "## Agrupar por nivel"
   ]
  },
  {
   "cell_type": "code",
   "execution_count": 106,
   "id": "f48ac674-c77c-4e61-9f4c-3388fb7314d7",
   "metadata": {},
   "outputs": [],
   "source": [
    "udemy_group_nivel = (\n",
    "  pl_udemy\n",
    "  .groupby('level')\n",
    "  .agg(\n",
    "  [\n",
    "    pl.col('price').mean().alias('precio_promedio'),\n",
    "    pl.col('price').count().alias('cantidad_cursos')\n",
    "  ]\n",
    "  )\n",
    "  .sort(['level','precio_promedio'])  \n",
    ")\n",
    "udemy_group_nivel = udemy_group_nivel.with_column(pl.col('level').alias('nivel_complejidad'))\n",
    "udemy_group_nivel = udemy_group_nivel.select(pl.exclude('level'))"
   ]
  },
  {
   "cell_type": "code",
   "execution_count": 107,
   "id": "b90835ac-711f-4940-8ad6-f9cead645d33",
   "metadata": {},
   "outputs": [],
   "source": [
    "udemy_group_nivel = (\n",
    "       udemy_group_nivel.with_column(pl.col('nivel_complejidad')\n",
    "       .apply(lambda x: '1'+x if x == 'All Levels' else x)                 \n",
    "       .apply(lambda x: '2'+x if x == 'Beginner Level' else x)                 \n",
    "       .apply(lambda x: '3'+x if x == 'Intermediate Level' else x)                                  \n",
    "       .apply(lambda x: '4'+x if x == 'Expert Level' else x)                                  \n",
    "       .alias('level1'))\n",
    "       .sort('level1') \n",
    "       ) \n",
    "udemy_group_nivel = udemy_group_nivel.select(pl.exclude('level1'))"
   ]
  },
  {
   "cell_type": "code",
   "execution_count": 142,
   "id": "41e255bd-096e-4bd3-bc60-334b04375032",
   "metadata": {},
   "outputs": [],
   "source": [
    "pl_edx = pl_edx.with_column(\n",
    "     pl.col('Level')\n",
    "     .apply(lambda x: 'Beginner Level' if x == 'Introductory' else x).alias('nivel_complejidad')\n",
    ")"
   ]
  },
  {
   "cell_type": "code",
   "execution_count": 143,
   "id": "e6b445e8-e88e-4fe2-85fa-42cf36b30163",
   "metadata": {},
   "outputs": [],
   "source": [
    "pl_edx = pl_edx.with_column(\n",
    "     pl.col('nivel_complejidad')\n",
    "     .apply(lambda x: 'Intermediate Level' if x == 'Intermediate' else x)\n",
    "     .apply(lambda x: 'Expert Level' if x == 'Advanced' else x)\n",
    ")"
   ]
  },
  {
   "cell_type": "code",
   "execution_count": 144,
   "id": "d2d93f9d-c343-4d3e-9f80-92f8657d25c4",
   "metadata": {},
   "outputs": [],
   "source": [
    "pl_edx = pl_edx.select(['title', 'n_enrolled', 'course_type', 'subject','language', 'horas', 'price','nivel_complejidad'])\n",
    "pd_edx = pl_edx.to_pandas()                "
   ]
  },
  {
   "cell_type": "code",
   "execution_count": 145,
   "id": "af4cf83d-b95a-44ce-9c31-39d8802c013d",
   "metadata": {},
   "outputs": [
    {
     "data": {
      "text/plain": [
       "Index(['title', 'n_enrolled', 'course_type', 'subject', 'language', 'horas',\n",
       "       'price', 'nivel_complejidad'],\n",
       "      dtype='object')"
      ]
     },
     "execution_count": 145,
     "metadata": {},
     "output_type": "execute_result"
    }
   ],
   "source": [
    "pd_edx.columns"
   ]
  },
  {
   "cell_type": "code",
   "execution_count": 147,
   "id": "109ae9da-2db7-42a3-82e9-6a49e4fd48f2",
   "metadata": {},
   "outputs": [],
   "source": [
    "edx_group_nivel = (\n",
    "  pl_edx\n",
    "  .groupby('nivel_complejidad')\n",
    "  .agg(\n",
    "  [\n",
    "    pl.col('price').mean().alias('precio_promedio'),\n",
    "    pl.col('price').count().alias('cantidad_cursos')\n",
    "  ]\n",
    "  )\n",
    "  .sort(['nivel_complejidad','precio_promedio'])  \n",
    ")"
   ]
  },
  {
   "cell_type": "code",
   "execution_count": 148,
   "id": "61a52b77-2c58-42fe-8b22-81486c2072c4",
   "metadata": {},
   "outputs": [],
   "source": [
    "edx_group_nivel = (\n",
    "       edx_group_nivel.with_column(pl.col('nivel_complejidad')\n",
    "       .apply(lambda x: '1'+x if x == 'All Levels' else x)                 \n",
    "       .apply(lambda x: '2'+x if x == 'Beginner Level' else x)                 \n",
    "       .apply(lambda x: '3'+x if x == 'Intermediate Level' else x)                                  \n",
    "       .apply(lambda x: '4'+x if x == 'Expert Level' else x)                                  \n",
    "       .alias('level1'))\n",
    "       .sort('level1') \n",
    "       ) \n",
    "edx_group_nivel = edx_group_nivel.select(pl.exclude('level1'))"
   ]
  },
  {
   "cell_type": "code",
   "execution_count": 149,
   "id": "fc0970fc-90c1-4972-97f7-89338c1d01ce",
   "metadata": {},
   "outputs": [],
   "source": [
    "group_nivel = pl.concat(\n",
    "    [\n",
    "        udemy_group_nivel.select(['nivel_complejidad','precio_promedio','cantidad_cursos']),\n",
    "        edx_group_nivel.select(['nivel_complejidad','precio_promedio','cantidad_cursos'])\n",
    "    ]\n",
    "    ,how='vertical'\n",
    ")"
   ]
  },
  {
   "cell_type": "code",
   "execution_count": 150,
   "id": "fb2e125f-fd4d-47c2-aa51-7325c2fd93d4",
   "metadata": {},
   "outputs": [],
   "source": [
    "group_nivel = (\n",
    "  group_nivel\n",
    "  .groupby('nivel_complejidad')\n",
    "  .agg(\n",
    "  [\n",
    "    pl.col('precio_promedio').mean(),\n",
    "    pl.col('cantidad_cursos').sum()\n",
    "  ]\n",
    "  ) \n",
    ")"
   ]
  },
  {
   "cell_type": "code",
   "execution_count": 151,
   "id": "a3550524-89ae-41bf-926f-dc440241103f",
   "metadata": {},
   "outputs": [],
   "source": [
    "i_group_nivel = group_nivel.to_pandas().interactive()"
   ]
  },
  {
   "cell_type": "code",
   "execution_count": 152,
   "id": "cbe845d3-104f-4145-966f-1993a21a986f",
   "metadata": {},
   "outputs": [],
   "source": [
    "nivel_pipeline = (\n",
    "    i_group_nivel\n",
    "    #.to_frame()\n",
    "    .reset_index()\n",
    "    #.sort_values('nivel_complejidad')\n",
    "    .reset_index(drop=True)\n",
    ")"
   ]
  },
  {
   "cell_type": "code",
   "execution_count": 153,
   "id": "09fc1d36-1a01-4fbd-9834-7109490595e3",
   "metadata": {},
   "outputs": [
    {
     "data": {},
     "metadata": {},
     "output_type": "display_data"
    },
    {
     "data": {},
     "metadata": {},
     "output_type": "display_data"
    },
    {
     "data": {
      "application/vnd.holoviews_exec.v0+json": "",
      "text/html": [
       "<div id='7475'>\n",
       "  <div class=\"bk-root\" id=\"e46593d5-015f-4158-8494-e549f0e19cbd\" data-root-id=\"7475\"></div>\n",
       "</div>\n",
       "<script type=\"application/javascript\">(function(root) {\n",
       "  function embed_document(root) {\n",
       "    var docs_json = {\"a9c5c77c-45a5-4705-bb18-2e167dd1d973\":{\"defs\":[{\"extends\":null,\"module\":null,\"name\":\"ReactiveHTML1\",\"overrides\":[],\"properties\":[]},{\"extends\":null,\"module\":null,\"name\":\"FlexBox1\",\"overrides\":[],\"properties\":[{\"default\":\"flex-start\",\"kind\":null,\"name\":\"align_content\"},{\"default\":\"flex-start\",\"kind\":null,\"name\":\"align_items\"},{\"default\":\"row\",\"kind\":null,\"name\":\"flex_direction\"},{\"default\":\"wrap\",\"kind\":null,\"name\":\"flex_wrap\"},{\"default\":\"flex-start\",\"kind\":null,\"name\":\"justify_content\"}]},{\"extends\":null,\"module\":null,\"name\":\"GridStack1\",\"overrides\":[],\"properties\":[{\"default\":\"warn\",\"kind\":null,\"name\":\"mode\"},{\"default\":null,\"kind\":null,\"name\":\"ncols\"},{\"default\":null,\"kind\":null,\"name\":\"nrows\"},{\"default\":true,\"kind\":null,\"name\":\"allow_resize\"},{\"default\":true,\"kind\":null,\"name\":\"allow_drag\"},{\"default\":[],\"kind\":null,\"name\":\"state\"}]},{\"extends\":null,\"module\":null,\"name\":\"click1\",\"overrides\":[],\"properties\":[{\"default\":\"\",\"kind\":null,\"name\":\"terminal_output\"},{\"default\":\"\",\"kind\":null,\"name\":\"debug_name\"},{\"default\":0,\"kind\":null,\"name\":\"clears\"}]},{\"extends\":null,\"module\":null,\"name\":\"NotificationAreaBase1\",\"overrides\":[],\"properties\":[{\"default\":\"bottom-right\",\"kind\":null,\"name\":\"position\"},{\"default\":0,\"kind\":null,\"name\":\"_clear\"}]},{\"extends\":null,\"module\":null,\"name\":\"NotificationArea1\",\"overrides\":[],\"properties\":[{\"default\":[],\"kind\":null,\"name\":\"notifications\"},{\"default\":\"bottom-right\",\"kind\":null,\"name\":\"position\"},{\"default\":0,\"kind\":null,\"name\":\"_clear\"},{\"default\":[{\"background\":\"#ffc107\",\"icon\":{\"className\":\"fas fa-exclamation-triangle\",\"color\":\"white\",\"tagName\":\"i\"},\"type\":\"warning\"},{\"background\":\"#007bff\",\"icon\":{\"className\":\"fas fa-info-circle\",\"color\":\"white\",\"tagName\":\"i\"},\"type\":\"info\"}],\"kind\":null,\"name\":\"types\"}]},{\"extends\":null,\"module\":null,\"name\":\"Notification\",\"overrides\":[],\"properties\":[{\"default\":null,\"kind\":null,\"name\":\"background\"},{\"default\":3000,\"kind\":null,\"name\":\"duration\"},{\"default\":null,\"kind\":null,\"name\":\"icon\"},{\"default\":\"\",\"kind\":null,\"name\":\"message\"},{\"default\":null,\"kind\":null,\"name\":\"notification_type\"},{\"default\":false,\"kind\":null,\"name\":\"_destroyed\"}]},{\"extends\":null,\"module\":null,\"name\":\"TemplateActions1\",\"overrides\":[],\"properties\":[{\"default\":0,\"kind\":null,\"name\":\"open_modal\"},{\"default\":0,\"kind\":null,\"name\":\"close_modal\"}]},{\"extends\":null,\"module\":null,\"name\":\"MaterialTemplateActions1\",\"overrides\":[],\"properties\":[{\"default\":0,\"kind\":null,\"name\":\"open_modal\"},{\"default\":0,\"kind\":null,\"name\":\"close_modal\"}]}],\"roots\":{\"references\":[{\"attributes\":{},\"id\":\"7500\",\"type\":\"PanTool\"},{\"attributes\":{\"axis_label\":\"cantidad_cursos\",\"coordinates\":null,\"formatter\":{\"id\":\"7525\"},\"group\":null,\"major_label_policy\":{\"id\":\"7526\"},\"ticker\":{\"id\":\"7496\"}},\"id\":\"7495\",\"type\":\"LinearAxis\"},{\"attributes\":{\"axis\":{\"id\":\"7495\"},\"coordinates\":null,\"dimension\":1,\"grid_line_color\":null,\"group\":null,\"ticker\":null},\"id\":\"7498\",\"type\":\"Grid\"},{\"attributes\":{\"factors\":[\"All Levels\",\"Beginner Level\",\"Intermediate Level\",\"Expert Level\"],\"tags\":[[[\"nivel_complejidad\",\"nivel_complejidad\",null]]]},\"id\":\"7480\",\"type\":\"FactorRange\"},{\"attributes\":{},\"id\":\"7496\",\"type\":\"BasicTicker\"},{\"attributes\":{},\"id\":\"7501\",\"type\":\"WheelZoomTool\"},{\"attributes\":{},\"id\":\"7538\",\"type\":\"UnionRenderers\"},{\"attributes\":{},\"id\":\"7499\",\"type\":\"SaveTool\"},{\"attributes\":{\"below\":[{\"id\":\"7492\"}],\"center\":[{\"id\":\"7494\"},{\"id\":\"7498\"}],\"height\":300,\"left\":[{\"id\":\"7495\"}],\"margin\":[5,5,5,5],\"min_border_bottom\":10,\"min_border_left\":10,\"min_border_right\":10,\"min_border_top\":10,\"renderers\":[{\"id\":\"7518\"}],\"sizing_mode\":\"fixed\",\"title\":{\"id\":\"7484\"},\"toolbar\":{\"id\":\"7505\"},\"width\":700,\"x_range\":{\"id\":\"7480\"},\"x_scale\":{\"id\":\"7488\"},\"y_range\":{\"id\":\"7481\"},\"y_scale\":{\"id\":\"7490\"}},\"id\":\"7483\",\"subtype\":\"Figure\",\"type\":\"Plot\"},{\"attributes\":{\"overlay\":{\"id\":\"7504\"}},\"id\":\"7502\",\"type\":\"BoxZoomTool\"},{\"attributes\":{},\"id\":\"7503\",\"type\":\"ResetTool\"},{\"attributes\":{},\"id\":\"7493\",\"type\":\"CategoricalTicker\"},{\"attributes\":{\"line_alpha\":0.1,\"line_color\":\"#30a2da\",\"line_width\":2,\"x\":{\"field\":\"nivel_complejidad\"},\"y\":{\"field\":\"cantidad_cursos\"}},\"id\":\"7516\",\"type\":\"Line\"},{\"attributes\":{\"source\":{\"id\":\"7512\"}},\"id\":\"7519\",\"type\":\"CDSView\"},{\"attributes\":{},\"id\":\"7488\",\"type\":\"CategoricalScale\"},{\"attributes\":{\"bottom_units\":\"screen\",\"coordinates\":null,\"fill_alpha\":0.5,\"fill_color\":\"lightgrey\",\"group\":null,\"left_units\":\"screen\",\"level\":\"overlay\",\"line_alpha\":1.0,\"line_color\":\"black\",\"line_dash\":[4,4],\"line_width\":2,\"right_units\":\"screen\",\"syncable\":false,\"top_units\":\"screen\"},\"id\":\"7504\",\"type\":\"BoxAnnotation\"},{\"attributes\":{\"callback\":null,\"renderers\":[{\"id\":\"7518\"}],\"tags\":[\"hv_created\"],\"tooltips\":[[\"nivel_complejidad\",\"@{nivel_complejidad}\"],[\"cantidad_cursos\",\"@{cantidad_cursos}\"]]},\"id\":\"7482\",\"type\":\"HoverTool\"},{\"attributes\":{\"end\":2107.4,\"reset_end\":2107.4,\"reset_start\":-33.400000000000006,\"start\":-33.400000000000006,\"tags\":[[[\"cantidad_cursos\",\"cantidad_cursos\",null]]]},\"id\":\"7481\",\"type\":\"Range1d\"},{\"attributes\":{\"active_drag\":{\"id\":\"7500\"},\"active_scroll\":{\"id\":\"7501\"},\"tools\":[{\"id\":\"7482\"},{\"id\":\"7499\"},{\"id\":\"7500\"},{\"id\":\"7501\"},{\"id\":\"7502\"},{\"id\":\"7503\"}]},\"id\":\"7505\",\"type\":\"Toolbar\"},{\"attributes\":{},\"id\":\"7490\",\"type\":\"LinearScale\"},{\"attributes\":{},\"id\":\"7522\",\"type\":\"CategoricalTickFormatter\"},{\"attributes\":{\"client_comm_id\":\"3c9f61bbb43d4de388f7e7e9d6cb2b9f\",\"comm_id\":\"eaa9d8eda24348d0917288c54613209b\",\"plot_id\":\"7475\"},\"id\":\"7571\",\"type\":\"panel.models.comm_manager.CommManager\"},{\"attributes\":{\"line_alpha\":0.2,\"line_color\":\"#30a2da\",\"line_width\":2,\"x\":{\"field\":\"nivel_complejidad\"},\"y\":{\"field\":\"cantidad_cursos\"}},\"id\":\"7517\",\"type\":\"Line\"},{\"attributes\":{},\"id\":\"7523\",\"type\":\"AllLabels\"},{\"attributes\":{},\"id\":\"7526\",\"type\":\"AllLabels\"},{\"attributes\":{\"coordinates\":null,\"data_source\":{\"id\":\"7512\"},\"glyph\":{\"id\":\"7515\"},\"group\":null,\"hover_glyph\":null,\"muted_glyph\":{\"id\":\"7517\"},\"nonselection_glyph\":{\"id\":\"7516\"},\"selection_glyph\":{\"id\":\"7520\"},\"view\":{\"id\":\"7519\"}},\"id\":\"7518\",\"type\":\"GlyphRenderer\"},{\"attributes\":{\"data\":{\"cantidad_cursos\":{\"__ndarray__\":\"iQcAAGMHAACwAgAAkQAAAA==\",\"dtype\":\"uint32\",\"order\":\"little\",\"shape\":[4]},\"nivel_complejidad\":[\"All Levels\",\"Beginner Level\",\"Intermediate Level\",\"Expert Level\"]},\"selected\":{\"id\":\"7513\"},\"selection_policy\":{\"id\":\"7538\"}},\"id\":\"7512\",\"type\":\"ColumnDataSource\"},{\"attributes\":{},\"id\":\"7513\",\"type\":\"Selection\"},{\"attributes\":{\"line_color\":\"#30a2da\",\"line_width\":2,\"x\":{\"field\":\"nivel_complejidad\"},\"y\":{\"field\":\"cantidad_cursos\"}},\"id\":\"7515\",\"type\":\"Line\"},{\"attributes\":{\"children\":[{\"id\":\"7478\"},{\"id\":\"7479\"}],\"margin\":[0,0,0,0],\"name\":\"Row07122\"},\"id\":\"7477\",\"type\":\"Row\"},{\"attributes\":{\"axis_label\":\"nivel_complejidad\",\"coordinates\":null,\"formatter\":{\"id\":\"7522\"},\"group\":null,\"major_label_policy\":{\"id\":\"7523\"},\"ticker\":{\"id\":\"7493\"}},\"id\":\"7492\",\"type\":\"CategoricalAxis\"},{\"attributes\":{\"children\":[{\"id\":\"7477\"},{\"id\":\"7483\"}],\"margin\":[0,0,0,0],\"name\":\"Column07128\"},\"id\":\"7476\",\"type\":\"Column\"},{\"attributes\":{\"margin\":[0,0,0,0],\"name\":\"Column07118\"},\"id\":\"7478\",\"type\":\"Column\"},{\"attributes\":{\"coordinates\":null,\"group\":null,\"text_color\":\"black\",\"text_font_size\":\"12pt\"},\"id\":\"7484\",\"type\":\"Title\"},{\"attributes\":{},\"id\":\"7525\",\"type\":\"BasicTickFormatter\"},{\"attributes\":{\"axis\":{\"id\":\"7492\"},\"coordinates\":null,\"grid_line_color\":null,\"group\":null,\"ticker\":null},\"id\":\"7494\",\"type\":\"Grid\"},{\"attributes\":{\"margin\":[5,5,5,5],\"name\":\"HSpacer07121\",\"sizing_mode\":\"stretch_width\"},\"id\":\"7479\",\"type\":\"Spacer\"},{\"attributes\":{\"children\":[{\"id\":\"7476\"}],\"margin\":[0,0,0,0],\"name\":\"Row07129\"},\"id\":\"7475\",\"type\":\"Row\"},{\"attributes\":{\"line_color\":\"#30a2da\",\"line_width\":2,\"x\":{\"field\":\"nivel_complejidad\"},\"y\":{\"field\":\"cantidad_cursos\"}},\"id\":\"7520\",\"type\":\"Line\"}],\"root_ids\":[\"7475\",\"7571\"]},\"title\":\"Bokeh Application\",\"version\":\"2.4.3\"}};\n",
       "    var render_items = [{\"docid\":\"a9c5c77c-45a5-4705-bb18-2e167dd1d973\",\"root_ids\":[\"7475\"],\"roots\":{\"7475\":\"e46593d5-015f-4158-8494-e549f0e19cbd\"}}];\n",
       "    root.Bokeh.embed.embed_items_notebook(docs_json, render_items);\n",
       "    for (const render_item of render_items) {\n",
       "      for (const root_id of render_item.root_ids) {\n",
       "\tconst id_el = document.getElementById(root_id)\n",
       "\tif (id_el.children.length && (id_el.children[0].className === 'bk-root')) {\n",
       "\t  const root_el = id_el.children[0]\n",
       "\t  root_el.id = root_el.id + '-rendered'\n",
       "\t}\n",
       "      }\n",
       "    }\n",
       "  }\n",
       "  if (root.Bokeh !== undefined && root.Bokeh.Panel !== undefined && ( root['Tabulator'] !== undefined) && ( root['Tabulator'] !== undefined)) {\n",
       "    embed_document(root);\n",
       "  } else {\n",
       "    var attempts = 0;\n",
       "    var timer = setInterval(function(root) {\n",
       "      if (root.Bokeh !== undefined && root.Bokeh.Panel !== undefined && (root['Tabulator'] !== undefined) && (root['Tabulator'] !== undefined)) {\n",
       "        clearInterval(timer);\n",
       "        embed_document(root);\n",
       "      } else if (document.readyState == \"complete\") {\n",
       "        attempts++;\n",
       "        if (attempts > 200) {\n",
       "          clearInterval(timer);\n",
       "          console.log(\"Bokeh: ERROR: Unable to run BokehJS code because BokehJS library is missing\");\n",
       "        }\n",
       "      }\n",
       "    }, 25, root)\n",
       "  }\n",
       "})(window);</script>"
      ],
      "text/plain": [
       "<hvplot.interactive.Interactive at 0x1ccd91c67d0>"
      ]
     },
     "execution_count": 153,
     "metadata": {
      "application/vnd.holoviews_exec.v0+json": {
       "id": "7475"
      }
     },
     "output_type": "execute_result"
    }
   ],
   "source": [
    "nivel_plot = nivel_pipeline.hvplot('nivel_complejidad','cantidad_cursos')\n",
    "nivel_plot"
   ]
  },
  {
   "cell_type": "markdown",
   "id": "eb5c21ba-fde4-4669-a2f2-f873130a73f3",
   "metadata": {},
   "source": [
    "## Agrupar por idioma"
   ]
  },
  {
   "cell_type": "code",
   "execution_count": 154,
   "id": "ea56d6ad-c732-4919-a807-8f6a6cba8465",
   "metadata": {},
   "outputs": [],
   "source": [
    "edx_group_idioma = (\n",
    "  pl_edx\n",
    "  .groupby('language')\n",
    "  .agg(\n",
    "  [\n",
    "    pl.col('price').mean().alias('precio_promedio'),\n",
    "    pl.col('price').count().alias('cantidad_cursos')\n",
    "  ]\n",
    "  )\n",
    ")"
   ]
  },
  {
   "cell_type": "code",
   "execution_count": 156,
   "id": "f58c9e93-8ec2-4871-ab57-0aa839b9206c",
   "metadata": {},
   "outputs": [],
   "source": [
    "i_group_idioma = edx_group_idioma.to_pandas().interactive()"
   ]
  },
  {
   "cell_type": "code",
   "execution_count": 157,
   "id": "0e429ac6-fef1-42dc-97bb-4343ec03ace5",
   "metadata": {},
   "outputs": [],
   "source": [
    "idioma_pipeline = (\n",
    "    i_group_idioma\n",
    "    #.to_frame()\n",
    "    .reset_index()\n",
    "    #.sort_values('nivel_complejidad')\n",
    "    .reset_index(drop=True)\n",
    ")"
   ]
  },
  {
   "cell_type": "code",
   "execution_count": 158,
   "id": "36f84416-8f6b-4379-8a0d-87739b745eaa",
   "metadata": {},
   "outputs": [
    {
     "data": {},
     "metadata": {},
     "output_type": "display_data"
    },
    {
     "data": {},
     "metadata": {},
     "output_type": "display_data"
    },
    {
     "data": {
      "application/vnd.holoviews_exec.v0+json": "",
      "text/html": [
       "<div id='7622'>\n",
       "  <div class=\"bk-root\" id=\"e0f4925c-ae6c-4bb3-a80d-8c23ce61c714\" data-root-id=\"7622\"></div>\n",
       "</div>\n",
       "<script type=\"application/javascript\">(function(root) {\n",
       "  function embed_document(root) {\n",
       "    var docs_json = {\"f0507af4-142d-49bd-93e0-e75f024b5a89\":{\"defs\":[{\"extends\":null,\"module\":null,\"name\":\"ReactiveHTML1\",\"overrides\":[],\"properties\":[]},{\"extends\":null,\"module\":null,\"name\":\"FlexBox1\",\"overrides\":[],\"properties\":[{\"default\":\"flex-start\",\"kind\":null,\"name\":\"align_content\"},{\"default\":\"flex-start\",\"kind\":null,\"name\":\"align_items\"},{\"default\":\"row\",\"kind\":null,\"name\":\"flex_direction\"},{\"default\":\"wrap\",\"kind\":null,\"name\":\"flex_wrap\"},{\"default\":\"flex-start\",\"kind\":null,\"name\":\"justify_content\"}]},{\"extends\":null,\"module\":null,\"name\":\"GridStack1\",\"overrides\":[],\"properties\":[{\"default\":\"warn\",\"kind\":null,\"name\":\"mode\"},{\"default\":null,\"kind\":null,\"name\":\"ncols\"},{\"default\":null,\"kind\":null,\"name\":\"nrows\"},{\"default\":true,\"kind\":null,\"name\":\"allow_resize\"},{\"default\":true,\"kind\":null,\"name\":\"allow_drag\"},{\"default\":[],\"kind\":null,\"name\":\"state\"}]},{\"extends\":null,\"module\":null,\"name\":\"click1\",\"overrides\":[],\"properties\":[{\"default\":\"\",\"kind\":null,\"name\":\"terminal_output\"},{\"default\":\"\",\"kind\":null,\"name\":\"debug_name\"},{\"default\":0,\"kind\":null,\"name\":\"clears\"}]},{\"extends\":null,\"module\":null,\"name\":\"NotificationAreaBase1\",\"overrides\":[],\"properties\":[{\"default\":\"bottom-right\",\"kind\":null,\"name\":\"position\"},{\"default\":0,\"kind\":null,\"name\":\"_clear\"}]},{\"extends\":null,\"module\":null,\"name\":\"NotificationArea1\",\"overrides\":[],\"properties\":[{\"default\":[],\"kind\":null,\"name\":\"notifications\"},{\"default\":\"bottom-right\",\"kind\":null,\"name\":\"position\"},{\"default\":0,\"kind\":null,\"name\":\"_clear\"},{\"default\":[{\"background\":\"#ffc107\",\"icon\":{\"className\":\"fas fa-exclamation-triangle\",\"color\":\"white\",\"tagName\":\"i\"},\"type\":\"warning\"},{\"background\":\"#007bff\",\"icon\":{\"className\":\"fas fa-info-circle\",\"color\":\"white\",\"tagName\":\"i\"},\"type\":\"info\"}],\"kind\":null,\"name\":\"types\"}]},{\"extends\":null,\"module\":null,\"name\":\"Notification\",\"overrides\":[],\"properties\":[{\"default\":null,\"kind\":null,\"name\":\"background\"},{\"default\":3000,\"kind\":null,\"name\":\"duration\"},{\"default\":null,\"kind\":null,\"name\":\"icon\"},{\"default\":\"\",\"kind\":null,\"name\":\"message\"},{\"default\":null,\"kind\":null,\"name\":\"notification_type\"},{\"default\":false,\"kind\":null,\"name\":\"_destroyed\"}]},{\"extends\":null,\"module\":null,\"name\":\"TemplateActions1\",\"overrides\":[],\"properties\":[{\"default\":0,\"kind\":null,\"name\":\"open_modal\"},{\"default\":0,\"kind\":null,\"name\":\"close_modal\"}]},{\"extends\":null,\"module\":null,\"name\":\"MaterialTemplateActions1\",\"overrides\":[],\"properties\":[{\"default\":0,\"kind\":null,\"name\":\"open_modal\"},{\"default\":0,\"kind\":null,\"name\":\"close_modal\"}]}],\"roots\":{\"references\":[{\"attributes\":{},\"id\":\"7669\",\"type\":\"CategoricalTickFormatter\"},{\"attributes\":{\"line_alpha\":0.2,\"line_color\":\"#30a2da\",\"line_width\":2,\"x\":{\"field\":\"language\"},\"y\":{\"field\":\"cantidad_cursos\"}},\"id\":\"7664\",\"type\":\"Line\"},{\"attributes\":{\"line_color\":\"#30a2da\",\"line_width\":2,\"x\":{\"field\":\"language\"},\"y\":{\"field\":\"cantidad_cursos\"}},\"id\":\"7667\",\"type\":\"Line\"},{\"attributes\":{\"coordinates\":null,\"data_source\":{\"id\":\"7659\"},\"glyph\":{\"id\":\"7662\"},\"group\":null,\"hover_glyph\":null,\"muted_glyph\":{\"id\":\"7664\"},\"nonselection_glyph\":{\"id\":\"7663\"},\"selection_glyph\":{\"id\":\"7667\"},\"view\":{\"id\":\"7666\"}},\"id\":\"7665\",\"type\":\"GlyphRenderer\"},{\"attributes\":{},\"id\":\"7660\",\"type\":\"Selection\"},{\"attributes\":{\"line_color\":\"#30a2da\",\"line_width\":2,\"x\":{\"field\":\"language\"},\"y\":{\"field\":\"cantidad_cursos\"}},\"id\":\"7662\",\"type\":\"Line\"},{\"attributes\":{\"axis\":{\"id\":\"7639\"},\"coordinates\":null,\"grid_line_color\":null,\"group\":null,\"ticker\":null},\"id\":\"7641\",\"type\":\"Grid\"},{\"attributes\":{\"children\":[{\"id\":\"7624\"},{\"id\":\"7630\"}],\"margin\":[0,0,0,0],\"name\":\"Column07417\"},\"id\":\"7623\",\"type\":\"Column\"},{\"attributes\":{},\"id\":\"7672\",\"type\":\"BasicTickFormatter\"},{\"attributes\":{\"below\":[{\"id\":\"7639\"}],\"center\":[{\"id\":\"7641\"},{\"id\":\"7645\"}],\"height\":300,\"left\":[{\"id\":\"7642\"}],\"margin\":[5,5,5,5],\"min_border_bottom\":10,\"min_border_left\":10,\"min_border_right\":10,\"min_border_top\":10,\"renderers\":[{\"id\":\"7665\"}],\"sizing_mode\":\"fixed\",\"title\":{\"id\":\"7631\"},\"toolbar\":{\"id\":\"7652\"},\"width\":700,\"x_range\":{\"id\":\"7627\"},\"x_scale\":{\"id\":\"7635\"},\"y_range\":{\"id\":\"7628\"},\"y_scale\":{\"id\":\"7637\"}},\"id\":\"7630\",\"subtype\":\"Figure\",\"type\":\"Plot\"},{\"attributes\":{\"axis_label\":\"language\",\"coordinates\":null,\"formatter\":{\"id\":\"7669\"},\"group\":null,\"major_label_policy\":{\"id\":\"7670\"},\"ticker\":{\"id\":\"7640\"}},\"id\":\"7639\",\"type\":\"CategoricalAxis\"},{\"attributes\":{},\"id\":\"7647\",\"type\":\"PanTool\"},{\"attributes\":{\"children\":[{\"id\":\"7623\"}],\"margin\":[0,0,0,0],\"name\":\"Row07418\"},\"id\":\"7622\",\"type\":\"Row\"},{\"attributes\":{\"axis_label\":\"cantidad_cursos\",\"coordinates\":null,\"formatter\":{\"id\":\"7672\"},\"group\":null,\"major_label_policy\":{\"id\":\"7673\"},\"ticker\":{\"id\":\"7643\"}},\"id\":\"7642\",\"type\":\"LinearAxis\"},{\"attributes\":{},\"id\":\"7670\",\"type\":\"AllLabels\"},{\"attributes\":{\"margin\":[5,5,5,5],\"name\":\"HSpacer07410\",\"sizing_mode\":\"stretch_width\"},\"id\":\"7626\",\"type\":\"Spacer\"},{\"attributes\":{\"axis\":{\"id\":\"7642\"},\"coordinates\":null,\"dimension\":1,\"grid_line_color\":null,\"group\":null,\"ticker\":null},\"id\":\"7645\",\"type\":\"Grid\"},{\"attributes\":{},\"id\":\"7643\",\"type\":\"BasicTicker\"},{\"attributes\":{\"client_comm_id\":\"8176856d0f6e4557af586931fef8a5db\",\"comm_id\":\"d13147edef0e4fc0822044e0ef4feb99\",\"plot_id\":\"7622\"},\"id\":\"7718\",\"type\":\"panel.models.comm_manager.CommManager\"},{\"attributes\":{},\"id\":\"7648\",\"type\":\"WheelZoomTool\"},{\"attributes\":{},\"id\":\"7673\",\"type\":\"AllLabels\"},{\"attributes\":{},\"id\":\"7640\",\"type\":\"CategoricalTicker\"},{\"attributes\":{\"margin\":[0,0,0,0],\"name\":\"Column07407\"},\"id\":\"7625\",\"type\":\"Column\"},{\"attributes\":{},\"id\":\"7646\",\"type\":\"SaveTool\"},{\"attributes\":{},\"id\":\"7635\",\"type\":\"CategoricalScale\"},{\"attributes\":{\"overlay\":{\"id\":\"7651\"}},\"id\":\"7649\",\"type\":\"BoxZoomTool\"},{\"attributes\":{},\"id\":\"7650\",\"type\":\"ResetTool\"},{\"attributes\":{\"bottom_units\":\"screen\",\"coordinates\":null,\"fill_alpha\":0.5,\"fill_color\":\"lightgrey\",\"group\":null,\"left_units\":\"screen\",\"level\":\"overlay\",\"line_alpha\":1.0,\"line_color\":\"black\",\"line_dash\":[4,4],\"line_width\":2,\"right_units\":\"screen\",\"syncable\":false,\"top_units\":\"screen\"},\"id\":\"7651\",\"type\":\"BoxAnnotation\"},{\"attributes\":{\"factors\":[\"Fran\\u00e7ais\",\"Italiano\",\"English\",\"\\u65e5\\u672c\\u8a9e\",\"Deutsch\",\"\\u0627\\u0644\\u0644\\u063a\\u0629 \\u0627\\u0644\\u0639\\u0631\\u0628\\u064a\\u0629\",\"Espa\\u00f1ol\",\"Portugu\\u00eas\",\"\\u4e2d\\u6587\"],\"tags\":[[[\"language\",\"language\",null]]]},\"id\":\"7627\",\"type\":\"FactorRange\"},{\"attributes\":{\"children\":[{\"id\":\"7625\"},{\"id\":\"7626\"}],\"margin\":[0,0,0,0],\"name\":\"Row07411\"},\"id\":\"7624\",\"type\":\"Row\"},{\"attributes\":{\"callback\":null,\"renderers\":[{\"id\":\"7665\"}],\"tags\":[\"hv_created\"],\"tooltips\":[[\"language\",\"@{language}\"],[\"cantidad_cursos\",\"@{cantidad_cursos}\"]]},\"id\":\"7629\",\"type\":\"HoverTool\"},{\"attributes\":{\"end\":854.6,\"reset_end\":854.6,\"reset_start\":-76.60000000000001,\"start\":-76.60000000000001,\"tags\":[[[\"cantidad_cursos\",\"cantidad_cursos\",null]]]},\"id\":\"7628\",\"type\":\"Range1d\"},{\"attributes\":{\"data\":{\"cantidad_cursos\":{\"__ndarray__\":\"BwAAAAQAAAAJAwAAAQAAAAEAAAABAAAAsAAAAAQAAAAEAAAA\",\"dtype\":\"uint32\",\"order\":\"little\",\"shape\":[9]},\"language\":[\"Fran\\u00e7ais\",\"Italiano\",\"English\",\"\\u65e5\\u672c\\u8a9e\",\"Deutsch\",\"\\u0627\\u0644\\u0644\\u063a\\u0629 \\u0627\\u0644\\u0639\\u0631\\u0628\\u064a\\u0629\",\"Espa\\u00f1ol\",\"Portugu\\u00eas\",\"\\u4e2d\\u6587\"]},\"selected\":{\"id\":\"7660\"},\"selection_policy\":{\"id\":\"7685\"}},\"id\":\"7659\",\"type\":\"ColumnDataSource\"},{\"attributes\":{},\"id\":\"7637\",\"type\":\"LinearScale\"},{\"attributes\":{\"source\":{\"id\":\"7659\"}},\"id\":\"7666\",\"type\":\"CDSView\"},{\"attributes\":{\"line_alpha\":0.1,\"line_color\":\"#30a2da\",\"line_width\":2,\"x\":{\"field\":\"language\"},\"y\":{\"field\":\"cantidad_cursos\"}},\"id\":\"7663\",\"type\":\"Line\"},{\"attributes\":{},\"id\":\"7685\",\"type\":\"UnionRenderers\"},{\"attributes\":{\"coordinates\":null,\"group\":null,\"text_color\":\"black\",\"text_font_size\":\"12pt\"},\"id\":\"7631\",\"type\":\"Title\"},{\"attributes\":{\"active_drag\":{\"id\":\"7647\"},\"active_scroll\":{\"id\":\"7648\"},\"tools\":[{\"id\":\"7629\"},{\"id\":\"7646\"},{\"id\":\"7647\"},{\"id\":\"7648\"},{\"id\":\"7649\"},{\"id\":\"7650\"}]},\"id\":\"7652\",\"type\":\"Toolbar\"}],\"root_ids\":[\"7622\",\"7718\"]},\"title\":\"Bokeh Application\",\"version\":\"2.4.3\"}};\n",
       "    var render_items = [{\"docid\":\"f0507af4-142d-49bd-93e0-e75f024b5a89\",\"root_ids\":[\"7622\"],\"roots\":{\"7622\":\"e0f4925c-ae6c-4bb3-a80d-8c23ce61c714\"}}];\n",
       "    root.Bokeh.embed.embed_items_notebook(docs_json, render_items);\n",
       "    for (const render_item of render_items) {\n",
       "      for (const root_id of render_item.root_ids) {\n",
       "\tconst id_el = document.getElementById(root_id)\n",
       "\tif (id_el.children.length && (id_el.children[0].className === 'bk-root')) {\n",
       "\t  const root_el = id_el.children[0]\n",
       "\t  root_el.id = root_el.id + '-rendered'\n",
       "\t}\n",
       "      }\n",
       "    }\n",
       "  }\n",
       "  if (root.Bokeh !== undefined && root.Bokeh.Panel !== undefined && ( root['Tabulator'] !== undefined) && ( root['Tabulator'] !== undefined)) {\n",
       "    embed_document(root);\n",
       "  } else {\n",
       "    var attempts = 0;\n",
       "    var timer = setInterval(function(root) {\n",
       "      if (root.Bokeh !== undefined && root.Bokeh.Panel !== undefined && (root['Tabulator'] !== undefined) && (root['Tabulator'] !== undefined)) {\n",
       "        clearInterval(timer);\n",
       "        embed_document(root);\n",
       "      } else if (document.readyState == \"complete\") {\n",
       "        attempts++;\n",
       "        if (attempts > 200) {\n",
       "          clearInterval(timer);\n",
       "          console.log(\"Bokeh: ERROR: Unable to run BokehJS code because BokehJS library is missing\");\n",
       "        }\n",
       "      }\n",
       "    }, 25, root)\n",
       "  }\n",
       "})(window);</script>"
      ],
      "text/plain": [
       "<hvplot.interactive.Interactive at 0x1ccd92f9030>"
      ]
     },
     "execution_count": 158,
     "metadata": {
      "application/vnd.holoviews_exec.v0+json": {
       "id": "7622"
      }
     },
     "output_type": "execute_result"
    }
   ],
   "source": [
    "idioma_plot = idioma_pipeline.hvplot('language','cantidad_cursos')\n",
    "idioma_plot"
   ]
  },
  {
   "cell_type": "markdown",
   "id": "cb169b08-fc7a-4cec-b6e1-6226d9cb5c19",
   "metadata": {},
   "source": [
    "## Agrupar por rating"
   ]
  },
  {
   "cell_type": "code",
   "execution_count": 203,
   "id": "e34724d8-b08c-4a3a-bb7f-e9522cbeb84a",
   "metadata": {},
   "outputs": [],
   "source": [
    "#Index(['reviews', 'reviewers', 'date_reviews', 'rating', 'course_id'], dtype='object')\n",
    "edx_group_rating = (\n",
    "  pl_review\n",
    "  #.groupby(['course_id','rating'])\n",
    "  .groupby(['rating'])\n",
    "  .agg(\n",
    "  [\n",
    "    pl.col('course_id').count().alias('cantidad_cursos (M)')\n",
    "  ]\n",
    "  )\n",
    ")"
   ]
  },
  {
   "cell_type": "code",
   "execution_count": 204,
   "id": "69b536ba-c1eb-4049-98ca-d3675b78635a",
   "metadata": {},
   "outputs": [],
   "source": [
    "edx_group_rating = edx_group_rating.with_column(pl.col('cantidad_cursos (M)').apply(lambda x: x/1000))"
   ]
  },
  {
   "cell_type": "code",
   "execution_count": 205,
   "id": "65af8ca6-d8e2-4920-8b19-334df550fe89",
   "metadata": {},
   "outputs": [],
   "source": [
    "i_group_rating = edx_group_rating.to_pandas().interactive()"
   ]
  },
  {
   "cell_type": "code",
   "execution_count": 206,
   "id": "bb04356e-c977-4fd1-ac1b-62883db9059b",
   "metadata": {},
   "outputs": [],
   "source": [
    "rating_pipeline = (\n",
    "    i_group_rating\n",
    "    #.to_frame()\n",
    "    .reset_index()\n",
    "    .sort_values('rating')\n",
    "    .reset_index(drop=True)\n",
    ")"
   ]
  },
  {
   "cell_type": "code",
   "execution_count": 207,
   "id": "d873292d-d19d-4bf5-9160-bdeb744ef3a1",
   "metadata": {},
   "outputs": [
    {
     "data": {},
     "metadata": {},
     "output_type": "display_data"
    },
    {
     "data": {},
     "metadata": {},
     "output_type": "display_data"
    },
    {
     "data": {
      "application/vnd.holoviews_exec.v0+json": "",
      "text/html": [
       "<div id='13824'>\n",
       "  <div class=\"bk-root\" id=\"46ba0203-fd55-44c4-b473-c911ac4a5735\" data-root-id=\"13824\"></div>\n",
       "</div>\n",
       "<script type=\"application/javascript\">(function(root) {\n",
       "  function embed_document(root) {\n",
       "    var docs_json = {\"7ebb78d0-398c-4e5a-86ea-60f64f196ee4\":{\"defs\":[{\"extends\":null,\"module\":null,\"name\":\"ReactiveHTML1\",\"overrides\":[],\"properties\":[]},{\"extends\":null,\"module\":null,\"name\":\"FlexBox1\",\"overrides\":[],\"properties\":[{\"default\":\"flex-start\",\"kind\":null,\"name\":\"align_content\"},{\"default\":\"flex-start\",\"kind\":null,\"name\":\"align_items\"},{\"default\":\"row\",\"kind\":null,\"name\":\"flex_direction\"},{\"default\":\"wrap\",\"kind\":null,\"name\":\"flex_wrap\"},{\"default\":\"flex-start\",\"kind\":null,\"name\":\"justify_content\"}]},{\"extends\":null,\"module\":null,\"name\":\"GridStack1\",\"overrides\":[],\"properties\":[{\"default\":\"warn\",\"kind\":null,\"name\":\"mode\"},{\"default\":null,\"kind\":null,\"name\":\"ncols\"},{\"default\":null,\"kind\":null,\"name\":\"nrows\"},{\"default\":true,\"kind\":null,\"name\":\"allow_resize\"},{\"default\":true,\"kind\":null,\"name\":\"allow_drag\"},{\"default\":[],\"kind\":null,\"name\":\"state\"}]},{\"extends\":null,\"module\":null,\"name\":\"click1\",\"overrides\":[],\"properties\":[{\"default\":\"\",\"kind\":null,\"name\":\"terminal_output\"},{\"default\":\"\",\"kind\":null,\"name\":\"debug_name\"},{\"default\":0,\"kind\":null,\"name\":\"clears\"}]},{\"extends\":null,\"module\":null,\"name\":\"NotificationAreaBase1\",\"overrides\":[],\"properties\":[{\"default\":\"bottom-right\",\"kind\":null,\"name\":\"position\"},{\"default\":0,\"kind\":null,\"name\":\"_clear\"}]},{\"extends\":null,\"module\":null,\"name\":\"NotificationArea1\",\"overrides\":[],\"properties\":[{\"default\":[],\"kind\":null,\"name\":\"notifications\"},{\"default\":\"bottom-right\",\"kind\":null,\"name\":\"position\"},{\"default\":0,\"kind\":null,\"name\":\"_clear\"},{\"default\":[{\"background\":\"#ffc107\",\"icon\":{\"className\":\"fas fa-exclamation-triangle\",\"color\":\"white\",\"tagName\":\"i\"},\"type\":\"warning\"},{\"background\":\"#007bff\",\"icon\":{\"className\":\"fas fa-info-circle\",\"color\":\"white\",\"tagName\":\"i\"},\"type\":\"info\"}],\"kind\":null,\"name\":\"types\"}]},{\"extends\":null,\"module\":null,\"name\":\"Notification\",\"overrides\":[],\"properties\":[{\"default\":null,\"kind\":null,\"name\":\"background\"},{\"default\":3000,\"kind\":null,\"name\":\"duration\"},{\"default\":null,\"kind\":null,\"name\":\"icon\"},{\"default\":\"\",\"kind\":null,\"name\":\"message\"},{\"default\":null,\"kind\":null,\"name\":\"notification_type\"},{\"default\":false,\"kind\":null,\"name\":\"_destroyed\"}]},{\"extends\":null,\"module\":null,\"name\":\"TemplateActions1\",\"overrides\":[],\"properties\":[{\"default\":0,\"kind\":null,\"name\":\"open_modal\"},{\"default\":0,\"kind\":null,\"name\":\"close_modal\"}]},{\"extends\":null,\"module\":null,\"name\":\"MaterialTemplateActions1\",\"overrides\":[],\"properties\":[{\"default\":0,\"kind\":null,\"name\":\"open_modal\"},{\"default\":0,\"kind\":null,\"name\":\"close_modal\"}]}],\"roots\":{\"references\":[{\"attributes\":{\"coordinates\":null,\"group\":null,\"text_color\":\"black\",\"text_font_size\":\"12pt\"},\"id\":\"13833\",\"type\":\"Title\"},{\"attributes\":{},\"id\":\"13852\",\"type\":\"ResetTool\"},{\"attributes\":{},\"id\":\"13872\",\"type\":\"AllLabels\"},{\"attributes\":{},\"id\":\"13887\",\"type\":\"UnionRenderers\"},{\"attributes\":{\"axis_label\":\"cantidad_cursos (M)\",\"coordinates\":null,\"formatter\":{\"id\":\"13874\"},\"group\":null,\"major_label_policy\":{\"id\":\"13875\"},\"ticker\":{\"id\":\"13845\"}},\"id\":\"13844\",\"type\":\"LinearAxis\"},{\"attributes\":{\"axis_label\":\"rating\",\"coordinates\":null,\"formatter\":{\"id\":\"13871\"},\"group\":null,\"major_label_policy\":{\"id\":\"13872\"},\"ticker\":{\"id\":\"13842\"}},\"id\":\"13841\",\"type\":\"CategoricalAxis\"},{\"attributes\":{\"axis\":{\"id\":\"13844\"},\"coordinates\":null,\"dimension\":1,\"grid_line_color\":null,\"group\":null,\"ticker\":null},\"id\":\"13847\",\"type\":\"Grid\"},{\"attributes\":{\"bottom_units\":\"screen\",\"coordinates\":null,\"fill_alpha\":0.5,\"fill_color\":\"lightgrey\",\"group\":null,\"left_units\":\"screen\",\"level\":\"overlay\",\"line_alpha\":1.0,\"line_color\":\"black\",\"line_dash\":[4,4],\"line_width\":2,\"right_units\":\"screen\",\"syncable\":false,\"top_units\":\"screen\"},\"id\":\"13853\",\"type\":\"BoxAnnotation\"},{\"attributes\":{},\"id\":\"13845\",\"type\":\"BasicTicker\"},{\"attributes\":{\"axis\":{\"id\":\"13841\"},\"coordinates\":null,\"grid_line_color\":null,\"group\":null,\"ticker\":null},\"id\":\"13843\",\"type\":\"Grid\"},{\"attributes\":{\"bottom\":{\"value\":0},\"fill_alpha\":{\"value\":1.0},\"fill_color\":{\"value\":\"#30a2da\"},\"hatch_alpha\":{\"value\":1.0},\"hatch_color\":{\"value\":\"#30a2da\"},\"hatch_scale\":{\"value\":12.0},\"hatch_weight\":{\"value\":1.0},\"line_alpha\":{\"value\":1.0},\"line_cap\":{\"value\":\"butt\"},\"line_color\":{\"value\":\"black\"},\"line_dash\":{\"value\":[]},\"line_dash_offset\":{\"value\":0},\"line_join\":{\"value\":\"bevel\"},\"line_width\":{\"value\":1},\"top\":{\"field\":\"cantidad_cursos_left_parenthesis_M_right_parenthesis\"},\"width\":{\"value\":0.8},\"x\":{\"field\":\"rating\"}},\"id\":\"13869\",\"type\":\"VBar\"},{\"attributes\":{\"children\":[{\"id\":\"13827\"},{\"id\":\"13828\"}],\"margin\":[0,0,0,0],\"name\":\"Row12793\"},\"id\":\"13826\",\"type\":\"Row\"},{\"attributes\":{\"margin\":[0,0,0,0],\"name\":\"Column12789\"},\"id\":\"13827\",\"type\":\"Column\"},{\"attributes\":{},\"id\":\"13874\",\"type\":\"BasicTickFormatter\"},{\"attributes\":{\"below\":[{\"id\":\"13841\"}],\"center\":[{\"id\":\"13843\"},{\"id\":\"13847\"}],\"height\":300,\"left\":[{\"id\":\"13844\"}],\"margin\":[5,5,5,5],\"min_border_bottom\":10,\"min_border_left\":10,\"min_border_right\":10,\"min_border_top\":10,\"renderers\":[{\"id\":\"13867\"}],\"sizing_mode\":\"fixed\",\"title\":{\"id\":\"13833\"},\"toolbar\":{\"id\":\"13854\"},\"width\":700,\"x_range\":{\"id\":\"13829\"},\"x_scale\":{\"id\":\"13837\"},\"y_range\":{\"id\":\"13830\"},\"y_scale\":{\"id\":\"13839\"}},\"id\":\"13832\",\"subtype\":\"Figure\",\"type\":\"Plot\"},{\"attributes\":{\"end\":1259.0989,\"reset_end\":1259.0989,\"reset_start\":0.0,\"tags\":[[[\"cantidad_cursos (M)\",\"cantidad_cursos (M)\",null]]]},\"id\":\"13830\",\"type\":\"Range1d\"},{\"attributes\":{\"fill_alpha\":{\"value\":0.2},\"fill_color\":{\"value\":\"#30a2da\"},\"hatch_alpha\":{\"value\":0.2},\"hatch_color\":{\"value\":\"#30a2da\"},\"line_alpha\":{\"value\":0.2},\"top\":{\"field\":\"cantidad_cursos_left_parenthesis_M_right_parenthesis\"},\"width\":{\"value\":0.8},\"x\":{\"field\":\"rating\"}},\"id\":\"13866\",\"type\":\"VBar\"},{\"attributes\":{},\"id\":\"13875\",\"type\":\"AllLabels\"},{\"attributes\":{},\"id\":\"13839\",\"type\":\"LinearScale\"},{\"attributes\":{\"overlay\":{\"id\":\"13853\"}},\"id\":\"13851\",\"type\":\"BoxZoomTool\"},{\"attributes\":{},\"id\":\"13837\",\"type\":\"CategoricalScale\"},{\"attributes\":{},\"id\":\"13848\",\"type\":\"SaveTool\"},{\"attributes\":{},\"id\":\"13850\",\"type\":\"WheelZoomTool\"},{\"attributes\":{\"fill_color\":{\"value\":\"#30a2da\"},\"hatch_color\":{\"value\":\"#30a2da\"},\"top\":{\"field\":\"cantidad_cursos_left_parenthesis_M_right_parenthesis\"},\"width\":{\"value\":0.8},\"x\":{\"field\":\"rating\"}},\"id\":\"13864\",\"type\":\"VBar\"},{\"attributes\":{\"coordinates\":null,\"data_source\":{\"id\":\"13861\"},\"glyph\":{\"id\":\"13864\"},\"group\":null,\"hover_glyph\":null,\"muted_glyph\":{\"id\":\"13866\"},\"nonselection_glyph\":{\"id\":\"13865\"},\"selection_glyph\":{\"id\":\"13869\"},\"view\":{\"id\":\"13868\"}},\"id\":\"13867\",\"type\":\"GlyphRenderer\"},{\"attributes\":{\"active_drag\":{\"id\":\"13849\"},\"active_scroll\":{\"id\":\"13850\"},\"tools\":[{\"id\":\"13831\"},{\"id\":\"13848\"},{\"id\":\"13849\"},{\"id\":\"13850\"},{\"id\":\"13851\"},{\"id\":\"13852\"}]},\"id\":\"13854\",\"type\":\"Toolbar\"},{\"attributes\":{\"margin\":[5,5,5,5],\"name\":\"HSpacer12792\",\"sizing_mode\":\"stretch_width\"},\"id\":\"13828\",\"type\":\"Spacer\"},{\"attributes\":{\"children\":[{\"id\":\"13825\"}],\"margin\":[0,0,0,0],\"name\":\"Row12800\"},\"id\":\"13824\",\"type\":\"Row\"},{\"attributes\":{},\"id\":\"13849\",\"type\":\"PanTool\"},{\"attributes\":{},\"id\":\"13871\",\"type\":\"CategoricalTickFormatter\"},{\"attributes\":{\"data\":{\"cantidad_cursos_left_parenthesis_M_right_parenthesis\":{\"__ndarray__\":\"YOXQIttZMUDjpZvEIDAwQNnO91PjJUhAIbByaJFVbECwcmiRbeiRQA==\",\"dtype\":\"float64\",\"order\":\"little\",\"shape\":[5]},\"rating\":[\"1\",\"2\",\"3\",\"4\",\"5\"]},\"selected\":{\"id\":\"13862\"},\"selection_policy\":{\"id\":\"13887\"}},\"id\":\"13861\",\"type\":\"ColumnDataSource\"},{\"attributes\":{},\"id\":\"13842\",\"type\":\"CategoricalTicker\"},{\"attributes\":{\"client_comm_id\":\"9c10fe7901484982b812e9615125b607\",\"comm_id\":\"7677e6faf6394e8181ee509b878fd597\",\"plot_id\":\"13824\"},\"id\":\"13920\",\"type\":\"panel.models.comm_manager.CommManager\"},{\"attributes\":{},\"id\":\"13862\",\"type\":\"Selection\"},{\"attributes\":{\"factors\":[\"1\",\"2\",\"3\",\"4\",\"5\"],\"tags\":[[[\"rating\",\"rating\",null]]]},\"id\":\"13829\",\"type\":\"FactorRange\"},{\"attributes\":{\"children\":[{\"id\":\"13826\"},{\"id\":\"13832\"}],\"margin\":[0,0,0,0],\"name\":\"Column12799\"},\"id\":\"13825\",\"type\":\"Column\"},{\"attributes\":{\"source\":{\"id\":\"13861\"}},\"id\":\"13868\",\"type\":\"CDSView\"},{\"attributes\":{\"callback\":null,\"renderers\":[{\"id\":\"13867\"}],\"tags\":[\"hv_created\"],\"tooltips\":[[\"rating\",\"@{rating}\"],[\"cantidad_cursos (M)\",\"@{cantidad_cursos_left_parenthesis_M_right_parenthesis}\"]]},\"id\":\"13831\",\"type\":\"HoverTool\"},{\"attributes\":{\"fill_alpha\":{\"value\":0.1},\"fill_color\":{\"value\":\"#30a2da\"},\"hatch_alpha\":{\"value\":0.1},\"hatch_color\":{\"value\":\"#30a2da\"},\"line_alpha\":{\"value\":0.1},\"top\":{\"field\":\"cantidad_cursos_left_parenthesis_M_right_parenthesis\"},\"width\":{\"value\":0.8},\"x\":{\"field\":\"rating\"}},\"id\":\"13865\",\"type\":\"VBar\"}],\"root_ids\":[\"13824\",\"13920\"]},\"title\":\"Bokeh Application\",\"version\":\"2.4.3\"}};\n",
       "    var render_items = [{\"docid\":\"7ebb78d0-398c-4e5a-86ea-60f64f196ee4\",\"root_ids\":[\"13824\"],\"roots\":{\"13824\":\"46ba0203-fd55-44c4-b473-c911ac4a5735\"}}];\n",
       "    root.Bokeh.embed.embed_items_notebook(docs_json, render_items);\n",
       "    for (const render_item of render_items) {\n",
       "      for (const root_id of render_item.root_ids) {\n",
       "\tconst id_el = document.getElementById(root_id)\n",
       "\tif (id_el.children.length && (id_el.children[0].className === 'bk-root')) {\n",
       "\t  const root_el = id_el.children[0]\n",
       "\t  root_el.id = root_el.id + '-rendered'\n",
       "\t}\n",
       "      }\n",
       "    }\n",
       "  }\n",
       "  if (root.Bokeh !== undefined && root.Bokeh.Panel !== undefined && ( root['Tabulator'] !== undefined) && ( root['Tabulator'] !== undefined)) {\n",
       "    embed_document(root);\n",
       "  } else {\n",
       "    var attempts = 0;\n",
       "    var timer = setInterval(function(root) {\n",
       "      if (root.Bokeh !== undefined && root.Bokeh.Panel !== undefined && (root['Tabulator'] !== undefined) && (root['Tabulator'] !== undefined)) {\n",
       "        clearInterval(timer);\n",
       "        embed_document(root);\n",
       "      } else if (document.readyState == \"complete\") {\n",
       "        attempts++;\n",
       "        if (attempts > 200) {\n",
       "          clearInterval(timer);\n",
       "          console.log(\"Bokeh: ERROR: Unable to run BokehJS code because BokehJS library is missing\");\n",
       "        }\n",
       "      }\n",
       "    }, 25, root)\n",
       "  }\n",
       "})(window);</script>"
      ],
      "text/plain": [
       "<hvplot.interactive.Interactive at 0x1ccd9a24ac0>"
      ]
     },
     "execution_count": 207,
     "metadata": {
      "application/vnd.holoviews_exec.v0+json": {
       "id": "13824"
      }
     },
     "output_type": "execute_result"
    }
   ],
   "source": [
    "rating_plot = rating_pipeline.hvplot(kind='bar',x='rating',y='cantidad_cursos (M)')\n",
    "rating_plot"
   ]
  },
  {
   "cell_type": "code",
   "execution_count": null,
   "id": "462b83d1-a6b2-4f5f-be89-5630dd200964",
   "metadata": {},
   "outputs": [
    {
     "data": {
      "application/vnd.holoviews_exec.v0+json": "",
      "text/html": [
       "<div id='9077'>\n",
       "  <div class=\"bk-root\" id=\"4e7e84cd-562c-4607-a671-815e082d2351\" data-root-id=\"9077\"></div>\n",
       "</div>\n",
       "<script type=\"application/javascript\">(function(root) {\n",
       "  function embed_document(root) {\n",
       "    var docs_json = {\"272e0d1a-067a-474b-88f9-38751ae0aa5d\":{\"defs\":[{\"extends\":null,\"module\":null,\"name\":\"ReactiveHTML1\",\"overrides\":[],\"properties\":[]},{\"extends\":null,\"module\":null,\"name\":\"FlexBox1\",\"overrides\":[],\"properties\":[{\"default\":\"flex-start\",\"kind\":null,\"name\":\"align_content\"},{\"default\":\"flex-start\",\"kind\":null,\"name\":\"align_items\"},{\"default\":\"row\",\"kind\":null,\"name\":\"flex_direction\"},{\"default\":\"wrap\",\"kind\":null,\"name\":\"flex_wrap\"},{\"default\":\"flex-start\",\"kind\":null,\"name\":\"justify_content\"}]},{\"extends\":null,\"module\":null,\"name\":\"GridStack1\",\"overrides\":[],\"properties\":[{\"default\":\"warn\",\"kind\":null,\"name\":\"mode\"},{\"default\":null,\"kind\":null,\"name\":\"ncols\"},{\"default\":null,\"kind\":null,\"name\":\"nrows\"},{\"default\":true,\"kind\":null,\"name\":\"allow_resize\"},{\"default\":true,\"kind\":null,\"name\":\"allow_drag\"},{\"default\":[],\"kind\":null,\"name\":\"state\"}]},{\"extends\":null,\"module\":null,\"name\":\"click1\",\"overrides\":[],\"properties\":[{\"default\":\"\",\"kind\":null,\"name\":\"terminal_output\"},{\"default\":\"\",\"kind\":null,\"name\":\"debug_name\"},{\"default\":0,\"kind\":null,\"name\":\"clears\"}]},{\"extends\":null,\"module\":null,\"name\":\"NotificationAreaBase1\",\"overrides\":[],\"properties\":[{\"default\":\"bottom-right\",\"kind\":null,\"name\":\"position\"},{\"default\":0,\"kind\":null,\"name\":\"_clear\"}]},{\"extends\":null,\"module\":null,\"name\":\"NotificationArea1\",\"overrides\":[],\"properties\":[{\"default\":[],\"kind\":null,\"name\":\"notifications\"},{\"default\":\"bottom-right\",\"kind\":null,\"name\":\"position\"},{\"default\":0,\"kind\":null,\"name\":\"_clear\"},{\"default\":[{\"background\":\"#ffc107\",\"icon\":{\"className\":\"fas fa-exclamation-triangle\",\"color\":\"white\",\"tagName\":\"i\"},\"type\":\"warning\"},{\"background\":\"#007bff\",\"icon\":{\"className\":\"fas fa-info-circle\",\"color\":\"white\",\"tagName\":\"i\"},\"type\":\"info\"}],\"kind\":null,\"name\":\"types\"}]},{\"extends\":null,\"module\":null,\"name\":\"Notification\",\"overrides\":[],\"properties\":[{\"default\":null,\"kind\":null,\"name\":\"background\"},{\"default\":3000,\"kind\":null,\"name\":\"duration\"},{\"default\":null,\"kind\":null,\"name\":\"icon\"},{\"default\":\"\",\"kind\":null,\"name\":\"message\"},{\"default\":null,\"kind\":null,\"name\":\"notification_type\"},{\"default\":false,\"kind\":null,\"name\":\"_destroyed\"}]},{\"extends\":null,\"module\":null,\"name\":\"TemplateActions1\",\"overrides\":[],\"properties\":[{\"default\":0,\"kind\":null,\"name\":\"open_modal\"},{\"default\":0,\"kind\":null,\"name\":\"close_modal\"}]},{\"extends\":null,\"module\":null,\"name\":\"MaterialTemplateActions1\",\"overrides\":[],\"properties\":[{\"default\":0,\"kind\":null,\"name\":\"open_modal\"},{\"default\":0,\"kind\":null,\"name\":\"close_modal\"}]}],\"roots\":{\"references\":[{\"attributes\":{\"bottom_units\":\"screen\",\"coordinates\":null,\"fill_alpha\":0.5,\"fill_color\":\"lightgrey\",\"group\":null,\"left_units\":\"screen\",\"level\":\"overlay\",\"line_alpha\":1.0,\"line_color\":\"black\",\"line_dash\":[4,4],\"line_width\":2,\"right_units\":\"screen\",\"syncable\":false,\"top_units\":\"screen\"},\"id\":\"9103\",\"type\":\"BoxAnnotation\"},{\"attributes\":{\"source\":{\"id\":\"9111\"}},\"id\":\"9118\",\"type\":\"CDSView\"},{\"attributes\":{\"line_alpha\":0.1,\"line_color\":\"#30a2da\",\"line_width\":2,\"x\":{\"field\":\"course_id\"},\"y\":{\"field\":\"cantidad_cursos\"}},\"id\":\"9115\",\"type\":\"Line\"},{\"attributes\":{},\"id\":\"9087\",\"type\":\"CategoricalScale\"},{\"attributes\":{\"factors\":[\"oralcavity\"],\"tags\":[[[\"course_id\",\"course_id\",null]]]},\"id\":\"9079\",\"type\":\"FactorRange\"},{\"attributes\":{\"active_drag\":{\"id\":\"9099\"},\"active_scroll\":{\"id\":\"9100\"},\"tools\":[{\"id\":\"9081\"},{\"id\":\"9098\"},{\"id\":\"9099\"},{\"id\":\"9100\"},{\"id\":\"9101\"},{\"id\":\"9102\"}]},\"id\":\"9104\",\"type\":\"Toolbar\"},{\"attributes\":{\"data\":{\"cantidad_cursos\":{\"__ndarray__\":\"AwAAAA8AAAC6AAAA\",\"dtype\":\"uint32\",\"order\":\"little\",\"shape\":[3]},\"course_id\":[\"oralcavity\",\"oralcavity\",\"oralcavity\"]},\"selected\":{\"id\":\"9112\"},\"selection_policy\":{\"id\":\"9137\"}},\"id\":\"9111\",\"type\":\"ColumnDataSource\"},{\"attributes\":{\"margin\":[5,5,5,5],\"name\":\"HSpacer08776\",\"sizing_mode\":\"stretch_width\"},\"id\":\"9140\",\"type\":\"Spacer\"},{\"attributes\":{},\"id\":\"9137\",\"type\":\"UnionRenderers\"},{\"attributes\":{\"line_alpha\":0.2,\"line_color\":\"#30a2da\",\"line_width\":2,\"x\":{\"field\":\"course_id\"},\"y\":{\"field\":\"cantidad_cursos\"}},\"id\":\"9116\",\"type\":\"Line\"},{\"attributes\":{\"below\":[{\"id\":\"9091\"}],\"center\":[{\"id\":\"9093\"},{\"id\":\"9097\"}],\"height\":300,\"left\":[{\"id\":\"9094\"}],\"margin\":[5,5,5,5],\"min_border_bottom\":10,\"min_border_left\":10,\"min_border_right\":10,\"min_border_top\":10,\"renderers\":[{\"id\":\"9117\"}],\"sizing_mode\":\"fixed\",\"title\":{\"id\":\"9083\"},\"toolbar\":{\"id\":\"9104\"},\"width\":700,\"x_range\":{\"id\":\"9079\"},\"x_scale\":{\"id\":\"9087\"},\"y_range\":{\"id\":\"9080\"},\"y_scale\":{\"id\":\"9089\"}},\"id\":\"9082\",\"subtype\":\"Figure\",\"type\":\"Plot\"},{\"attributes\":{\"line_color\":\"#30a2da\",\"line_width\":2,\"x\":{\"field\":\"course_id\"},\"y\":{\"field\":\"cantidad_cursos\"}},\"id\":\"9119\",\"type\":\"Line\"},{\"attributes\":{\"coordinates\":null,\"data_source\":{\"id\":\"9111\"},\"glyph\":{\"id\":\"9114\"},\"group\":null,\"hover_glyph\":null,\"muted_glyph\":{\"id\":\"9116\"},\"nonselection_glyph\":{\"id\":\"9115\"},\"selection_glyph\":{\"id\":\"9119\"},\"view\":{\"id\":\"9118\"}},\"id\":\"9117\",\"type\":\"GlyphRenderer\"},{\"attributes\":{},\"id\":\"9089\",\"type\":\"LinearScale\"},{\"attributes\":{\"callback\":null,\"renderers\":[{\"id\":\"9117\"}],\"tags\":[\"hv_created\"],\"tooltips\":[[\"course_id\",\"@{course_id}\"],[\"cantidad_cursos\",\"@{cantidad_cursos}\"]]},\"id\":\"9081\",\"type\":\"HoverTool\"},{\"attributes\":{},\"id\":\"9112\",\"type\":\"Selection\"},{\"attributes\":{\"line_color\":\"#30a2da\",\"line_width\":2,\"x\":{\"field\":\"course_id\"},\"y\":{\"field\":\"cantidad_cursos\"}},\"id\":\"9114\",\"type\":\"Line\"},{\"attributes\":{},\"id\":\"9092\",\"type\":\"CategoricalTicker\"},{\"attributes\":{\"coordinates\":null,\"group\":null,\"text_color\":\"black\",\"text_font_size\":\"12pt\"},\"id\":\"9083\",\"type\":\"Title\"},{\"attributes\":{},\"id\":\"9124\",\"type\":\"BasicTickFormatter\"},{\"attributes\":{\"axis\":{\"id\":\"9091\"},\"coordinates\":null,\"grid_line_color\":null,\"group\":null,\"ticker\":null},\"id\":\"9093\",\"type\":\"Grid\"},{\"attributes\":{\"axis_label\":\"course_id\",\"coordinates\":null,\"formatter\":{\"id\":\"9121\"},\"group\":null,\"major_label_policy\":{\"id\":\"9122\"},\"ticker\":{\"id\":\"9092\"}},\"id\":\"9091\",\"type\":\"CategoricalAxis\"},{\"attributes\":{},\"id\":\"9121\",\"type\":\"CategoricalTickFormatter\"},{\"attributes\":{},\"id\":\"9099\",\"type\":\"PanTool\"},{\"attributes\":{\"axis_label\":\"cantidad_cursos\",\"coordinates\":null,\"formatter\":{\"id\":\"9124\"},\"group\":null,\"major_label_policy\":{\"id\":\"9125\"},\"ticker\":{\"id\":\"9095\"}},\"id\":\"9094\",\"type\":\"LinearAxis\"},{\"attributes\":{},\"id\":\"9122\",\"type\":\"AllLabels\"},{\"attributes\":{\"axis\":{\"id\":\"9094\"},\"coordinates\":null,\"dimension\":1,\"grid_line_color\":null,\"group\":null,\"ticker\":null},\"id\":\"9097\",\"type\":\"Grid\"},{\"attributes\":{},\"id\":\"9095\",\"type\":\"BasicTicker\"},{\"attributes\":{\"children\":[{\"id\":\"9078\"},{\"id\":\"9082\"},{\"id\":\"9140\"}],\"margin\":[0,0,0,0],\"name\":\"Row08771\",\"tags\":[\"embedded\"]},\"id\":\"9077\",\"type\":\"Row\"},{\"attributes\":{},\"id\":\"9100\",\"type\":\"WheelZoomTool\"},{\"attributes\":{},\"id\":\"9125\",\"type\":\"AllLabels\"},{\"attributes\":{\"margin\":[5,5,5,5],\"name\":\"HSpacer08775\",\"sizing_mode\":\"stretch_width\"},\"id\":\"9078\",\"type\":\"Spacer\"},{\"attributes\":{},\"id\":\"9098\",\"type\":\"SaveTool\"},{\"attributes\":{\"overlay\":{\"id\":\"9103\"}},\"id\":\"9101\",\"type\":\"BoxZoomTool\"},{\"attributes\":{\"end\":204.3,\"reset_end\":204.3,\"reset_start\":-15.3,\"start\":-15.3,\"tags\":[[[\"cantidad_cursos\",\"cantidad_cursos\",null]]]},\"id\":\"9080\",\"type\":\"Range1d\"},{\"attributes\":{},\"id\":\"9102\",\"type\":\"ResetTool\"}],\"root_ids\":[\"9077\"]},\"title\":\"Bokeh Application\",\"version\":\"2.4.3\"}};\n",
       "    var render_items = [{\"docid\":\"272e0d1a-067a-474b-88f9-38751ae0aa5d\",\"root_ids\":[\"9077\"],\"roots\":{\"9077\":\"4e7e84cd-562c-4607-a671-815e082d2351\"}}];\n",
       "    root.Bokeh.embed.embed_items_notebook(docs_json, render_items);\n",
       "    for (const render_item of render_items) {\n",
       "      for (const root_id of render_item.root_ids) {\n",
       "\tconst id_el = document.getElementById(root_id)\n",
       "\tif (id_el.children.length && (id_el.children[0].className === 'bk-root')) {\n",
       "\t  const root_el = id_el.children[0]\n",
       "\t  root_el.id = root_el.id + '-rendered'\n",
       "\t}\n",
       "      }\n",
       "    }\n",
       "  }\n",
       "  if (root.Bokeh !== undefined && root.Bokeh.Panel !== undefined && ( root['Tabulator'] !== undefined) && ( root['Tabulator'] !== undefined)) {\n",
       "    embed_document(root);\n",
       "  } else {\n",
       "    var attempts = 0;\n",
       "    var timer = setInterval(function(root) {\n",
       "      if (root.Bokeh !== undefined && root.Bokeh.Panel !== undefined && (root['Tabulator'] !== undefined) && (root['Tabulator'] !== undefined)) {\n",
       "        clearInterval(timer);\n",
       "        embed_document(root);\n",
       "      } else if (document.readyState == \"complete\") {\n",
       "        attempts++;\n",
       "        if (attempts > 200) {\n",
       "          clearInterval(timer);\n",
       "          console.log(\"Bokeh: ERROR: Unable to run BokehJS code because BokehJS library is missing\");\n",
       "        }\n",
       "      }\n",
       "    }, 25, root)\n",
       "  }\n",
       "})(window);</script>"
      ],
      "text/plain": [
       ":Curve   [course_id]   (cantidad_cursos)"
      ]
     },
     "execution_count": 177,
     "metadata": {
      "application/vnd.holoviews_exec.v0+json": {
       "id": "9077"
      }
     },
     "output_type": "execute_result"
    }
   ],
   "source": [
    "edx_group_rating.filter(pl.col('course_id')==\"oralcavity\").to_pandas().hvplot('course_id','cantidad_cursos')"
   ]
  },
  {
   "cell_type": "code",
   "execution_count": null,
   "id": "c3d4d189-a40a-4cfb-bcc1-a538c7f0c5a1",
   "metadata": {},
   "outputs": [],
   "source": []
  },
  {
   "cell_type": "code",
   "execution_count": null,
   "id": "e536ad14-db6a-4833-ad5e-1e04723c3a93",
   "metadata": {},
   "outputs": [],
   "source": []
  },
  {
   "cell_type": "markdown",
   "id": "017799a5-073e-4987-ac84-c5b255f8befb",
   "metadata": {},
   "source": [
    "## Tabs"
   ]
  },
  {
   "cell_type": "code",
   "execution_count": 200,
   "id": "a9bf70b7-b6f2-429d-b417-5f753b975ccc",
   "metadata": {},
   "outputs": [
    {
     "data": {},
     "metadata": {},
     "output_type": "display_data"
    },
    {
     "data": {},
     "metadata": {},
     "output_type": "display_data"
    },
    {
     "data": {
      "application/vnd.holoviews_exec.v0+json": "",
      "text/html": [
       "<div id='13971'>\n",
       "  <div class=\"bk-root\" id=\"a6eba930-c569-4fda-896b-97ec0186c122\" data-root-id=\"13971\"></div>\n",
       "</div>\n",
       "<script type=\"application/javascript\">(function(root) {\n",
       "  function embed_document(root) {\n",
       "    var docs_json = {\"bfe49268-c118-4526-817f-21ce3d42abbf\":{\"defs\":[{\"extends\":null,\"module\":null,\"name\":\"ReactiveHTML1\",\"overrides\":[],\"properties\":[]},{\"extends\":null,\"module\":null,\"name\":\"FlexBox1\",\"overrides\":[],\"properties\":[{\"default\":\"flex-start\",\"kind\":null,\"name\":\"align_content\"},{\"default\":\"flex-start\",\"kind\":null,\"name\":\"align_items\"},{\"default\":\"row\",\"kind\":null,\"name\":\"flex_direction\"},{\"default\":\"wrap\",\"kind\":null,\"name\":\"flex_wrap\"},{\"default\":\"flex-start\",\"kind\":null,\"name\":\"justify_content\"}]},{\"extends\":null,\"module\":null,\"name\":\"GridStack1\",\"overrides\":[],\"properties\":[{\"default\":\"warn\",\"kind\":null,\"name\":\"mode\"},{\"default\":null,\"kind\":null,\"name\":\"ncols\"},{\"default\":null,\"kind\":null,\"name\":\"nrows\"},{\"default\":true,\"kind\":null,\"name\":\"allow_resize\"},{\"default\":true,\"kind\":null,\"name\":\"allow_drag\"},{\"default\":[],\"kind\":null,\"name\":\"state\"}]},{\"extends\":null,\"module\":null,\"name\":\"click1\",\"overrides\":[],\"properties\":[{\"default\":\"\",\"kind\":null,\"name\":\"terminal_output\"},{\"default\":\"\",\"kind\":null,\"name\":\"debug_name\"},{\"default\":0,\"kind\":null,\"name\":\"clears\"}]},{\"extends\":null,\"module\":null,\"name\":\"NotificationAreaBase1\",\"overrides\":[],\"properties\":[{\"default\":\"bottom-right\",\"kind\":null,\"name\":\"position\"},{\"default\":0,\"kind\":null,\"name\":\"_clear\"}]},{\"extends\":null,\"module\":null,\"name\":\"NotificationArea1\",\"overrides\":[],\"properties\":[{\"default\":[],\"kind\":null,\"name\":\"notifications\"},{\"default\":\"bottom-right\",\"kind\":null,\"name\":\"position\"},{\"default\":0,\"kind\":null,\"name\":\"_clear\"},{\"default\":[{\"background\":\"#ffc107\",\"icon\":{\"className\":\"fas fa-exclamation-triangle\",\"color\":\"white\",\"tagName\":\"i\"},\"type\":\"warning\"},{\"background\":\"#007bff\",\"icon\":{\"className\":\"fas fa-info-circle\",\"color\":\"white\",\"tagName\":\"i\"},\"type\":\"info\"}],\"kind\":null,\"name\":\"types\"}]},{\"extends\":null,\"module\":null,\"name\":\"Notification\",\"overrides\":[],\"properties\":[{\"default\":null,\"kind\":null,\"name\":\"background\"},{\"default\":3000,\"kind\":null,\"name\":\"duration\"},{\"default\":null,\"kind\":null,\"name\":\"icon\"},{\"default\":\"\",\"kind\":null,\"name\":\"message\"},{\"default\":null,\"kind\":null,\"name\":\"notification_type\"},{\"default\":false,\"kind\":null,\"name\":\"_destroyed\"}]},{\"extends\":null,\"module\":null,\"name\":\"TemplateActions1\",\"overrides\":[],\"properties\":[{\"default\":0,\"kind\":null,\"name\":\"open_modal\"},{\"default\":0,\"kind\":null,\"name\":\"close_modal\"}]},{\"extends\":null,\"module\":null,\"name\":\"MaterialTemplateActions1\",\"overrides\":[],\"properties\":[{\"default\":0,\"kind\":null,\"name\":\"open_modal\"},{\"default\":0,\"kind\":null,\"name\":\"close_modal\"}]}],\"roots\":{\"references\":[{\"attributes\":{},\"id\":\"14092\",\"type\":\"AllLabels\"},{\"attributes\":{},\"id\":\"14095\",\"type\":\"AllLabels\"},{\"attributes\":{\"coordinates\":null,\"data_source\":{\"id\":\"14217\"},\"glyph\":{\"id\":\"14220\"},\"group\":null,\"hover_glyph\":null,\"muted_glyph\":{\"id\":\"14222\"},\"nonselection_glyph\":{\"id\":\"14221\"},\"selection_glyph\":{\"id\":\"14225\"},\"view\":{\"id\":\"14224\"}},\"id\":\"14223\",\"type\":\"GlyphRenderer\"},{\"attributes\":{\"end\":1326.1,\"reset_end\":1326.1,\"reset_start\":-115.10000000000001,\"start\":-115.10000000000001,\"tags\":[[[\"cantidad_cursos\",\"cantidad_cursos\",null]]]},\"id\":\"13980\",\"type\":\"Range1d\"},{\"attributes\":{\"axis\":{\"id\":\"14200\"},\"coordinates\":null,\"dimension\":1,\"grid_line_color\":null,\"group\":null,\"ticker\":null},\"id\":\"14203\",\"type\":\"Grid\"},{\"attributes\":{},\"id\":\"14175\",\"type\":\"UnionRenderers\"},{\"attributes\":{\"factors\":[\"1\",\"2\",\"3\",\"4\",\"5\"],\"tags\":[[[\"rating\",\"rating\",null]]]},\"id\":\"14253\",\"type\":\"FactorRange\"},{\"attributes\":{\"callback\":null,\"renderers\":[{\"id\":\"14018\"}],\"tags\":[\"hv_created\"],\"tooltips\":[[\"year\",\"@{year}\"],[\"cantidad_cursos\",\"@{cantidad_cursos}\"]]},\"id\":\"13981\",\"type\":\"HoverTool\"},{\"attributes\":{\"line_color\":\"#30a2da\",\"line_width\":2,\"x\":{\"field\":\"nivel_complejidad\"},\"y\":{\"field\":\"cantidad_cursos\"}},\"id\":\"14152\",\"type\":\"Line\"},{\"attributes\":{\"active_drag\":{\"id\":\"14273\"},\"active_scroll\":{\"id\":\"14274\"},\"tools\":[{\"id\":\"14255\"},{\"id\":\"14272\"},{\"id\":\"14273\"},{\"id\":\"14274\"},{\"id\":\"14275\"},{\"id\":\"14276\"}]},\"id\":\"14278\",\"type\":\"Toolbar\"},{\"attributes\":{\"active_drag\":{\"id\":\"14069\"},\"active_scroll\":{\"id\":\"14070\"},\"tools\":[{\"id\":\"14050\"},{\"id\":\"14068\"},{\"id\":\"14069\"},{\"id\":\"14070\"},{\"id\":\"14071\"},{\"id\":\"14072\"}]},\"id\":\"14074\",\"type\":\"Toolbar\"},{\"attributes\":{},\"id\":\"14286\",\"type\":\"Selection\"},{\"attributes\":{\"coordinates\":null,\"data_source\":{\"id\":\"14285\"},\"glyph\":{\"id\":\"14288\"},\"group\":null,\"hover_glyph\":null,\"muted_glyph\":{\"id\":\"14290\"},\"nonselection_glyph\":{\"id\":\"14289\"},\"selection_glyph\":{\"id\":\"14293\"},\"view\":{\"id\":\"14292\"}},\"id\":\"14291\",\"type\":\"GlyphRenderer\"},{\"attributes\":{\"source\":{\"id\":\"14285\"}},\"id\":\"14292\",\"type\":\"CDSView\"},{\"attributes\":{},\"id\":\"14038\",\"type\":\"UnionRenderers\"},{\"attributes\":{},\"id\":\"14311\",\"type\":\"UnionRenderers\"},{\"attributes\":{\"factors\":[\"All Levels\",\"Beginner Level\",\"Intermediate Level\",\"Expert Level\"],\"tags\":[[[\"nivel_complejidad\",\"nivel_complejidad\",null]]]},\"id\":\"14117\",\"type\":\"FactorRange\"},{\"attributes\":{\"active_drag\":{\"id\":\"14000\"},\"active_scroll\":{\"id\":\"14001\"},\"tools\":[{\"id\":\"13981\"},{\"id\":\"13999\"},{\"id\":\"14000\"},{\"id\":\"14001\"},{\"id\":\"14002\"},{\"id\":\"14003\"}]},\"id\":\"14005\",\"type\":\"Toolbar\"},{\"attributes\":{},\"id\":\"14107\",\"type\":\"UnionRenderers\"},{\"attributes\":{\"child\":{\"id\":\"14179\"},\"name\":\"Column12993\",\"title\":\"Ventas x Idioma\"},\"id\":\"14246\",\"type\":\"Panel\"},{\"attributes\":{\"active_drag\":{\"id\":\"14205\"},\"active_scroll\":{\"id\":\"14206\"},\"tools\":[{\"id\":\"14187\"},{\"id\":\"14204\"},{\"id\":\"14205\"},{\"id\":\"14206\"},{\"id\":\"14207\"},{\"id\":\"14208\"}]},\"id\":\"14210\",\"type\":\"Toolbar\"},{\"attributes\":{},\"id\":\"14022\",\"type\":\"BasicTickFormatter\"},{\"attributes\":{\"below\":[{\"id\":\"14129\"}],\"center\":[{\"id\":\"14131\"},{\"id\":\"14135\"}],\"height\":300,\"left\":[{\"id\":\"14132\"}],\"margin\":[5,5,5,5],\"min_border_bottom\":10,\"min_border_left\":10,\"min_border_right\":10,\"min_border_top\":10,\"renderers\":[{\"id\":\"14155\"}],\"sizing_mode\":\"fixed\",\"title\":{\"id\":\"14121\"},\"toolbar\":{\"id\":\"14142\"},\"width\":700,\"x_range\":{\"id\":\"14117\"},\"x_scale\":{\"id\":\"14125\"},\"y_range\":{\"id\":\"14118\"},\"y_scale\":{\"id\":\"14127\"}},\"id\":\"14120\",\"subtype\":\"Figure\",\"type\":\"Plot\"},{\"attributes\":{\"line_alpha\":0.2,\"line_color\":\"#30a2da\",\"line_width\":2,\"x\":{\"field\":\"year\"},\"y\":{\"field\":\"cantidad_cursos\"}},\"id\":\"14017\",\"type\":\"Line\"},{\"attributes\":{\"client_comm_id\":\"b10d44f70cad4317b658a843d525b15d\",\"comm_id\":\"d66e25f19fcc432b94472b286d27fe58\",\"plot_id\":\"13971\"},\"id\":\"14465\",\"type\":\"panel.models.comm_manager.CommManager\"},{\"attributes\":{\"line_color\":\"#30a2da\",\"line_width\":2,\"x\":{\"field\":\"year\"},\"y\":{\"field\":\"cantidad_cursos\"}},\"id\":\"14020\",\"type\":\"Line\"},{\"attributes\":{\"coordinates\":null,\"data_source\":{\"id\":\"14012\"},\"glyph\":{\"id\":\"14015\"},\"group\":null,\"hover_glyph\":null,\"muted_glyph\":{\"id\":\"14017\"},\"nonselection_glyph\":{\"id\":\"14016\"},\"selection_glyph\":{\"id\":\"14020\"},\"view\":{\"id\":\"14019\"}},\"id\":\"14018\",\"type\":\"GlyphRenderer\"},{\"attributes\":{\"below\":[{\"id\":\"14060\"}],\"center\":[{\"id\":\"14063\"},{\"id\":\"14067\"}],\"height\":300,\"left\":[{\"id\":\"14064\"}],\"margin\":[5,5,5,5],\"min_border_bottom\":10,\"min_border_left\":10,\"min_border_right\":10,\"min_border_top\":10,\"renderers\":[{\"id\":\"14087\"}],\"sizing_mode\":\"fixed\",\"title\":{\"id\":\"14052\"},\"toolbar\":{\"id\":\"14074\"},\"width\":700,\"x_range\":{\"id\":\"14048\"},\"x_scale\":{\"id\":\"14056\"},\"y_range\":{\"id\":\"14049\"},\"y_scale\":{\"id\":\"14058\"}},\"id\":\"14051\",\"subtype\":\"Figure\",\"type\":\"Plot\"},{\"attributes\":{\"end\":1259.0989,\"reset_end\":1259.0989,\"reset_start\":0.0,\"tags\":[[[\"cantidad_cursos (M)\",\"cantidad_cursos (M)\",null]]]},\"id\":\"14254\",\"type\":\"Range1d\"},{\"attributes\":{\"factors\":[\"Fran\\u00e7ais\",\"Italiano\",\"English\",\"\\u65e5\\u672c\\u8a9e\",\"Deutsch\",\"\\u0627\\u0644\\u0644\\u063a\\u0629 \\u0627\\u0644\\u0639\\u0631\\u0628\\u064a\\u0629\",\"Espa\\u00f1ol\",\"Portugu\\u00eas\",\"\\u4e2d\\u6587\"],\"tags\":[[[\"language\",\"language\",null]]]},\"id\":\"14185\",\"type\":\"FactorRange\"},{\"attributes\":{\"child\":{\"id\":\"13972\"},\"name\":\"Column12948\",\"title\":\"Ventas\"},\"id\":\"14041\",\"type\":\"Panel\"},{\"attributes\":{\"active_drag\":{\"id\":\"14137\"},\"active_scroll\":{\"id\":\"14138\"},\"tools\":[{\"id\":\"14119\"},{\"id\":\"14136\"},{\"id\":\"14137\"},{\"id\":\"14138\"},{\"id\":\"14139\"},{\"id\":\"14140\"}]},\"id\":\"14142\",\"type\":\"Toolbar\"},{\"attributes\":{\"children\":[{\"id\":\"13977\"},{\"id\":\"13978\"}],\"margin\":[0,0,0,0],\"name\":\"Row12940\"},\"id\":\"13976\",\"type\":\"Row\"},{\"attributes\":{},\"id\":\"14261\",\"type\":\"CategoricalScale\"},{\"attributes\":{\"below\":[{\"id\":\"14197\"}],\"center\":[{\"id\":\"14199\"},{\"id\":\"14203\"}],\"height\":300,\"left\":[{\"id\":\"14200\"}],\"margin\":[5,5,5,5],\"min_border_bottom\":10,\"min_border_left\":10,\"min_border_right\":10,\"min_border_top\":10,\"renderers\":[{\"id\":\"14223\"}],\"sizing_mode\":\"fixed\",\"title\":{\"id\":\"14189\"},\"toolbar\":{\"id\":\"14210\"},\"width\":700,\"x_range\":{\"id\":\"14185\"},\"x_scale\":{\"id\":\"14193\"},\"y_range\":{\"id\":\"14186\"},\"y_scale\":{\"id\":\"14195\"}},\"id\":\"14188\",\"subtype\":\"Figure\",\"type\":\"Plot\"},{\"attributes\":{},\"id\":\"14159\",\"type\":\"CategoricalTickFormatter\"},{\"attributes\":{\"children\":[{\"id\":\"13975\"}],\"margin\":[5,5,5,5],\"name\":\"Row12947\"},\"id\":\"13974\",\"type\":\"Row\"},{\"attributes\":{\"end\":912.9,\"reset_end\":912.9,\"reset_start\":-81.9,\"start\":-81.9,\"tags\":[[[\"cantidad_cursos\",\"cantidad_cursos\",null]]]},\"id\":\"14049\",\"type\":\"Range1d\"},{\"attributes\":{\"line_alpha\":0.2,\"line_color\":\"#30a2da\",\"line_width\":2,\"x\":{\"field\":\"nivel_complejidad\"},\"y\":{\"field\":\"cantidad_cursos\"}},\"id\":\"14154\",\"type\":\"Line\"},{\"attributes\":{\"children\":[{\"id\":\"13976\"},{\"id\":\"13982\"}],\"margin\":[0,0,0,0],\"name\":\"Column12946\"},\"id\":\"13975\",\"type\":\"Column\"},{\"attributes\":{\"margin\":[0,0,0,0],\"name\":\"Column12936\"},\"id\":\"13977\",\"type\":\"Column\"},{\"attributes\":{\"line_color\":\"#30a2da\",\"line_width\":2,\"x\":{\"field\":\"nivel_complejidad\"},\"y\":{\"field\":\"cantidad_cursos\"}},\"id\":\"14157\",\"type\":\"Line\"},{\"attributes\":{},\"id\":\"14204\",\"type\":\"SaveTool\"},{\"attributes\":{\"coordinates\":null,\"data_source\":{\"id\":\"14149\"},\"glyph\":{\"id\":\"14152\"},\"group\":null,\"hover_glyph\":null,\"muted_glyph\":{\"id\":\"14154\"},\"nonselection_glyph\":{\"id\":\"14153\"},\"selection_glyph\":{\"id\":\"14157\"},\"view\":{\"id\":\"14156\"}},\"id\":\"14155\",\"type\":\"GlyphRenderer\"},{\"attributes\":{\"margin\":[5,5,5,5],\"name\":\"HSpacer12939\",\"sizing_mode\":\"stretch_width\"},\"id\":\"13978\",\"type\":\"Spacer\"},{\"attributes\":{\"end\":2107.4,\"reset_end\":2107.4,\"reset_start\":-33.400000000000006,\"start\":-33.400000000000006,\"tags\":[[[\"cantidad_cursos\",\"cantidad_cursos\",null]]]},\"id\":\"14118\",\"type\":\"Range1d\"},{\"attributes\":{},\"id\":\"14201\",\"type\":\"BasicTicker\"},{\"attributes\":{\"callback\":null,\"renderers\":[{\"id\":\"14291\"}],\"tags\":[\"hv_created\"],\"tooltips\":[[\"rating\",\"@{rating}\"],[\"cantidad_cursos (M)\",\"@{cantidad_cursos_left_parenthesis_M_right_parenthesis}\"]]},\"id\":\"14255\",\"type\":\"HoverTool\"},{\"attributes\":{},\"id\":\"14205\",\"type\":\"PanTool\"},{\"attributes\":{},\"id\":\"14263\",\"type\":\"LinearScale\"},{\"attributes\":{\"children\":[{\"id\":\"14251\"},{\"id\":\"14252\"}],\"margin\":[0,0,0,0],\"name\":\"Row13000\"},\"id\":\"14250\",\"type\":\"Row\"},{\"attributes\":{\"children\":[{\"id\":\"14250\"},{\"id\":\"14256\"}],\"margin\":[0,0,0,0],\"name\":\"Column13006\"},\"id\":\"14249\",\"type\":\"Column\"},{\"attributes\":{\"child\":{\"id\":\"14247\"},\"name\":\"Column13008\",\"title\":\"Ventas x Rating\"},\"id\":\"14314\",\"type\":\"Panel\"},{\"attributes\":{\"margin\":[0,0,0,0],\"name\":\"Column12996\"},\"id\":\"14251\",\"type\":\"Column\"},{\"attributes\":{\"margin\":[0,0,0,0],\"tabs\":[{\"id\":\"14041\"},{\"id\":\"14110\"},{\"id\":\"14178\"},{\"id\":\"14246\"},{\"id\":\"14314\"}]},\"id\":\"13971\",\"type\":\"panel.models.tabs.Tabs\"},{\"attributes\":{\"below\":[{\"id\":\"13991\"}],\"center\":[{\"id\":\"13994\"},{\"id\":\"13998\"}],\"height\":300,\"left\":[{\"id\":\"13995\"}],\"margin\":[5,5,5,5],\"min_border_bottom\":10,\"min_border_left\":10,\"min_border_right\":10,\"min_border_top\":10,\"renderers\":[{\"id\":\"14018\"}],\"sizing_mode\":\"fixed\",\"title\":{\"id\":\"13983\"},\"toolbar\":{\"id\":\"14005\"},\"width\":700,\"x_range\":{\"id\":\"13979\"},\"x_scale\":{\"id\":\"13987\"},\"y_range\":{\"id\":\"13980\"},\"y_scale\":{\"id\":\"13989\"}},\"id\":\"13982\",\"subtype\":\"Figure\",\"type\":\"Plot\"},{\"attributes\":{},\"id\":\"14231\",\"type\":\"AllLabels\"},{\"attributes\":{\"end\":854.6,\"reset_end\":854.6,\"reset_start\":-76.60000000000001,\"start\":-76.60000000000001,\"tags\":[[[\"cantidad_cursos\",\"cantidad_cursos\",null]]]},\"id\":\"14186\",\"type\":\"Range1d\"},{\"attributes\":{},\"id\":\"14206\",\"type\":\"WheelZoomTool\"},{\"attributes\":{\"data\":{\"cantidad_cursos_left_parenthesis_M_right_parenthesis\":{\"__ndarray__\":\"YOXQIttZMUDjpZvEIDAwQNnO91PjJUhAIbByaJFVbECwcmiRbeiRQA==\",\"dtype\":\"float64\",\"order\":\"little\",\"shape\":[5]},\"rating\":[\"1\",\"2\",\"3\",\"4\",\"5\"]},\"selected\":{\"id\":\"14286\"},\"selection_policy\":{\"id\":\"14311\"}},\"id\":\"14285\",\"type\":\"ColumnDataSource\"},{\"attributes\":{\"bottom_units\":\"screen\",\"coordinates\":null,\"fill_alpha\":0.5,\"fill_color\":\"lightgrey\",\"group\":null,\"left_units\":\"screen\",\"level\":\"overlay\",\"line_alpha\":1.0,\"line_color\":\"black\",\"line_dash\":[4,4],\"line_width\":2,\"right_units\":\"screen\",\"syncable\":false,\"top_units\":\"screen\"},\"id\":\"14209\",\"type\":\"BoxAnnotation\"},{\"attributes\":{\"below\":[{\"id\":\"14265\"}],\"center\":[{\"id\":\"14267\"},{\"id\":\"14271\"}],\"height\":300,\"left\":[{\"id\":\"14268\"}],\"margin\":[5,5,5,5],\"min_border_bottom\":10,\"min_border_left\":10,\"min_border_right\":10,\"min_border_top\":10,\"renderers\":[{\"id\":\"14291\"}],\"sizing_mode\":\"fixed\",\"title\":{\"id\":\"14257\"},\"toolbar\":{\"id\":\"14278\"},\"width\":700,\"x_range\":{\"id\":\"14253\"},\"x_scale\":{\"id\":\"14261\"},\"y_range\":{\"id\":\"14254\"},\"y_scale\":{\"id\":\"14263\"}},\"id\":\"14256\",\"subtype\":\"Figure\",\"type\":\"Plot\"},{\"attributes\":{},\"id\":\"13987\",\"type\":\"LinearScale\"},{\"attributes\":{\"end\":2017.0,\"reset_end\":2017.0,\"reset_start\":2011.0,\"start\":2011.0,\"tags\":[[[\"year\",\"year\",null]]]},\"id\":\"13979\",\"type\":\"Range1d\"},{\"attributes\":{\"coordinates\":null,\"group\":null,\"text_color\":\"black\",\"text_font_size\":\"12pt\"},\"id\":\"14257\",\"type\":\"Title\"},{\"attributes\":{\"axis_label\":\"rating\",\"coordinates\":null,\"formatter\":{\"id\":\"14295\"},\"group\":null,\"major_label_policy\":{\"id\":\"14296\"},\"ticker\":{\"id\":\"14266\"}},\"id\":\"14265\",\"type\":\"CategoricalAxis\"},{\"attributes\":{\"callback\":null,\"renderers\":[{\"id\":\"14087\"}],\"tags\":[\"hv_created\"],\"tooltips\":[[\"price\",\"@{price}\"],[\"cantidad_cursos\",\"@{cantidad_cursos}\"]]},\"id\":\"14050\",\"type\":\"HoverTool\"},{\"attributes\":{},\"id\":\"14266\",\"type\":\"CategoricalTicker\"},{\"attributes\":{\"children\":[{\"id\":\"14114\"},{\"id\":\"14120\"}],\"margin\":[0,0,0,0],\"name\":\"Column12976\"},\"id\":\"14113\",\"type\":\"Column\"},{\"attributes\":{\"axis\":{\"id\":\"14265\"},\"coordinates\":null,\"grid_line_color\":null,\"group\":null,\"ticker\":null},\"id\":\"14267\",\"type\":\"Grid\"},{\"attributes\":{},\"id\":\"14228\",\"type\":\"AllLabels\"},{\"attributes\":{\"fill_color\":{\"value\":\"#30a2da\"},\"hatch_color\":{\"value\":\"#30a2da\"},\"top\":{\"field\":\"cantidad_cursos_left_parenthesis_M_right_parenthesis\"},\"width\":{\"value\":0.8},\"x\":{\"field\":\"rating\"}},\"id\":\"14288\",\"type\":\"VBar\"},{\"attributes\":{},\"id\":\"13989\",\"type\":\"LinearScale\"},{\"attributes\":{\"child\":{\"id\":\"14111\"},\"name\":\"Column12978\",\"title\":\"Ventas x Nivel\"},\"id\":\"14178\",\"type\":\"Panel\"},{\"attributes\":{},\"id\":\"14273\",\"type\":\"PanTool\"},{\"attributes\":{\"children\":[{\"id\":\"14113\"}],\"margin\":[5,5,5,5],\"name\":\"Row12977\"},\"id\":\"14112\",\"type\":\"Row\"},{\"attributes\":{\"children\":[{\"id\":\"14045\"},{\"id\":\"14051\"}],\"margin\":[0,0,0,0],\"name\":\"Column12961\"},\"id\":\"14044\",\"type\":\"Column\"},{\"attributes\":{\"axis_label\":\"cantidad_cursos (M)\",\"coordinates\":null,\"formatter\":{\"id\":\"14298\"},\"group\":null,\"major_label_policy\":{\"id\":\"14299\"},\"ticker\":{\"id\":\"14269\"}},\"id\":\"14268\",\"type\":\"LinearAxis\"},{\"attributes\":{\"children\":[{\"id\":\"14046\"},{\"id\":\"14047\"}],\"margin\":[0,0,0,0],\"name\":\"Row12955\"},\"id\":\"14045\",\"type\":\"Row\"},{\"attributes\":{\"callback\":null,\"renderers\":[{\"id\":\"14155\"}],\"tags\":[\"hv_created\"],\"tooltips\":[[\"nivel_complejidad\",\"@{nivel_complejidad}\"],[\"cantidad_cursos\",\"@{cantidad_cursos}\"]]},\"id\":\"14119\",\"type\":\"HoverTool\"},{\"attributes\":{},\"id\":\"14056\",\"type\":\"LinearScale\"},{\"attributes\":{\"child\":{\"id\":\"14042\"},\"name\":\"Column12963\",\"title\":\"Ventas x Precio\"},\"id\":\"14110\",\"type\":\"Panel\"},{\"attributes\":{\"children\":[{\"id\":\"14180\"}],\"margin\":[0,0,0,0],\"name\":\"Column12993\"},\"id\":\"14179\",\"type\":\"Column\"},{\"attributes\":{},\"id\":\"14125\",\"type\":\"CategoricalScale\"},{\"attributes\":{\"axis\":{\"id\":\"14268\"},\"coordinates\":null,\"dimension\":1,\"grid_line_color\":null,\"group\":null,\"ticker\":null},\"id\":\"14271\",\"type\":\"Grid\"},{\"attributes\":{},\"id\":\"14269\",\"type\":\"BasicTicker\"},{\"attributes\":{\"end\":450.0,\"reset_end\":450.0,\"reset_start\":5.0,\"start\":5.0,\"tags\":[[[\"price\",\"price\",null]]]},\"id\":\"14048\",\"type\":\"Range1d\"},{\"attributes\":{\"margin\":[0,0,0,0],\"name\":\"Column12966\"},\"id\":\"14115\",\"type\":\"Column\"},{\"attributes\":{\"children\":[{\"id\":\"14044\"}],\"margin\":[5,5,5,5],\"name\":\"Row12962\"},\"id\":\"14043\",\"type\":\"Row\"},{\"attributes\":{},\"id\":\"14274\",\"type\":\"WheelZoomTool\"},{\"attributes\":{},\"id\":\"14130\",\"type\":\"CategoricalTicker\"},{\"attributes\":{\"children\":[{\"id\":\"14112\"}],\"margin\":[0,0,0,0],\"name\":\"Column12978\"},\"id\":\"14111\",\"type\":\"Column\"},{\"attributes\":{\"children\":[{\"id\":\"14182\"},{\"id\":\"14188\"}],\"margin\":[0,0,0,0],\"name\":\"Column12991\"},\"id\":\"14181\",\"type\":\"Column\"},{\"attributes\":{\"margin\":[5,5,5,5],\"name\":\"HSpacer12969\",\"sizing_mode\":\"stretch_width\"},\"id\":\"14116\",\"type\":\"Spacer\"},{\"attributes\":{},\"id\":\"13992\",\"type\":\"BasicTicker\"},{\"attributes\":{},\"id\":\"14272\",\"type\":\"SaveTool\"},{\"attributes\":{\"axis_label\":\"year\",\"coordinates\":null,\"formatter\":{\"id\":\"14022\"},\"group\":null,\"major_label_policy\":{\"id\":\"14023\"},\"ticker\":{\"id\":\"13992\"}},\"id\":\"13991\",\"type\":\"LinearAxis\"},{\"attributes\":{\"margin\":[0,0,0,0],\"name\":\"Column12951\"},\"id\":\"14046\",\"type\":\"Column\"},{\"attributes\":{},\"id\":\"14127\",\"type\":\"LinearScale\"},{\"attributes\":{\"overlay\":{\"id\":\"14277\"}},\"id\":\"14275\",\"type\":\"BoxZoomTool\"},{\"attributes\":{\"coordinates\":null,\"group\":null,\"text_color\":\"black\",\"text_font_size\":\"12pt\"},\"id\":\"13983\",\"type\":\"Title\"},{\"attributes\":{\"children\":[{\"id\":\"14181\"}],\"margin\":[5,5,5,5],\"name\":\"Row12992\"},\"id\":\"14180\",\"type\":\"Row\"},{\"attributes\":{\"margin\":[5,5,5,5],\"name\":\"HSpacer12954\",\"sizing_mode\":\"stretch_width\"},\"id\":\"14047\",\"type\":\"Spacer\"},{\"attributes\":{\"axis\":{\"id\":\"13991\"},\"coordinates\":null,\"grid_line_color\":null,\"group\":null,\"ticker\":null},\"id\":\"13994\",\"type\":\"Grid\"},{\"attributes\":{},\"id\":\"14058\",\"type\":\"LinearScale\"},{\"attributes\":{\"data\":{\"cantidad_cursos\":{\"__ndarray__\":\"iQcAAGMHAACwAgAAkQAAAA==\",\"dtype\":\"uint32\",\"order\":\"little\",\"shape\":[4]},\"nivel_complejidad\":[\"All Levels\",\"Beginner Level\",\"Intermediate Level\",\"Expert Level\"]},\"selected\":{\"id\":\"14150\"},\"selection_policy\":{\"id\":\"14175\"}},\"id\":\"14149\",\"type\":\"ColumnDataSource\"},{\"attributes\":{},\"id\":\"14276\",\"type\":\"ResetTool\"},{\"attributes\":{\"children\":[{\"id\":\"14249\"}],\"margin\":[5,5,5,5],\"name\":\"Row13007\"},\"id\":\"14248\",\"type\":\"Row\"},{\"attributes\":{\"axis\":{\"id\":\"14129\"},\"coordinates\":null,\"grid_line_color\":null,\"group\":null,\"ticker\":null},\"id\":\"14131\",\"type\":\"Grid\"},{\"attributes\":{\"callback\":null,\"renderers\":[{\"id\":\"14223\"}],\"tags\":[\"hv_created\"],\"tooltips\":[[\"language\",\"@{language}\"],[\"cantidad_cursos\",\"@{cantidad_cursos}\"]]},\"id\":\"14187\",\"type\":\"HoverTool\"},{\"attributes\":{},\"id\":\"14193\",\"type\":\"CategoricalScale\"},{\"attributes\":{\"margin\":[0,0,0,0],\"name\":\"Column12981\"},\"id\":\"14183\",\"type\":\"Column\"},{\"attributes\":{},\"id\":\"14000\",\"type\":\"PanTool\"},{\"attributes\":{\"axis_label\":\"cantidad_cursos\",\"coordinates\":null,\"formatter\":{\"id\":\"14230\"},\"group\":null,\"major_label_policy\":{\"id\":\"14231\"},\"ticker\":{\"id\":\"14201\"}},\"id\":\"14200\",\"type\":\"LinearAxis\"},{\"attributes\":{\"data\":{\"cantidad_cursos\":{\"__ndarray__\":\"BwAAAAEAAAABAAAAAgAAAD4DAADFAAAACwAAAKYAAAB0AAAACQAAANsAAABTAAAA7QAAAAEAAAApAgAAIwAAAAYAAABOAAAAIAAAAAEAAAAdAAAAVQAAAA4AAAAdAAAAHwAAABcAAACYAAAAfwAAAIgAAAALAAAACAAAABAAAAADAAAAJQAAACYAAAAGAAAAAwAAAAgAAAAfAAAACgAAABsAAAA+AAAAdQAAAAIAAAABAAAABAAAAAYAAAATAAAABQAAAA0AAAACAAAAEQAAAAYAAAAKAAAAfwAAAEkAAAAoAQAAAwAAAAMAAAAZAAAAAgAAAAkAAAABAAAAAwAAAAMAAAABAAAAAgAAAAEAAAABAAAA\",\"dtype\":\"uint32\",\"order\":\"little\",\"shape\":[69]},\"price\":{\"__ndarray__\":\"AAAAAAAAFEAAAAAAAAAkQAAAAAAAAC5AAAAAAAAAM0AAAAAAAAA0QAAAAAAAADlAAAAAAAAAPUAAAAAAAAA+QAAAAAAAgEFAAAAAAACAQ0AAAAAAAABEQAAAAAAAgEZAAAAAAACASEAzMzMzM/NIQAAAAAAAAElAAAAAAACAS0AAAAAAAIBNQAAAAAAAAE5AAAAAAABAUEAAAAAAAEBRQAAAAAAAgFFAAAAAAADAUkAAAAAAAMBTQAAAAAAAAFRAAAAAAABAVUAAAAAAAIBWQAAAAAAAwFdAAAAAAADAWEAAAAAAAABZQAAAAAAAQFpAAAAAAACAW0AAAAAAAMBcQAAAAAAAwF1AAAAAAAAAXkAAAAAAAEBfQAAAAAAAIGBAAAAAAABAYEAAAAAAAOBgQAAAAAAAYGFAAAAAAACAYUAAAAAAACBiQAAAAAAAoGJAAAAAAADAYkAAAAAAAGBjQAAAAAAA4GNAAAAAAAAAZEAAAAAAAKBkQAAAAAAAIGVAAAAAAABAZUAAAAAAAOBlQAAAAAAAYGZAAAAAAACAZkAAAAAAACBnQAAAAAAAwGdAAAAAAABgaEAAAAAAAOBoQAAAAAAAAGlAAAAAAADAakAAAAAAACBsQAAAAAAAIG9AAAAAAABAb0AAAAAAALByQM3MzMzMvHJAAAAAAADAckAAAAAAAOB1QAAAAAAAcHdAAAAAAADweEAAAAAAAPh4QAAAAAAAIHxA\",\"dtype\":\"float64\",\"order\":\"little\",\"shape\":[69]}},\"selected\":{\"id\":\"14082\"},\"selection_policy\":{\"id\":\"14107\"}},\"id\":\"14081\",\"type\":\"ColumnDataSource\"},{\"attributes\":{\"bottom_units\":\"screen\",\"coordinates\":null,\"fill_alpha\":0.5,\"fill_color\":\"lightgrey\",\"group\":null,\"left_units\":\"screen\",\"level\":\"overlay\",\"line_alpha\":1.0,\"line_color\":\"black\",\"line_dash\":[4,4],\"line_width\":2,\"right_units\":\"screen\",\"syncable\":false,\"top_units\":\"screen\"},\"id\":\"14277\",\"type\":\"BoxAnnotation\"},{\"attributes\":{\"axis_label\":\"cantidad_cursos\",\"coordinates\":null,\"formatter\":{\"id\":\"14025\"},\"group\":null,\"major_label_policy\":{\"id\":\"14026\"},\"ticker\":{\"id\":\"13996\"}},\"id\":\"13995\",\"type\":\"LinearAxis\"},{\"attributes\":{\"margin\":[5,5,5,5],\"name\":\"HSpacer12984\",\"sizing_mode\":\"stretch_width\"},\"id\":\"14184\",\"type\":\"Spacer\"},{\"attributes\":{},\"id\":\"14296\",\"type\":\"AllLabels\"},{\"attributes\":{\"axis\":{\"id\":\"13995\"},\"coordinates\":null,\"dimension\":1,\"grid_line_color\":null,\"group\":null,\"ticker\":null},\"id\":\"13998\",\"type\":\"Grid\"},{\"attributes\":{},\"id\":\"13996\",\"type\":\"BasicTicker\"},{\"attributes\":{},\"id\":\"14198\",\"type\":\"CategoricalTicker\"},{\"attributes\":{},\"id\":\"14001\",\"type\":\"WheelZoomTool\"},{\"attributes\":{\"children\":[{\"id\":\"14248\"}],\"margin\":[0,0,0,0],\"name\":\"Column13008\"},\"id\":\"14247\",\"type\":\"Column\"},{\"attributes\":{},\"id\":\"14061\",\"type\":\"BasicTicker\"},{\"attributes\":{\"axis_label\":\"price\",\"coordinates\":null,\"formatter\":{\"id\":\"14091\"},\"group\":null,\"major_label_policy\":{\"id\":\"14092\"},\"ticker\":{\"id\":\"14061\"}},\"id\":\"14060\",\"type\":\"LinearAxis\"},{\"attributes\":{},\"id\":\"14195\",\"type\":\"LinearScale\"},{\"attributes\":{\"bottom\":{\"value\":0},\"fill_alpha\":{\"value\":1.0},\"fill_color\":{\"value\":\"#30a2da\"},\"hatch_alpha\":{\"value\":1.0},\"hatch_color\":{\"value\":\"#30a2da\"},\"hatch_scale\":{\"value\":12.0},\"hatch_weight\":{\"value\":1.0},\"line_alpha\":{\"value\":1.0},\"line_cap\":{\"value\":\"butt\"},\"line_color\":{\"value\":\"black\"},\"line_dash\":{\"value\":[]},\"line_dash_offset\":{\"value\":0},\"line_join\":{\"value\":\"bevel\"},\"line_width\":{\"value\":1},\"top\":{\"field\":\"cantidad_cursos_left_parenthesis_M_right_parenthesis\"},\"width\":{\"value\":0.8},\"x\":{\"field\":\"rating\"}},\"id\":\"14293\",\"type\":\"VBar\"},{\"attributes\":{\"coordinates\":null,\"group\":null,\"text_color\":\"black\",\"text_font_size\":\"12pt\"},\"id\":\"14052\",\"type\":\"Title\"},{\"attributes\":{},\"id\":\"13999\",\"type\":\"SaveTool\"},{\"attributes\":{\"axis\":{\"id\":\"14060\"},\"coordinates\":null,\"grid_line_color\":null,\"group\":null,\"ticker\":null},\"id\":\"14063\",\"type\":\"Grid\"},{\"attributes\":{\"coordinates\":null,\"group\":null,\"text_color\":\"black\",\"text_font_size\":\"12pt\"},\"id\":\"14121\",\"type\":\"Title\"},{\"attributes\":{\"data\":{\"cantidad_cursos\":{\"__ndarray__\":\"BwAAAAQAAAAJAwAAAQAAAAEAAAABAAAAsAAAAAQAAAAEAAAA\",\"dtype\":\"uint32\",\"order\":\"little\",\"shape\":[9]},\"language\":[\"Fran\\u00e7ais\",\"Italiano\",\"English\",\"\\u65e5\\u672c\\u8a9e\",\"Deutsch\",\"\\u0627\\u0644\\u0644\\u063a\\u0629 \\u0627\\u0644\\u0639\\u0631\\u0628\\u064a\\u0629\",\"Espa\\u00f1ol\",\"Portugu\\u00eas\",\"\\u4e2d\\u6587\"]},\"selected\":{\"id\":\"14218\"},\"selection_policy\":{\"id\":\"14243\"}},\"id\":\"14217\",\"type\":\"ColumnDataSource\"},{\"attributes\":{\"overlay\":{\"id\":\"14004\"}},\"id\":\"14002\",\"type\":\"BoxZoomTool\"},{\"attributes\":{\"fill_alpha\":{\"value\":0.2},\"fill_color\":{\"value\":\"#30a2da\"},\"hatch_alpha\":{\"value\":0.2},\"hatch_color\":{\"value\":\"#30a2da\"},\"line_alpha\":{\"value\":0.2},\"top\":{\"field\":\"cantidad_cursos_left_parenthesis_M_right_parenthesis\"},\"width\":{\"value\":0.8},\"x\":{\"field\":\"rating\"}},\"id\":\"14290\",\"type\":\"VBar\"},{\"attributes\":{\"axis\":{\"id\":\"14197\"},\"coordinates\":null,\"grid_line_color\":null,\"group\":null,\"ticker\":null},\"id\":\"14199\",\"type\":\"Grid\"},{\"attributes\":{\"children\":[{\"id\":\"14043\"}],\"margin\":[0,0,0,0],\"name\":\"Column12963\"},\"id\":\"14042\",\"type\":\"Column\"},{\"attributes\":{},\"id\":\"14003\",\"type\":\"ResetTool\"},{\"attributes\":{\"axis_label\":\"nivel_complejidad\",\"coordinates\":null,\"formatter\":{\"id\":\"14159\"},\"group\":null,\"major_label_policy\":{\"id\":\"14160\"},\"ticker\":{\"id\":\"14130\"}},\"id\":\"14129\",\"type\":\"CategoricalAxis\"},{\"attributes\":{},\"id\":\"14069\",\"type\":\"PanTool\"},{\"attributes\":{\"axis_label\":\"cantidad_cursos\",\"coordinates\":null,\"formatter\":{\"id\":\"14094\"},\"group\":null,\"major_label_policy\":{\"id\":\"14095\"},\"ticker\":{\"id\":\"14065\"}},\"id\":\"14064\",\"type\":\"LinearAxis\"},{\"attributes\":{\"axis\":{\"id\":\"14064\"},\"coordinates\":null,\"dimension\":1,\"grid_line_color\":null,\"group\":null,\"ticker\":null},\"id\":\"14067\",\"type\":\"Grid\"},{\"attributes\":{},\"id\":\"14137\",\"type\":\"PanTool\"},{\"attributes\":{\"bottom_units\":\"screen\",\"coordinates\":null,\"fill_alpha\":0.5,\"fill_color\":\"lightgrey\",\"group\":null,\"left_units\":\"screen\",\"level\":\"overlay\",\"line_alpha\":1.0,\"line_color\":\"black\",\"line_dash\":[4,4],\"line_width\":2,\"right_units\":\"screen\",\"syncable\":false,\"top_units\":\"screen\"},\"id\":\"14004\",\"type\":\"BoxAnnotation\"},{\"attributes\":{\"axis_label\":\"cantidad_cursos\",\"coordinates\":null,\"formatter\":{\"id\":\"14162\"},\"group\":null,\"major_label_policy\":{\"id\":\"14163\"},\"ticker\":{\"id\":\"14133\"}},\"id\":\"14132\",\"type\":\"LinearAxis\"},{\"attributes\":{},\"id\":\"14065\",\"type\":\"BasicTicker\"},{\"attributes\":{\"fill_alpha\":{\"value\":0.1},\"fill_color\":{\"value\":\"#30a2da\"},\"hatch_alpha\":{\"value\":0.1},\"hatch_color\":{\"value\":\"#30a2da\"},\"line_alpha\":{\"value\":0.1},\"top\":{\"field\":\"cantidad_cursos_left_parenthesis_M_right_parenthesis\"},\"width\":{\"value\":0.8},\"x\":{\"field\":\"rating\"}},\"id\":\"14289\",\"type\":\"VBar\"},{\"attributes\":{\"axis\":{\"id\":\"14132\"},\"coordinates\":null,\"dimension\":1,\"grid_line_color\":null,\"group\":null,\"ticker\":null},\"id\":\"14135\",\"type\":\"Grid\"},{\"attributes\":{\"source\":{\"id\":\"14012\"}},\"id\":\"14019\",\"type\":\"CDSView\"},{\"attributes\":{},\"id\":\"14070\",\"type\":\"WheelZoomTool\"},{\"attributes\":{\"line_alpha\":0.1,\"line_color\":\"#30a2da\",\"line_width\":2,\"x\":{\"field\":\"year\"},\"y\":{\"field\":\"cantidad_cursos\"}},\"id\":\"14016\",\"type\":\"Line\"},{\"attributes\":{},\"id\":\"14133\",\"type\":\"BasicTicker\"},{\"attributes\":{},\"id\":\"14138\",\"type\":\"WheelZoomTool\"},{\"attributes\":{},\"id\":\"14068\",\"type\":\"SaveTool\"},{\"attributes\":{},\"id\":\"14295\",\"type\":\"CategoricalTickFormatter\"},{\"attributes\":{\"coordinates\":null,\"group\":null,\"text_color\":\"black\",\"text_font_size\":\"12pt\"},\"id\":\"14189\",\"type\":\"Title\"},{\"attributes\":{\"overlay\":{\"id\":\"14073\"}},\"id\":\"14071\",\"type\":\"BoxZoomTool\"},{\"attributes\":{},\"id\":\"14136\",\"type\":\"SaveTool\"},{\"attributes\":{},\"id\":\"14230\",\"type\":\"BasicTickFormatter\"},{\"attributes\":{},\"id\":\"14072\",\"type\":\"ResetTool\"},{\"attributes\":{},\"id\":\"14299\",\"type\":\"AllLabels\"},{\"attributes\":{\"axis_label\":\"language\",\"coordinates\":null,\"formatter\":{\"id\":\"14227\"},\"group\":null,\"major_label_policy\":{\"id\":\"14228\"},\"ticker\":{\"id\":\"14198\"}},\"id\":\"14197\",\"type\":\"CategoricalAxis\"},{\"attributes\":{\"overlay\":{\"id\":\"14141\"}},\"id\":\"14139\",\"type\":\"BoxZoomTool\"},{\"attributes\":{},\"id\":\"14140\",\"type\":\"ResetTool\"},{\"attributes\":{\"line_color\":\"#30a2da\",\"line_width\":2,\"x\":{\"field\":\"language\"},\"y\":{\"field\":\"cantidad_cursos\"}},\"id\":\"14225\",\"type\":\"Line\"},{\"attributes\":{\"line_alpha\":0.2,\"line_color\":\"#30a2da\",\"line_width\":2,\"x\":{\"field\":\"language\"},\"y\":{\"field\":\"cantidad_cursos\"}},\"id\":\"14222\",\"type\":\"Line\"},{\"attributes\":{\"source\":{\"id\":\"14217\"}},\"id\":\"14224\",\"type\":\"CDSView\"},{\"attributes\":{\"css_classes\":[\"markdown\"],\"margin\":[5,5,5,5],\"name\":\"Markdown12932\",\"text\":\"&lt;h3&gt;Ventas por a\\u00f1o (fuente: Udemy)&lt;/h3&gt;\"},\"id\":\"13973\",\"type\":\"panel.models.markup.HTML\"},{\"attributes\":{\"bottom_units\":\"screen\",\"coordinates\":null,\"fill_alpha\":0.5,\"fill_color\":\"lightgrey\",\"group\":null,\"left_units\":\"screen\",\"level\":\"overlay\",\"line_alpha\":1.0,\"line_color\":\"black\",\"line_dash\":[4,4],\"line_width\":2,\"right_units\":\"screen\",\"syncable\":false,\"top_units\":\"screen\"},\"id\":\"14073\",\"type\":\"BoxAnnotation\"},{\"attributes\":{\"bottom_units\":\"screen\",\"coordinates\":null,\"fill_alpha\":0.5,\"fill_color\":\"lightgrey\",\"group\":null,\"left_units\":\"screen\",\"level\":\"overlay\",\"line_alpha\":1.0,\"line_color\":\"black\",\"line_dash\":[4,4],\"line_width\":2,\"right_units\":\"screen\",\"syncable\":false,\"top_units\":\"screen\"},\"id\":\"14141\",\"type\":\"BoxAnnotation\"},{\"attributes\":{\"overlay\":{\"id\":\"14209\"}},\"id\":\"14207\",\"type\":\"BoxZoomTool\"},{\"attributes\":{\"source\":{\"id\":\"14149\"}},\"id\":\"14156\",\"type\":\"CDSView\"},{\"attributes\":{},\"id\":\"14013\",\"type\":\"Selection\"},{\"attributes\":{\"line_alpha\":0.1,\"line_color\":\"#30a2da\",\"line_width\":2,\"x\":{\"field\":\"nivel_complejidad\"},\"y\":{\"field\":\"cantidad_cursos\"}},\"id\":\"14153\",\"type\":\"Line\"},{\"attributes\":{},\"id\":\"14298\",\"type\":\"BasicTickFormatter\"},{\"attributes\":{},\"id\":\"14218\",\"type\":\"Selection\"},{\"attributes\":{},\"id\":\"14025\",\"type\":\"BasicTickFormatter\"},{\"attributes\":{\"line_alpha\":0.1,\"line_color\":\"#30a2da\",\"line_width\":2,\"x\":{\"field\":\"language\"},\"y\":{\"field\":\"cantidad_cursos\"}},\"id\":\"14221\",\"type\":\"Line\"},{\"attributes\":{\"children\":[{\"id\":\"14183\"},{\"id\":\"14184\"}],\"margin\":[0,0,0,0],\"name\":\"Row12985\"},\"id\":\"14182\",\"type\":\"Row\"},{\"attributes\":{\"children\":[{\"id\":\"13973\"},{\"id\":\"13974\"}],\"margin\":[0,0,0,0],\"name\":\"Column12948\"},\"id\":\"13972\",\"type\":\"Column\"},{\"attributes\":{\"coordinates\":null,\"data_source\":{\"id\":\"14081\"},\"glyph\":{\"id\":\"14084\"},\"group\":null,\"hover_glyph\":null,\"muted_glyph\":{\"id\":\"14086\"},\"nonselection_glyph\":{\"id\":\"14085\"},\"selection_glyph\":{\"id\":\"14089\"},\"view\":{\"id\":\"14088\"}},\"id\":\"14087\",\"type\":\"GlyphRenderer\"},{\"attributes\":{\"line_color\":\"#30a2da\",\"line_width\":2,\"x\":{\"field\":\"price\"},\"y\":{\"field\":\"cantidad_cursos\"}},\"id\":\"14089\",\"type\":\"Line\"},{\"attributes\":{},\"id\":\"14023\",\"type\":\"AllLabels\"},{\"attributes\":{},\"id\":\"14150\",\"type\":\"Selection\"},{\"attributes\":{\"line_alpha\":0.2,\"line_color\":\"#30a2da\",\"line_width\":2,\"x\":{\"field\":\"price\"},\"y\":{\"field\":\"cantidad_cursos\"}},\"id\":\"14086\",\"type\":\"Line\"},{\"attributes\":{},\"id\":\"14026\",\"type\":\"AllLabels\"},{\"attributes\":{},\"id\":\"14091\",\"type\":\"BasicTickFormatter\"},{\"attributes\":{\"source\":{\"id\":\"14081\"}},\"id\":\"14088\",\"type\":\"CDSView\"},{\"attributes\":{},\"id\":\"14208\",\"type\":\"ResetTool\"},{\"attributes\":{},\"id\":\"14082\",\"type\":\"Selection\"},{\"attributes\":{\"line_color\":\"#30a2da\",\"line_width\":2,\"x\":{\"field\":\"price\"},\"y\":{\"field\":\"cantidad_cursos\"}},\"id\":\"14084\",\"type\":\"Line\"},{\"attributes\":{},\"id\":\"14162\",\"type\":\"BasicTickFormatter\"},{\"attributes\":{\"line_alpha\":0.1,\"line_color\":\"#30a2da\",\"line_width\":2,\"x\":{\"field\":\"price\"},\"y\":{\"field\":\"cantidad_cursos\"}},\"id\":\"14085\",\"type\":\"Line\"},{\"attributes\":{},\"id\":\"14160\",\"type\":\"AllLabels\"},{\"attributes\":{},\"id\":\"14163\",\"type\":\"AllLabels\"},{\"attributes\":{\"margin\":[5,5,5,5],\"name\":\"HSpacer12999\",\"sizing_mode\":\"stretch_width\"},\"id\":\"14252\",\"type\":\"Spacer\"},{\"attributes\":{},\"id\":\"14227\",\"type\":\"CategoricalTickFormatter\"},{\"attributes\":{},\"id\":\"14094\",\"type\":\"BasicTickFormatter\"},{\"attributes\":{\"line_color\":\"#30a2da\",\"line_width\":2,\"x\":{\"field\":\"language\"},\"y\":{\"field\":\"cantidad_cursos\"}},\"id\":\"14220\",\"type\":\"Line\"},{\"attributes\":{\"data\":{\"cantidad_cursos\":{\"__ndarray__\":\"BQAAAC0AAADKAAAA6wEAAPYDAAC2BAAAywIAAA==\",\"dtype\":\"uint32\",\"order\":\"little\",\"shape\":[7]},\"year\":{\"__ndarray__\":\"2wcAANwHAADdBwAA3gcAAN8HAADgBwAA4QcAAA==\",\"dtype\":\"int32\",\"order\":\"little\",\"shape\":[7]}},\"selected\":{\"id\":\"14013\"},\"selection_policy\":{\"id\":\"14038\"}},\"id\":\"14012\",\"type\":\"ColumnDataSource\"},{\"attributes\":{\"children\":[{\"id\":\"14115\"},{\"id\":\"14116\"}],\"margin\":[0,0,0,0],\"name\":\"Row12970\"},\"id\":\"14114\",\"type\":\"Row\"},{\"attributes\":{},\"id\":\"14243\",\"type\":\"UnionRenderers\"},{\"attributes\":{\"line_color\":\"#30a2da\",\"line_width\":2,\"x\":{\"field\":\"year\"},\"y\":{\"field\":\"cantidad_cursos\"}},\"id\":\"14015\",\"type\":\"Line\"}],\"root_ids\":[\"13971\",\"14465\"]},\"title\":\"Bokeh Application\",\"version\":\"2.4.3\"}};\n",
       "    var render_items = [{\"docid\":\"bfe49268-c118-4526-817f-21ce3d42abbf\",\"root_ids\":[\"13971\"],\"roots\":{\"13971\":\"a6eba930-c569-4fda-896b-97ec0186c122\"}}];\n",
       "    root.Bokeh.embed.embed_items_notebook(docs_json, render_items);\n",
       "    for (const render_item of render_items) {\n",
       "      for (const root_id of render_item.root_ids) {\n",
       "\tconst id_el = document.getElementById(root_id)\n",
       "\tif (id_el.children.length && (id_el.children[0].className === 'bk-root')) {\n",
       "\t  const root_el = id_el.children[0]\n",
       "\t  root_el.id = root_el.id + '-rendered'\n",
       "\t}\n",
       "      }\n",
       "    }\n",
       "  }\n",
       "  if (root.Bokeh !== undefined && root.Bokeh.Panel !== undefined && ( root['Tabulator'] !== undefined) && ( root['Tabulator'] !== undefined)) {\n",
       "    embed_document(root);\n",
       "  } else {\n",
       "    var attempts = 0;\n",
       "    var timer = setInterval(function(root) {\n",
       "      if (root.Bokeh !== undefined && root.Bokeh.Panel !== undefined && (root['Tabulator'] !== undefined) && (root['Tabulator'] !== undefined)) {\n",
       "        clearInterval(timer);\n",
       "        embed_document(root);\n",
       "      } else if (document.readyState == \"complete\") {\n",
       "        attempts++;\n",
       "        if (attempts > 200) {\n",
       "          clearInterval(timer);\n",
       "          console.log(\"Bokeh: ERROR: Unable to run BokehJS code because BokehJS library is missing\");\n",
       "        }\n",
       "      }\n",
       "    }, 25, root)\n",
       "  }\n",
       "})(window);</script>"
      ],
      "text/plain": [
       "Tabs\n",
       "    [0] Column\n",
       "        [0] Markdown(str)\n",
       "        [1] Interactive(Interactive)\n",
       "    [1] Column\n",
       "        [0] Interactive(Interactive)\n",
       "    [2] Column\n",
       "        [0] Interactive(Interactive)\n",
       "    [3] Column\n",
       "        [0] Interactive(Interactive)\n",
       "    [4] Column\n",
       "        [0] Interactive(Interactive)"
      ]
     },
     "execution_count": 208,
     "metadata": {
      "application/vnd.holoviews_exec.v0+json": {
       "id": "13971"
      }
     },
     "output_type": "execute_result"
    }
   ],
   "source": [
    "# widgets\n",
    "tabs = pn.Tabs()\n",
    "\n",
    "# funciones\n",
    "@interact(x=(1,10))\n",
    "def f1(x): return x+1\n",
    "\n",
    "@interact(x=(1,10))\n",
    "def f2(x): return x+2\n",
    "\n",
    "@interact(x=(1,10))\n",
    "def f3(x): return x+3\n",
    "\n",
    "def ventas_year():\n",
    "    return pn.Column('### Ventas por año (fuente: Udemy)',year_plot)\n",
    "\n",
    "def ventas_precio():\n",
    "    return pn.Column(precio_plot)\n",
    "\n",
    "def ventas_level():\n",
    "    return pn.Column(nivel_plot)\n",
    "\n",
    "def ventas_nivel():\n",
    "    return pn.Column(nivel_plot)\n",
    "\n",
    "def ventas_idioma():\n",
    "    return pn.Column(idioma_plot)\n",
    "\n",
    "def ventas_rating():\n",
    "    return pn.Column(rating_plot)\n",
    "\n",
    "\n",
    "tabs.extend(\n",
    "[\n",
    " ('Ventas',ventas_year()),\n",
    " ('Ventas x Precio',ventas_precio()),\n",
    " ('Ventas x Nivel',ventas_level()),\n",
    " ('Ventas x Idioma',ventas_idioma()),\n",
    " ('Ventas x Rating',ventas_rating())   \n",
    "]\n",
    ")\n",
    "tabs"
   ]
  },
  {
   "cell_type": "markdown",
   "id": "95916961-26af-4cba-96c4-c59a49dfe681",
   "metadata": {},
   "source": [
    "## Etiquetas"
   ]
  },
  {
   "cell_type": "markdown",
   "id": "fa04e7a9-2fc6-4715-b205-1922faf47eaa",
   "metadata": {},
   "source": [
    "### Precio Promedio"
   ]
  },
  {
   "cell_type": "code",
   "execution_count": 14,
   "id": "360a6813-93a8-4545-9e9b-82bed3ecfff3",
   "metadata": {},
   "outputs": [],
   "source": [
    "def precio_promedio():\n",
    "    precio_promedio_edx = pl_edx.select(pl.col('price').mean())\n",
    "    precio_promedio_udemy = pl_udemy.select(pl.col('price').mean())\n",
    "    precio_promedio = round( (precio_promedio_edx['price'][0] + precio_promedio_udemy['price'][0])/2  )\n",
    "    return '#'+str(precio_promedio)"
   ]
  },
  {
   "cell_type": "markdown",
   "id": "9ccfa21d-6f37-49ce-9a85-268c5bdbc297",
   "metadata": {},
   "source": [
    "### Tiempo duracion Promedio"
   ]
  },
  {
   "cell_type": "code",
   "execution_count": 15,
   "id": "1d608b82-3617-47bd-8e8d-37d0ba750fb9",
   "metadata": {},
   "outputs": [],
   "source": [
    "def tiempo_duracion():\n",
    "    tiempo_duracion_edx = pl_edx.select(pl.col('horas').mean())\n",
    "    tiempo_duracion_udemy = pl_udemy.select(pl.col('num_lectures').mean())\n",
    "    tiempo_duracion = round( (tiempo_duracion_edx['horas'][0] + tiempo_duracion_udemy['num_lectures'][0])/2  )\n",
    "    return '#'+str(tiempo_duracion)+'H'"
   ]
  },
  {
   "cell_type": "markdown",
   "id": "8a295ad2-75a0-433a-9229-74c0ceac0df8",
   "metadata": {},
   "source": [
    "### Idioma mas usado"
   ]
  },
  {
   "cell_type": "code",
   "execution_count": 16,
   "id": "d1c09fca-41b5-4c8b-aebb-51e32ea8a3c6",
   "metadata": {},
   "outputs": [],
   "source": [
    "def idioma():\n",
    "    serie_idioma = pl_edx.to_pandas()['language'].value_counts()\n",
    "    pd_idioma = pd.DataFrame(serie_idioma)\n",
    "    pd_idioma = pd_idioma.reset_index()\n",
    "    pd_idioma = pd_idioma.rename(columns={'language':'cantidad'})\n",
    "    pd_idioma = pd_idioma.rename(columns={'index':'language'})\n",
    "    return '#'+pd_idioma.iloc[0]['language']"
   ]
  },
  {
   "cell_type": "code",
   "execution_count": 17,
   "id": "6fd26f3e-a989-46ad-b193-84c2900012af",
   "metadata": {},
   "outputs": [],
   "source": [
    "\n",
    "#lista_udemy = lst()"
   ]
  },
  {
   "cell_type": "markdown",
   "id": "705876df-bade-4cd8-9f41-fc725b9ae8e2",
   "metadata": {},
   "source": [
    "## WordCloud"
   ]
  },
  {
   "cell_type": "code",
   "execution_count": 18,
   "id": "cc85b455-30f6-48f9-b744-b2720d208420",
   "metadata": {},
   "outputs": [],
   "source": [
    "class MyClass: \n",
    "\tdef __init__(self, val): \n",
    "\t\tself.val = val "
   ]
  },
  {
   "cell_type": "code",
   "execution_count": 19,
   "id": "98c0ca4e-d583-4d65-89b8-893b81e475ec",
   "metadata": {},
   "outputs": [
    {
     "data": {
      "text/plain": [
       "(-0.5, 399.5, 199.5, -0.5)"
      ]
     },
     "execution_count": 19,
     "metadata": {},
     "output_type": "execute_result"
    },
    {
     "data": {
      "image/png": "[encoded data removed]",
      "text/plain": [
       "<Figure size 432x288 with 1 Axes>"
      ]
     },
     "metadata": {
      "needs_background": "light"
     },
     "output_type": "display_data"
    }
   ],
   "source": [
    "wordcloud = WordCloud().generate(pd_edx['title'].to_string() + ' ' + pd_udemy['subject'].to_string() + ' ' + pd_coursera['course_id'].to_string())\n",
    "wordcloud.to_file(r\"C:\\Users\\ornal\\Desktop\\Data Analitics\\PI03-Analytics\\wordcloud.png\")\n",
    "plt.imshow(wordcloud)\n",
    "plt.axis('off')"
   ]
  },
  {
   "cell_type": "markdown",
   "id": "9e825a00-f8cb-4f66-8795-e76a4526fc91",
   "metadata": {},
   "source": [
    "## Imagen"
   ]
  },
  {
   "cell_type": "code",
   "execution_count": 20,
   "id": "291420fe-2d91-4f35-93ca-ad7e94c292b4",
   "metadata": {},
   "outputs": [],
   "source": [
    "png = pn.panel('wordcloud.png', width=300)"
   ]
  },
  {
   "cell_type": "markdown",
   "id": "4da4a994-433b-461f-9ed2-bd1db38545d7",
   "metadata": {},
   "source": [
    "## Sidebar"
   ]
  },
  {
   "cell_type": "code",
   "execution_count": 21,
   "id": "982da04a-9226-4463-9039-db9ad71f1e45",
   "metadata": {},
   "outputs": [
    {
     "data": {},
     "metadata": {},
     "output_type": "display_data"
    },
    {
     "data": {
      "application/vnd.holoviews_exec.v0+json": "",
      "text/html": [
       "<div id='1161'>\n",
       "  <div class=\"bk-root\" id=\"7039bd3d-129a-4540-bd06-929d6012235c\" data-root-id=\"1161\"></div>\n",
       "</div>\n",
       "<script type=\"application/javascript\">(function(root) {\n",
       "  function embed_document(root) {\n",
       "    var docs_json = {\"2eb73791-8786-4965-83ae-cf27398ed9bc\":{\"defs\":[{\"extends\":null,\"module\":null,\"name\":\"ReactiveHTML1\",\"overrides\":[],\"properties\":[]},{\"extends\":null,\"module\":null,\"name\":\"FlexBox1\",\"overrides\":[],\"properties\":[{\"default\":\"flex-start\",\"kind\":null,\"name\":\"align_content\"},{\"default\":\"flex-start\",\"kind\":null,\"name\":\"align_items\"},{\"default\":\"row\",\"kind\":null,\"name\":\"flex_direction\"},{\"default\":\"wrap\",\"kind\":null,\"name\":\"flex_wrap\"},{\"default\":\"flex-start\",\"kind\":null,\"name\":\"justify_content\"}]},{\"extends\":null,\"module\":null,\"name\":\"GridStack1\",\"overrides\":[],\"properties\":[{\"default\":\"warn\",\"kind\":null,\"name\":\"mode\"},{\"default\":null,\"kind\":null,\"name\":\"ncols\"},{\"default\":null,\"kind\":null,\"name\":\"nrows\"},{\"default\":true,\"kind\":null,\"name\":\"allow_resize\"},{\"default\":true,\"kind\":null,\"name\":\"allow_drag\"},{\"default\":[],\"kind\":null,\"name\":\"state\"}]},{\"extends\":null,\"module\":null,\"name\":\"click1\",\"overrides\":[],\"properties\":[{\"default\":\"\",\"kind\":null,\"name\":\"terminal_output\"},{\"default\":\"\",\"kind\":null,\"name\":\"debug_name\"},{\"default\":0,\"kind\":null,\"name\":\"clears\"}]},{\"extends\":null,\"module\":null,\"name\":\"NotificationAreaBase1\",\"overrides\":[],\"properties\":[{\"default\":\"bottom-right\",\"kind\":null,\"name\":\"position\"},{\"default\":0,\"kind\":null,\"name\":\"_clear\"}]},{\"extends\":null,\"module\":null,\"name\":\"NotificationArea1\",\"overrides\":[],\"properties\":[{\"default\":[],\"kind\":null,\"name\":\"notifications\"},{\"default\":\"bottom-right\",\"kind\":null,\"name\":\"position\"},{\"default\":0,\"kind\":null,\"name\":\"_clear\"},{\"default\":[{\"background\":\"#ffc107\",\"icon\":{\"className\":\"fas fa-exclamation-triangle\",\"color\":\"white\",\"tagName\":\"i\"},\"type\":\"warning\"},{\"background\":\"#007bff\",\"icon\":{\"className\":\"fas fa-info-circle\",\"color\":\"white\",\"tagName\":\"i\"},\"type\":\"info\"}],\"kind\":null,\"name\":\"types\"}]},{\"extends\":null,\"module\":null,\"name\":\"Notification\",\"overrides\":[],\"properties\":[{\"default\":null,\"kind\":null,\"name\":\"background\"},{\"default\":3000,\"kind\":null,\"name\":\"duration\"},{\"default\":null,\"kind\":null,\"name\":\"icon\"},{\"default\":\"\",\"kind\":null,\"name\":\"message\"},{\"default\":null,\"kind\":null,\"name\":\"notification_type\"},{\"default\":false,\"kind\":null,\"name\":\"_destroyed\"}]},{\"extends\":null,\"module\":null,\"name\":\"TemplateActions1\",\"overrides\":[],\"properties\":[{\"default\":0,\"kind\":null,\"name\":\"open_modal\"},{\"default\":0,\"kind\":null,\"name\":\"close_modal\"}]},{\"extends\":null,\"module\":null,\"name\":\"MaterialTemplateActions1\",\"overrides\":[],\"properties\":[{\"default\":0,\"kind\":null,\"name\":\"open_modal\"},{\"default\":0,\"kind\":null,\"name\":\"close_modal\"}]}],\"roots\":{\"references\":[{\"attributes\":{\"children\":[{\"id\":\"1162\"}],\"margin\":[0,0,0,0],\"name\":\"Column01079\"},\"id\":\"1161\",\"type\":\"Column\"},{\"attributes\":{\"client_comm_id\":\"15f465c207244374b2127b33baadec2b\",\"comm_id\":\"4120a7eb911f425ba8511c617045f634\",\"plot_id\":\"1161\"},\"id\":\"1163\",\"type\":\"panel.models.comm_manager.CommManager\"},{\"attributes\":{\"height\":150,\"margin\":[5,5,5,5],\"name\":\"PNG01077\",\"text\":\"&lt;img src=&quot;data:image/png;base64,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&quot; width=&quot;300px&quot; height=&quot;150px&quot; alt=&quot;&quot;&gt;&lt;/img&gt;\",\"width\":300},\"id\":\"1162\",\"type\":\"panel.models.markup.HTML\"}],\"root_ids\":[\"1161\",\"1163\"]},\"title\":\"Bokeh Application\",\"version\":\"2.4.3\"}};\n",
       "    var render_items = [{\"docid\":\"2eb73791-8786-4965-83ae-cf27398ed9bc\",\"root_ids\":[\"1161\"],\"roots\":{\"1161\":\"7039bd3d-129a-4540-bd06-929d6012235c\"}}];\n",
       "    root.Bokeh.embed.embed_items_notebook(docs_json, render_items);\n",
       "    for (const render_item of render_items) {\n",
       "      for (const root_id of render_item.root_ids) {\n",
       "\tconst id_el = document.getElementById(root_id)\n",
       "\tif (id_el.children.length && (id_el.children[0].className === 'bk-root')) {\n",
       "\t  const root_el = id_el.children[0]\n",
       "\t  root_el.id = root_el.id + '-rendered'\n",
       "\t}\n",
       "      }\n",
       "    }\n",
       "  }\n",
       "  if (root.Bokeh !== undefined && root.Bokeh.Panel !== undefined && ( root['Tabulator'] !== undefined)) {\n",
       "    embed_document(root);\n",
       "  } else {\n",
       "    var attempts = 0;\n",
       "    var timer = setInterval(function(root) {\n",
       "      if (root.Bokeh !== undefined && root.Bokeh.Panel !== undefined && (root['Tabulator'] !== undefined)) {\n",
       "        clearInterval(timer);\n",
       "        embed_document(root);\n",
       "      } else if (document.readyState == \"complete\") {\n",
       "        attempts++;\n",
       "        if (attempts > 200) {\n",
       "          clearInterval(timer);\n",
       "          console.log(\"Bokeh: ERROR: Unable to run BokehJS code because BokehJS library is missing\");\n",
       "        }\n",
       "      }\n",
       "    }, 25, root)\n",
       "  }\n",
       "})(window);</script>"
      ],
      "text/plain": [
       "Column\n",
       "    [0] PNG(str, width=300)"
      ]
     },
     "execution_count": 21,
     "metadata": {
      "application/vnd.holoviews_exec.v0+json": {
       "id": "1161"
      }
     },
     "output_type": "execute_result"
    }
   ],
   "source": [
    "column_sidebar = pn.Column(png)\n",
    "#column.append('\\n')\n",
    "column_sidebar"
   ]
  },
  {
   "cell_type": "code",
   "execution_count": 213,
   "id": "9d560b8d-0e70-4577-b2be-aa4e6573502f",
   "metadata": {},
   "outputs": [
    {
     "name": "stdout",
     "output_type": "stream",
     "text": [
      "Launching server at http://localhost:56812\n"
     ]
    },
    {
     "data": {
      "text/plain": [
       "<panel.io.server.Server at 0x1ccdbff5a80>"
      ]
     },
     "execution_count": 213,
     "metadata": {},
     "output_type": "execute_result"
    }
   ],
   "source": [
    "template = pn.template.FastListTemplate(\n",
    "    title='Análisis del Mercado de Cursos Online',\n",
    "    sidebar=[column_sidebar],\n",
    "    main=[\n",
    "        pn.Row(\n",
    "            pn.Column(precio_promedio(),'#### Precio Promedio'),\n",
    "            pn.Column('  '),\n",
    "            pn.Column('#Python','#### tema más Usado'),\n",
    "            pn.Column('  '),\n",
    "            pn.Column(idioma(),'#### idioma más Usado'),\n",
    "            pn.Column('  '),\n",
    "            pn.Column(tiempo_duracion(),'#### Duración Promedio')\n",
    "        ),\n",
    "        pn.Row(pn.Column(tabs))\n",
    "    ]\n",
    ")\n",
    "\n",
    "template.servable();\n",
    "template.show()"
   ]
  },
  {
   "cell_type": "code",
   "execution_count": null,
   "id": "fca1ed8c-9ae7-4665-b04f-4f99f776b786",
   "metadata": {},
   "outputs": [],
   "source": []
  }
 ],
 "metadata": {
  "kernelspec": {
   "display_name": "Python 3 (ipykernel)",
   "language": "python",
   "name": "python3"
  },
  "language_info": {
   "codemirror_mode": {
    "name": "ipython",
    "version": 3
   },
   "file_extension": ".py",
   "mimetype": "text/x-python",
   "name": "python",
   "nbconvert_exporter": "python",
   "pygments_lexer": "ipython3",
   "version": "3.10.5"
  }
 },
 "nbformat": 4,
 "nbformat_minor": 5
}
