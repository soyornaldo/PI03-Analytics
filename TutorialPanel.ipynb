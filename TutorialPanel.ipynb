{
 "cells": [
  {
   "cell_type": "code",
   "execution_count": 71,
   "id": "6faf702e-5e4d-44c4-b95b-4a342366c87d",
   "metadata": {},
   "outputs": [],
   "source": [
    "import panel as pn\n",
    "from panel.interact import interact\n",
    "pn.extension()\n",
    "\n",
    "import hvplot.pandas\n",
    "\n",
    "import holoviews as hv\n",
    "from holoviews import opts\n",
    "hv.extension('bokeh')\n",
    "\n",
    "import polars as pl"
   ]
  },
  {
   "cell_type": "markdown",
   "id": "089aa0b2-aedf-404e-b8fa-c1910b2b8875",
   "metadata": {},
   "source": [
    "## Reconfigurar Datasets"
   ]
  },
  {
   "cell_type": "markdown",
   "id": "d0e0e371-a419-4837-ba2e-0318b92aee05",
   "metadata": {},
   "source": [
    "## df_c = 'coursera_courses'\n",
    "### Me voy a quedar solo con 'course_id'"
   ]
  },
  {
   "cell_type": "code",
   "execution_count": 106,
   "id": "d40dc4fa-f597-4f4d-94bd-4054c39a6f4d",
   "metadata": {},
   "outputs": [],
   "source": [
    "dtypes_c = {\n",
    " 'course_id': pl.Utf8\n",
    "}\n",
    "df_c = pl.read_csv(r\"C:\\Users\\ornal\\Desktop\\Data Analitics\\Test\\Coursera_courses.csv\", dtypes = dtypes_c);\n",
    "df_c = df_c.select(pl.col('course_id'))\n",
    "pd_c = df_c.to_pandas()"
   ]
  },
  {
   "cell_type": "markdown",
   "id": "4dea83f2-82f9-410a-add9-279758fa46bb",
   "metadata": {},
   "source": [
    "### Busco nulos en df_c"
   ]
  },
  {
   "cell_type": "code",
   "execution_count": 107,
   "id": "dd138a5d-76d8-4cd4-8573-1c922b51cfea",
   "metadata": {},
   "outputs": [
    {
     "data": {
      "text/html": [
       "<div>\n",
       "<style scoped>\n",
       "    .dataframe tbody tr th:only-of-type {\n",
       "        vertical-align: middle;\n",
       "    }\n",
       "\n",
       "    .dataframe tbody tr th {\n",
       "        vertical-align: top;\n",
       "    }\n",
       "\n",
       "    .dataframe thead th {\n",
       "        text-align: right;\n",
       "    }\n",
       "\n",
       "    .dataframe td {\n",
       "        white-space: pre;\n",
       "    }\n",
       "\n",
       "    .dataframe td {\n",
       "        padding-top: 0;\n",
       "    }\n",
       "\n",
       "    .dataframe td {\n",
       "        padding-bottom: 0;\n",
       "    }\n",
       "\n",
       "    .dataframe td {\n",
       "        line-height: 95%;\n",
       "    }\n",
       "</style>\n",
       "<table border=\"1\" class=\"dataframe\">\n",
       "<small>shape: (1, 1)</small>\n",
       "<thead>\n",
       "<tr>\n",
       "<th>\n",
       "course_id\n",
       "</th>\n",
       "</tr>\n",
       "<tr>\n",
       "<td>\n",
       "u32\n",
       "</td>\n",
       "</tr>\n",
       "</thead>\n",
       "<tbody>\n",
       "<tr>\n",
       "<td>\n",
       "0\n",
       "</td>\n",
       "</tr>\n",
       "</tbody>\n",
       "</table>\n",
       "</div>"
      ],
      "text/plain": [
       "shape: (1, 1)\n",
       "┌───────────┐\n",
       "│ course_id │\n",
       "│ ---       │\n",
       "│ u32       │\n",
       "╞═══════════╡\n",
       "│ 0         │\n",
       "└───────────┘"
      ]
     },
     "execution_count": 107,
     "metadata": {},
     "output_type": "execute_result"
    }
   ],
   "source": [
    "df_c.null_count()"
   ]
  },
  {
   "cell_type": "code",
   "execution_count": 108,
   "id": "9dcc9f8a-78a9-424d-b624-b30f031210fe",
   "metadata": {},
   "outputs": [],
   "source": [
    "pd_c[['course_id-split-0-lpxo', \n",
    "      'course_id-split-1-lpxo', \n",
    "      'course_id-split-2-lpxo', \n",
    "      'course_id-split-3-lpxo', \n",
    "      'course_id-split-4-lpxo', \n",
    "      'course_id-split-5-lpxo', \n",
    "      'course_id-split-6-lpxo', \n",
    "      'course_id-split-7-lpxo', \n",
    "      'course_id-split-8-lpxo']] = pd_c['course_id'].str.split('-', n=-1, expand=True, regex=None)\n",
    "\n"
   ]
  },
  {
   "cell_type": "code",
   "execution_count": 109,
   "id": "83b57149-8b41-4ab1-8431-4b3e78a3be81",
   "metadata": {},
   "outputs": [],
   "source": [
    "pd_c = pd_c[pd_c.columns[:1].tolist() + ['course_id-split-0-lpxo', \n",
    "                                         'course_id-split-1-lpxo', \n",
    "                                         'course_id-split-2-lpxo', \n",
    "                                         'course_id-split-3-lpxo', \n",
    "                                         'course_id-split-4-lpxo', \n",
    "                                         'course_id-split-5-lpxo', \n",
    "                                         'course_id-split-6-lpxo', \n",
    "                                         'course_id-split-7-lpxo', \n",
    "                                         'course_id-split-8-lpxo'] + pd_c.columns[1:-9].tolist()]"
   ]
  },
  {
   "cell_type": "code",
   "execution_count": 110,
   "id": "cb0d30ae-edf2-48ff-a4f0-5e8501c1953c",
   "metadata": {},
   "outputs": [],
   "source": [
    "# Deleted columns course_id\n",
    "pd_c.drop(['course_id'], axis=1, inplace=True)"
   ]
  },
  {
   "cell_type": "code",
   "execution_count": 113,
   "id": "b1d0f541-1abe-4cdc-987b-11c004f24018",
   "metadata": {},
   "outputs": [],
   "source": [
    "pd_c.to_csv(r\"C:\\Users\\ornal\\Desktop\\Data Analitics\\Test\\coursera.csv\")"
   ]
  },
  {
   "cell_type": "code",
   "execution_count": 114,
   "id": "4581b9b3-8217-4de9-9ce7-93cdf7019460",
   "metadata": {},
   "outputs": [],
   "source": [
    "df_c = pl.read_csv(r\"C:\\Users\\ornal\\Desktop\\Data Analitics\\Test\\coursera.csv\")"
   ]
  },
  {
   "cell_type": "code",
   "execution_count": 120,
   "id": "54ce56f4-ae52-452b-bd59-077a19acb663",
   "metadata": {},
   "outputs": [],
   "source": [
    "df_c_final = pl.concat([df_c.select(pl.col('course_id-split-0-lpxo').alias('course_id')),\n",
    "                        df_c.select(pl.col('course_id-split-1-lpxo').alias('course_id')), \n",
    "                        df_c.select(pl.col('course_id-split-2-lpxo').alias('course_id')), \n",
    "                        df_c.select(pl.col('course_id-split-3-lpxo').alias('course_id')), \n",
    "                        df_c.select(pl.col('course_id-split-4-lpxo').alias('course_id')), \n",
    "                        df_c.select(pl.col('course_id-split-5-lpxo').alias('course_id')), \n",
    "                        df_c.select(pl.col('course_id-split-6-lpxo').alias('course_id')), \n",
    "                        df_c.select(pl.col('course_id-split-7-lpxo').alias('course_id')), \n",
    "                        df_c.select(pl.col('course_id-split-8-lpxo').alias('course_id'))],how='vertical')"
   ]
  },
  {
   "cell_type": "code",
   "execution_count": 123,
   "id": "696f927f-ff83-447a-92ba-66279c9820c4",
   "metadata": {},
   "outputs": [],
   "source": [
    "df_c = df_c_final.drop_nulls()"
   ]
  },
  {
   "cell_type": "markdown",
   "id": "dd7642dc-8127-42a1-a18d-1d18cbf7c547",
   "metadata": {},
   "source": [
    "### Salvo df_c en formato parquet con el nombre de 'coursera.parquet'"
   ]
  },
  {
   "cell_type": "code",
   "execution_count": 124,
   "id": "3c35f201-2d60-4f23-a45d-06f0b8cda469",
   "metadata": {},
   "outputs": [],
   "source": [
    "df_c.write_parquet(r\"C:\\Users\\ornal\\Desktop\\Data Analitics\\Test\\coursera.parquet\")\n",
    "df_c.write_csv(r\"C:\\Users\\ornal\\Desktop\\Data Analitics\\Test\\coursera.csv\")"
   ]
  },
  {
   "cell_type": "markdown",
   "id": "12267ea4-cccb-4e9b-bb8c-bceb744d370d",
   "metadata": {},
   "source": [
    "## df_e = edx_courses\n",
    "### Me voy a quedar con:\n",
    "### 'title', 'n_enrolled', 'course_type', 'Level', 'subject', 'language', 'course_effort', 'course_length', 'price'"
   ]
  },
  {
   "cell_type": "code",
   "execution_count": 75,
   "id": "de600cfe-fe8c-4d92-b6cd-60347f0a23b3",
   "metadata": {},
   "outputs": [],
   "source": [
    "df_e = pl.read_csv(r\"C:\\Users\\ornal\\Desktop\\Data Analitics\\Test\\edx_courses.csv\", \n",
    "                   null_values=['NA','NaN'])\n",
    "\n",
    "df_e = df_e.select(['title','n_enrolled','course_type','Level','subject','language','course_effort','course_length','price'])"
   ]
  },
  {
   "cell_type": "markdown",
   "id": "1bb58d59-8d98-43ac-950d-9b93ef5c3f53",
   "metadata": {},
   "source": [
    "### Busco nulos en df_e"
   ]
  },
  {
   "cell_type": "code",
   "execution_count": 76,
   "id": "4dc0af24-7f8a-47ce-942c-0288156154f5",
   "metadata": {},
   "outputs": [
    {
     "data": {
      "text/html": [
       "<div>\n",
       "<style scoped>\n",
       "    .dataframe tbody tr th:only-of-type {\n",
       "        vertical-align: middle;\n",
       "    }\n",
       "\n",
       "    .dataframe tbody tr th {\n",
       "        vertical-align: top;\n",
       "    }\n",
       "\n",
       "    .dataframe thead th {\n",
       "        text-align: right;\n",
       "    }\n",
       "\n",
       "    .dataframe td {\n",
       "        white-space: pre;\n",
       "    }\n",
       "\n",
       "    .dataframe td {\n",
       "        padding-top: 0;\n",
       "    }\n",
       "\n",
       "    .dataframe td {\n",
       "        padding-bottom: 0;\n",
       "    }\n",
       "\n",
       "    .dataframe td {\n",
       "        line-height: 95%;\n",
       "    }\n",
       "</style>\n",
       "<table border=\"1\" class=\"dataframe\">\n",
       "<small>shape: (1, 9)</small>\n",
       "<thead>\n",
       "<tr>\n",
       "<th>\n",
       "title\n",
       "</th>\n",
       "<th>\n",
       "n_enrolled\n",
       "</th>\n",
       "<th>\n",
       "course_type\n",
       "</th>\n",
       "<th>\n",
       "Level\n",
       "</th>\n",
       "<th>\n",
       "subject\n",
       "</th>\n",
       "<th>\n",
       "language\n",
       "</th>\n",
       "<th>\n",
       "course_effort\n",
       "</th>\n",
       "<th>\n",
       "course_length\n",
       "</th>\n",
       "<th>\n",
       "price\n",
       "</th>\n",
       "</tr>\n",
       "<tr>\n",
       "<td>\n",
       "u32\n",
       "</td>\n",
       "<td>\n",
       "u32\n",
       "</td>\n",
       "<td>\n",
       "u32\n",
       "</td>\n",
       "<td>\n",
       "u32\n",
       "</td>\n",
       "<td>\n",
       "u32\n",
       "</td>\n",
       "<td>\n",
       "u32\n",
       "</td>\n",
       "<td>\n",
       "u32\n",
       "</td>\n",
       "<td>\n",
       "u32\n",
       "</td>\n",
       "<td>\n",
       "u32\n",
       "</td>\n",
       "</tr>\n",
       "</thead>\n",
       "<tbody>\n",
       "<tr>\n",
       "<td>\n",
       "0\n",
       "</td>\n",
       "<td>\n",
       "120\n",
       "</td>\n",
       "<td>\n",
       "0\n",
       "</td>\n",
       "<td>\n",
       "0\n",
       "</td>\n",
       "<td>\n",
       "0\n",
       "</td>\n",
       "<td>\n",
       "0\n",
       "</td>\n",
       "<td>\n",
       "0\n",
       "</td>\n",
       "<td>\n",
       "0\n",
       "</td>\n",
       "<td>\n",
       "0\n",
       "</td>\n",
       "</tr>\n",
       "</tbody>\n",
       "</table>\n",
       "</div>"
      ],
      "text/plain": [
       "shape: (1, 9)\n",
       "┌───────┬────────────┬─────────────┬───────┬─────┬──────────┬───────────────┬───────────────┬───────┐\n",
       "│ title ┆ n_enrolled ┆ course_type ┆ Level ┆ ... ┆ language ┆ course_effort ┆ course_length ┆ price │\n",
       "│ ---   ┆ ---        ┆ ---         ┆ ---   ┆     ┆ ---      ┆ ---           ┆ ---           ┆ ---   │\n",
       "│ u32   ┆ u32        ┆ u32         ┆ u32   ┆     ┆ u32      ┆ u32           ┆ u32           ┆ u32   │\n",
       "╞═══════╪════════════╪═════════════╪═══════╪═════╪══════════╪═══════════════╪═══════════════╪═══════╡\n",
       "│ 0     ┆ 120        ┆ 0           ┆ 0     ┆ ... ┆ 0        ┆ 0             ┆ 0             ┆ 0     │\n",
       "└───────┴────────────┴─────────────┴───────┴─────┴──────────┴───────────────┴───────────────┴───────┘"
      ]
     },
     "execution_count": 76,
     "metadata": {},
     "output_type": "execute_result"
    }
   ],
   "source": [
    "df_e.null_count()"
   ]
  },
  {
   "cell_type": "markdown",
   "id": "77180e79-5020-46e7-9b8e-050ca8be74fc",
   "metadata": {},
   "source": [
    "### Voy a eliminar los nulos en df_e"
   ]
  },
  {
   "cell_type": "code",
   "execution_count": 77,
   "id": "a12539a5-6337-4cb6-b344-7f6b30f151a9",
   "metadata": {},
   "outputs": [],
   "source": [
    "df_e = df_e.filter(pl.col('*').is_not_null())"
   ]
  },
  {
   "cell_type": "markdown",
   "id": "e46a651a-f037-4273-a613-6f31e870fe2c",
   "metadata": {},
   "source": [
    "### Salvo df_e en formato parquet con el nombre de 'edx.parquet'"
   ]
  },
  {
   "cell_type": "code",
   "execution_count": 78,
   "id": "736ac34a-870d-4202-b1eb-ae670673bb04",
   "metadata": {},
   "outputs": [],
   "source": [
    "df_e.write_parquet(r\"C:\\Users\\ornal\\Desktop\\Data Analitics\\Test\\edx.parquet\")\n",
    "df_e.write_csv(r\"C:\\Users\\ornal\\Desktop\\Data Analitics\\Test\\edx.csv\")"
   ]
  },
  {
   "cell_type": "markdown",
   "id": "197d250e-f132-4427-b275-7b409f1514f9",
   "metadata": {},
   "source": [
    "## df_u = udemy_courses\n",
    "### Me voy a quedar con:\n",
    "### 'course_title', 'course_title', 'price', 'num_subscribers', 'num_reviews', 'num_lectures', 'level', 'content_duration', 'published_timestamp', 'subject'"
   ]
  },
  {
   "cell_type": "code",
   "execution_count": 79,
   "id": "58108ddf-6e96-4824-97c9-54e1f11b96f0",
   "metadata": {},
   "outputs": [],
   "source": [
    "df_u = pl.read_csv(r\"C:\\Users\\ornal\\Desktop\\Data Analitics\\Test\\udemy_courses.csv\", \n",
    "                   null_values=['NA','NaN'])"
   ]
  },
  {
   "cell_type": "markdown",
   "id": "5524bcf0-271a-4639-978b-2b7f633831a3",
   "metadata": {},
   "source": [
    "### Busco nulos en df_u"
   ]
  },
  {
   "cell_type": "code",
   "execution_count": 80,
   "id": "86a1598b-68b7-4c8e-bfb7-50671e21d778",
   "metadata": {},
   "outputs": [
    {
     "data": {
      "text/html": [
       "<div>\n",
       "<style scoped>\n",
       "    .dataframe tbody tr th:only-of-type {\n",
       "        vertical-align: middle;\n",
       "    }\n",
       "\n",
       "    .dataframe tbody tr th {\n",
       "        vertical-align: top;\n",
       "    }\n",
       "\n",
       "    .dataframe thead th {\n",
       "        text-align: right;\n",
       "    }\n",
       "\n",
       "    .dataframe td {\n",
       "        white-space: pre;\n",
       "    }\n",
       "\n",
       "    .dataframe td {\n",
       "        padding-top: 0;\n",
       "    }\n",
       "\n",
       "    .dataframe td {\n",
       "        padding-bottom: 0;\n",
       "    }\n",
       "\n",
       "    .dataframe td {\n",
       "        line-height: 95%;\n",
       "    }\n",
       "</style>\n",
       "<table border=\"1\" class=\"dataframe\">\n",
       "<small>shape: (1, 12)</small>\n",
       "<thead>\n",
       "<tr>\n",
       "<th>\n",
       "course_id\n",
       "</th>\n",
       "<th>\n",
       "course_title\n",
       "</th>\n",
       "<th>\n",
       "url\n",
       "</th>\n",
       "<th>\n",
       "is_paid\n",
       "</th>\n",
       "<th>\n",
       "price\n",
       "</th>\n",
       "<th>\n",
       "num_subscribers\n",
       "</th>\n",
       "<th>\n",
       "num_reviews\n",
       "</th>\n",
       "<th>\n",
       "num_lectures\n",
       "</th>\n",
       "<th>\n",
       "level\n",
       "</th>\n",
       "<th>\n",
       "content_duration\n",
       "</th>\n",
       "<th>\n",
       "published_timestamp\n",
       "</th>\n",
       "<th>\n",
       "subject\n",
       "</th>\n",
       "</tr>\n",
       "<tr>\n",
       "<td>\n",
       "u32\n",
       "</td>\n",
       "<td>\n",
       "u32\n",
       "</td>\n",
       "<td>\n",
       "u32\n",
       "</td>\n",
       "<td>\n",
       "u32\n",
       "</td>\n",
       "<td>\n",
       "u32\n",
       "</td>\n",
       "<td>\n",
       "u32\n",
       "</td>\n",
       "<td>\n",
       "u32\n",
       "</td>\n",
       "<td>\n",
       "u32\n",
       "</td>\n",
       "<td>\n",
       "u32\n",
       "</td>\n",
       "<td>\n",
       "u32\n",
       "</td>\n",
       "<td>\n",
       "u32\n",
       "</td>\n",
       "<td>\n",
       "u32\n",
       "</td>\n",
       "</tr>\n",
       "</thead>\n",
       "<tbody>\n",
       "<tr>\n",
       "<td>\n",
       "0\n",
       "</td>\n",
       "<td>\n",
       "0\n",
       "</td>\n",
       "<td>\n",
       "0\n",
       "</td>\n",
       "<td>\n",
       "0\n",
       "</td>\n",
       "<td>\n",
       "0\n",
       "</td>\n",
       "<td>\n",
       "0\n",
       "</td>\n",
       "<td>\n",
       "0\n",
       "</td>\n",
       "<td>\n",
       "0\n",
       "</td>\n",
       "<td>\n",
       "0\n",
       "</td>\n",
       "<td>\n",
       "0\n",
       "</td>\n",
       "<td>\n",
       "0\n",
       "</td>\n",
       "<td>\n",
       "0\n",
       "</td>\n",
       "</tr>\n",
       "</tbody>\n",
       "</table>\n",
       "</div>"
      ],
      "text/plain": [
       "shape: (1, 12)\n",
       "┌───────────┬──────────────┬─────┬─────────┬─────┬───────┬──────────────────┬─────────────────────┬─────────┐\n",
       "│ course_id ┆ course_title ┆ url ┆ is_paid ┆ ... ┆ level ┆ content_duration ┆ published_timestamp ┆ subject │\n",
       "│ ---       ┆ ---          ┆ --- ┆ ---     ┆     ┆ ---   ┆ ---              ┆ ---                 ┆ ---     │\n",
       "│ u32       ┆ u32          ┆ u32 ┆ u32     ┆     ┆ u32   ┆ u32              ┆ u32                 ┆ u32     │\n",
       "╞═══════════╪══════════════╪═════╪═════════╪═════╪═══════╪══════════════════╪═════════════════════╪═════════╡\n",
       "│ 0         ┆ 0            ┆ 0   ┆ 0       ┆ ... ┆ 0     ┆ 0                ┆ 0                   ┆ 0       │\n",
       "└───────────┴──────────────┴─────┴─────────┴─────┴───────┴──────────────────┴─────────────────────┴─────────┘"
      ]
     },
     "execution_count": 80,
     "metadata": {},
     "output_type": "execute_result"
    }
   ],
   "source": [
    "df_u.null_count()"
   ]
  },
  {
   "cell_type": "code",
   "execution_count": 81,
   "id": "ff1a161b-4061-4f33-b001-d179c396d525",
   "metadata": {},
   "outputs": [
    {
     "data": {
      "text/html": [
       "<div>\n",
       "<style scoped>\n",
       "    .dataframe tbody tr th:only-of-type {\n",
       "        vertical-align: middle;\n",
       "    }\n",
       "\n",
       "    .dataframe tbody tr th {\n",
       "        vertical-align: top;\n",
       "    }\n",
       "\n",
       "    .dataframe thead th {\n",
       "        text-align: right;\n",
       "    }\n",
       "\n",
       "    .dataframe td {\n",
       "        white-space: pre;\n",
       "    }\n",
       "\n",
       "    .dataframe td {\n",
       "        padding-top: 0;\n",
       "    }\n",
       "\n",
       "    .dataframe td {\n",
       "        padding-bottom: 0;\n",
       "    }\n",
       "\n",
       "    .dataframe td {\n",
       "        line-height: 95%;\n",
       "    }\n",
       "</style>\n",
       "<table border=\"1\" class=\"dataframe\">\n",
       "<small>shape: (4,)</small>\n",
       "<thead>\n",
       "<tr>\n",
       "<th>\n",
       "level\n",
       "</th>\n",
       "</tr>\n",
       "<tr>\n",
       "<td>\n",
       "str\n",
       "</td>\n",
       "</tr>\n",
       "</thead>\n",
       "<tbody>\n",
       "<tr>\n",
       "<td>\n",
       "&quot;Expert Level&quot;\n",
       "</td>\n",
       "</tr>\n",
       "<tr>\n",
       "<td>\n",
       "&quot;Beginner Level...\n",
       "</td>\n",
       "</tr>\n",
       "<tr>\n",
       "<td>\n",
       "&quot;Intermediate L...\n",
       "</td>\n",
       "</tr>\n",
       "<tr>\n",
       "<td>\n",
       "&quot;All Levels&quot;\n",
       "</td>\n",
       "</tr>\n",
       "</tbody>\n",
       "</table>\n",
       "</div>"
      ],
      "text/plain": [
       "shape: (4,)\n",
       "Series: 'level' [str]\n",
       "[\n",
       "\t\"Expert Level\"\n",
       "\t\"Beginner Level...\n",
       "\t\"Intermediate L...\n",
       "\t\"All Levels\"\n",
       "]"
      ]
     },
     "execution_count": 81,
     "metadata": {},
     "output_type": "execute_result"
    }
   ],
   "source": [
    "df_u['level'].unique()"
   ]
  },
  {
   "cell_type": "markdown",
   "id": "18b618e8-bbb8-41e0-94a0-b81d40a0f02c",
   "metadata": {},
   "source": [
    "### Salvo df_u en formato parquet con el nombre de 'udemy.parquet'"
   ]
  },
  {
   "cell_type": "code",
   "execution_count": 82,
   "id": "ea6db50d-4252-4ab8-95fb-5f3c624d02e8",
   "metadata": {},
   "outputs": [],
   "source": [
    "df_u.write_parquet(r\"C:\\Users\\ornal\\Desktop\\Data Analitics\\Test\\udemy.parquet\")\n",
    "df_u.write_csv(r\"C:\\Users\\ornal\\Desktop\\Data Analitics\\Test\\udemy.csv\")"
   ]
  },
  {
   "cell_type": "markdown",
   "id": "e4cd72c5-4344-4a47-9975-57f89eaab74f",
   "metadata": {},
   "source": [
    "## dfu_group_level (•\tNivel de ventas según nivel)\n",
    "### DataFrame con datos de Udemy agrupado por nivel de complejidad\n",
    "### Agrega(precio promedio, promedio de reseñas, promedio de cuantas clases tienen los cursos, promedio de duracion de los cursos) "
   ]
  },
  {
   "cell_type": "code",
   "execution_count": 83,
   "id": "dd2ea3af-e908-4654-8ab9-178d1426013c",
   "metadata": {},
   "outputs": [],
   "source": [
    "dfu_group_level = (\n",
    "  df_u\n",
    "  .groupby('level')\n",
    "  .agg(\n",
    "  [\n",
    "    pl.col('price').mean().alias('precio_promedio'),\n",
    "    pl.col('num_reviews').mean().alias('promedio_reseñas'),\n",
    "    pl.col('num_lectures').mean().alias('cant_clases_promedio'),\n",
    "    pl.col('content_duration').mean().alias('duracion_promedio(h)')\n",
    "  ]\n",
    "  )  \n",
    ")"
   ]
  },
  {
   "cell_type": "code",
   "execution_count": 84,
   "id": "84478727-22f4-45bd-91c5-e3709133ca85",
   "metadata": {},
   "outputs": [
    {
     "data": {
      "text/html": [
       "<div>\n",
       "<style scoped>\n",
       "    .dataframe tbody tr th:only-of-type {\n",
       "        vertical-align: middle;\n",
       "    }\n",
       "\n",
       "    .dataframe tbody tr th {\n",
       "        vertical-align: top;\n",
       "    }\n",
       "\n",
       "    .dataframe thead th {\n",
       "        text-align: right;\n",
       "    }\n",
       "\n",
       "    .dataframe td {\n",
       "        white-space: pre;\n",
       "    }\n",
       "\n",
       "    .dataframe td {\n",
       "        padding-top: 0;\n",
       "    }\n",
       "\n",
       "    .dataframe td {\n",
       "        padding-bottom: 0;\n",
       "    }\n",
       "\n",
       "    .dataframe td {\n",
       "        line-height: 95%;\n",
       "    }\n",
       "</style>\n",
       "<table border=\"1\" class=\"dataframe\">\n",
       "<small>shape: (4, 5)</small>\n",
       "<thead>\n",
       "<tr>\n",
       "<th>\n",
       "level\n",
       "</th>\n",
       "<th>\n",
       "precio_promedio\n",
       "</th>\n",
       "<th>\n",
       "promedio_reseñas\n",
       "</th>\n",
       "<th>\n",
       "cant_clases_promedio\n",
       "</th>\n",
       "<th>\n",
       "duracion_promedio(h)\n",
       "</th>\n",
       "</tr>\n",
       "<tr>\n",
       "<td>\n",
       "str\n",
       "</td>\n",
       "<td>\n",
       "f64\n",
       "</td>\n",
       "<td>\n",
       "f64\n",
       "</td>\n",
       "<td>\n",
       "f64\n",
       "</td>\n",
       "<td>\n",
       "f64\n",
       "</td>\n",
       "</tr>\n",
       "</thead>\n",
       "<tbody>\n",
       "<tr>\n",
       "<td>\n",
       "&quot;Expert Level&quot;\n",
       "</td>\n",
       "<td>\n",
       "91.12069\n",
       "</td>\n",
       "<td>\n",
       "40.224138\n",
       "</td>\n",
       "<td>\n",
       "30.775862\n",
       "</td>\n",
       "<td>\n",
       "2.90546\n",
       "</td>\n",
       "</tr>\n",
       "<tr>\n",
       "<td>\n",
       "&quot;Intermediate L...\n",
       "</td>\n",
       "<td>\n",
       "61.92399\n",
       "</td>\n",
       "<td>\n",
       "92.674584\n",
       "</td>\n",
       "<td>\n",
       "35.935867\n",
       "</td>\n",
       "<td>\n",
       "3.733333\n",
       "</td>\n",
       "</tr>\n",
       "<tr>\n",
       "<td>\n",
       "&quot;All Levels&quot;\n",
       "</td>\n",
       "<td>\n",
       "73.022291\n",
       "</td>\n",
       "<td>\n",
       "209.588906\n",
       "</td>\n",
       "<td>\n",
       "45.981337\n",
       "</td>\n",
       "<td>\n",
       "4.869656\n",
       "</td>\n",
       "</tr>\n",
       "<tr>\n",
       "<td>\n",
       "&quot;Beginner Level...\n",
       "</td>\n",
       "<td>\n",
       "55.681102\n",
       "</td>\n",
       "<td>\n",
       "101.633858\n",
       "</td>\n",
       "<td>\n",
       "32.998425\n",
       "</td>\n",
       "<td>\n",
       "3.091194\n",
       "</td>\n",
       "</tr>\n",
       "</tbody>\n",
       "</table>\n",
       "</div>"
      ],
      "text/plain": [
       "shape: (4, 5)\n",
       "┌────────────────────┬─────────────────┬──────────────────┬──────────────────────┬──────────────────────┐\n",
       "│ level              ┆ precio_promedio ┆ promedio_reseñas ┆ cant_clases_promedio ┆ duracion_promedio(h) │\n",
       "│ ---                ┆ ---             ┆ ---              ┆ ---                  ┆ ---                  │\n",
       "│ str                ┆ f64             ┆ f64              ┆ f64                  ┆ f64                  │\n",
       "╞════════════════════╪═════════════════╪══════════════════╪══════════════════════╪══════════════════════╡\n",
       "│ Expert Level       ┆ 91.12069        ┆ 40.224138        ┆ 30.775862            ┆ 2.90546              │\n",
       "│ Intermediate Level ┆ 61.92399        ┆ 92.674584        ┆ 35.935867            ┆ 3.733333             │\n",
       "│ All Levels         ┆ 73.022291       ┆ 209.588906       ┆ 45.981337            ┆ 4.869656             │\n",
       "│ Beginner Level     ┆ 55.681102       ┆ 101.633858       ┆ 32.998425            ┆ 3.091194             │\n",
       "└────────────────────┴─────────────────┴──────────────────┴──────────────────────┴──────────────────────┘"
      ]
     },
     "execution_count": 84,
     "metadata": {},
     "output_type": "execute_result"
    }
   ],
   "source": [
    "dfu_group_level"
   ]
  },
  {
   "cell_type": "markdown",
   "id": "4abf8432-e466-469f-9736-eba78105085b",
   "metadata": {},
   "source": [
    "## dfu_group_level_subject (•\tNivel de ventas según nivel) + Tipo Cursos\n",
    "### DataFrame con datos de Udemy agrupado por nivel de complejidad/tipo de cursos\n",
    "### Agrega(precio promedio, promedio de reseñas, promedio de cuantas clases tienen los cursos, promedio de duracion de los cursos) "
   ]
  },
  {
   "cell_type": "code",
   "execution_count": 85,
   "id": "70ac2f85-5d25-4fbd-bf3a-c3ea0c5823d9",
   "metadata": {},
   "outputs": [],
   "source": [
    "dfu_group_level_subject = (\n",
    "  df_u\n",
    "  .groupby(['level','subject'])\n",
    "  .agg(\n",
    "  [\n",
    "    pl.col('price').mean().alias('precio_promedio'),\n",
    "    pl.col('num_reviews').mean().alias('promedio_reseñas'),\n",
    "    pl.col('num_lectures').mean().alias('cant_clases_promedio'),\n",
    "    pl.col('content_duration').mean().alias('duracion_promedio(h)')\n",
    "  ]\n",
    "  )  \n",
    ")"
   ]
  },
  {
   "cell_type": "markdown",
   "id": "55bd8680-52a6-4cfc-a08e-2c730d8bf6cc",
   "metadata": {},
   "source": [
    "## dfu_group_year\n",
    "### Dataframe con datos de Udemy agrupado por años\n",
    "### Agrega(Cantidad de cursos por año)"
   ]
  },
  {
   "cell_type": "code",
   "execution_count": 86,
   "id": "c8da8cbb-62ed-4ac9-8ee2-19c046339b09",
   "metadata": {},
   "outputs": [],
   "source": [
    "dfu_group_year = (\n",
    "  pl.read_csv(r\"C:\\Users\\ornal\\Desktop\\Data Analitics\\Test\\udemy_courses.csv\", parse_dates=True)\n",
    "  .with_column(pl.col('published_timestamp').cast(pl.Datetime).dt.year().alias('year'))  \n",
    "  .groupby('year')\n",
    "  .agg(\n",
    "  [\n",
    "    pl.col('price').count().alias('cantidad_cursos')\n",
    "  ]\n",
    "  )\n",
    "  .sort('year')  \n",
    ")"
   ]
  },
  {
   "cell_type": "code",
   "execution_count": 87,
   "id": "578c5df6-a60d-4b26-8688-a5f812cb7e45",
   "metadata": {},
   "outputs": [
    {
     "data": {
      "application/vnd.holoviews_exec.v0+json": "",
      "text/html": [
       "<div id='3524'>\n",
       "  <div class=\"bk-root\" id=\"1b1e6585-14d6-4625-8610-18677b654a5c\" data-root-id=\"3524\"></div>\n",
       "</div>\n",
       "<script type=\"application/javascript\">(function(root) {\n",
       "  function embed_document(root) {\n",
       "    var docs_json = {\"c7a10ec1-c326-4bd3-8cdb-c9892891dab7\":{\"defs\":[{\"extends\":null,\"module\":null,\"name\":\"ReactiveHTML1\",\"overrides\":[],\"properties\":[]},{\"extends\":null,\"module\":null,\"name\":\"FlexBox1\",\"overrides\":[],\"properties\":[{\"default\":\"flex-start\",\"kind\":null,\"name\":\"align_content\"},{\"default\":\"flex-start\",\"kind\":null,\"name\":\"align_items\"},{\"default\":\"row\",\"kind\":null,\"name\":\"flex_direction\"},{\"default\":\"wrap\",\"kind\":null,\"name\":\"flex_wrap\"},{\"default\":\"flex-start\",\"kind\":null,\"name\":\"justify_content\"}]},{\"extends\":null,\"module\":null,\"name\":\"GridStack1\",\"overrides\":[],\"properties\":[{\"default\":\"warn\",\"kind\":null,\"name\":\"mode\"},{\"default\":null,\"kind\":null,\"name\":\"ncols\"},{\"default\":null,\"kind\":null,\"name\":\"nrows\"},{\"default\":true,\"kind\":null,\"name\":\"allow_resize\"},{\"default\":true,\"kind\":null,\"name\":\"allow_drag\"},{\"default\":[],\"kind\":null,\"name\":\"state\"}]},{\"extends\":null,\"module\":null,\"name\":\"click1\",\"overrides\":[],\"properties\":[{\"default\":\"\",\"kind\":null,\"name\":\"terminal_output\"},{\"default\":\"\",\"kind\":null,\"name\":\"debug_name\"},{\"default\":0,\"kind\":null,\"name\":\"clears\"}]},{\"extends\":null,\"module\":null,\"name\":\"NotificationAreaBase1\",\"overrides\":[],\"properties\":[{\"default\":\"bottom-right\",\"kind\":null,\"name\":\"position\"},{\"default\":0,\"kind\":null,\"name\":\"_clear\"}]},{\"extends\":null,\"module\":null,\"name\":\"NotificationArea1\",\"overrides\":[],\"properties\":[{\"default\":[],\"kind\":null,\"name\":\"notifications\"},{\"default\":\"bottom-right\",\"kind\":null,\"name\":\"position\"},{\"default\":0,\"kind\":null,\"name\":\"_clear\"},{\"default\":[{\"background\":\"#ffc107\",\"icon\":{\"className\":\"fas fa-exclamation-triangle\",\"color\":\"white\",\"tagName\":\"i\"},\"type\":\"warning\"},{\"background\":\"#007bff\",\"icon\":{\"className\":\"fas fa-info-circle\",\"color\":\"white\",\"tagName\":\"i\"},\"type\":\"info\"}],\"kind\":null,\"name\":\"types\"}]},{\"extends\":null,\"module\":null,\"name\":\"Notification\",\"overrides\":[],\"properties\":[{\"default\":null,\"kind\":null,\"name\":\"background\"},{\"default\":3000,\"kind\":null,\"name\":\"duration\"},{\"default\":null,\"kind\":null,\"name\":\"icon\"},{\"default\":\"\",\"kind\":null,\"name\":\"message\"},{\"default\":null,\"kind\":null,\"name\":\"notification_type\"},{\"default\":false,\"kind\":null,\"name\":\"_destroyed\"}]},{\"extends\":null,\"module\":null,\"name\":\"TemplateActions1\",\"overrides\":[],\"properties\":[{\"default\":0,\"kind\":null,\"name\":\"open_modal\"},{\"default\":0,\"kind\":null,\"name\":\"close_modal\"}]},{\"extends\":null,\"module\":null,\"name\":\"MaterialTemplateActions1\",\"overrides\":[],\"properties\":[{\"default\":0,\"kind\":null,\"name\":\"open_modal\"},{\"default\":0,\"kind\":null,\"name\":\"close_modal\"}]}],\"roots\":{\"references\":[{\"attributes\":{\"axis_label\":\"cantidad_cursos\",\"coordinates\":null,\"formatter\":{\"id\":\"3572\"},\"group\":null,\"major_label_policy\":{\"id\":\"3573\"},\"ticker\":{\"id\":\"3543\"}},\"id\":\"3542\",\"type\":\"LinearAxis\"},{\"attributes\":{},\"id\":\"3570\",\"type\":\"AllLabels\"},{\"attributes\":{\"axis\":{\"id\":\"3542\"},\"coordinates\":null,\"dimension\":1,\"grid_line_color\":null,\"group\":null,\"ticker\":null},\"id\":\"3545\",\"type\":\"Grid\"},{\"attributes\":{},\"id\":\"3543\",\"type\":\"BasicTicker\"},{\"attributes\":{},\"id\":\"3548\",\"type\":\"WheelZoomTool\"},{\"attributes\":{},\"id\":\"3573\",\"type\":\"AllLabels\"},{\"attributes\":{},\"id\":\"3546\",\"type\":\"SaveTool\"},{\"attributes\":{\"margin\":[5,5,5,5],\"name\":\"HSpacer02853\",\"sizing_mode\":\"stretch_width\"},\"id\":\"3525\",\"type\":\"Spacer\"},{\"attributes\":{\"overlay\":{\"id\":\"3551\"}},\"id\":\"3549\",\"type\":\"BoxZoomTool\"},{\"attributes\":{},\"id\":\"3550\",\"type\":\"ResetTool\"},{\"attributes\":{\"bottom_units\":\"screen\",\"coordinates\":null,\"fill_alpha\":0.5,\"fill_color\":\"lightgrey\",\"group\":null,\"left_units\":\"screen\",\"level\":\"overlay\",\"line_alpha\":1.0,\"line_color\":\"black\",\"line_dash\":[4,4],\"line_width\":2,\"right_units\":\"screen\",\"syncable\":false,\"top_units\":\"screen\"},\"id\":\"3551\",\"type\":\"BoxAnnotation\"},{\"attributes\":{\"children\":[{\"id\":\"3525\"},{\"id\":\"3529\"},{\"id\":\"3588\"}],\"margin\":[0,0,0,0],\"name\":\"Row02849\",\"tags\":[\"embedded\"]},\"id\":\"3524\",\"type\":\"Row\"},{\"attributes\":{\"line_color\":\"#30a2da\",\"line_width\":2,\"x\":{\"field\":\"year\"},\"y\":{\"field\":\"cantidad_cursos\"}},\"id\":\"3567\",\"type\":\"Line\"},{\"attributes\":{},\"id\":\"3585\",\"type\":\"UnionRenderers\"},{\"attributes\":{\"line_alpha\":0.1,\"line_color\":\"#30a2da\",\"line_width\":2,\"x\":{\"field\":\"year\"},\"y\":{\"field\":\"cantidad_cursos\"}},\"id\":\"3563\",\"type\":\"Line\"},{\"attributes\":{\"margin\":[5,5,5,5],\"name\":\"HSpacer02854\",\"sizing_mode\":\"stretch_width\"},\"id\":\"3588\",\"type\":\"Spacer\"},{\"attributes\":{\"active_drag\":{\"id\":\"3547\"},\"active_scroll\":{\"id\":\"3548\"},\"tools\":[{\"id\":\"3528\"},{\"id\":\"3546\"},{\"id\":\"3547\"},{\"id\":\"3548\"},{\"id\":\"3549\"},{\"id\":\"3550\"}]},\"id\":\"3552\",\"type\":\"Toolbar\"},{\"attributes\":{},\"id\":\"3534\",\"type\":\"LinearScale\"},{\"attributes\":{\"data\":{\"cantidad_cursos\":{\"__ndarray__\":\"BQAAAC0AAADKAAAA6wEAAPYDAAC2BAAAywIAAA==\",\"dtype\":\"uint32\",\"order\":\"little\",\"shape\":[7]},\"year\":{\"__ndarray__\":\"2wcAANwHAADdBwAA3gcAAN8HAADgBwAA4QcAAA==\",\"dtype\":\"int32\",\"order\":\"little\",\"shape\":[7]}},\"selected\":{\"id\":\"3560\"},\"selection_policy\":{\"id\":\"3585\"}},\"id\":\"3559\",\"type\":\"ColumnDataSource\"},{\"attributes\":{\"line_alpha\":0.2,\"line_color\":\"#30a2da\",\"line_width\":2,\"x\":{\"field\":\"year\"},\"y\":{\"field\":\"cantidad_cursos\"}},\"id\":\"3564\",\"type\":\"Line\"},{\"attributes\":{\"end\":2017.0,\"reset_end\":2017.0,\"reset_start\":2011.0,\"start\":2011.0,\"tags\":[[[\"year\",\"year\",null]]]},\"id\":\"3526\",\"type\":\"Range1d\"},{\"attributes\":{\"coordinates\":null,\"data_source\":{\"id\":\"3559\"},\"glyph\":{\"id\":\"3562\"},\"group\":null,\"hover_glyph\":null,\"muted_glyph\":{\"id\":\"3564\"},\"nonselection_glyph\":{\"id\":\"3563\"},\"selection_glyph\":{\"id\":\"3567\"},\"view\":{\"id\":\"3566\"}},\"id\":\"3565\",\"type\":\"GlyphRenderer\"},{\"attributes\":{\"source\":{\"id\":\"3559\"}},\"id\":\"3566\",\"type\":\"CDSView\"},{\"attributes\":{\"below\":[{\"id\":\"3538\"}],\"center\":[{\"id\":\"3541\"},{\"id\":\"3545\"}],\"height\":300,\"left\":[{\"id\":\"3542\"}],\"margin\":[5,5,5,5],\"min_border_bottom\":10,\"min_border_left\":10,\"min_border_right\":10,\"min_border_top\":10,\"renderers\":[{\"id\":\"3565\"}],\"sizing_mode\":\"fixed\",\"title\":{\"id\":\"3530\"},\"toolbar\":{\"id\":\"3552\"},\"width\":700,\"x_range\":{\"id\":\"3526\"},\"x_scale\":{\"id\":\"3534\"},\"y_range\":{\"id\":\"3527\"},\"y_scale\":{\"id\":\"3536\"}},\"id\":\"3529\",\"subtype\":\"Figure\",\"type\":\"Plot\"},{\"attributes\":{\"end\":1326.1,\"reset_end\":1326.1,\"reset_start\":-115.10000000000001,\"start\":-115.10000000000001,\"tags\":[[[\"cantidad_cursos\",\"cantidad_cursos\",null]]]},\"id\":\"3527\",\"type\":\"Range1d\"},{\"attributes\":{},\"id\":\"3560\",\"type\":\"Selection\"},{\"attributes\":{\"line_color\":\"#30a2da\",\"line_width\":2,\"x\":{\"field\":\"year\"},\"y\":{\"field\":\"cantidad_cursos\"}},\"id\":\"3562\",\"type\":\"Line\"},{\"attributes\":{\"callback\":null,\"renderers\":[{\"id\":\"3565\"}],\"tags\":[\"hv_created\"],\"tooltips\":[[\"year\",\"@{year}\"],[\"cantidad_cursos\",\"@{cantidad_cursos}\"]]},\"id\":\"3528\",\"type\":\"HoverTool\"},{\"attributes\":{},\"id\":\"3536\",\"type\":\"LinearScale\"},{\"attributes\":{},\"id\":\"3539\",\"type\":\"BasicTicker\"},{\"attributes\":{\"coordinates\":null,\"group\":null,\"text_color\":\"black\",\"text_font_size\":\"12pt\"},\"id\":\"3530\",\"type\":\"Title\"},{\"attributes\":{},\"id\":\"3572\",\"type\":\"BasicTickFormatter\"},{\"attributes\":{\"axis\":{\"id\":\"3538\"},\"coordinates\":null,\"grid_line_color\":null,\"group\":null,\"ticker\":null},\"id\":\"3541\",\"type\":\"Grid\"},{\"attributes\":{\"axis_label\":\"year\",\"coordinates\":null,\"formatter\":{\"id\":\"3569\"},\"group\":null,\"major_label_policy\":{\"id\":\"3570\"},\"ticker\":{\"id\":\"3539\"}},\"id\":\"3538\",\"type\":\"LinearAxis\"},{\"attributes\":{},\"id\":\"3569\",\"type\":\"BasicTickFormatter\"},{\"attributes\":{},\"id\":\"3547\",\"type\":\"PanTool\"}],\"root_ids\":[\"3524\"]},\"title\":\"Bokeh Application\",\"version\":\"2.4.3\"}};\n",
       "    var render_items = [{\"docid\":\"c7a10ec1-c326-4bd3-8cdb-c9892891dab7\",\"root_ids\":[\"3524\"],\"roots\":{\"3524\":\"1b1e6585-14d6-4625-8610-18677b654a5c\"}}];\n",
       "    root.Bokeh.embed.embed_items_notebook(docs_json, render_items);\n",
       "    for (const render_item of render_items) {\n",
       "      for (const root_id of render_item.root_ids) {\n",
       "\tconst id_el = document.getElementById(root_id)\n",
       "\tif (id_el.children.length && (id_el.children[0].className === 'bk-root')) {\n",
       "\t  const root_el = id_el.children[0]\n",
       "\t  root_el.id = root_el.id + '-rendered'\n",
       "\t}\n",
       "      }\n",
       "    }\n",
       "  }\n",
       "  if (root.Bokeh !== undefined && root.Bokeh.Panel !== undefined) {\n",
       "    embed_document(root);\n",
       "  } else {\n",
       "    var attempts = 0;\n",
       "    var timer = setInterval(function(root) {\n",
       "      if (root.Bokeh !== undefined && root.Bokeh.Panel !== undefined) {\n",
       "        clearInterval(timer);\n",
       "        embed_document(root);\n",
       "      } else if (document.readyState == \"complete\") {\n",
       "        attempts++;\n",
       "        if (attempts > 200) {\n",
       "          clearInterval(timer);\n",
       "          console.log(\"Bokeh: ERROR: Unable to run BokehJS code because BokehJS library is missing\");\n",
       "        }\n",
       "      }\n",
       "    }, 25, root)\n",
       "  }\n",
       "})(window);</script>"
      ],
      "text/plain": [
       ":Curve   [year]   (cantidad_cursos)"
      ]
     },
     "execution_count": 87,
     "metadata": {
      "application/vnd.holoviews_exec.v0+json": {
       "id": "3524"
      }
     },
     "output_type": "execute_result"
    }
   ],
   "source": [
    "dfu_group_year.to_pandas().hvplot('year','cantidad_cursos')"
   ]
  },
  {
   "cell_type": "markdown",
   "id": "3dccf820-e88a-4a67-8280-22c1a3836918",
   "metadata": {},
   "source": [
    "## dfu_group_precio (•\tNivel de ventas según precio.)\n",
    "### DataFrame con datos de Udemy agrupados por precio\n",
    "### Agrega(Cantidad Vendida)"
   ]
  },
  {
   "cell_type": "code",
   "execution_count": 88,
   "id": "6770318a-ec70-4fd0-854a-5911326fe552",
   "metadata": {},
   "outputs": [],
   "source": [
    "dfu_group_precio = (\n",
    "  df_u\n",
    "  .filter(pl.col('price') != 0)  \n",
    "  .groupby('price')\n",
    "  .agg(\n",
    "  [\n",
    "    pl.col('price').count().alias('cantidad_cursos')\n",
    "  ]\n",
    "  )\n",
    "  .sort('price')  \n",
    ")"
   ]
  },
  {
   "cell_type": "code",
   "execution_count": 89,
   "id": "0e4ea350-326f-4fa4-9a78-5c067807621f",
   "metadata": {},
   "outputs": [
    {
     "data": {
      "application/vnd.holoviews_exec.v0+json": "",
      "text/html": [
       "<div id='3640'>\n",
       "  <div class=\"bk-root\" id=\"aaa36f4c-1e9a-4bd3-a57a-ef30d2e2adfa\" data-root-id=\"3640\"></div>\n",
       "</div>\n",
       "<script type=\"application/javascript\">(function(root) {\n",
       "  function embed_document(root) {\n",
       "    var docs_json = {\"435cb76f-072a-4a4e-ba53-33cc442b5fad\":{\"defs\":[{\"extends\":null,\"module\":null,\"name\":\"ReactiveHTML1\",\"overrides\":[],\"properties\":[]},{\"extends\":null,\"module\":null,\"name\":\"FlexBox1\",\"overrides\":[],\"properties\":[{\"default\":\"flex-start\",\"kind\":null,\"name\":\"align_content\"},{\"default\":\"flex-start\",\"kind\":null,\"name\":\"align_items\"},{\"default\":\"row\",\"kind\":null,\"name\":\"flex_direction\"},{\"default\":\"wrap\",\"kind\":null,\"name\":\"flex_wrap\"},{\"default\":\"flex-start\",\"kind\":null,\"name\":\"justify_content\"}]},{\"extends\":null,\"module\":null,\"name\":\"GridStack1\",\"overrides\":[],\"properties\":[{\"default\":\"warn\",\"kind\":null,\"name\":\"mode\"},{\"default\":null,\"kind\":null,\"name\":\"ncols\"},{\"default\":null,\"kind\":null,\"name\":\"nrows\"},{\"default\":true,\"kind\":null,\"name\":\"allow_resize\"},{\"default\":true,\"kind\":null,\"name\":\"allow_drag\"},{\"default\":[],\"kind\":null,\"name\":\"state\"}]},{\"extends\":null,\"module\":null,\"name\":\"click1\",\"overrides\":[],\"properties\":[{\"default\":\"\",\"kind\":null,\"name\":\"terminal_output\"},{\"default\":\"\",\"kind\":null,\"name\":\"debug_name\"},{\"default\":0,\"kind\":null,\"name\":\"clears\"}]},{\"extends\":null,\"module\":null,\"name\":\"NotificationAreaBase1\",\"overrides\":[],\"properties\":[{\"default\":\"bottom-right\",\"kind\":null,\"name\":\"position\"},{\"default\":0,\"kind\":null,\"name\":\"_clear\"}]},{\"extends\":null,\"module\":null,\"name\":\"NotificationArea1\",\"overrides\":[],\"properties\":[{\"default\":[],\"kind\":null,\"name\":\"notifications\"},{\"default\":\"bottom-right\",\"kind\":null,\"name\":\"position\"},{\"default\":0,\"kind\":null,\"name\":\"_clear\"},{\"default\":[{\"background\":\"#ffc107\",\"icon\":{\"className\":\"fas fa-exclamation-triangle\",\"color\":\"white\",\"tagName\":\"i\"},\"type\":\"warning\"},{\"background\":\"#007bff\",\"icon\":{\"className\":\"fas fa-info-circle\",\"color\":\"white\",\"tagName\":\"i\"},\"type\":\"info\"}],\"kind\":null,\"name\":\"types\"}]},{\"extends\":null,\"module\":null,\"name\":\"Notification\",\"overrides\":[],\"properties\":[{\"default\":null,\"kind\":null,\"name\":\"background\"},{\"default\":3000,\"kind\":null,\"name\":\"duration\"},{\"default\":null,\"kind\":null,\"name\":\"icon\"},{\"default\":\"\",\"kind\":null,\"name\":\"message\"},{\"default\":null,\"kind\":null,\"name\":\"notification_type\"},{\"default\":false,\"kind\":null,\"name\":\"_destroyed\"}]},{\"extends\":null,\"module\":null,\"name\":\"TemplateActions1\",\"overrides\":[],\"properties\":[{\"default\":0,\"kind\":null,\"name\":\"open_modal\"},{\"default\":0,\"kind\":null,\"name\":\"close_modal\"}]},{\"extends\":null,\"module\":null,\"name\":\"MaterialTemplateActions1\",\"overrides\":[],\"properties\":[{\"default\":0,\"kind\":null,\"name\":\"open_modal\"},{\"default\":0,\"kind\":null,\"name\":\"close_modal\"}]}],\"roots\":{\"references\":[{\"attributes\":{\"overlay\":{\"id\":\"3667\"}},\"id\":\"3665\",\"type\":\"BoxZoomTool\"},{\"attributes\":{},\"id\":\"3666\",\"type\":\"ResetTool\"},{\"attributes\":{\"line_color\":\"#30a2da\",\"line_width\":2,\"x\":{\"field\":\"price\"},\"y\":{\"field\":\"cantidad_cursos\"}},\"id\":\"3678\",\"type\":\"Line\"},{\"attributes\":{\"bottom_units\":\"screen\",\"coordinates\":null,\"fill_alpha\":0.5,\"fill_color\":\"lightgrey\",\"group\":null,\"left_units\":\"screen\",\"level\":\"overlay\",\"line_alpha\":1.0,\"line_color\":\"black\",\"line_dash\":[4,4],\"line_width\":2,\"right_units\":\"screen\",\"syncable\":false,\"top_units\":\"screen\"},\"id\":\"3667\",\"type\":\"BoxAnnotation\"},{\"attributes\":{\"children\":[{\"id\":\"3641\"},{\"id\":\"3645\"},{\"id\":\"3704\"}],\"margin\":[0,0,0,0],\"name\":\"Row02954\",\"tags\":[\"embedded\"]},\"id\":\"3640\",\"type\":\"Row\"},{\"attributes\":{\"line_color\":\"#30a2da\",\"line_width\":2,\"x\":{\"field\":\"price\"},\"y\":{\"field\":\"cantidad_cursos\"}},\"id\":\"3683\",\"type\":\"Line\"},{\"attributes\":{},\"id\":\"3688\",\"type\":\"BasicTickFormatter\"},{\"attributes\":{\"line_alpha\":0.1,\"line_color\":\"#30a2da\",\"line_width\":2,\"x\":{\"field\":\"price\"},\"y\":{\"field\":\"cantidad_cursos\"}},\"id\":\"3679\",\"type\":\"Line\"},{\"attributes\":{},\"id\":\"3650\",\"type\":\"LinearScale\"},{\"attributes\":{},\"id\":\"3701\",\"type\":\"UnionRenderers\"},{\"attributes\":{\"end\":200.0,\"reset_end\":200.0,\"reset_start\":20.0,\"start\":20.0,\"tags\":[[[\"price\",\"price\",null]]]},\"id\":\"3642\",\"type\":\"Range1d\"},{\"attributes\":{\"active_drag\":{\"id\":\"3663\"},\"active_scroll\":{\"id\":\"3664\"},\"tools\":[{\"id\":\"3644\"},{\"id\":\"3662\"},{\"id\":\"3663\"},{\"id\":\"3664\"},{\"id\":\"3665\"},{\"id\":\"3666\"}]},\"id\":\"3668\",\"type\":\"Toolbar\"},{\"attributes\":{\"below\":[{\"id\":\"3654\"}],\"center\":[{\"id\":\"3657\"},{\"id\":\"3661\"}],\"height\":300,\"left\":[{\"id\":\"3658\"}],\"margin\":[5,5,5,5],\"min_border_bottom\":10,\"min_border_left\":10,\"min_border_right\":10,\"min_border_top\":10,\"renderers\":[{\"id\":\"3681\"}],\"sizing_mode\":\"fixed\",\"title\":{\"id\":\"3646\"},\"toolbar\":{\"id\":\"3668\"},\"width\":700,\"x_range\":{\"id\":\"3642\"},\"x_scale\":{\"id\":\"3650\"},\"y_range\":{\"id\":\"3643\"},\"y_scale\":{\"id\":\"3652\"}},\"id\":\"3645\",\"subtype\":\"Figure\",\"type\":\"Plot\"},{\"attributes\":{\"end\":912.8,\"reset_end\":912.8,\"reset_start\":-80.80000000000001,\"start\":-80.80000000000001,\"tags\":[[[\"cantidad_cursos\",\"cantidad_cursos\",null]]]},\"id\":\"3643\",\"type\":\"Range1d\"},{\"attributes\":{},\"id\":\"3676\",\"type\":\"Selection\"},{\"attributes\":{\"callback\":null,\"renderers\":[{\"id\":\"3681\"}],\"tags\":[\"hv_created\"],\"tooltips\":[[\"price\",\"@{price}\"],[\"cantidad_cursos\",\"@{cantidad_cursos}\"]]},\"id\":\"3644\",\"type\":\"HoverTool\"},{\"attributes\":{\"data\":{\"cantidad_cursos\":{\"__ndarray__\":\"PgMAAJoAAACmAAAAdAAAANkAAABTAAAA1AEAACMAAABLAAAAHgAAABoAAABRAAAAHQAAAB8AAAATAAAAmAAAAIUAAAALAAAACAAAABAAAAAlAAAAHgAAAAMAAAAIAAAACgAAABsAAABYAAAAAgAAAAQAAAAGAAAABQAAAA0AAAARAAAABgAAAAoAAAB/AAAAJwEAAA==\",\"dtype\":\"uint32\",\"order\":\"little\",\"shape\":[37]},\"price\":[20,25,30,35,40,45,50,55,60,65,70,75,80,85,90,95,100,105,110,115,120,125,130,135,140,145,150,155,160,165,170,175,180,185,190,195,200]},\"selected\":{\"id\":\"3676\"},\"selection_policy\":{\"id\":\"3701\"}},\"id\":\"3675\",\"type\":\"ColumnDataSource\"},{\"attributes\":{},\"id\":\"3652\",\"type\":\"LinearScale\"},{\"attributes\":{\"line_alpha\":0.2,\"line_color\":\"#30a2da\",\"line_width\":2,\"x\":{\"field\":\"price\"},\"y\":{\"field\":\"cantidad_cursos\"}},\"id\":\"3680\",\"type\":\"Line\"},{\"attributes\":{},\"id\":\"3655\",\"type\":\"BasicTicker\"},{\"attributes\":{\"coordinates\":null,\"data_source\":{\"id\":\"3675\"},\"glyph\":{\"id\":\"3678\"},\"group\":null,\"hover_glyph\":null,\"muted_glyph\":{\"id\":\"3680\"},\"nonselection_glyph\":{\"id\":\"3679\"},\"selection_glyph\":{\"id\":\"3683\"},\"view\":{\"id\":\"3682\"}},\"id\":\"3681\",\"type\":\"GlyphRenderer\"},{\"attributes\":{\"coordinates\":null,\"group\":null,\"text_color\":\"black\",\"text_font_size\":\"12pt\"},\"id\":\"3646\",\"type\":\"Title\"},{\"attributes\":{\"source\":{\"id\":\"3675\"}},\"id\":\"3682\",\"type\":\"CDSView\"},{\"attributes\":{\"axis\":{\"id\":\"3654\"},\"coordinates\":null,\"grid_line_color\":null,\"group\":null,\"ticker\":null},\"id\":\"3657\",\"type\":\"Grid\"},{\"attributes\":{\"axis_label\":\"price\",\"coordinates\":null,\"formatter\":{\"id\":\"3685\"},\"group\":null,\"major_label_policy\":{\"id\":\"3686\"},\"ticker\":{\"id\":\"3655\"}},\"id\":\"3654\",\"type\":\"LinearAxis\"},{\"attributes\":{},\"id\":\"3685\",\"type\":\"BasicTickFormatter\"},{\"attributes\":{},\"id\":\"3663\",\"type\":\"PanTool\"},{\"attributes\":{\"axis_label\":\"cantidad_cursos\",\"coordinates\":null,\"formatter\":{\"id\":\"3688\"},\"group\":null,\"major_label_policy\":{\"id\":\"3689\"},\"ticker\":{\"id\":\"3659\"}},\"id\":\"3658\",\"type\":\"LinearAxis\"},{\"attributes\":{},\"id\":\"3689\",\"type\":\"AllLabels\"},{\"attributes\":{\"axis\":{\"id\":\"3658\"},\"coordinates\":null,\"dimension\":1,\"grid_line_color\":null,\"group\":null,\"ticker\":null},\"id\":\"3661\",\"type\":\"Grid\"},{\"attributes\":{},\"id\":\"3659\",\"type\":\"BasicTicker\"},{\"attributes\":{},\"id\":\"3664\",\"type\":\"WheelZoomTool\"},{\"attributes\":{\"margin\":[5,5,5,5],\"name\":\"HSpacer02959\",\"sizing_mode\":\"stretch_width\"},\"id\":\"3704\",\"type\":\"Spacer\"},{\"attributes\":{},\"id\":\"3686\",\"type\":\"AllLabels\"},{\"attributes\":{},\"id\":\"3662\",\"type\":\"SaveTool\"},{\"attributes\":{\"margin\":[5,5,5,5],\"name\":\"HSpacer02958\",\"sizing_mode\":\"stretch_width\"},\"id\":\"3641\",\"type\":\"Spacer\"}],\"root_ids\":[\"3640\"]},\"title\":\"Bokeh Application\",\"version\":\"2.4.3\"}};\n",
       "    var render_items = [{\"docid\":\"435cb76f-072a-4a4e-ba53-33cc442b5fad\",\"root_ids\":[\"3640\"],\"roots\":{\"3640\":\"aaa36f4c-1e9a-4bd3-a57a-ef30d2e2adfa\"}}];\n",
       "    root.Bokeh.embed.embed_items_notebook(docs_json, render_items);\n",
       "    for (const render_item of render_items) {\n",
       "      for (const root_id of render_item.root_ids) {\n",
       "\tconst id_el = document.getElementById(root_id)\n",
       "\tif (id_el.children.length && (id_el.children[0].className === 'bk-root')) {\n",
       "\t  const root_el = id_el.children[0]\n",
       "\t  root_el.id = root_el.id + '-rendered'\n",
       "\t}\n",
       "      }\n",
       "    }\n",
       "  }\n",
       "  if (root.Bokeh !== undefined && root.Bokeh.Panel !== undefined) {\n",
       "    embed_document(root);\n",
       "  } else {\n",
       "    var attempts = 0;\n",
       "    var timer = setInterval(function(root) {\n",
       "      if (root.Bokeh !== undefined && root.Bokeh.Panel !== undefined) {\n",
       "        clearInterval(timer);\n",
       "        embed_document(root);\n",
       "      } else if (document.readyState == \"complete\") {\n",
       "        attempts++;\n",
       "        if (attempts > 200) {\n",
       "          clearInterval(timer);\n",
       "          console.log(\"Bokeh: ERROR: Unable to run BokehJS code because BokehJS library is missing\");\n",
       "        }\n",
       "      }\n",
       "    }, 25, root)\n",
       "  }\n",
       "})(window);</script>"
      ],
      "text/plain": [
       ":Curve   [price]   (cantidad_cursos)"
      ]
     },
     "execution_count": 89,
     "metadata": {
      "application/vnd.holoviews_exec.v0+json": {
       "id": "3640"
      }
     },
     "output_type": "execute_result"
    }
   ],
   "source": [
    "dfu_group_precio.to_pandas().hvplot('price','cantidad_cursos')"
   ]
  },
  {
   "cell_type": "markdown",
   "id": "e8f7b305-0b76-4acb-80cc-fce7511f4be7",
   "metadata": {},
   "source": [
    "## Me gustaria analizar una posible relacion entre complejidad/precio/cant venta"
   ]
  },
  {
   "cell_type": "code",
   "execution_count": 90,
   "id": "1a926f9f-9fd4-4b77-8290-a204b9c3a0c6",
   "metadata": {},
   "outputs": [],
   "source": [
    "dfu_group_level1 = (\n",
    "  df_u\n",
    "  .groupby('level')\n",
    "  .agg(\n",
    "  [\n",
    "    pl.col('price').mean().alias('precio_promedio'),\n",
    "    pl.col('price').count().alias('cantidad_cursos')\n",
    "  ]\n",
    "  )\n",
    "  .sort(['level','precio_promedio'])  \n",
    ")\n",
    "dfu_group_level1 = dfu_group_level1.with_column(pl.col('level').alias('nivel_complejidad'))\n",
    "dfu_group_level1 = dfu_group_level1.select(pl.exclude('level'))"
   ]
  },
  {
   "cell_type": "markdown",
   "id": "1a75fc72-0dc7-46ff-9d38-a64dd873c393",
   "metadata": {
    "tags": []
   },
   "source": [
    "### Ordenar la columna level"
   ]
  },
  {
   "cell_type": "code",
   "execution_count": 91,
   "id": "fd21e6e9-f87a-40df-8511-73908bef9342",
   "metadata": {},
   "outputs": [],
   "source": [
    "dfu_group_level1 = (\n",
    "       dfu_group_level1.with_column(pl.col('nivel_complejidad')\n",
    "       .apply(lambda x: '1'+x if x == 'All Levels' else x)                 \n",
    "       .apply(lambda x: '2'+x if x == 'Beginner Level' else x)                 \n",
    "       .apply(lambda x: '3'+x if x == 'Intermediate Level' else x)                                  \n",
    "       .apply(lambda x: '4'+x if x == 'Expert Level' else x)                                  \n",
    "       .alias('level1'))\n",
    "       .sort('level1') \n",
    "       ) \n",
    "dfu_group_level1 = dfu_group_level1.select(pl.exclude('level1'))\n",
    "#df_u.head()"
   ]
  },
  {
   "cell_type": "code",
   "execution_count": 92,
   "id": "f38e8b62-3486-4ea1-a3a6-6bc9493a01a2",
   "metadata": {},
   "outputs": [
    {
     "data": {
      "application/vnd.holoviews_exec.v0+json": "",
      "text/html": [
       "<div id='3756'>\n",
       "  <div class=\"bk-root\" id=\"1d82ead1-cd98-49c9-a089-31f4783c4f7e\" data-root-id=\"3756\"></div>\n",
       "</div>\n",
       "<script type=\"application/javascript\">(function(root) {\n",
       "  function embed_document(root) {\n",
       "    var docs_json = {\"980048d1-c5e3-4131-b758-3420ae451832\":{\"defs\":[{\"extends\":null,\"module\":null,\"name\":\"ReactiveHTML1\",\"overrides\":[],\"properties\":[]},{\"extends\":null,\"module\":null,\"name\":\"FlexBox1\",\"overrides\":[],\"properties\":[{\"default\":\"flex-start\",\"kind\":null,\"name\":\"align_content\"},{\"default\":\"flex-start\",\"kind\":null,\"name\":\"align_items\"},{\"default\":\"row\",\"kind\":null,\"name\":\"flex_direction\"},{\"default\":\"wrap\",\"kind\":null,\"name\":\"flex_wrap\"},{\"default\":\"flex-start\",\"kind\":null,\"name\":\"justify_content\"}]},{\"extends\":null,\"module\":null,\"name\":\"GridStack1\",\"overrides\":[],\"properties\":[{\"default\":\"warn\",\"kind\":null,\"name\":\"mode\"},{\"default\":null,\"kind\":null,\"name\":\"ncols\"},{\"default\":null,\"kind\":null,\"name\":\"nrows\"},{\"default\":true,\"kind\":null,\"name\":\"allow_resize\"},{\"default\":true,\"kind\":null,\"name\":\"allow_drag\"},{\"default\":[],\"kind\":null,\"name\":\"state\"}]},{\"extends\":null,\"module\":null,\"name\":\"click1\",\"overrides\":[],\"properties\":[{\"default\":\"\",\"kind\":null,\"name\":\"terminal_output\"},{\"default\":\"\",\"kind\":null,\"name\":\"debug_name\"},{\"default\":0,\"kind\":null,\"name\":\"clears\"}]},{\"extends\":null,\"module\":null,\"name\":\"NotificationAreaBase1\",\"overrides\":[],\"properties\":[{\"default\":\"bottom-right\",\"kind\":null,\"name\":\"position\"},{\"default\":0,\"kind\":null,\"name\":\"_clear\"}]},{\"extends\":null,\"module\":null,\"name\":\"NotificationArea1\",\"overrides\":[],\"properties\":[{\"default\":[],\"kind\":null,\"name\":\"notifications\"},{\"default\":\"bottom-right\",\"kind\":null,\"name\":\"position\"},{\"default\":0,\"kind\":null,\"name\":\"_clear\"},{\"default\":[{\"background\":\"#ffc107\",\"icon\":{\"className\":\"fas fa-exclamation-triangle\",\"color\":\"white\",\"tagName\":\"i\"},\"type\":\"warning\"},{\"background\":\"#007bff\",\"icon\":{\"className\":\"fas fa-info-circle\",\"color\":\"white\",\"tagName\":\"i\"},\"type\":\"info\"}],\"kind\":null,\"name\":\"types\"}]},{\"extends\":null,\"module\":null,\"name\":\"Notification\",\"overrides\":[],\"properties\":[{\"default\":null,\"kind\":null,\"name\":\"background\"},{\"default\":3000,\"kind\":null,\"name\":\"duration\"},{\"default\":null,\"kind\":null,\"name\":\"icon\"},{\"default\":\"\",\"kind\":null,\"name\":\"message\"},{\"default\":null,\"kind\":null,\"name\":\"notification_type\"},{\"default\":false,\"kind\":null,\"name\":\"_destroyed\"}]},{\"extends\":null,\"module\":null,\"name\":\"TemplateActions1\",\"overrides\":[],\"properties\":[{\"default\":0,\"kind\":null,\"name\":\"open_modal\"},{\"default\":0,\"kind\":null,\"name\":\"close_modal\"}]},{\"extends\":null,\"module\":null,\"name\":\"MaterialTemplateActions1\",\"overrides\":[],\"properties\":[{\"default\":0,\"kind\":null,\"name\":\"open_modal\"},{\"default\":0,\"kind\":null,\"name\":\"close_modal\"}]}],\"roots\":{\"references\":[{\"attributes\":{\"margin\":[5,5,5,5],\"name\":\"HSpacer03064\",\"sizing_mode\":\"stretch_width\"},\"id\":\"3757\",\"type\":\"Spacer\"},{\"attributes\":{},\"id\":\"3771\",\"type\":\"CategoricalTicker\"},{\"attributes\":{},\"id\":\"3803\",\"type\":\"BasicTickFormatter\"},{\"attributes\":{\"axis\":{\"id\":\"3770\"},\"coordinates\":null,\"grid_line_color\":null,\"group\":null,\"ticker\":null},\"id\":\"3772\",\"type\":\"Grid\"},{\"attributes\":{\"active_drag\":{\"id\":\"3778\"},\"active_scroll\":{\"id\":\"3779\"},\"tools\":[{\"id\":\"3760\"},{\"id\":\"3777\"},{\"id\":\"3778\"},{\"id\":\"3779\"},{\"id\":\"3780\"},{\"id\":\"3781\"}]},\"id\":\"3783\",\"type\":\"Toolbar\"},{\"attributes\":{\"axis_label\":\"nivel_complejidad\",\"coordinates\":null,\"formatter\":{\"id\":\"3800\"},\"group\":null,\"major_label_policy\":{\"id\":\"3801\"},\"ticker\":{\"id\":\"3771\"}},\"id\":\"3770\",\"type\":\"CategoricalAxis\"},{\"attributes\":{},\"id\":\"3778\",\"type\":\"PanTool\"},{\"attributes\":{},\"id\":\"3801\",\"type\":\"AllLabels\"},{\"attributes\":{\"axis_label\":\"cantidad_cursos\",\"coordinates\":null,\"formatter\":{\"id\":\"3803\"},\"group\":null,\"major_label_policy\":{\"id\":\"3804\"},\"ticker\":{\"id\":\"3774\"}},\"id\":\"3773\",\"type\":\"LinearAxis\"},{\"attributes\":{\"axis\":{\"id\":\"3773\"},\"coordinates\":null,\"dimension\":1,\"grid_line_color\":null,\"group\":null,\"ticker\":null},\"id\":\"3776\",\"type\":\"Grid\"},{\"attributes\":{},\"id\":\"3774\",\"type\":\"BasicTicker\"},{\"attributes\":{},\"id\":\"3804\",\"type\":\"AllLabels\"},{\"attributes\":{},\"id\":\"3779\",\"type\":\"WheelZoomTool\"},{\"attributes\":{},\"id\":\"3777\",\"type\":\"SaveTool\"},{\"attributes\":{\"line_color\":\"#30a2da\",\"line_width\":2,\"x\":{\"field\":\"nivel_complejidad\"},\"y\":{\"field\":\"cantidad_cursos\"}},\"id\":\"3793\",\"type\":\"Line\"},{\"attributes\":{\"overlay\":{\"id\":\"3782\"}},\"id\":\"3780\",\"type\":\"BoxZoomTool\"},{\"attributes\":{},\"id\":\"3781\",\"type\":\"ResetTool\"},{\"attributes\":{\"end\":2116.1,\"reset_end\":2116.1,\"reset_start\":-129.10000000000002,\"start\":-129.10000000000002,\"tags\":[[[\"cantidad_cursos\",\"cantidad_cursos\",null]]]},\"id\":\"3759\",\"type\":\"Range1d\"},{\"attributes\":{\"children\":[{\"id\":\"3757\"},{\"id\":\"3761\"},{\"id\":\"3819\"}],\"margin\":[0,0,0,0],\"name\":\"Row03060\",\"tags\":[\"embedded\"]},\"id\":\"3756\",\"type\":\"Row\"},{\"attributes\":{},\"id\":\"3768\",\"type\":\"LinearScale\"},{\"attributes\":{\"bottom_units\":\"screen\",\"coordinates\":null,\"fill_alpha\":0.5,\"fill_color\":\"lightgrey\",\"group\":null,\"left_units\":\"screen\",\"level\":\"overlay\",\"line_alpha\":1.0,\"line_color\":\"black\",\"line_dash\":[4,4],\"line_width\":2,\"right_units\":\"screen\",\"syncable\":false,\"top_units\":\"screen\"},\"id\":\"3782\",\"type\":\"BoxAnnotation\"},{\"attributes\":{\"line_color\":\"#30a2da\",\"line_width\":2,\"x\":{\"field\":\"nivel_complejidad\"},\"y\":{\"field\":\"cantidad_cursos\"}},\"id\":\"3798\",\"type\":\"Line\"},{\"attributes\":{},\"id\":\"3791\",\"type\":\"Selection\"},{\"attributes\":{\"line_alpha\":0.1,\"line_color\":\"#30a2da\",\"line_width\":2,\"x\":{\"field\":\"nivel_complejidad\"},\"y\":{\"field\":\"cantidad_cursos\"}},\"id\":\"3794\",\"type\":\"Line\"},{\"attributes\":{\"factors\":[\"All Levels\",\"Beginner Level\",\"Intermediate Level\",\"Expert Level\"],\"tags\":[[[\"nivel_complejidad\",\"nivel_complejidad\",null]]]},\"id\":\"3758\",\"type\":\"FactorRange\"},{\"attributes\":{\"margin\":[5,5,5,5],\"name\":\"HSpacer03065\",\"sizing_mode\":\"stretch_width\"},\"id\":\"3819\",\"type\":\"Spacer\"},{\"attributes\":{\"coordinates\":null,\"group\":null,\"text_color\":\"black\",\"text_font_size\":\"12pt\"},\"id\":\"3762\",\"type\":\"Title\"},{\"attributes\":{\"below\":[{\"id\":\"3770\"}],\"center\":[{\"id\":\"3772\"},{\"id\":\"3776\"}],\"height\":300,\"left\":[{\"id\":\"3773\"}],\"margin\":[5,5,5,5],\"min_border_bottom\":10,\"min_border_left\":10,\"min_border_right\":10,\"min_border_top\":10,\"renderers\":[{\"id\":\"3796\"}],\"sizing_mode\":\"fixed\",\"title\":{\"id\":\"3762\"},\"toolbar\":{\"id\":\"3783\"},\"width\":700,\"x_range\":{\"id\":\"3758\"},\"x_scale\":{\"id\":\"3766\"},\"y_range\":{\"id\":\"3759\"},\"y_scale\":{\"id\":\"3768\"}},\"id\":\"3761\",\"subtype\":\"Figure\",\"type\":\"Plot\"},{\"attributes\":{\"data\":{\"cantidad_cursos\":{\"__ndarray__\":\"iQcAAPYEAAClAQAAOgAAAA==\",\"dtype\":\"uint32\",\"order\":\"little\",\"shape\":[4]},\"nivel_complejidad\":[\"All Levels\",\"Beginner Level\",\"Intermediate Level\",\"Expert Level\"]},\"selected\":{\"id\":\"3791\"},\"selection_policy\":{\"id\":\"3816\"}},\"id\":\"3790\",\"type\":\"ColumnDataSource\"},{\"attributes\":{\"source\":{\"id\":\"3790\"}},\"id\":\"3797\",\"type\":\"CDSView\"},{\"attributes\":{},\"id\":\"3816\",\"type\":\"UnionRenderers\"},{\"attributes\":{\"callback\":null,\"renderers\":[{\"id\":\"3796\"}],\"tags\":[\"hv_created\"],\"tooltips\":[[\"nivel_complejidad\",\"@{nivel_complejidad}\"],[\"cantidad_cursos\",\"@{cantidad_cursos}\"]]},\"id\":\"3760\",\"type\":\"HoverTool\"},{\"attributes\":{},\"id\":\"3766\",\"type\":\"CategoricalScale\"},{\"attributes\":{\"coordinates\":null,\"data_source\":{\"id\":\"3790\"},\"glyph\":{\"id\":\"3793\"},\"group\":null,\"hover_glyph\":null,\"muted_glyph\":{\"id\":\"3795\"},\"nonselection_glyph\":{\"id\":\"3794\"},\"selection_glyph\":{\"id\":\"3798\"},\"view\":{\"id\":\"3797\"}},\"id\":\"3796\",\"type\":\"GlyphRenderer\"},{\"attributes\":{\"line_alpha\":0.2,\"line_color\":\"#30a2da\",\"line_width\":2,\"x\":{\"field\":\"nivel_complejidad\"},\"y\":{\"field\":\"cantidad_cursos\"}},\"id\":\"3795\",\"type\":\"Line\"},{\"attributes\":{},\"id\":\"3800\",\"type\":\"CategoricalTickFormatter\"}],\"root_ids\":[\"3756\"]},\"title\":\"Bokeh Application\",\"version\":\"2.4.3\"}};\n",
       "    var render_items = [{\"docid\":\"980048d1-c5e3-4131-b758-3420ae451832\",\"root_ids\":[\"3756\"],\"roots\":{\"3756\":\"1d82ead1-cd98-49c9-a089-31f4783c4f7e\"}}];\n",
       "    root.Bokeh.embed.embed_items_notebook(docs_json, render_items);\n",
       "    for (const render_item of render_items) {\n",
       "      for (const root_id of render_item.root_ids) {\n",
       "\tconst id_el = document.getElementById(root_id)\n",
       "\tif (id_el.children.length && (id_el.children[0].className === 'bk-root')) {\n",
       "\t  const root_el = id_el.children[0]\n",
       "\t  root_el.id = root_el.id + '-rendered'\n",
       "\t}\n",
       "      }\n",
       "    }\n",
       "  }\n",
       "  if (root.Bokeh !== undefined && root.Bokeh.Panel !== undefined) {\n",
       "    embed_document(root);\n",
       "  } else {\n",
       "    var attempts = 0;\n",
       "    var timer = setInterval(function(root) {\n",
       "      if (root.Bokeh !== undefined && root.Bokeh.Panel !== undefined) {\n",
       "        clearInterval(timer);\n",
       "        embed_document(root);\n",
       "      } else if (document.readyState == \"complete\") {\n",
       "        attempts++;\n",
       "        if (attempts > 200) {\n",
       "          clearInterval(timer);\n",
       "          console.log(\"Bokeh: ERROR: Unable to run BokehJS code because BokehJS library is missing\");\n",
       "        }\n",
       "      }\n",
       "    }, 25, root)\n",
       "  }\n",
       "})(window);</script>"
      ],
      "text/plain": [
       ":Curve   [nivel_complejidad]   (cantidad_cursos)"
      ]
     },
     "execution_count": 92,
     "metadata": {
      "application/vnd.holoviews_exec.v0+json": {
       "id": "3756"
      }
     },
     "output_type": "execute_result"
    }
   ],
   "source": [
    "dfu_group_level1.to_pandas().hvplot('nivel_complejidad','cantidad_cursos')"
   ]
  },
  {
   "cell_type": "code",
   "execution_count": null,
   "id": "ab95f2eb-eda2-43a9-980c-e3bf3e4badf5",
   "metadata": {},
   "outputs": [],
   "source": []
  },
  {
   "cell_type": "code",
   "execution_count": null,
   "id": "3ed37b12-bfa8-4b44-8c15-157748ee5d7b",
   "metadata": {},
   "outputs": [],
   "source": []
  },
  {
   "cell_type": "code",
   "execution_count": null,
   "id": "017d1ec3-fac9-451b-bceb-5bff5e42e766",
   "metadata": {},
   "outputs": [],
   "source": []
  },
  {
   "cell_type": "code",
   "execution_count": null,
   "id": "fb8582f3-7078-48e6-9c6b-1a0fa3a69fff",
   "metadata": {},
   "outputs": [],
   "source": []
  },
  {
   "cell_type": "code",
   "execution_count": null,
   "id": "89489fc4-05ea-4922-b5ac-97c3b403a08f",
   "metadata": {},
   "outputs": [],
   "source": []
  },
  {
   "cell_type": "markdown",
   "id": "80645e4b-18d7-48fc-b086-510972368600",
   "metadata": {
    "tags": []
   },
   "source": [
    "## df_r = Coursera_reviews"
   ]
  },
  {
   "cell_type": "code",
   "execution_count": 93,
   "id": "8d8d1f72-b3a3-4938-a424-f09385b91483",
   "metadata": {},
   "outputs": [],
   "source": [
    "df_r = pl.read_csv(r\"C:\\Users\\ornal\\Desktop\\Data Analitics\\Test\\coursera_reviews.csv\", \n",
    "                   null_values=['NA','NaN'])"
   ]
  },
  {
   "cell_type": "markdown",
   "id": "c9ccaa0c-1b8f-45ba-acff-f0970b958e48",
   "metadata": {},
   "source": [
    "### Busco nulos en df_r"
   ]
  },
  {
   "cell_type": "code",
   "execution_count": 94,
   "id": "65cfba53-000b-4360-b8d3-c34411c5aff3",
   "metadata": {},
   "outputs": [
    {
     "data": {
      "text/html": [
       "<div>\n",
       "<style scoped>\n",
       "    .dataframe tbody tr th:only-of-type {\n",
       "        vertical-align: middle;\n",
       "    }\n",
       "\n",
       "    .dataframe tbody tr th {\n",
       "        vertical-align: top;\n",
       "    }\n",
       "\n",
       "    .dataframe thead th {\n",
       "        text-align: right;\n",
       "    }\n",
       "\n",
       "    .dataframe td {\n",
       "        white-space: pre;\n",
       "    }\n",
       "\n",
       "    .dataframe td {\n",
       "        padding-top: 0;\n",
       "    }\n",
       "\n",
       "    .dataframe td {\n",
       "        padding-bottom: 0;\n",
       "    }\n",
       "\n",
       "    .dataframe td {\n",
       "        line-height: 95%;\n",
       "    }\n",
       "</style>\n",
       "<table border=\"1\" class=\"dataframe\">\n",
       "<small>shape: (1, 5)</small>\n",
       "<thead>\n",
       "<tr>\n",
       "<th>\n",
       "reviews\n",
       "</th>\n",
       "<th>\n",
       "reviewers\n",
       "</th>\n",
       "<th>\n",
       "date_reviews\n",
       "</th>\n",
       "<th>\n",
       "rating\n",
       "</th>\n",
       "<th>\n",
       "course_id\n",
       "</th>\n",
       "</tr>\n",
       "<tr>\n",
       "<td>\n",
       "u32\n",
       "</td>\n",
       "<td>\n",
       "u32\n",
       "</td>\n",
       "<td>\n",
       "u32\n",
       "</td>\n",
       "<td>\n",
       "u32\n",
       "</td>\n",
       "<td>\n",
       "u32\n",
       "</td>\n",
       "</tr>\n",
       "</thead>\n",
       "<tbody>\n",
       "<tr>\n",
       "<td>\n",
       "95\n",
       "</td>\n",
       "<td>\n",
       "0\n",
       "</td>\n",
       "<td>\n",
       "0\n",
       "</td>\n",
       "<td>\n",
       "0\n",
       "</td>\n",
       "<td>\n",
       "0\n",
       "</td>\n",
       "</tr>\n",
       "</tbody>\n",
       "</table>\n",
       "</div>"
      ],
      "text/plain": [
       "shape: (1, 5)\n",
       "┌─────────┬───────────┬──────────────┬────────┬───────────┐\n",
       "│ reviews ┆ reviewers ┆ date_reviews ┆ rating ┆ course_id │\n",
       "│ ---     ┆ ---       ┆ ---          ┆ ---    ┆ ---       │\n",
       "│ u32     ┆ u32       ┆ u32          ┆ u32    ┆ u32       │\n",
       "╞═════════╪═══════════╪══════════════╪════════╪═══════════╡\n",
       "│ 95      ┆ 0         ┆ 0            ┆ 0      ┆ 0         │\n",
       "└─────────┴───────────┴──────────────┴────────┴───────────┘"
      ]
     },
     "execution_count": 94,
     "metadata": {},
     "output_type": "execute_result"
    }
   ],
   "source": [
    "df_r.null_count()"
   ]
  },
  {
   "cell_type": "markdown",
   "id": "c0395168-7a47-40ff-8a78-92d95dabdf39",
   "metadata": {},
   "source": [
    "### Voy a eliminar los nulos en df_r"
   ]
  },
  {
   "cell_type": "code",
   "execution_count": 95,
   "id": "804f62e5-14b9-425c-8f4d-fd7db3d3f19b",
   "metadata": {},
   "outputs": [],
   "source": [
    "df_r = df_r.filter(pl.col('*').is_not_null())"
   ]
  },
  {
   "cell_type": "markdown",
   "id": "97d376d2-5901-4e69-8c0d-f111708db848",
   "metadata": {},
   "source": [
    "### Salvo df_r en formato parquet con el nombre de 'reviews.parquet'"
   ]
  },
  {
   "cell_type": "code",
   "execution_count": 96,
   "id": "fb3181bb-c76c-4e28-89e1-4133e33ee5d9",
   "metadata": {},
   "outputs": [],
   "source": [
    "df_r.write_parquet(r\"C:\\Users\\ornal\\Desktop\\Data Analitics\\Test\\reviews.parquet\")\n",
    "df_r.write_csv(r\"C:\\Users\\ornal\\Desktop\\Data Analitics\\Test\\reviews.csv\")"
   ]
  },
  {
   "cell_type": "code",
   "execution_count": 27,
   "id": "8254525a-e2d8-4368-8aab-816390b67bcc",
   "metadata": {},
   "outputs": [],
   "source": [
    "import math"
   ]
  },
  {
   "cell_type": "markdown",
   "id": "728ecf64-b6e4-4ee4-be00-0537895bba00",
   "metadata": {},
   "source": [
    "## dfr_group_rating = (•\tNivel de ventas según rating)\n",
    "### DataFrame con datos de Review Coursera agrupados por rating\n",
    "### agrega(cantidad_cursos)"
   ]
  },
  {
   "cell_type": "code",
   "execution_count": 28,
   "id": "19695c11-ca60-4674-8236-4dbd17043945",
   "metadata": {},
   "outputs": [],
   "source": [
    "dfr_group_rating = (\n",
    "  df_r\n",
    "  .groupby('course_id')\n",
    "  .agg(\n",
    "  [\n",
    "    pl.col('rating').mean().alias('rating_promedio'),\n",
    "    pl.col('rating').count().alias('cantidad')  \n",
    "  ]\n",
    "  )  \n",
    ")\n",
    "\n"
   ]
  },
  {
   "cell_type": "code",
   "execution_count": 29,
   "id": "24ac91fd-a053-460b-a757-22d99ccaf520",
   "metadata": {},
   "outputs": [],
   "source": [
    "dfr_group_rating = dfr_group_rating.with_column(pl.col('rating_promedio')\n",
    "                   .apply(lambda x: math.modf(x)[1] if (math.modf(x)[0] > 0 and math.modf(x)[0] < 5) else round(x))                             \n",
    "                   )\n",
    "\n"
   ]
  },
  {
   "cell_type": "code",
   "execution_count": 30,
   "id": "f15845fb-4c6c-4015-9482-c8a28587e930",
   "metadata": {},
   "outputs": [],
   "source": [
    "dfr_group_rating_prom = (\n",
    "  dfr_group_rating\n",
    "  .groupby('rating_promedio')\n",
    "  .agg(\n",
    "  [\n",
    "    pl.col('course_id').count().alias('cantidad_cursos')\n",
    "  ]\n",
    "  )\n",
    "  .sort('rating_promedio')  \n",
    ")"
   ]
  },
  {
   "cell_type": "code",
   "execution_count": 31,
   "id": "80bb5fad-62b9-43df-bf9a-bb0bafb56517",
   "metadata": {},
   "outputs": [
    {
     "data": {
      "application/vnd.holoviews_exec.v0+json": "",
      "text/html": [
       "<div id='1349'>\n",
       "  <div class=\"bk-root\" id=\"9720c8b8-d50b-4e6d-ab7f-be56e9a48a06\" data-root-id=\"1349\"></div>\n",
       "</div>\n",
       "<script type=\"application/javascript\">(function(root) {\n",
       "  function embed_document(root) {\n",
       "    var docs_json = {\"b604c3ee-35c4-452e-9f31-74afccdbe09c\":{\"defs\":[{\"extends\":null,\"module\":null,\"name\":\"ReactiveHTML1\",\"overrides\":[],\"properties\":[]},{\"extends\":null,\"module\":null,\"name\":\"FlexBox1\",\"overrides\":[],\"properties\":[{\"default\":\"flex-start\",\"kind\":null,\"name\":\"align_content\"},{\"default\":\"flex-start\",\"kind\":null,\"name\":\"align_items\"},{\"default\":\"row\",\"kind\":null,\"name\":\"flex_direction\"},{\"default\":\"wrap\",\"kind\":null,\"name\":\"flex_wrap\"},{\"default\":\"flex-start\",\"kind\":null,\"name\":\"justify_content\"}]},{\"extends\":null,\"module\":null,\"name\":\"GridStack1\",\"overrides\":[],\"properties\":[{\"default\":\"warn\",\"kind\":null,\"name\":\"mode\"},{\"default\":null,\"kind\":null,\"name\":\"ncols\"},{\"default\":null,\"kind\":null,\"name\":\"nrows\"},{\"default\":true,\"kind\":null,\"name\":\"allow_resize\"},{\"default\":true,\"kind\":null,\"name\":\"allow_drag\"},{\"default\":[],\"kind\":null,\"name\":\"state\"}]},{\"extends\":null,\"module\":null,\"name\":\"click1\",\"overrides\":[],\"properties\":[{\"default\":\"\",\"kind\":null,\"name\":\"terminal_output\"},{\"default\":\"\",\"kind\":null,\"name\":\"debug_name\"},{\"default\":0,\"kind\":null,\"name\":\"clears\"}]},{\"extends\":null,\"module\":null,\"name\":\"NotificationAreaBase1\",\"overrides\":[],\"properties\":[{\"default\":\"bottom-right\",\"kind\":null,\"name\":\"position\"},{\"default\":0,\"kind\":null,\"name\":\"_clear\"}]},{\"extends\":null,\"module\":null,\"name\":\"NotificationArea1\",\"overrides\":[],\"properties\":[{\"default\":[],\"kind\":null,\"name\":\"notifications\"},{\"default\":\"bottom-right\",\"kind\":null,\"name\":\"position\"},{\"default\":0,\"kind\":null,\"name\":\"_clear\"},{\"default\":[{\"background\":\"#ffc107\",\"icon\":{\"className\":\"fas fa-exclamation-triangle\",\"color\":\"white\",\"tagName\":\"i\"},\"type\":\"warning\"},{\"background\":\"#007bff\",\"icon\":{\"className\":\"fas fa-info-circle\",\"color\":\"white\",\"tagName\":\"i\"},\"type\":\"info\"}],\"kind\":null,\"name\":\"types\"}]},{\"extends\":null,\"module\":null,\"name\":\"Notification\",\"overrides\":[],\"properties\":[{\"default\":null,\"kind\":null,\"name\":\"background\"},{\"default\":3000,\"kind\":null,\"name\":\"duration\"},{\"default\":null,\"kind\":null,\"name\":\"icon\"},{\"default\":\"\",\"kind\":null,\"name\":\"message\"},{\"default\":null,\"kind\":null,\"name\":\"notification_type\"},{\"default\":false,\"kind\":null,\"name\":\"_destroyed\"}]},{\"extends\":null,\"module\":null,\"name\":\"TemplateActions1\",\"overrides\":[],\"properties\":[{\"default\":0,\"kind\":null,\"name\":\"open_modal\"},{\"default\":0,\"kind\":null,\"name\":\"close_modal\"}]},{\"extends\":null,\"module\":null,\"name\":\"MaterialTemplateActions1\",\"overrides\":[],\"properties\":[{\"default\":0,\"kind\":null,\"name\":\"open_modal\"},{\"default\":0,\"kind\":null,\"name\":\"close_modal\"}]}],\"roots\":{\"references\":[{\"attributes\":{\"below\":[{\"id\":\"1363\"}],\"center\":[{\"id\":\"1366\"},{\"id\":\"1370\"}],\"height\":300,\"left\":[{\"id\":\"1367\"}],\"margin\":[5,5,5,5],\"min_border_bottom\":10,\"min_border_left\":10,\"min_border_right\":10,\"min_border_top\":10,\"renderers\":[{\"id\":\"1390\"}],\"sizing_mode\":\"fixed\",\"title\":{\"id\":\"1355\"},\"toolbar\":{\"id\":\"1377\"},\"width\":700,\"x_range\":{\"id\":\"1351\"},\"x_scale\":{\"id\":\"1359\"},\"y_range\":{\"id\":\"1352\"},\"y_scale\":{\"id\":\"1361\"}},\"id\":\"1354\",\"subtype\":\"Figure\",\"type\":\"Plot\"},{\"attributes\":{\"end\":633.2,\"reset_end\":633.2,\"reset_start\":-53.2,\"start\":-53.2,\"tags\":[[[\"cantidad_cursos\",\"cantidad_cursos\",null]]]},\"id\":\"1352\",\"type\":\"Range1d\"},{\"attributes\":{},\"id\":\"1385\",\"type\":\"Selection\"},{\"attributes\":{\"callback\":null,\"renderers\":[{\"id\":\"1390\"}],\"tags\":[\"hv_created\"],\"tooltips\":[[\"rating_promedio\",\"@{rating_promedio}\"],[\"cantidad_cursos\",\"@{cantidad_cursos}\"]]},\"id\":\"1353\",\"type\":\"HoverTool\"},{\"attributes\":{},\"id\":\"1398\",\"type\":\"AllLabels\"},{\"attributes\":{},\"id\":\"1361\",\"type\":\"LinearScale\"},{\"attributes\":{},\"id\":\"1359\",\"type\":\"LinearScale\"},{\"attributes\":{},\"id\":\"1397\",\"type\":\"BasicTickFormatter\"},{\"attributes\":{},\"id\":\"1364\",\"type\":\"BasicTicker\"},{\"attributes\":{\"coordinates\":null,\"group\":null,\"text_color\":\"black\",\"text_font_size\":\"12pt\"},\"id\":\"1355\",\"type\":\"Title\"},{\"attributes\":{\"axis\":{\"id\":\"1363\"},\"coordinates\":null,\"grid_line_color\":null,\"group\":null,\"ticker\":null},\"id\":\"1366\",\"type\":\"Grid\"},{\"attributes\":{\"axis_label\":\"rating_promedio\",\"coordinates\":null,\"formatter\":{\"id\":\"1394\"},\"group\":null,\"major_label_policy\":{\"id\":\"1395\"},\"ticker\":{\"id\":\"1364\"}},\"id\":\"1363\",\"type\":\"LinearAxis\"},{\"attributes\":{},\"id\":\"1394\",\"type\":\"BasicTickFormatter\"},{\"attributes\":{},\"id\":\"1372\",\"type\":\"PanTool\"},{\"attributes\":{\"margin\":[5,5,5,5],\"name\":\"HSpacer01186\",\"sizing_mode\":\"stretch_width\"},\"id\":\"1413\",\"type\":\"Spacer\"},{\"attributes\":{\"axis_label\":\"cantidad_cursos\",\"coordinates\":null,\"formatter\":{\"id\":\"1397\"},\"group\":null,\"major_label_policy\":{\"id\":\"1398\"},\"ticker\":{\"id\":\"1368\"}},\"id\":\"1367\",\"type\":\"LinearAxis\"},{\"attributes\":{\"axis\":{\"id\":\"1367\"},\"coordinates\":null,\"dimension\":1,\"grid_line_color\":null,\"group\":null,\"ticker\":null},\"id\":\"1370\",\"type\":\"Grid\"},{\"attributes\":{\"margin\":[5,5,5,5],\"name\":\"HSpacer01185\",\"sizing_mode\":\"stretch_width\"},\"id\":\"1350\",\"type\":\"Spacer\"},{\"attributes\":{},\"id\":\"1368\",\"type\":\"BasicTicker\"},{\"attributes\":{},\"id\":\"1373\",\"type\":\"WheelZoomTool\"},{\"attributes\":{\"coordinates\":null,\"data_source\":{\"id\":\"1384\"},\"glyph\":{\"id\":\"1387\"},\"group\":null,\"hover_glyph\":null,\"muted_glyph\":{\"id\":\"1389\"},\"nonselection_glyph\":{\"id\":\"1388\"},\"selection_glyph\":{\"id\":\"1392\"},\"view\":{\"id\":\"1391\"}},\"id\":\"1390\",\"type\":\"GlyphRenderer\"},{\"attributes\":{},\"id\":\"1371\",\"type\":\"SaveTool\"},{\"attributes\":{\"children\":[{\"id\":\"1350\"},{\"id\":\"1354\"},{\"id\":\"1413\"}],\"margin\":[0,0,0,0],\"name\":\"Row01181\",\"tags\":[\"embedded\"]},\"id\":\"1349\",\"type\":\"Row\"},{\"attributes\":{\"line_alpha\":0.2,\"line_color\":\"#30a2da\",\"line_width\":2,\"x\":{\"field\":\"rating_promedio\"},\"y\":{\"field\":\"cantidad_cursos\"}},\"id\":\"1389\",\"type\":\"Line\"},{\"attributes\":{\"overlay\":{\"id\":\"1376\"}},\"id\":\"1374\",\"type\":\"BoxZoomTool\"},{\"attributes\":{},\"id\":\"1375\",\"type\":\"ResetTool\"},{\"attributes\":{\"data\":{\"cantidad_cursos\":{\"__ndarray__\":\"BAAAABQAAABAAgAABAAAAA==\",\"dtype\":\"uint32\",\"order\":\"little\",\"shape\":[4]},\"rating_promedio\":{\"__ndarray__\":\"AAAAAAAA8D8AAAAAAAAIQAAAAAAAABBAAAAAAAAAFEA=\",\"dtype\":\"float64\",\"order\":\"little\",\"shape\":[4]}},\"selected\":{\"id\":\"1385\"},\"selection_policy\":{\"id\":\"1410\"}},\"id\":\"1384\",\"type\":\"ColumnDataSource\"},{\"attributes\":{\"bottom_units\":\"screen\",\"coordinates\":null,\"fill_alpha\":0.5,\"fill_color\":\"lightgrey\",\"group\":null,\"left_units\":\"screen\",\"level\":\"overlay\",\"line_alpha\":1.0,\"line_color\":\"black\",\"line_dash\":[4,4],\"line_width\":2,\"right_units\":\"screen\",\"syncable\":false,\"top_units\":\"screen\"},\"id\":\"1376\",\"type\":\"BoxAnnotation\"},{\"attributes\":{\"line_color\":\"#30a2da\",\"line_width\":2,\"x\":{\"field\":\"rating_promedio\"},\"y\":{\"field\":\"cantidad_cursos\"}},\"id\":\"1392\",\"type\":\"Line\"},{\"attributes\":{\"line_alpha\":0.1,\"line_color\":\"#30a2da\",\"line_width\":2,\"x\":{\"field\":\"rating_promedio\"},\"y\":{\"field\":\"cantidad_cursos\"}},\"id\":\"1388\",\"type\":\"Line\"},{\"attributes\":{\"line_color\":\"#30a2da\",\"line_width\":2,\"x\":{\"field\":\"rating_promedio\"},\"y\":{\"field\":\"cantidad_cursos\"}},\"id\":\"1387\",\"type\":\"Line\"},{\"attributes\":{\"source\":{\"id\":\"1384\"}},\"id\":\"1391\",\"type\":\"CDSView\"},{\"attributes\":{},\"id\":\"1410\",\"type\":\"UnionRenderers\"},{\"attributes\":{},\"id\":\"1395\",\"type\":\"AllLabels\"},{\"attributes\":{\"active_drag\":{\"id\":\"1372\"},\"active_scroll\":{\"id\":\"1373\"},\"tools\":[{\"id\":\"1353\"},{\"id\":\"1371\"},{\"id\":\"1372\"},{\"id\":\"1373\"},{\"id\":\"1374\"},{\"id\":\"1375\"}]},\"id\":\"1377\",\"type\":\"Toolbar\"},{\"attributes\":{\"end\":5.0,\"reset_end\":5.0,\"reset_start\":1.0,\"start\":1.0,\"tags\":[[[\"rating_promedio\",\"rating_promedio\",null]]]},\"id\":\"1351\",\"type\":\"Range1d\"}],\"root_ids\":[\"1349\"]},\"title\":\"Bokeh Application\",\"version\":\"2.4.3\"}};\n",
       "    var render_items = [{\"docid\":\"b604c3ee-35c4-452e-9f31-74afccdbe09c\",\"root_ids\":[\"1349\"],\"roots\":{\"1349\":\"9720c8b8-d50b-4e6d-ab7f-be56e9a48a06\"}}];\n",
       "    root.Bokeh.embed.embed_items_notebook(docs_json, render_items);\n",
       "    for (const render_item of render_items) {\n",
       "      for (const root_id of render_item.root_ids) {\n",
       "\tconst id_el = document.getElementById(root_id)\n",
       "\tif (id_el.children.length && (id_el.children[0].className === 'bk-root')) {\n",
       "\t  const root_el = id_el.children[0]\n",
       "\t  root_el.id = root_el.id + '-rendered'\n",
       "\t}\n",
       "      }\n",
       "    }\n",
       "  }\n",
       "  if (root.Bokeh !== undefined && root.Bokeh.Panel !== undefined) {\n",
       "    embed_document(root);\n",
       "  } else {\n",
       "    var attempts = 0;\n",
       "    var timer = setInterval(function(root) {\n",
       "      if (root.Bokeh !== undefined && root.Bokeh.Panel !== undefined) {\n",
       "        clearInterval(timer);\n",
       "        embed_document(root);\n",
       "      } else if (document.readyState == \"complete\") {\n",
       "        attempts++;\n",
       "        if (attempts > 200) {\n",
       "          clearInterval(timer);\n",
       "          console.log(\"Bokeh: ERROR: Unable to run BokehJS code because BokehJS library is missing\");\n",
       "        }\n",
       "      }\n",
       "    }, 25, root)\n",
       "  }\n",
       "})(window);</script>"
      ],
      "text/plain": [
       ":Curve   [rating_promedio]   (cantidad_cursos)"
      ]
     },
     "execution_count": 31,
     "metadata": {
      "application/vnd.holoviews_exec.v0+json": {
       "id": "1349"
      }
     },
     "output_type": "execute_result"
    }
   ],
   "source": [
    "dfr_group_rating_prom.to_pandas().hvplot('rating_promedio','cantidad_cursos')"
   ]
  },
  {
   "cell_type": "code",
   "execution_count": null,
   "id": "b0c96776-07c8-4483-8e45-c317f1e38233",
   "metadata": {},
   "outputs": [],
   "source": []
  },
  {
   "cell_type": "code",
   "execution_count": null,
   "id": "7505559d-191c-43da-840f-6f41eba17464",
   "metadata": {},
   "outputs": [],
   "source": []
  },
  {
   "cell_type": "code",
   "execution_count": null,
   "id": "a0aaa044-ec04-4e0a-bb82-b9e7e705f871",
   "metadata": {},
   "outputs": [],
   "source": []
  },
  {
   "cell_type": "code",
   "execution_count": null,
   "id": "66d35353-6267-4f23-acae-9a6f534c2451",
   "metadata": {},
   "outputs": [],
   "source": []
  },
  {
   "cell_type": "code",
   "execution_count": null,
   "id": "5abc992a-109c-4041-b8d6-fb94fe22a72b",
   "metadata": {},
   "outputs": [],
   "source": []
  },
  {
   "cell_type": "markdown",
   "id": "4a86fe2d-97e8-4573-bb8c-62c2b42e3f32",
   "metadata": {},
   "source": [
    "## Columnas"
   ]
  },
  {
   "cell_type": "code",
   "execution_count": 32,
   "id": "94441b6f-e5d6-4610-b128-9e3596da0c17",
   "metadata": {},
   "outputs": [],
   "source": [
    "df_c = pd.read_csv(r\"C:\\Users\\ornal\\Desktop\\Data Analitics\\Test\\Coursera_courses.csv\");"
   ]
  },
  {
   "cell_type": "code",
   "execution_count": 33,
   "id": "0a5c16c6-f01c-41b5-91f1-6a1e819befca",
   "metadata": {},
   "outputs": [
    {
     "data": {},
     "metadata": {},
     "output_type": "display_data"
    },
    {
     "data": {
      "application/vnd.holoviews_exec.v0+json": "",
      "text/html": [
       "<div id='1465'>\n",
       "  <div class=\"bk-root\" id=\"4211f985-ce4a-4dd2-ba99-1fa4a6bf1f84\" data-root-id=\"1465\"></div>\n",
       "</div>\n",
       "<script type=\"application/javascript\">(function(root) {\n",
       "  function embed_document(root) {\n",
       "    var docs_json = {\"9ea0cc85-6ffb-4049-8744-0adaa9d5df86\":{\"defs\":[{\"extends\":null,\"module\":null,\"name\":\"ReactiveHTML1\",\"overrides\":[],\"properties\":[]},{\"extends\":null,\"module\":null,\"name\":\"FlexBox1\",\"overrides\":[],\"properties\":[{\"default\":\"flex-start\",\"kind\":null,\"name\":\"align_content\"},{\"default\":\"flex-start\",\"kind\":null,\"name\":\"align_items\"},{\"default\":\"row\",\"kind\":null,\"name\":\"flex_direction\"},{\"default\":\"wrap\",\"kind\":null,\"name\":\"flex_wrap\"},{\"default\":\"flex-start\",\"kind\":null,\"name\":\"justify_content\"}]},{\"extends\":null,\"module\":null,\"name\":\"GridStack1\",\"overrides\":[],\"properties\":[{\"default\":\"warn\",\"kind\":null,\"name\":\"mode\"},{\"default\":null,\"kind\":null,\"name\":\"ncols\"},{\"default\":null,\"kind\":null,\"name\":\"nrows\"},{\"default\":true,\"kind\":null,\"name\":\"allow_resize\"},{\"default\":true,\"kind\":null,\"name\":\"allow_drag\"},{\"default\":[],\"kind\":null,\"name\":\"state\"}]},{\"extends\":null,\"module\":null,\"name\":\"click1\",\"overrides\":[],\"properties\":[{\"default\":\"\",\"kind\":null,\"name\":\"terminal_output\"},{\"default\":\"\",\"kind\":null,\"name\":\"debug_name\"},{\"default\":0,\"kind\":null,\"name\":\"clears\"}]},{\"extends\":null,\"module\":null,\"name\":\"NotificationAreaBase1\",\"overrides\":[],\"properties\":[{\"default\":\"bottom-right\",\"kind\":null,\"name\":\"position\"},{\"default\":0,\"kind\":null,\"name\":\"_clear\"}]},{\"extends\":null,\"module\":null,\"name\":\"NotificationArea1\",\"overrides\":[],\"properties\":[{\"default\":[],\"kind\":null,\"name\":\"notifications\"},{\"default\":\"bottom-right\",\"kind\":null,\"name\":\"position\"},{\"default\":0,\"kind\":null,\"name\":\"_clear\"},{\"default\":[{\"background\":\"#ffc107\",\"icon\":{\"className\":\"fas fa-exclamation-triangle\",\"color\":\"white\",\"tagName\":\"i\"},\"type\":\"warning\"},{\"background\":\"#007bff\",\"icon\":{\"className\":\"fas fa-info-circle\",\"color\":\"white\",\"tagName\":\"i\"},\"type\":\"info\"}],\"kind\":null,\"name\":\"types\"}]},{\"extends\":null,\"module\":null,\"name\":\"Notification\",\"overrides\":[],\"properties\":[{\"default\":null,\"kind\":null,\"name\":\"background\"},{\"default\":3000,\"kind\":null,\"name\":\"duration\"},{\"default\":null,\"kind\":null,\"name\":\"icon\"},{\"default\":\"\",\"kind\":null,\"name\":\"message\"},{\"default\":null,\"kind\":null,\"name\":\"notification_type\"},{\"default\":false,\"kind\":null,\"name\":\"_destroyed\"}]},{\"extends\":null,\"module\":null,\"name\":\"TemplateActions1\",\"overrides\":[],\"properties\":[{\"default\":0,\"kind\":null,\"name\":\"open_modal\"},{\"default\":0,\"kind\":null,\"name\":\"close_modal\"}]},{\"extends\":null,\"module\":null,\"name\":\"MaterialTemplateActions1\",\"overrides\":[],\"properties\":[{\"default\":0,\"kind\":null,\"name\":\"open_modal\"},{\"default\":0,\"kind\":null,\"name\":\"close_modal\"}]}],\"roots\":{\"references\":[{\"attributes\":{\"client_comm_id\":\"1ea3bfc3966e4f40937473737a25b6b2\",\"comm_id\":\"375f6e26db034570a3b1bcddc2382f0d\",\"plot_id\":\"1465\"},\"id\":\"1469\",\"type\":\"panel.models.comm_manager.CommManager\"},{\"attributes\":{\"css_classes\":[\"markdown\"],\"margin\":[5,5,5,5],\"name\":\"Markdown01205\",\"text\":\"&lt;h1&gt;A&lt;/h1&gt;\"},\"id\":\"1466\",\"type\":\"panel.models.markup.HTML\"},{\"attributes\":{\"css_classes\":[\"markdown\"],\"margin\":[5,5,5,5],\"name\":\"Markdown01209\",\"text\":\"&lt;h1&gt;C&lt;/h1&gt;\"},\"id\":\"1468\",\"type\":\"panel.models.markup.HTML\"},{\"attributes\":{\"css_classes\":[\"markdown\"],\"margin\":[5,5,5,5],\"name\":\"Markdown01207\",\"text\":\"&lt;h1&gt;B&lt;/h1&gt;\"},\"id\":\"1467\",\"type\":\"panel.models.markup.HTML\"},{\"attributes\":{\"children\":[{\"id\":\"1466\"},{\"id\":\"1467\"},{\"id\":\"1468\"}],\"margin\":[0,0,0,0],\"name\":\"Column01211\"},\"id\":\"1465\",\"type\":\"Column\"}],\"root_ids\":[\"1465\",\"1469\"]},\"title\":\"Bokeh Application\",\"version\":\"2.4.3\"}};\n",
       "    var render_items = [{\"docid\":\"9ea0cc85-6ffb-4049-8744-0adaa9d5df86\",\"root_ids\":[\"1465\"],\"roots\":{\"1465\":\"4211f985-ce4a-4dd2-ba99-1fa4a6bf1f84\"}}];\n",
       "    root.Bokeh.embed.embed_items_notebook(docs_json, render_items);\n",
       "    for (const render_item of render_items) {\n",
       "      for (const root_id of render_item.root_ids) {\n",
       "\tconst id_el = document.getElementById(root_id)\n",
       "\tif (id_el.children.length && (id_el.children[0].className === 'bk-root')) {\n",
       "\t  const root_el = id_el.children[0]\n",
       "\t  root_el.id = root_el.id + '-rendered'\n",
       "\t}\n",
       "      }\n",
       "    }\n",
       "  }\n",
       "  if (root.Bokeh !== undefined && root.Bokeh.Panel !== undefined) {\n",
       "    embed_document(root);\n",
       "  } else {\n",
       "    var attempts = 0;\n",
       "    var timer = setInterval(function(root) {\n",
       "      if (root.Bokeh !== undefined && root.Bokeh.Panel !== undefined) {\n",
       "        clearInterval(timer);\n",
       "        embed_document(root);\n",
       "      } else if (document.readyState == \"complete\") {\n",
       "        attempts++;\n",
       "        if (attempts > 200) {\n",
       "          clearInterval(timer);\n",
       "          console.log(\"Bokeh: ERROR: Unable to run BokehJS code because BokehJS library is missing\");\n",
       "        }\n",
       "      }\n",
       "    }, 25, root)\n",
       "  }\n",
       "})(window);</script>"
      ],
      "text/plain": [
       "Column\n",
       "    [0] Markdown(str)\n",
       "    [1] Markdown(str)\n",
       "    [2] Markdown(str)"
      ]
     },
     "execution_count": 33,
     "metadata": {
      "application/vnd.holoviews_exec.v0+json": {
       "id": "1465"
      }
     },
     "output_type": "execute_result"
    }
   ],
   "source": [
    "pn.Column('# A','# B','# C')"
   ]
  },
  {
   "cell_type": "markdown",
   "id": "736b991f-fc3d-4c62-bcbc-e23102e0a1d9",
   "metadata": {},
   "source": [
    "## Filas"
   ]
  },
  {
   "cell_type": "code",
   "execution_count": 34,
   "id": "f2f05475-d992-43f6-b5d5-85fc0b22cf96",
   "metadata": {},
   "outputs": [
    {
     "data": {},
     "metadata": {},
     "output_type": "display_data"
    },
    {
     "data": {
      "application/vnd.holoviews_exec.v0+json": "",
      "text/html": [
       "<div id='1470'>\n",
       "  <div class=\"bk-root\" id=\"3b932cdd-a4f8-47b7-b2ac-f92dd8ea68fb\" data-root-id=\"1470\"></div>\n",
       "</div>\n",
       "<script type=\"application/javascript\">(function(root) {\n",
       "  function embed_document(root) {\n",
       "    var docs_json = {\"f3ef66b5-92a7-4381-8918-bca35b48b9c8\":{\"defs\":[{\"extends\":null,\"module\":null,\"name\":\"ReactiveHTML1\",\"overrides\":[],\"properties\":[]},{\"extends\":null,\"module\":null,\"name\":\"FlexBox1\",\"overrides\":[],\"properties\":[{\"default\":\"flex-start\",\"kind\":null,\"name\":\"align_content\"},{\"default\":\"flex-start\",\"kind\":null,\"name\":\"align_items\"},{\"default\":\"row\",\"kind\":null,\"name\":\"flex_direction\"},{\"default\":\"wrap\",\"kind\":null,\"name\":\"flex_wrap\"},{\"default\":\"flex-start\",\"kind\":null,\"name\":\"justify_content\"}]},{\"extends\":null,\"module\":null,\"name\":\"GridStack1\",\"overrides\":[],\"properties\":[{\"default\":\"warn\",\"kind\":null,\"name\":\"mode\"},{\"default\":null,\"kind\":null,\"name\":\"ncols\"},{\"default\":null,\"kind\":null,\"name\":\"nrows\"},{\"default\":true,\"kind\":null,\"name\":\"allow_resize\"},{\"default\":true,\"kind\":null,\"name\":\"allow_drag\"},{\"default\":[],\"kind\":null,\"name\":\"state\"}]},{\"extends\":null,\"module\":null,\"name\":\"click1\",\"overrides\":[],\"properties\":[{\"default\":\"\",\"kind\":null,\"name\":\"terminal_output\"},{\"default\":\"\",\"kind\":null,\"name\":\"debug_name\"},{\"default\":0,\"kind\":null,\"name\":\"clears\"}]},{\"extends\":null,\"module\":null,\"name\":\"NotificationAreaBase1\",\"overrides\":[],\"properties\":[{\"default\":\"bottom-right\",\"kind\":null,\"name\":\"position\"},{\"default\":0,\"kind\":null,\"name\":\"_clear\"}]},{\"extends\":null,\"module\":null,\"name\":\"NotificationArea1\",\"overrides\":[],\"properties\":[{\"default\":[],\"kind\":null,\"name\":\"notifications\"},{\"default\":\"bottom-right\",\"kind\":null,\"name\":\"position\"},{\"default\":0,\"kind\":null,\"name\":\"_clear\"},{\"default\":[{\"background\":\"#ffc107\",\"icon\":{\"className\":\"fas fa-exclamation-triangle\",\"color\":\"white\",\"tagName\":\"i\"},\"type\":\"warning\"},{\"background\":\"#007bff\",\"icon\":{\"className\":\"fas fa-info-circle\",\"color\":\"white\",\"tagName\":\"i\"},\"type\":\"info\"}],\"kind\":null,\"name\":\"types\"}]},{\"extends\":null,\"module\":null,\"name\":\"Notification\",\"overrides\":[],\"properties\":[{\"default\":null,\"kind\":null,\"name\":\"background\"},{\"default\":3000,\"kind\":null,\"name\":\"duration\"},{\"default\":null,\"kind\":null,\"name\":\"icon\"},{\"default\":\"\",\"kind\":null,\"name\":\"message\"},{\"default\":null,\"kind\":null,\"name\":\"notification_type\"},{\"default\":false,\"kind\":null,\"name\":\"_destroyed\"}]},{\"extends\":null,\"module\":null,\"name\":\"TemplateActions1\",\"overrides\":[],\"properties\":[{\"default\":0,\"kind\":null,\"name\":\"open_modal\"},{\"default\":0,\"kind\":null,\"name\":\"close_modal\"}]},{\"extends\":null,\"module\":null,\"name\":\"MaterialTemplateActions1\",\"overrides\":[],\"properties\":[{\"default\":0,\"kind\":null,\"name\":\"open_modal\"},{\"default\":0,\"kind\":null,\"name\":\"close_modal\"}]}],\"roots\":{\"references\":[{\"attributes\":{\"css_classes\":[\"markdown\"],\"margin\":[5,5,5,5],\"name\":\"Markdown01218\",\"text\":\"&lt;h1&gt;C&lt;/h1&gt;\"},\"id\":\"1473\",\"type\":\"panel.models.markup.HTML\"},{\"attributes\":{\"client_comm_id\":\"3bf4d65b89d44259896b45799061c147\",\"comm_id\":\"02adf9b527504ba7a08e7029d332ff4a\",\"plot_id\":\"1470\"},\"id\":\"1474\",\"type\":\"panel.models.comm_manager.CommManager\"},{\"attributes\":{\"css_classes\":[\"markdown\"],\"margin\":[5,5,5,5],\"name\":\"Markdown01214\",\"text\":\"&lt;h1&gt;A&lt;/h1&gt;\"},\"id\":\"1471\",\"type\":\"panel.models.markup.HTML\"},{\"attributes\":{\"css_classes\":[\"markdown\"],\"margin\":[5,5,5,5],\"name\":\"Markdown01216\",\"text\":\"&lt;h1&gt;B&lt;/h1&gt;\"},\"id\":\"1472\",\"type\":\"panel.models.markup.HTML\"},{\"attributes\":{\"background\":\"LightGray\",\"children\":[{\"id\":\"1471\"},{\"id\":\"1472\"},{\"id\":\"1473\"}],\"margin\":[0,0,0,0],\"name\":\"Row01220\"},\"id\":\"1470\",\"type\":\"Row\"}],\"root_ids\":[\"1470\",\"1474\"]},\"title\":\"Bokeh Application\",\"version\":\"2.4.3\"}};\n",
       "    var render_items = [{\"docid\":\"f3ef66b5-92a7-4381-8918-bca35b48b9c8\",\"root_ids\":[\"1470\"],\"roots\":{\"1470\":\"3b932cdd-a4f8-47b7-b2ac-f92dd8ea68fb\"}}];\n",
       "    root.Bokeh.embed.embed_items_notebook(docs_json, render_items);\n",
       "    for (const render_item of render_items) {\n",
       "      for (const root_id of render_item.root_ids) {\n",
       "\tconst id_el = document.getElementById(root_id)\n",
       "\tif (id_el.children.length && (id_el.children[0].className === 'bk-root')) {\n",
       "\t  const root_el = id_el.children[0]\n",
       "\t  root_el.id = root_el.id + '-rendered'\n",
       "\t}\n",
       "      }\n",
       "    }\n",
       "  }\n",
       "  if (root.Bokeh !== undefined && root.Bokeh.Panel !== undefined) {\n",
       "    embed_document(root);\n",
       "  } else {\n",
       "    var attempts = 0;\n",
       "    var timer = setInterval(function(root) {\n",
       "      if (root.Bokeh !== undefined && root.Bokeh.Panel !== undefined) {\n",
       "        clearInterval(timer);\n",
       "        embed_document(root);\n",
       "      } else if (document.readyState == \"complete\") {\n",
       "        attempts++;\n",
       "        if (attempts > 200) {\n",
       "          clearInterval(timer);\n",
       "          console.log(\"Bokeh: ERROR: Unable to run BokehJS code because BokehJS library is missing\");\n",
       "        }\n",
       "      }\n",
       "    }, 25, root)\n",
       "  }\n",
       "})(window);</script>"
      ],
      "text/plain": [
       "Row(background='LightGray')\n",
       "    [0] Markdown(str)\n",
       "    [1] Markdown(str)\n",
       "    [2] Markdown(str)"
      ]
     },
     "execution_count": 34,
     "metadata": {
      "application/vnd.holoviews_exec.v0+json": {
       "id": "1470"
      }
     },
     "output_type": "execute_result"
    }
   ],
   "source": [
    "pn.Row('# A','# B','# C',background = 'LightGray')"
   ]
  },
  {
   "cell_type": "markdown",
   "id": "5b85d08b-ab72-49c2-a528-6a730df792a3",
   "metadata": {},
   "source": [
    "# Widgets"
   ]
  },
  {
   "cell_type": "markdown",
   "id": "2e5a5961-04be-422e-a1d2-717ee34f78d8",
   "metadata": {},
   "source": [
    "## slider + funcion + interact"
   ]
  },
  {
   "cell_type": "code",
   "execution_count": 35,
   "id": "7bfcf450-ca18-4e0f-a89d-5e537b5b2d0b",
   "metadata": {},
   "outputs": [
    {
     "data": {},
     "metadata": {},
     "output_type": "display_data"
    },
    {
     "data": {
      "application/vnd.holoviews_exec.v0+json": "",
      "text/html": [
       "<div id='1475'>\n",
       "  <div class=\"bk-root\" id=\"6f0fe296-3541-4760-b9bb-4ba34382c8a2\" data-root-id=\"1475\"></div>\n",
       "</div>\n",
       "<script type=\"application/javascript\">(function(root) {\n",
       "  function embed_document(root) {\n",
       "    var docs_json = {\"015576a1-acb5-44ae-8b0c-598059c949b0\":{\"defs\":[{\"extends\":null,\"module\":null,\"name\":\"ReactiveHTML1\",\"overrides\":[],\"properties\":[]},{\"extends\":null,\"module\":null,\"name\":\"FlexBox1\",\"overrides\":[],\"properties\":[{\"default\":\"flex-start\",\"kind\":null,\"name\":\"align_content\"},{\"default\":\"flex-start\",\"kind\":null,\"name\":\"align_items\"},{\"default\":\"row\",\"kind\":null,\"name\":\"flex_direction\"},{\"default\":\"wrap\",\"kind\":null,\"name\":\"flex_wrap\"},{\"default\":\"flex-start\",\"kind\":null,\"name\":\"justify_content\"}]},{\"extends\":null,\"module\":null,\"name\":\"GridStack1\",\"overrides\":[],\"properties\":[{\"default\":\"warn\",\"kind\":null,\"name\":\"mode\"},{\"default\":null,\"kind\":null,\"name\":\"ncols\"},{\"default\":null,\"kind\":null,\"name\":\"nrows\"},{\"default\":true,\"kind\":null,\"name\":\"allow_resize\"},{\"default\":true,\"kind\":null,\"name\":\"allow_drag\"},{\"default\":[],\"kind\":null,\"name\":\"state\"}]},{\"extends\":null,\"module\":null,\"name\":\"click1\",\"overrides\":[],\"properties\":[{\"default\":\"\",\"kind\":null,\"name\":\"terminal_output\"},{\"default\":\"\",\"kind\":null,\"name\":\"debug_name\"},{\"default\":0,\"kind\":null,\"name\":\"clears\"}]},{\"extends\":null,\"module\":null,\"name\":\"NotificationAreaBase1\",\"overrides\":[],\"properties\":[{\"default\":\"bottom-right\",\"kind\":null,\"name\":\"position\"},{\"default\":0,\"kind\":null,\"name\":\"_clear\"}]},{\"extends\":null,\"module\":null,\"name\":\"NotificationArea1\",\"overrides\":[],\"properties\":[{\"default\":[],\"kind\":null,\"name\":\"notifications\"},{\"default\":\"bottom-right\",\"kind\":null,\"name\":\"position\"},{\"default\":0,\"kind\":null,\"name\":\"_clear\"},{\"default\":[{\"background\":\"#ffc107\",\"icon\":{\"className\":\"fas fa-exclamation-triangle\",\"color\":\"white\",\"tagName\":\"i\"},\"type\":\"warning\"},{\"background\":\"#007bff\",\"icon\":{\"className\":\"fas fa-info-circle\",\"color\":\"white\",\"tagName\":\"i\"},\"type\":\"info\"}],\"kind\":null,\"name\":\"types\"}]},{\"extends\":null,\"module\":null,\"name\":\"Notification\",\"overrides\":[],\"properties\":[{\"default\":null,\"kind\":null,\"name\":\"background\"},{\"default\":3000,\"kind\":null,\"name\":\"duration\"},{\"default\":null,\"kind\":null,\"name\":\"icon\"},{\"default\":\"\",\"kind\":null,\"name\":\"message\"},{\"default\":null,\"kind\":null,\"name\":\"notification_type\"},{\"default\":false,\"kind\":null,\"name\":\"_destroyed\"}]},{\"extends\":null,\"module\":null,\"name\":\"TemplateActions1\",\"overrides\":[],\"properties\":[{\"default\":0,\"kind\":null,\"name\":\"open_modal\"},{\"default\":0,\"kind\":null,\"name\":\"close_modal\"}]},{\"extends\":null,\"module\":null,\"name\":\"MaterialTemplateActions1\",\"overrides\":[],\"properties\":[{\"default\":0,\"kind\":null,\"name\":\"open_modal\"},{\"default\":0,\"kind\":null,\"name\":\"close_modal\"}]}],\"roots\":{\"references\":[{\"attributes\":{\"margin\":[5,5,5,5],\"name\":\"interactive01224\",\"text\":\"&lt;pre&gt;25&lt;/pre&gt;\"},\"id\":\"1479\",\"type\":\"panel.models.markup.HTML\"},{\"attributes\":{\"children\":[{\"id\":\"1476\"},{\"id\":\"1478\"}],\"margin\":[0,0,0,0],\"name\":\"Column01225\"},\"id\":\"1475\",\"type\":\"Column\"},{\"attributes\":{\"children\":[{\"id\":\"1479\"}],\"margin\":[0,0,0,0],\"name\":\"Row01229\"},\"id\":\"1478\",\"type\":\"Row\"},{\"attributes\":{\"client_comm_id\":\"020f081bd40d41628127cc94d4b51a7f\",\"comm_id\":\"e15034832b8d47258d5589d3e0d61547\",\"plot_id\":\"1475\"},\"id\":\"1480\",\"type\":\"panel.models.comm_manager.CommManager\"},{\"attributes\":{\"children\":[{\"id\":\"1477\"}],\"margin\":[0,0,0,0],\"name\":\"Column01230\"},\"id\":\"1476\",\"type\":\"Column\"},{\"attributes\":{\"end\":10,\"margin\":[5,10,5,10],\"start\":1,\"title\":\"slider widget\",\"value\":5},\"id\":\"1477\",\"type\":\"Slider\"}],\"root_ids\":[\"1475\",\"1480\"]},\"title\":\"Bokeh Application\",\"version\":\"2.4.3\"}};\n",
       "    var render_items = [{\"docid\":\"015576a1-acb5-44ae-8b0c-598059c949b0\",\"root_ids\":[\"1475\"],\"roots\":{\"1475\":\"6f0fe296-3541-4760-b9bb-4ba34382c8a2\"}}];\n",
       "    root.Bokeh.embed.embed_items_notebook(docs_json, render_items);\n",
       "    for (const render_item of render_items) {\n",
       "      for (const root_id of render_item.root_ids) {\n",
       "\tconst id_el = document.getElementById(root_id)\n",
       "\tif (id_el.children.length && (id_el.children[0].className === 'bk-root')) {\n",
       "\t  const root_el = id_el.children[0]\n",
       "\t  root_el.id = root_el.id + '-rendered'\n",
       "\t}\n",
       "      }\n",
       "    }\n",
       "  }\n",
       "  if (root.Bokeh !== undefined && root.Bokeh.Panel !== undefined) {\n",
       "    embed_document(root);\n",
       "  } else {\n",
       "    var attempts = 0;\n",
       "    var timer = setInterval(function(root) {\n",
       "      if (root.Bokeh !== undefined && root.Bokeh.Panel !== undefined) {\n",
       "        clearInterval(timer);\n",
       "        embed_document(root);\n",
       "      } else if (document.readyState == \"complete\") {\n",
       "        attempts++;\n",
       "        if (attempts > 200) {\n",
       "          clearInterval(timer);\n",
       "          console.log(\"Bokeh: ERROR: Unable to run BokehJS code because BokehJS library is missing\");\n",
       "        }\n",
       "      }\n",
       "    }, 25, root)\n",
       "  }\n",
       "})(window);</script>"
      ],
      "text/plain": [
       "Column\n",
       "    [0] Column\n",
       "        [0] IntSlider(end=10, name='slider widget', start=1, value=5)\n",
       "    [1] Row\n",
       "        [0] Str(int, name='interactive01224')"
      ]
     },
     "execution_count": 35,
     "metadata": {
      "application/vnd.holoviews_exec.v0+json": {
       "id": "1475"
      }
     },
     "output_type": "execute_result"
    }
   ],
   "source": [
    "# create a widget\n",
    "slider = pn.widgets.IntSlider(start=1,end=10,value=5,name='slider widget')\n",
    "\n",
    "def f(x):\n",
    "    return x*x\n",
    "\n",
    "interact(f,x=slider)"
   ]
  },
  {
   "cell_type": "markdown",
   "id": "50b3f0c6-2416-42b1-8919-b6a1fd8ba201",
   "metadata": {},
   "source": [
    "## funcion + interact\n",
    "## generan el widget automaticamente"
   ]
  },
  {
   "cell_type": "code",
   "execution_count": 36,
   "id": "6b53ca2a-afaf-4bb2-97fc-0af14314f41e",
   "metadata": {},
   "outputs": [
    {
     "data": {},
     "metadata": {},
     "output_type": "display_data"
    },
    {
     "data": {
      "application/vnd.holoviews_exec.v0+json": "",
      "text/html": [
       "<div id='1481'>\n",
       "  <div class=\"bk-root\" id=\"e4283092-f350-41cb-9891-c8a1afea38af\" data-root-id=\"1481\"></div>\n",
       "</div>\n",
       "<script type=\"application/javascript\">(function(root) {\n",
       "  function embed_document(root) {\n",
       "    var docs_json = {\"0be7dfa4-b1fd-4e63-815c-d1cbe9eaa2ca\":{\"defs\":[{\"extends\":null,\"module\":null,\"name\":\"ReactiveHTML1\",\"overrides\":[],\"properties\":[]},{\"extends\":null,\"module\":null,\"name\":\"FlexBox1\",\"overrides\":[],\"properties\":[{\"default\":\"flex-start\",\"kind\":null,\"name\":\"align_content\"},{\"default\":\"flex-start\",\"kind\":null,\"name\":\"align_items\"},{\"default\":\"row\",\"kind\":null,\"name\":\"flex_direction\"},{\"default\":\"wrap\",\"kind\":null,\"name\":\"flex_wrap\"},{\"default\":\"flex-start\",\"kind\":null,\"name\":\"justify_content\"}]},{\"extends\":null,\"module\":null,\"name\":\"GridStack1\",\"overrides\":[],\"properties\":[{\"default\":\"warn\",\"kind\":null,\"name\":\"mode\"},{\"default\":null,\"kind\":null,\"name\":\"ncols\"},{\"default\":null,\"kind\":null,\"name\":\"nrows\"},{\"default\":true,\"kind\":null,\"name\":\"allow_resize\"},{\"default\":true,\"kind\":null,\"name\":\"allow_drag\"},{\"default\":[],\"kind\":null,\"name\":\"state\"}]},{\"extends\":null,\"module\":null,\"name\":\"click1\",\"overrides\":[],\"properties\":[{\"default\":\"\",\"kind\":null,\"name\":\"terminal_output\"},{\"default\":\"\",\"kind\":null,\"name\":\"debug_name\"},{\"default\":0,\"kind\":null,\"name\":\"clears\"}]},{\"extends\":null,\"module\":null,\"name\":\"NotificationAreaBase1\",\"overrides\":[],\"properties\":[{\"default\":\"bottom-right\",\"kind\":null,\"name\":\"position\"},{\"default\":0,\"kind\":null,\"name\":\"_clear\"}]},{\"extends\":null,\"module\":null,\"name\":\"NotificationArea1\",\"overrides\":[],\"properties\":[{\"default\":[],\"kind\":null,\"name\":\"notifications\"},{\"default\":\"bottom-right\",\"kind\":null,\"name\":\"position\"},{\"default\":0,\"kind\":null,\"name\":\"_clear\"},{\"default\":[{\"background\":\"#ffc107\",\"icon\":{\"className\":\"fas fa-exclamation-triangle\",\"color\":\"white\",\"tagName\":\"i\"},\"type\":\"warning\"},{\"background\":\"#007bff\",\"icon\":{\"className\":\"fas fa-info-circle\",\"color\":\"white\",\"tagName\":\"i\"},\"type\":\"info\"}],\"kind\":null,\"name\":\"types\"}]},{\"extends\":null,\"module\":null,\"name\":\"Notification\",\"overrides\":[],\"properties\":[{\"default\":null,\"kind\":null,\"name\":\"background\"},{\"default\":3000,\"kind\":null,\"name\":\"duration\"},{\"default\":null,\"kind\":null,\"name\":\"icon\"},{\"default\":\"\",\"kind\":null,\"name\":\"message\"},{\"default\":null,\"kind\":null,\"name\":\"notification_type\"},{\"default\":false,\"kind\":null,\"name\":\"_destroyed\"}]},{\"extends\":null,\"module\":null,\"name\":\"TemplateActions1\",\"overrides\":[],\"properties\":[{\"default\":0,\"kind\":null,\"name\":\"open_modal\"},{\"default\":0,\"kind\":null,\"name\":\"close_modal\"}]},{\"extends\":null,\"module\":null,\"name\":\"MaterialTemplateActions1\",\"overrides\":[],\"properties\":[{\"default\":0,\"kind\":null,\"name\":\"open_modal\"},{\"default\":0,\"kind\":null,\"name\":\"close_modal\"}]}],\"roots\":{\"references\":[{\"attributes\":{\"end\":10,\"margin\":[5,10,5,10],\"start\":1,\"title\":\"x\",\"value\":5},\"id\":\"1483\",\"type\":\"Slider\"},{\"attributes\":{\"children\":[{\"id\":\"1483\"}],\"margin\":[0,0,0,0],\"name\":\"Column01240\"},\"id\":\"1482\",\"type\":\"Column\"},{\"attributes\":{\"children\":[{\"id\":\"1485\"}],\"margin\":[0,0,0,0],\"name\":\"Row01239\"},\"id\":\"1484\",\"type\":\"Row\"},{\"attributes\":{\"children\":[{\"id\":\"1482\"},{\"id\":\"1484\"}],\"margin\":[0,0,0,0],\"name\":\"Column01234\"},\"id\":\"1481\",\"type\":\"Column\"},{\"attributes\":{\"margin\":[5,5,5,5],\"name\":\"interactive01233\",\"text\":\"&lt;pre&gt;10&lt;/pre&gt;\"},\"id\":\"1485\",\"type\":\"panel.models.markup.HTML\"},{\"attributes\":{\"client_comm_id\":\"38f16968a4954d57a76cdc64c5c90b2a\",\"comm_id\":\"6bd20dbe194245f9a8f08374eb34ff46\",\"plot_id\":\"1481\"},\"id\":\"1486\",\"type\":\"panel.models.comm_manager.CommManager\"}],\"root_ids\":[\"1481\",\"1486\"]},\"title\":\"Bokeh Application\",\"version\":\"2.4.3\"}};\n",
       "    var render_items = [{\"docid\":\"0be7dfa4-b1fd-4e63-815c-d1cbe9eaa2ca\",\"root_ids\":[\"1481\"],\"roots\":{\"1481\":\"e4283092-f350-41cb-9891-c8a1afea38af\"}}];\n",
       "    root.Bokeh.embed.embed_items_notebook(docs_json, render_items);\n",
       "    for (const render_item of render_items) {\n",
       "      for (const root_id of render_item.root_ids) {\n",
       "\tconst id_el = document.getElementById(root_id)\n",
       "\tif (id_el.children.length && (id_el.children[0].className === 'bk-root')) {\n",
       "\t  const root_el = id_el.children[0]\n",
       "\t  root_el.id = root_el.id + '-rendered'\n",
       "\t}\n",
       "      }\n",
       "    }\n",
       "  }\n",
       "  if (root.Bokeh !== undefined && root.Bokeh.Panel !== undefined) {\n",
       "    embed_document(root);\n",
       "  } else {\n",
       "    var attempts = 0;\n",
       "    var timer = setInterval(function(root) {\n",
       "      if (root.Bokeh !== undefined && root.Bokeh.Panel !== undefined) {\n",
       "        clearInterval(timer);\n",
       "        embed_document(root);\n",
       "      } else if (document.readyState == \"complete\") {\n",
       "        attempts++;\n",
       "        if (attempts > 200) {\n",
       "          clearInterval(timer);\n",
       "          console.log(\"Bokeh: ERROR: Unable to run BokehJS code because BokehJS library is missing\");\n",
       "        }\n",
       "      }\n",
       "    }, 25, root)\n",
       "  }\n",
       "})(window);</script>"
      ],
      "text/plain": [
       "Column\n",
       "    [0] Column\n",
       "        [0] IntSlider(end=10, name='x', start=1, value=5)\n",
       "    [1] Row\n",
       "        [0] Str(int, name='interactive01233')"
      ]
     },
     "execution_count": 36,
     "metadata": {
      "application/vnd.holoviews_exec.v0+json": {
       "id": "1481"
      }
     },
     "output_type": "execute_result"
    }
   ],
   "source": [
    "def f(x):\n",
    "    return x+x\n",
    "\n",
    "interact(f, x=(1,10))"
   ]
  },
  {
   "cell_type": "markdown",
   "id": "15b33093-f7c4-4b3f-a470-83e708f08688",
   "metadata": {},
   "source": [
    "## widget with decorator"
   ]
  },
  {
   "cell_type": "code",
   "execution_count": 37,
   "id": "d22a437a-c7e1-4e8d-8ffa-a3ff63fc59ee",
   "metadata": {},
   "outputs": [
    {
     "data": {},
     "metadata": {},
     "output_type": "display_data"
    },
    {
     "data": {
      "application/vnd.holoviews_exec.v0+json": "",
      "text/html": [
       "<div id='1487'>\n",
       "  <div class=\"bk-root\" id=\"f3feea5d-03e2-4c5e-83ab-3d8fc4dbd90a\" data-root-id=\"1487\"></div>\n",
       "</div>\n",
       "<script type=\"application/javascript\">(function(root) {\n",
       "  function embed_document(root) {\n",
       "    var docs_json = {\"bf95dc37-c981-4fe7-912a-3c9c6f959854\":{\"defs\":[{\"extends\":null,\"module\":null,\"name\":\"ReactiveHTML1\",\"overrides\":[],\"properties\":[]},{\"extends\":null,\"module\":null,\"name\":\"FlexBox1\",\"overrides\":[],\"properties\":[{\"default\":\"flex-start\",\"kind\":null,\"name\":\"align_content\"},{\"default\":\"flex-start\",\"kind\":null,\"name\":\"align_items\"},{\"default\":\"row\",\"kind\":null,\"name\":\"flex_direction\"},{\"default\":\"wrap\",\"kind\":null,\"name\":\"flex_wrap\"},{\"default\":\"flex-start\",\"kind\":null,\"name\":\"justify_content\"}]},{\"extends\":null,\"module\":null,\"name\":\"GridStack1\",\"overrides\":[],\"properties\":[{\"default\":\"warn\",\"kind\":null,\"name\":\"mode\"},{\"default\":null,\"kind\":null,\"name\":\"ncols\"},{\"default\":null,\"kind\":null,\"name\":\"nrows\"},{\"default\":true,\"kind\":null,\"name\":\"allow_resize\"},{\"default\":true,\"kind\":null,\"name\":\"allow_drag\"},{\"default\":[],\"kind\":null,\"name\":\"state\"}]},{\"extends\":null,\"module\":null,\"name\":\"click1\",\"overrides\":[],\"properties\":[{\"default\":\"\",\"kind\":null,\"name\":\"terminal_output\"},{\"default\":\"\",\"kind\":null,\"name\":\"debug_name\"},{\"default\":0,\"kind\":null,\"name\":\"clears\"}]},{\"extends\":null,\"module\":null,\"name\":\"NotificationAreaBase1\",\"overrides\":[],\"properties\":[{\"default\":\"bottom-right\",\"kind\":null,\"name\":\"position\"},{\"default\":0,\"kind\":null,\"name\":\"_clear\"}]},{\"extends\":null,\"module\":null,\"name\":\"NotificationArea1\",\"overrides\":[],\"properties\":[{\"default\":[],\"kind\":null,\"name\":\"notifications\"},{\"default\":\"bottom-right\",\"kind\":null,\"name\":\"position\"},{\"default\":0,\"kind\":null,\"name\":\"_clear\"},{\"default\":[{\"background\":\"#ffc107\",\"icon\":{\"className\":\"fas fa-exclamation-triangle\",\"color\":\"white\",\"tagName\":\"i\"},\"type\":\"warning\"},{\"background\":\"#007bff\",\"icon\":{\"className\":\"fas fa-info-circle\",\"color\":\"white\",\"tagName\":\"i\"},\"type\":\"info\"}],\"kind\":null,\"name\":\"types\"}]},{\"extends\":null,\"module\":null,\"name\":\"Notification\",\"overrides\":[],\"properties\":[{\"default\":null,\"kind\":null,\"name\":\"background\"},{\"default\":3000,\"kind\":null,\"name\":\"duration\"},{\"default\":null,\"kind\":null,\"name\":\"icon\"},{\"default\":\"\",\"kind\":null,\"name\":\"message\"},{\"default\":null,\"kind\":null,\"name\":\"notification_type\"},{\"default\":false,\"kind\":null,\"name\":\"_destroyed\"}]},{\"extends\":null,\"module\":null,\"name\":\"TemplateActions1\",\"overrides\":[],\"properties\":[{\"default\":0,\"kind\":null,\"name\":\"open_modal\"},{\"default\":0,\"kind\":null,\"name\":\"close_modal\"}]},{\"extends\":null,\"module\":null,\"name\":\"MaterialTemplateActions1\",\"overrides\":[],\"properties\":[{\"default\":0,\"kind\":null,\"name\":\"open_modal\"},{\"default\":0,\"kind\":null,\"name\":\"close_modal\"}]}],\"roots\":{\"references\":[{\"attributes\":{\"children\":[{\"id\":\"1488\"},{\"id\":\"1490\"}],\"margin\":[0,0,0,0],\"name\":\"Column01244\"},\"id\":\"1487\",\"type\":\"Column\"},{\"attributes\":{\"children\":[{\"id\":\"1489\"}],\"margin\":[0,0,0,0],\"name\":\"Column01250\"},\"id\":\"1488\",\"type\":\"Column\"},{\"attributes\":{\"css_classes\":[\"markdown\"],\"margin\":[5,5,5,5],\"name\":\"interactive01243\",\"text\":\"&lt;h1&gt;25M&lt;/h1&gt;\"},\"id\":\"1491\",\"type\":\"panel.models.markup.HTML\"},{\"attributes\":{\"children\":[{\"id\":\"1491\"}],\"margin\":[0,0,0,0],\"name\":\"Row01249\"},\"id\":\"1490\",\"type\":\"Row\"},{\"attributes\":{\"end\":10,\"margin\":[5,10,5,10],\"start\":1,\"title\":\"x\",\"value\":5},\"id\":\"1489\",\"type\":\"Slider\"},{\"attributes\":{\"client_comm_id\":\"c4b89e6be9124e46ac23d236c9e03f3c\",\"comm_id\":\"214822ff926f41dcadfaee86baf8d458\",\"plot_id\":\"1487\"},\"id\":\"1492\",\"type\":\"panel.models.comm_manager.CommManager\"}],\"root_ids\":[\"1487\",\"1492\"]},\"title\":\"Bokeh Application\",\"version\":\"2.4.3\"}};\n",
       "    var render_items = [{\"docid\":\"bf95dc37-c981-4fe7-912a-3c9c6f959854\",\"root_ids\":[\"1487\"],\"roots\":{\"1487\":\"f3feea5d-03e2-4c5e-83ab-3d8fc4dbd90a\"}}];\n",
       "    root.Bokeh.embed.embed_items_notebook(docs_json, render_items);\n",
       "    for (const render_item of render_items) {\n",
       "      for (const root_id of render_item.root_ids) {\n",
       "\tconst id_el = document.getElementById(root_id)\n",
       "\tif (id_el.children.length && (id_el.children[0].className === 'bk-root')) {\n",
       "\t  const root_el = id_el.children[0]\n",
       "\t  root_el.id = root_el.id + '-rendered'\n",
       "\t}\n",
       "      }\n",
       "    }\n",
       "  }\n",
       "  if (root.Bokeh !== undefined && root.Bokeh.Panel !== undefined) {\n",
       "    embed_document(root);\n",
       "  } else {\n",
       "    var attempts = 0;\n",
       "    var timer = setInterval(function(root) {\n",
       "      if (root.Bokeh !== undefined && root.Bokeh.Panel !== undefined) {\n",
       "        clearInterval(timer);\n",
       "        embed_document(root);\n",
       "      } else if (document.readyState == \"complete\") {\n",
       "        attempts++;\n",
       "        if (attempts > 200) {\n",
       "          clearInterval(timer);\n",
       "          console.log(\"Bokeh: ERROR: Unable to run BokehJS code because BokehJS library is missing\");\n",
       "        }\n",
       "      }\n",
       "    }, 25, root)\n",
       "  }\n",
       "})(window);</script>"
      ],
      "text/plain": [
       "Column\n",
       "    [0] Column\n",
       "        [0] IntSlider(end=10, name='x', start=1, value=5)\n",
       "    [1] Row\n",
       "        [0] Markdown(str, name='interactive01243')"
      ]
     },
     "execution_count": 37,
     "metadata": {
      "application/vnd.holoviews_exec.v0+json": {
       "id": "1487"
      }
     },
     "output_type": "execute_result"
    }
   ],
   "source": [
    "@interact(x=(1,10))\n",
    "def f(x):\n",
    "    return '#'+str(x+20)+'M'\n",
    "f"
   ]
  },
  {
   "cell_type": "markdown",
   "id": "1b54f1b9-7c30-4f90-a7d2-f1d29bb1b2c8",
   "metadata": {},
   "source": [
    "## Otros ejemplos"
   ]
  },
  {
   "cell_type": "code",
   "execution_count": 38,
   "id": "9c65f28c-616c-4c53-93e7-20641330c53c",
   "metadata": {},
   "outputs": [
    {
     "data": {},
     "metadata": {},
     "output_type": "display_data"
    },
    {
     "data": {
      "application/vnd.holoviews_exec.v0+json": "",
      "text/html": [
       "<div id='1493'>\n",
       "  <div class=\"bk-root\" id=\"cd73bb3e-9384-44e5-89a7-73f38bd56714\" data-root-id=\"1493\"></div>\n",
       "</div>\n",
       "<script type=\"application/javascript\">(function(root) {\n",
       "  function embed_document(root) {\n",
       "    var docs_json = {\"59213c1f-770e-46e2-900f-411a9f57d73a\":{\"defs\":[{\"extends\":null,\"module\":null,\"name\":\"ReactiveHTML1\",\"overrides\":[],\"properties\":[]},{\"extends\":null,\"module\":null,\"name\":\"FlexBox1\",\"overrides\":[],\"properties\":[{\"default\":\"flex-start\",\"kind\":null,\"name\":\"align_content\"},{\"default\":\"flex-start\",\"kind\":null,\"name\":\"align_items\"},{\"default\":\"row\",\"kind\":null,\"name\":\"flex_direction\"},{\"default\":\"wrap\",\"kind\":null,\"name\":\"flex_wrap\"},{\"default\":\"flex-start\",\"kind\":null,\"name\":\"justify_content\"}]},{\"extends\":null,\"module\":null,\"name\":\"GridStack1\",\"overrides\":[],\"properties\":[{\"default\":\"warn\",\"kind\":null,\"name\":\"mode\"},{\"default\":null,\"kind\":null,\"name\":\"ncols\"},{\"default\":null,\"kind\":null,\"name\":\"nrows\"},{\"default\":true,\"kind\":null,\"name\":\"allow_resize\"},{\"default\":true,\"kind\":null,\"name\":\"allow_drag\"},{\"default\":[],\"kind\":null,\"name\":\"state\"}]},{\"extends\":null,\"module\":null,\"name\":\"click1\",\"overrides\":[],\"properties\":[{\"default\":\"\",\"kind\":null,\"name\":\"terminal_output\"},{\"default\":\"\",\"kind\":null,\"name\":\"debug_name\"},{\"default\":0,\"kind\":null,\"name\":\"clears\"}]},{\"extends\":null,\"module\":null,\"name\":\"NotificationAreaBase1\",\"overrides\":[],\"properties\":[{\"default\":\"bottom-right\",\"kind\":null,\"name\":\"position\"},{\"default\":0,\"kind\":null,\"name\":\"_clear\"}]},{\"extends\":null,\"module\":null,\"name\":\"NotificationArea1\",\"overrides\":[],\"properties\":[{\"default\":[],\"kind\":null,\"name\":\"notifications\"},{\"default\":\"bottom-right\",\"kind\":null,\"name\":\"position\"},{\"default\":0,\"kind\":null,\"name\":\"_clear\"},{\"default\":[{\"background\":\"#ffc107\",\"icon\":{\"className\":\"fas fa-exclamation-triangle\",\"color\":\"white\",\"tagName\":\"i\"},\"type\":\"warning\"},{\"background\":\"#007bff\",\"icon\":{\"className\":\"fas fa-info-circle\",\"color\":\"white\",\"tagName\":\"i\"},\"type\":\"info\"}],\"kind\":null,\"name\":\"types\"}]},{\"extends\":null,\"module\":null,\"name\":\"Notification\",\"overrides\":[],\"properties\":[{\"default\":null,\"kind\":null,\"name\":\"background\"},{\"default\":3000,\"kind\":null,\"name\":\"duration\"},{\"default\":null,\"kind\":null,\"name\":\"icon\"},{\"default\":\"\",\"kind\":null,\"name\":\"message\"},{\"default\":null,\"kind\":null,\"name\":\"notification_type\"},{\"default\":false,\"kind\":null,\"name\":\"_destroyed\"}]},{\"extends\":null,\"module\":null,\"name\":\"TemplateActions1\",\"overrides\":[],\"properties\":[{\"default\":0,\"kind\":null,\"name\":\"open_modal\"},{\"default\":0,\"kind\":null,\"name\":\"close_modal\"}]},{\"extends\":null,\"module\":null,\"name\":\"MaterialTemplateActions1\",\"overrides\":[],\"properties\":[{\"default\":0,\"kind\":null,\"name\":\"open_modal\"},{\"default\":0,\"kind\":null,\"name\":\"close_modal\"}]}],\"roots\":{\"references\":[{\"attributes\":{\"children\":[{\"id\":\"1495\"}],\"margin\":[0,0,0,0],\"name\":\"Column01260\"},\"id\":\"1494\",\"type\":\"Column\"},{\"attributes\":{\"margin\":[5,5,5,5],\"name\":\"interactive01253\",\"text\":\"&lt;pre&gt;True&lt;/pre&gt;\"},\"id\":\"1497\",\"type\":\"panel.models.markup.HTML\"},{\"attributes\":{\"children\":[{\"id\":\"1494\"},{\"id\":\"1496\"}],\"margin\":[0,0,0,0],\"name\":\"Column01254\"},\"id\":\"1493\",\"type\":\"Column\"},{\"attributes\":{\"children\":[{\"id\":\"1497\"}],\"margin\":[0,0,0,0],\"name\":\"Row01259\"},\"id\":\"1496\",\"type\":\"Row\"},{\"attributes\":{\"client_comm_id\":\"db1cad10b0d949e4af87b0d43d21e575\",\"comm_id\":\"b1f4716805b84a4083994ae21c519da1\",\"plot_id\":\"1493\"},\"id\":\"1498\",\"type\":\"panel.models.comm_manager.CommManager\"},{\"attributes\":{\"active\":[0],\"labels\":[\"x\"],\"margin\":[5,10,5,10]},\"id\":\"1495\",\"type\":\"CheckboxGroup\"}],\"root_ids\":[\"1493\",\"1498\"]},\"title\":\"Bokeh Application\",\"version\":\"2.4.3\"}};\n",
       "    var render_items = [{\"docid\":\"59213c1f-770e-46e2-900f-411a9f57d73a\",\"root_ids\":[\"1493\"],\"roots\":{\"1493\":\"cd73bb3e-9384-44e5-89a7-73f38bd56714\"}}];\n",
       "    root.Bokeh.embed.embed_items_notebook(docs_json, render_items);\n",
       "    for (const render_item of render_items) {\n",
       "      for (const root_id of render_item.root_ids) {\n",
       "\tconst id_el = document.getElementById(root_id)\n",
       "\tif (id_el.children.length && (id_el.children[0].className === 'bk-root')) {\n",
       "\t  const root_el = id_el.children[0]\n",
       "\t  root_el.id = root_el.id + '-rendered'\n",
       "\t}\n",
       "      }\n",
       "    }\n",
       "  }\n",
       "  if (root.Bokeh !== undefined && root.Bokeh.Panel !== undefined) {\n",
       "    embed_document(root);\n",
       "  } else {\n",
       "    var attempts = 0;\n",
       "    var timer = setInterval(function(root) {\n",
       "      if (root.Bokeh !== undefined && root.Bokeh.Panel !== undefined) {\n",
       "        clearInterval(timer);\n",
       "        embed_document(root);\n",
       "      } else if (document.readyState == \"complete\") {\n",
       "        attempts++;\n",
       "        if (attempts > 200) {\n",
       "          clearInterval(timer);\n",
       "          console.log(\"Bokeh: ERROR: Unable to run BokehJS code because BokehJS library is missing\");\n",
       "        }\n",
       "      }\n",
       "    }, 25, root)\n",
       "  }\n",
       "})(window);</script>"
      ],
      "text/plain": [
       "Column\n",
       "    [0] Column\n",
       "        [0] Checkbox(name='x', value=True)\n",
       "    [1] Row\n",
       "        [0] Str(bool, name='interactive01253')"
      ]
     },
     "execution_count": 38,
     "metadata": {
      "application/vnd.holoviews_exec.v0+json": {
       "id": "1493"
      }
     },
     "output_type": "execute_result"
    }
   ],
   "source": [
    "@interact(x=True)\n",
    "def f(x):\n",
    "    return x\n",
    "f"
   ]
  },
  {
   "cell_type": "code",
   "execution_count": 39,
   "id": "eab87574-3d70-47fc-8e2d-cf213a7a1714",
   "metadata": {},
   "outputs": [
    {
     "data": {},
     "metadata": {},
     "output_type": "display_data"
    },
    {
     "data": {
      "application/vnd.holoviews_exec.v0+json": "",
      "text/html": [
       "<div id='1499'>\n",
       "  <div class=\"bk-root\" id=\"7b085115-6f60-42ea-928b-91ed17235aa0\" data-root-id=\"1499\"></div>\n",
       "</div>\n",
       "<script type=\"application/javascript\">(function(root) {\n",
       "  function embed_document(root) {\n",
       "    var docs_json = {\"cf8e7537-f4d4-4e72-937d-99f23de05e76\":{\"defs\":[{\"extends\":null,\"module\":null,\"name\":\"ReactiveHTML1\",\"overrides\":[],\"properties\":[]},{\"extends\":null,\"module\":null,\"name\":\"FlexBox1\",\"overrides\":[],\"properties\":[{\"default\":\"flex-start\",\"kind\":null,\"name\":\"align_content\"},{\"default\":\"flex-start\",\"kind\":null,\"name\":\"align_items\"},{\"default\":\"row\",\"kind\":null,\"name\":\"flex_direction\"},{\"default\":\"wrap\",\"kind\":null,\"name\":\"flex_wrap\"},{\"default\":\"flex-start\",\"kind\":null,\"name\":\"justify_content\"}]},{\"extends\":null,\"module\":null,\"name\":\"GridStack1\",\"overrides\":[],\"properties\":[{\"default\":\"warn\",\"kind\":null,\"name\":\"mode\"},{\"default\":null,\"kind\":null,\"name\":\"ncols\"},{\"default\":null,\"kind\":null,\"name\":\"nrows\"},{\"default\":true,\"kind\":null,\"name\":\"allow_resize\"},{\"default\":true,\"kind\":null,\"name\":\"allow_drag\"},{\"default\":[],\"kind\":null,\"name\":\"state\"}]},{\"extends\":null,\"module\":null,\"name\":\"click1\",\"overrides\":[],\"properties\":[{\"default\":\"\",\"kind\":null,\"name\":\"terminal_output\"},{\"default\":\"\",\"kind\":null,\"name\":\"debug_name\"},{\"default\":0,\"kind\":null,\"name\":\"clears\"}]},{\"extends\":null,\"module\":null,\"name\":\"NotificationAreaBase1\",\"overrides\":[],\"properties\":[{\"default\":\"bottom-right\",\"kind\":null,\"name\":\"position\"},{\"default\":0,\"kind\":null,\"name\":\"_clear\"}]},{\"extends\":null,\"module\":null,\"name\":\"NotificationArea1\",\"overrides\":[],\"properties\":[{\"default\":[],\"kind\":null,\"name\":\"notifications\"},{\"default\":\"bottom-right\",\"kind\":null,\"name\":\"position\"},{\"default\":0,\"kind\":null,\"name\":\"_clear\"},{\"default\":[{\"background\":\"#ffc107\",\"icon\":{\"className\":\"fas fa-exclamation-triangle\",\"color\":\"white\",\"tagName\":\"i\"},\"type\":\"warning\"},{\"background\":\"#007bff\",\"icon\":{\"className\":\"fas fa-info-circle\",\"color\":\"white\",\"tagName\":\"i\"},\"type\":\"info\"}],\"kind\":null,\"name\":\"types\"}]},{\"extends\":null,\"module\":null,\"name\":\"Notification\",\"overrides\":[],\"properties\":[{\"default\":null,\"kind\":null,\"name\":\"background\"},{\"default\":3000,\"kind\":null,\"name\":\"duration\"},{\"default\":null,\"kind\":null,\"name\":\"icon\"},{\"default\":\"\",\"kind\":null,\"name\":\"message\"},{\"default\":null,\"kind\":null,\"name\":\"notification_type\"},{\"default\":false,\"kind\":null,\"name\":\"_destroyed\"}]},{\"extends\":null,\"module\":null,\"name\":\"TemplateActions1\",\"overrides\":[],\"properties\":[{\"default\":0,\"kind\":null,\"name\":\"open_modal\"},{\"default\":0,\"kind\":null,\"name\":\"close_modal\"}]},{\"extends\":null,\"module\":null,\"name\":\"MaterialTemplateActions1\",\"overrides\":[],\"properties\":[{\"default\":0,\"kind\":null,\"name\":\"open_modal\"},{\"default\":0,\"kind\":null,\"name\":\"close_modal\"}]}],\"roots\":{\"references\":[{\"attributes\":{\"children\":[{\"id\":\"1503\"}],\"margin\":[0,0,0,0],\"name\":\"Row01269\"},\"id\":\"1502\",\"type\":\"Row\"},{\"attributes\":{\"client_comm_id\":\"fdb1ed842cbc475395e010b2166affc2\",\"comm_id\":\"27bb8fbd12e84eba96179d732216386a\",\"plot_id\":\"1499\"},\"id\":\"1504\",\"type\":\"panel.models.comm_manager.CommManager\"},{\"attributes\":{\"margin\":[5,10,5,10],\"options\":[\"Ambos\",\"Masculino\",\"Femenino\"],\"title\":\"x\",\"value\":\"Ambos\"},\"id\":\"1501\",\"type\":\"panel.models.widgets.CustomSelect\"},{\"attributes\":{\"children\":[{\"id\":\"1501\"}],\"margin\":[0,0,0,0],\"name\":\"Column01270\"},\"id\":\"1500\",\"type\":\"Column\"},{\"attributes\":{\"children\":[{\"id\":\"1500\"},{\"id\":\"1502\"}],\"margin\":[0,0,0,0],\"name\":\"Column01264\"},\"id\":\"1499\",\"type\":\"Column\"},{\"attributes\":{\"css_classes\":[\"markdown\"],\"margin\":[5,5,5,5],\"name\":\"interactive01263\",\"text\":\"&lt;p&gt;Ambos&lt;/p&gt;\"},\"id\":\"1503\",\"type\":\"panel.models.markup.HTML\"}],\"root_ids\":[\"1499\",\"1504\"]},\"title\":\"Bokeh Application\",\"version\":\"2.4.3\"}};\n",
       "    var render_items = [{\"docid\":\"cf8e7537-f4d4-4e72-937d-99f23de05e76\",\"root_ids\":[\"1499\"],\"roots\":{\"1499\":\"7b085115-6f60-42ea-928b-91ed17235aa0\"}}];\n",
       "    root.Bokeh.embed.embed_items_notebook(docs_json, render_items);\n",
       "    for (const render_item of render_items) {\n",
       "      for (const root_id of render_item.root_ids) {\n",
       "\tconst id_el = document.getElementById(root_id)\n",
       "\tif (id_el.children.length && (id_el.children[0].className === 'bk-root')) {\n",
       "\t  const root_el = id_el.children[0]\n",
       "\t  root_el.id = root_el.id + '-rendered'\n",
       "\t}\n",
       "      }\n",
       "    }\n",
       "  }\n",
       "  if (root.Bokeh !== undefined && root.Bokeh.Panel !== undefined) {\n",
       "    embed_document(root);\n",
       "  } else {\n",
       "    var attempts = 0;\n",
       "    var timer = setInterval(function(root) {\n",
       "      if (root.Bokeh !== undefined && root.Bokeh.Panel !== undefined) {\n",
       "        clearInterval(timer);\n",
       "        embed_document(root);\n",
       "      } else if (document.readyState == \"complete\") {\n",
       "        attempts++;\n",
       "        if (attempts > 200) {\n",
       "          clearInterval(timer);\n",
       "          console.log(\"Bokeh: ERROR: Unable to run BokehJS code because BokehJS library is missing\");\n",
       "        }\n",
       "      }\n",
       "    }, 25, root)\n",
       "  }\n",
       "})(window);</script>"
      ],
      "text/plain": [
       "Column\n",
       "    [0] Column\n",
       "        [0] Select(name='x', options=['Ambos', 'Masculino', ...], value='Ambos')\n",
       "    [1] Row\n",
       "        [0] Markdown(str, name='interactive01263')"
      ]
     },
     "execution_count": 39,
     "metadata": {
      "application/vnd.holoviews_exec.v0+json": {
       "id": "1499"
      }
     },
     "output_type": "execute_result"
    }
   ],
   "source": [
    "@interact(x=['Ambos','Masculino','Femenino'])\n",
    "def f(x):\n",
    "    return x\n",
    "f"
   ]
  },
  {
   "cell_type": "code",
   "execution_count": 40,
   "id": "6d4921d9-f5c8-4764-97e4-46383a0f0912",
   "metadata": {},
   "outputs": [
    {
     "data": {},
     "metadata": {},
     "output_type": "display_data"
    },
    {
     "data": {
      "application/vnd.holoviews_exec.v0+json": "",
      "text/html": [
       "<div id='1505'>\n",
       "  <div class=\"bk-root\" id=\"17693a29-35da-4fae-8cba-1219c866f369\" data-root-id=\"1505\"></div>\n",
       "</div>\n",
       "<script type=\"application/javascript\">(function(root) {\n",
       "  function embed_document(root) {\n",
       "    var docs_json = {\"bb4b4df6-2ef6-48bd-9fc8-94988af7a97d\":{\"defs\":[{\"extends\":null,\"module\":null,\"name\":\"ReactiveHTML1\",\"overrides\":[],\"properties\":[]},{\"extends\":null,\"module\":null,\"name\":\"FlexBox1\",\"overrides\":[],\"properties\":[{\"default\":\"flex-start\",\"kind\":null,\"name\":\"align_content\"},{\"default\":\"flex-start\",\"kind\":null,\"name\":\"align_items\"},{\"default\":\"row\",\"kind\":null,\"name\":\"flex_direction\"},{\"default\":\"wrap\",\"kind\":null,\"name\":\"flex_wrap\"},{\"default\":\"flex-start\",\"kind\":null,\"name\":\"justify_content\"}]},{\"extends\":null,\"module\":null,\"name\":\"GridStack1\",\"overrides\":[],\"properties\":[{\"default\":\"warn\",\"kind\":null,\"name\":\"mode\"},{\"default\":null,\"kind\":null,\"name\":\"ncols\"},{\"default\":null,\"kind\":null,\"name\":\"nrows\"},{\"default\":true,\"kind\":null,\"name\":\"allow_resize\"},{\"default\":true,\"kind\":null,\"name\":\"allow_drag\"},{\"default\":[],\"kind\":null,\"name\":\"state\"}]},{\"extends\":null,\"module\":null,\"name\":\"click1\",\"overrides\":[],\"properties\":[{\"default\":\"\",\"kind\":null,\"name\":\"terminal_output\"},{\"default\":\"\",\"kind\":null,\"name\":\"debug_name\"},{\"default\":0,\"kind\":null,\"name\":\"clears\"}]},{\"extends\":null,\"module\":null,\"name\":\"NotificationAreaBase1\",\"overrides\":[],\"properties\":[{\"default\":\"bottom-right\",\"kind\":null,\"name\":\"position\"},{\"default\":0,\"kind\":null,\"name\":\"_clear\"}]},{\"extends\":null,\"module\":null,\"name\":\"NotificationArea1\",\"overrides\":[],\"properties\":[{\"default\":[],\"kind\":null,\"name\":\"notifications\"},{\"default\":\"bottom-right\",\"kind\":null,\"name\":\"position\"},{\"default\":0,\"kind\":null,\"name\":\"_clear\"},{\"default\":[{\"background\":\"#ffc107\",\"icon\":{\"className\":\"fas fa-exclamation-triangle\",\"color\":\"white\",\"tagName\":\"i\"},\"type\":\"warning\"},{\"background\":\"#007bff\",\"icon\":{\"className\":\"fas fa-info-circle\",\"color\":\"white\",\"tagName\":\"i\"},\"type\":\"info\"}],\"kind\":null,\"name\":\"types\"}]},{\"extends\":null,\"module\":null,\"name\":\"Notification\",\"overrides\":[],\"properties\":[{\"default\":null,\"kind\":null,\"name\":\"background\"},{\"default\":3000,\"kind\":null,\"name\":\"duration\"},{\"default\":null,\"kind\":null,\"name\":\"icon\"},{\"default\":\"\",\"kind\":null,\"name\":\"message\"},{\"default\":null,\"kind\":null,\"name\":\"notification_type\"},{\"default\":false,\"kind\":null,\"name\":\"_destroyed\"}]},{\"extends\":null,\"module\":null,\"name\":\"TemplateActions1\",\"overrides\":[],\"properties\":[{\"default\":0,\"kind\":null,\"name\":\"open_modal\"},{\"default\":0,\"kind\":null,\"name\":\"close_modal\"}]},{\"extends\":null,\"module\":null,\"name\":\"MaterialTemplateActions1\",\"overrides\":[],\"properties\":[{\"default\":0,\"kind\":null,\"name\":\"open_modal\"},{\"default\":0,\"kind\":null,\"name\":\"close_modal\"}]}],\"roots\":{\"references\":[{\"attributes\":{\"children\":[{\"id\":\"1509\"}],\"margin\":[0,0,0,0],\"name\":\"Row01279\"},\"id\":\"1508\",\"type\":\"Row\"},{\"attributes\":{\"children\":[{\"id\":\"1507\"}],\"margin\":[0,0,0,0],\"name\":\"Column01280\"},\"id\":\"1506\",\"type\":\"Column\"},{\"attributes\":{\"css_classes\":[\"markdown\"],\"margin\":[5,5,5,5],\"name\":\"interactive01273\",\"text\":\"&lt;p&gt;Hello&lt;/p&gt;\"},\"id\":\"1509\",\"type\":\"panel.models.markup.HTML\"},{\"attributes\":{\"children\":[{\"id\":\"1506\"},{\"id\":\"1508\"}],\"margin\":[0,0,0,0],\"name\":\"Column01274\"},\"id\":\"1505\",\"type\":\"Column\"},{\"attributes\":{\"client_comm_id\":\"d3f12532a48b429386ef5d33eed00dbd\",\"comm_id\":\"df206687c7374097a9e9ca3b2ee1b3be\",\"plot_id\":\"1505\"},\"id\":\"1510\",\"type\":\"panel.models.comm_manager.CommManager\"},{\"attributes\":{\"margin\":[5,10,5,10],\"max_length\":5000,\"title\":\"x\",\"value\":\"Hello\"},\"id\":\"1507\",\"type\":\"TextInput\"}],\"root_ids\":[\"1505\",\"1510\"]},\"title\":\"Bokeh Application\",\"version\":\"2.4.3\"}};\n",
       "    var render_items = [{\"docid\":\"bb4b4df6-2ef6-48bd-9fc8-94988af7a97d\",\"root_ids\":[\"1505\"],\"roots\":{\"1505\":\"17693a29-35da-4fae-8cba-1219c866f369\"}}];\n",
       "    root.Bokeh.embed.embed_items_notebook(docs_json, render_items);\n",
       "    for (const render_item of render_items) {\n",
       "      for (const root_id of render_item.root_ids) {\n",
       "\tconst id_el = document.getElementById(root_id)\n",
       "\tif (id_el.children.length && (id_el.children[0].className === 'bk-root')) {\n",
       "\t  const root_el = id_el.children[0]\n",
       "\t  root_el.id = root_el.id + '-rendered'\n",
       "\t}\n",
       "      }\n",
       "    }\n",
       "  }\n",
       "  if (root.Bokeh !== undefined && root.Bokeh.Panel !== undefined) {\n",
       "    embed_document(root);\n",
       "  } else {\n",
       "    var attempts = 0;\n",
       "    var timer = setInterval(function(root) {\n",
       "      if (root.Bokeh !== undefined && root.Bokeh.Panel !== undefined) {\n",
       "        clearInterval(timer);\n",
       "        embed_document(root);\n",
       "      } else if (document.readyState == \"complete\") {\n",
       "        attempts++;\n",
       "        if (attempts > 200) {\n",
       "          clearInterval(timer);\n",
       "          console.log(\"Bokeh: ERROR: Unable to run BokehJS code because BokehJS library is missing\");\n",
       "        }\n",
       "      }\n",
       "    }, 25, root)\n",
       "  }\n",
       "})(window);</script>"
      ],
      "text/plain": [
       "Column\n",
       "    [0] Column\n",
       "        [0] TextInput(name='x', value='Hello')\n",
       "    [1] Row\n",
       "        [0] Markdown(str, name='interactive01273')"
      ]
     },
     "execution_count": 40,
     "metadata": {
      "application/vnd.holoviews_exec.v0+json": {
       "id": "1505"
      }
     },
     "output_type": "execute_result"
    }
   ],
   "source": [
    "@interact(x='Hello')\n",
    "def f(x):\n",
    "    return x\n",
    "f"
   ]
  },
  {
   "cell_type": "markdown",
   "id": "27f76ba8-7d02-483f-8667-ee518a4ecec6",
   "metadata": {},
   "source": [
    "## Text"
   ]
  },
  {
   "cell_type": "code",
   "execution_count": 41,
   "id": "aff143ee-a060-418f-8b01-6372fcf93279",
   "metadata": {},
   "outputs": [
    {
     "data": {},
     "metadata": {},
     "output_type": "display_data"
    },
    {
     "data": {
      "application/vnd.holoviews_exec.v0+json": "",
      "text/html": [
       "<div id='1511'>\n",
       "  <div class=\"bk-root\" id=\"fbadeb5f-9e98-4f5e-81ff-19b04810aa1e\" data-root-id=\"1511\"></div>\n",
       "</div>\n",
       "<script type=\"application/javascript\">(function(root) {\n",
       "  function embed_document(root) {\n",
       "    var docs_json = {\"c1d89a1e-10c7-4a99-b91d-7b260d0afd80\":{\"defs\":[{\"extends\":null,\"module\":null,\"name\":\"ReactiveHTML1\",\"overrides\":[],\"properties\":[]},{\"extends\":null,\"module\":null,\"name\":\"FlexBox1\",\"overrides\":[],\"properties\":[{\"default\":\"flex-start\",\"kind\":null,\"name\":\"align_content\"},{\"default\":\"flex-start\",\"kind\":null,\"name\":\"align_items\"},{\"default\":\"row\",\"kind\":null,\"name\":\"flex_direction\"},{\"default\":\"wrap\",\"kind\":null,\"name\":\"flex_wrap\"},{\"default\":\"flex-start\",\"kind\":null,\"name\":\"justify_content\"}]},{\"extends\":null,\"module\":null,\"name\":\"GridStack1\",\"overrides\":[],\"properties\":[{\"default\":\"warn\",\"kind\":null,\"name\":\"mode\"},{\"default\":null,\"kind\":null,\"name\":\"ncols\"},{\"default\":null,\"kind\":null,\"name\":\"nrows\"},{\"default\":true,\"kind\":null,\"name\":\"allow_resize\"},{\"default\":true,\"kind\":null,\"name\":\"allow_drag\"},{\"default\":[],\"kind\":null,\"name\":\"state\"}]},{\"extends\":null,\"module\":null,\"name\":\"click1\",\"overrides\":[],\"properties\":[{\"default\":\"\",\"kind\":null,\"name\":\"terminal_output\"},{\"default\":\"\",\"kind\":null,\"name\":\"debug_name\"},{\"default\":0,\"kind\":null,\"name\":\"clears\"}]},{\"extends\":null,\"module\":null,\"name\":\"NotificationAreaBase1\",\"overrides\":[],\"properties\":[{\"default\":\"bottom-right\",\"kind\":null,\"name\":\"position\"},{\"default\":0,\"kind\":null,\"name\":\"_clear\"}]},{\"extends\":null,\"module\":null,\"name\":\"NotificationArea1\",\"overrides\":[],\"properties\":[{\"default\":[],\"kind\":null,\"name\":\"notifications\"},{\"default\":\"bottom-right\",\"kind\":null,\"name\":\"position\"},{\"default\":0,\"kind\":null,\"name\":\"_clear\"},{\"default\":[{\"background\":\"#ffc107\",\"icon\":{\"className\":\"fas fa-exclamation-triangle\",\"color\":\"white\",\"tagName\":\"i\"},\"type\":\"warning\"},{\"background\":\"#007bff\",\"icon\":{\"className\":\"fas fa-info-circle\",\"color\":\"white\",\"tagName\":\"i\"},\"type\":\"info\"}],\"kind\":null,\"name\":\"types\"}]},{\"extends\":null,\"module\":null,\"name\":\"Notification\",\"overrides\":[],\"properties\":[{\"default\":null,\"kind\":null,\"name\":\"background\"},{\"default\":3000,\"kind\":null,\"name\":\"duration\"},{\"default\":null,\"kind\":null,\"name\":\"icon\"},{\"default\":\"\",\"kind\":null,\"name\":\"message\"},{\"default\":null,\"kind\":null,\"name\":\"notification_type\"},{\"default\":false,\"kind\":null,\"name\":\"_destroyed\"}]},{\"extends\":null,\"module\":null,\"name\":\"TemplateActions1\",\"overrides\":[],\"properties\":[{\"default\":0,\"kind\":null,\"name\":\"open_modal\"},{\"default\":0,\"kind\":null,\"name\":\"close_modal\"}]},{\"extends\":null,\"module\":null,\"name\":\"MaterialTemplateActions1\",\"overrides\":[],\"properties\":[{\"default\":0,\"kind\":null,\"name\":\"open_modal\"},{\"default\":0,\"kind\":null,\"name\":\"close_modal\"}]}],\"roots\":{\"references\":[{\"attributes\":{\"client_comm_id\":\"94b2496d038c45ce8b161d7fb23050bb\",\"comm_id\":\"3062363fa5914a4fb9cf955e28bddbec\",\"plot_id\":\"1511\"},\"id\":\"1512\",\"type\":\"panel.models.comm_manager.CommManager\"},{\"attributes\":{\"margin\":[5,10,5,10],\"name\":\"nombre\",\"text\":\"<b>nombre</b>: Ornaldo\"},\"id\":\"1511\",\"type\":\"Div\"}],\"root_ids\":[\"1511\",\"1512\"]},\"title\":\"Bokeh Application\",\"version\":\"2.4.3\"}};\n",
       "    var render_items = [{\"docid\":\"c1d89a1e-10c7-4a99-b91d-7b260d0afd80\",\"root_ids\":[\"1511\"],\"roots\":{\"1511\":\"fbadeb5f-9e98-4f5e-81ff-19b04810aa1e\"}}];\n",
       "    root.Bokeh.embed.embed_items_notebook(docs_json, render_items);\n",
       "    for (const render_item of render_items) {\n",
       "      for (const root_id of render_item.root_ids) {\n",
       "\tconst id_el = document.getElementById(root_id)\n",
       "\tif (id_el.children.length && (id_el.children[0].className === 'bk-root')) {\n",
       "\t  const root_el = id_el.children[0]\n",
       "\t  root_el.id = root_el.id + '-rendered'\n",
       "\t}\n",
       "      }\n",
       "    }\n",
       "  }\n",
       "  if (root.Bokeh !== undefined && root.Bokeh.Panel !== undefined) {\n",
       "    embed_document(root);\n",
       "  } else {\n",
       "    var attempts = 0;\n",
       "    var timer = setInterval(function(root) {\n",
       "      if (root.Bokeh !== undefined && root.Bokeh.Panel !== undefined) {\n",
       "        clearInterval(timer);\n",
       "        embed_document(root);\n",
       "      } else if (document.readyState == \"complete\") {\n",
       "        attempts++;\n",
       "        if (attempts > 200) {\n",
       "          clearInterval(timer);\n",
       "          console.log(\"Bokeh: ERROR: Unable to run BokehJS code because BokehJS library is missing\");\n",
       "        }\n",
       "      }\n",
       "    }, 25, root)\n",
       "  }\n",
       "})(window);</script>"
      ],
      "text/plain": [
       "StaticText(name='nombre', value='Ornaldo')"
      ]
     },
     "execution_count": 41,
     "metadata": {
      "application/vnd.holoviews_exec.v0+json": {
       "id": "1511"
      }
     },
     "output_type": "execute_result"
    }
   ],
   "source": [
    "static_text = pn.widgets.StaticText(name='nombre',value='Ornaldo')\n",
    "static_text"
   ]
  },
  {
   "cell_type": "code",
   "execution_count": 42,
   "id": "fd91747f-d415-4ef3-b17d-079b4ea0f4b8",
   "metadata": {},
   "outputs": [
    {
     "data": {},
     "metadata": {},
     "output_type": "display_data"
    },
    {
     "data": {
      "application/vnd.holoviews_exec.v0+json": "",
      "text/html": [
       "<div id='1513'>\n",
       "  <div class=\"bk-root\" id=\"48c7ddc1-db0e-491c-a295-86923a362a7f\" data-root-id=\"1513\"></div>\n",
       "</div>\n",
       "<script type=\"application/javascript\">(function(root) {\n",
       "  function embed_document(root) {\n",
       "    var docs_json = {\"5ed7424a-32f7-4059-b278-a49ce7320dda\":{\"defs\":[{\"extends\":null,\"module\":null,\"name\":\"ReactiveHTML1\",\"overrides\":[],\"properties\":[]},{\"extends\":null,\"module\":null,\"name\":\"FlexBox1\",\"overrides\":[],\"properties\":[{\"default\":\"flex-start\",\"kind\":null,\"name\":\"align_content\"},{\"default\":\"flex-start\",\"kind\":null,\"name\":\"align_items\"},{\"default\":\"row\",\"kind\":null,\"name\":\"flex_direction\"},{\"default\":\"wrap\",\"kind\":null,\"name\":\"flex_wrap\"},{\"default\":\"flex-start\",\"kind\":null,\"name\":\"justify_content\"}]},{\"extends\":null,\"module\":null,\"name\":\"GridStack1\",\"overrides\":[],\"properties\":[{\"default\":\"warn\",\"kind\":null,\"name\":\"mode\"},{\"default\":null,\"kind\":null,\"name\":\"ncols\"},{\"default\":null,\"kind\":null,\"name\":\"nrows\"},{\"default\":true,\"kind\":null,\"name\":\"allow_resize\"},{\"default\":true,\"kind\":null,\"name\":\"allow_drag\"},{\"default\":[],\"kind\":null,\"name\":\"state\"}]},{\"extends\":null,\"module\":null,\"name\":\"click1\",\"overrides\":[],\"properties\":[{\"default\":\"\",\"kind\":null,\"name\":\"terminal_output\"},{\"default\":\"\",\"kind\":null,\"name\":\"debug_name\"},{\"default\":0,\"kind\":null,\"name\":\"clears\"}]},{\"extends\":null,\"module\":null,\"name\":\"NotificationAreaBase1\",\"overrides\":[],\"properties\":[{\"default\":\"bottom-right\",\"kind\":null,\"name\":\"position\"},{\"default\":0,\"kind\":null,\"name\":\"_clear\"}]},{\"extends\":null,\"module\":null,\"name\":\"NotificationArea1\",\"overrides\":[],\"properties\":[{\"default\":[],\"kind\":null,\"name\":\"notifications\"},{\"default\":\"bottom-right\",\"kind\":null,\"name\":\"position\"},{\"default\":0,\"kind\":null,\"name\":\"_clear\"},{\"default\":[{\"background\":\"#ffc107\",\"icon\":{\"className\":\"fas fa-exclamation-triangle\",\"color\":\"white\",\"tagName\":\"i\"},\"type\":\"warning\"},{\"background\":\"#007bff\",\"icon\":{\"className\":\"fas fa-info-circle\",\"color\":\"white\",\"tagName\":\"i\"},\"type\":\"info\"}],\"kind\":null,\"name\":\"types\"}]},{\"extends\":null,\"module\":null,\"name\":\"Notification\",\"overrides\":[],\"properties\":[{\"default\":null,\"kind\":null,\"name\":\"background\"},{\"default\":3000,\"kind\":null,\"name\":\"duration\"},{\"default\":null,\"kind\":null,\"name\":\"icon\"},{\"default\":\"\",\"kind\":null,\"name\":\"message\"},{\"default\":null,\"kind\":null,\"name\":\"notification_type\"},{\"default\":false,\"kind\":null,\"name\":\"_destroyed\"}]},{\"extends\":null,\"module\":null,\"name\":\"TemplateActions1\",\"overrides\":[],\"properties\":[{\"default\":0,\"kind\":null,\"name\":\"open_modal\"},{\"default\":0,\"kind\":null,\"name\":\"close_modal\"}]},{\"extends\":null,\"module\":null,\"name\":\"MaterialTemplateActions1\",\"overrides\":[],\"properties\":[{\"default\":0,\"kind\":null,\"name\":\"open_modal\"},{\"default\":0,\"kind\":null,\"name\":\"close_modal\"}]}],\"roots\":{\"references\":[{\"attributes\":{\"client_comm_id\":\"c0310fa724f34d0c966fb319cb825f39\",\"comm_id\":\"b2e092e6ab234b39a6468eb71282eba1\",\"plot_id\":\"1513\"},\"id\":\"1514\",\"type\":\"panel.models.comm_manager.CommManager\"},{\"attributes\":{\"margin\":[5,5,5,5],\"name\":\"Str01286\",\"text\":\"&lt;pre&gt;Esto es una cadena&lt;/pre&gt;\"},\"id\":\"1513\",\"type\":\"panel.models.markup.HTML\"}],\"root_ids\":[\"1513\",\"1514\"]},\"title\":\"Bokeh Application\",\"version\":\"2.4.3\"}};\n",
       "    var render_items = [{\"docid\":\"5ed7424a-32f7-4059-b278-a49ce7320dda\",\"root_ids\":[\"1513\"],\"roots\":{\"1513\":\"48c7ddc1-db0e-491c-a295-86923a362a7f\"}}];\n",
       "    root.Bokeh.embed.embed_items_notebook(docs_json, render_items);\n",
       "    for (const render_item of render_items) {\n",
       "      for (const root_id of render_item.root_ids) {\n",
       "\tconst id_el = document.getElementById(root_id)\n",
       "\tif (id_el.children.length && (id_el.children[0].className === 'bk-root')) {\n",
       "\t  const root_el = id_el.children[0]\n",
       "\t  root_el.id = root_el.id + '-rendered'\n",
       "\t}\n",
       "      }\n",
       "    }\n",
       "  }\n",
       "  if (root.Bokeh !== undefined && root.Bokeh.Panel !== undefined) {\n",
       "    embed_document(root);\n",
       "  } else {\n",
       "    var attempts = 0;\n",
       "    var timer = setInterval(function(root) {\n",
       "      if (root.Bokeh !== undefined && root.Bokeh.Panel !== undefined) {\n",
       "        clearInterval(timer);\n",
       "        embed_document(root);\n",
       "      } else if (document.readyState == \"complete\") {\n",
       "        attempts++;\n",
       "        if (attempts > 200) {\n",
       "          clearInterval(timer);\n",
       "          console.log(\"Bokeh: ERROR: Unable to run BokehJS code because BokehJS library is missing\");\n",
       "        }\n",
       "      }\n",
       "    }, 25, root)\n",
       "  }\n",
       "})(window);</script>"
      ],
      "text/plain": [
       "Str(str)"
      ]
     },
     "execution_count": 42,
     "metadata": {
      "application/vnd.holoviews_exec.v0+json": {
       "id": "1513"
      }
     },
     "output_type": "execute_result"
    }
   ],
   "source": [
    "string = pn.pane.Str('Esto es una cadena')\n",
    "string"
   ]
  },
  {
   "cell_type": "code",
   "execution_count": 43,
   "id": "554d0cd2-4b5e-41b9-81d3-b2a746d41bab",
   "metadata": {},
   "outputs": [],
   "source": [
    "scrolling_text = pn.panel('<marquee>Here is some custom HTML</marquee>')\n",
    "#scrolling_text"
   ]
  },
  {
   "cell_type": "markdown",
   "id": "595655ce-9d01-44df-aaae-eedc88f70250",
   "metadata": {},
   "source": [
    "## TextBox & Button"
   ]
  },
  {
   "cell_type": "code",
   "execution_count": 44,
   "id": "25deef44-4ad4-4064-9818-ad201914f405",
   "metadata": {},
   "outputs": [
    {
     "data": {},
     "metadata": {},
     "output_type": "display_data"
    },
    {
     "data": {
      "application/vnd.holoviews_exec.v0+json": "",
      "text/html": [
       "<div id='1515'>\n",
       "  <div class=\"bk-root\" id=\"584d5c41-cf64-4b76-979c-7e7752e86ad4\" data-root-id=\"1515\"></div>\n",
       "</div>\n",
       "<script type=\"application/javascript\">(function(root) {\n",
       "  function embed_document(root) {\n",
       "    var docs_json = {\"2966ca51-4b22-4e5e-af6f-7d9efd15d94f\":{\"defs\":[{\"extends\":null,\"module\":null,\"name\":\"ReactiveHTML1\",\"overrides\":[],\"properties\":[]},{\"extends\":null,\"module\":null,\"name\":\"FlexBox1\",\"overrides\":[],\"properties\":[{\"default\":\"flex-start\",\"kind\":null,\"name\":\"align_content\"},{\"default\":\"flex-start\",\"kind\":null,\"name\":\"align_items\"},{\"default\":\"row\",\"kind\":null,\"name\":\"flex_direction\"},{\"default\":\"wrap\",\"kind\":null,\"name\":\"flex_wrap\"},{\"default\":\"flex-start\",\"kind\":null,\"name\":\"justify_content\"}]},{\"extends\":null,\"module\":null,\"name\":\"GridStack1\",\"overrides\":[],\"properties\":[{\"default\":\"warn\",\"kind\":null,\"name\":\"mode\"},{\"default\":null,\"kind\":null,\"name\":\"ncols\"},{\"default\":null,\"kind\":null,\"name\":\"nrows\"},{\"default\":true,\"kind\":null,\"name\":\"allow_resize\"},{\"default\":true,\"kind\":null,\"name\":\"allow_drag\"},{\"default\":[],\"kind\":null,\"name\":\"state\"}]},{\"extends\":null,\"module\":null,\"name\":\"click1\",\"overrides\":[],\"properties\":[{\"default\":\"\",\"kind\":null,\"name\":\"terminal_output\"},{\"default\":\"\",\"kind\":null,\"name\":\"debug_name\"},{\"default\":0,\"kind\":null,\"name\":\"clears\"}]},{\"extends\":null,\"module\":null,\"name\":\"NotificationAreaBase1\",\"overrides\":[],\"properties\":[{\"default\":\"bottom-right\",\"kind\":null,\"name\":\"position\"},{\"default\":0,\"kind\":null,\"name\":\"_clear\"}]},{\"extends\":null,\"module\":null,\"name\":\"NotificationArea1\",\"overrides\":[],\"properties\":[{\"default\":[],\"kind\":null,\"name\":\"notifications\"},{\"default\":\"bottom-right\",\"kind\":null,\"name\":\"position\"},{\"default\":0,\"kind\":null,\"name\":\"_clear\"},{\"default\":[{\"background\":\"#ffc107\",\"icon\":{\"className\":\"fas fa-exclamation-triangle\",\"color\":\"white\",\"tagName\":\"i\"},\"type\":\"warning\"},{\"background\":\"#007bff\",\"icon\":{\"className\":\"fas fa-info-circle\",\"color\":\"white\",\"tagName\":\"i\"},\"type\":\"info\"}],\"kind\":null,\"name\":\"types\"}]},{\"extends\":null,\"module\":null,\"name\":\"Notification\",\"overrides\":[],\"properties\":[{\"default\":null,\"kind\":null,\"name\":\"background\"},{\"default\":3000,\"kind\":null,\"name\":\"duration\"},{\"default\":null,\"kind\":null,\"name\":\"icon\"},{\"default\":\"\",\"kind\":null,\"name\":\"message\"},{\"default\":null,\"kind\":null,\"name\":\"notification_type\"},{\"default\":false,\"kind\":null,\"name\":\"_destroyed\"}]},{\"extends\":null,\"module\":null,\"name\":\"TemplateActions1\",\"overrides\":[],\"properties\":[{\"default\":0,\"kind\":null,\"name\":\"open_modal\"},{\"default\":0,\"kind\":null,\"name\":\"close_modal\"}]},{\"extends\":null,\"module\":null,\"name\":\"MaterialTemplateActions1\",\"overrides\":[],\"properties\":[{\"default\":0,\"kind\":null,\"name\":\"open_modal\"},{\"default\":0,\"kind\":null,\"name\":\"close_modal\"}]}],\"roots\":{\"references\":[{\"attributes\":{\"children\":[{\"id\":\"1516\"},{\"id\":\"1517\"},{\"id\":\"1518\"}],\"margin\":[0,0,0,0],\"name\":\"Column01295\"},\"id\":\"1515\",\"type\":\"Column\"},{\"attributes\":{\"client_comm_id\":\"be0e9c91f42444a286c4f37bad7c8d2c\",\"comm_id\":\"19ec5cfd81d84f95b270939f7f5db318\",\"plot_id\":\"1515\"},\"id\":\"1519\",\"type\":\"panel.models.comm_manager.CommManager\"},{\"attributes\":{\"margin\":[5,10,5,10],\"max_length\":5000,\"title\":\"Teclee el Nombre\"},\"id\":\"1516\",\"type\":\"TextInput\"},{\"attributes\":{\"margin\":[5,10,5,10],\"name\":\"\"},\"id\":\"1518\",\"type\":\"Div\"},{\"attributes\":{\"button_type\":\"primary\",\"icon\":null,\"label\":\"cliCk\",\"margin\":[5,10,5,10],\"subscribed_events\":[\"button_click\"]},\"id\":\"1517\",\"type\":\"Button\"}],\"root_ids\":[\"1515\",\"1519\"]},\"title\":\"Bokeh Application\",\"version\":\"2.4.3\"}};\n",
       "    var render_items = [{\"docid\":\"2966ca51-4b22-4e5e-af6f-7d9efd15d94f\",\"root_ids\":[\"1515\"],\"roots\":{\"1515\":\"584d5c41-cf64-4b76-979c-7e7752e86ad4\"}}];\n",
       "    root.Bokeh.embed.embed_items_notebook(docs_json, render_items);\n",
       "    for (const render_item of render_items) {\n",
       "      for (const root_id of render_item.root_ids) {\n",
       "\tconst id_el = document.getElementById(root_id)\n",
       "\tif (id_el.children.length && (id_el.children[0].className === 'bk-root')) {\n",
       "\t  const root_el = id_el.children[0]\n",
       "\t  root_el.id = root_el.id + '-rendered'\n",
       "\t}\n",
       "      }\n",
       "    }\n",
       "  }\n",
       "  if (root.Bokeh !== undefined && root.Bokeh.Panel !== undefined) {\n",
       "    embed_document(root);\n",
       "  } else {\n",
       "    var attempts = 0;\n",
       "    var timer = setInterval(function(root) {\n",
       "      if (root.Bokeh !== undefined && root.Bokeh.Panel !== undefined) {\n",
       "        clearInterval(timer);\n",
       "        embed_document(root);\n",
       "      } else if (document.readyState == \"complete\") {\n",
       "        attempts++;\n",
       "        if (attempts > 200) {\n",
       "          clearInterval(timer);\n",
       "          console.log(\"Bokeh: ERROR: Unable to run BokehJS code because BokehJS library is missing\");\n",
       "        }\n",
       "      }\n",
       "    }, 25, root)\n",
       "  }\n",
       "})(window);</script>"
      ],
      "text/plain": [
       "Column\n",
       "    [0] TextInput(name='Teclee el Nombre')\n",
       "    [1] Button(button_type='primary', name='cliCk')\n",
       "    [2] StaticText()"
      ]
     },
     "execution_count": 44,
     "metadata": {
      "application/vnd.holoviews_exec.v0+json": {
       "id": "1515"
      }
     },
     "output_type": "execute_result"
    }
   ],
   "source": [
    "# create widgts\n",
    "text_box = pn.widgets.TextInput(name='Teclee el Nombre',value='')\n",
    "text = pn.widgets.StaticText()\n",
    "\n",
    "#create function\n",
    "def hello(event):\n",
    "    text.value = f'Hola {text_box.value}. Tenga un buen dia.'\n",
    "    \n",
    "# create button widget\n",
    "button = pn.widgets.Button(name='cliCk',button_type='primary')\n",
    "\n",
    "# button event \n",
    "button.on_click(hello)\n",
    "\n",
    "# layout\n",
    "pn.Column(text_box,button,text)"
   ]
  },
  {
   "cell_type": "markdown",
   "id": "0917c222-dc08-4241-bd74-4cce9f330b86",
   "metadata": {},
   "source": [
    "## Dropdown Menu"
   ]
  },
  {
   "cell_type": "code",
   "execution_count": 45,
   "id": "d4776bef-e541-443a-af1a-c91173eafe95",
   "metadata": {},
   "outputs": [
    {
     "data": {
      "text/plain": [
       "[4.0, 3.0, 5.0, 1.0]"
      ]
     },
     "execution_count": 45,
     "metadata": {},
     "output_type": "execute_result"
    }
   ],
   "source": [
    "promedios = list(dfr_group_rating.to_pandas()['rating_promedio'].unique())\n",
    "promedios"
   ]
  },
  {
   "cell_type": "code",
   "execution_count": 46,
   "id": "c952fffc-b586-4fc5-adfe-4f50f03e7e56",
   "metadata": {},
   "outputs": [
    {
     "data": {},
     "metadata": {},
     "output_type": "display_data"
    },
    {
     "data": {},
     "metadata": {},
     "output_type": "display_data"
    },
    {
     "data": {
      "application/vnd.holoviews_exec.v0+json": "",
      "text/html": [
       "<div id='1520'>\n",
       "  <div class=\"bk-root\" id=\"355c2ee1-0fa4-45ac-9a88-fb0464a3caf7\" data-root-id=\"1520\"></div>\n",
       "</div>\n",
       "<script type=\"application/javascript\">(function(root) {\n",
       "  function embed_document(root) {\n",
       "    var docs_json = {\"d41c5e98-8d3c-407e-873d-8198faaa146f\":{\"defs\":[{\"extends\":null,\"module\":null,\"name\":\"ReactiveHTML1\",\"overrides\":[],\"properties\":[]},{\"extends\":null,\"module\":null,\"name\":\"FlexBox1\",\"overrides\":[],\"properties\":[{\"default\":\"flex-start\",\"kind\":null,\"name\":\"align_content\"},{\"default\":\"flex-start\",\"kind\":null,\"name\":\"align_items\"},{\"default\":\"row\",\"kind\":null,\"name\":\"flex_direction\"},{\"default\":\"wrap\",\"kind\":null,\"name\":\"flex_wrap\"},{\"default\":\"flex-start\",\"kind\":null,\"name\":\"justify_content\"}]},{\"extends\":null,\"module\":null,\"name\":\"GridStack1\",\"overrides\":[],\"properties\":[{\"default\":\"warn\",\"kind\":null,\"name\":\"mode\"},{\"default\":null,\"kind\":null,\"name\":\"ncols\"},{\"default\":null,\"kind\":null,\"name\":\"nrows\"},{\"default\":true,\"kind\":null,\"name\":\"allow_resize\"},{\"default\":true,\"kind\":null,\"name\":\"allow_drag\"},{\"default\":[],\"kind\":null,\"name\":\"state\"}]},{\"extends\":null,\"module\":null,\"name\":\"click1\",\"overrides\":[],\"properties\":[{\"default\":\"\",\"kind\":null,\"name\":\"terminal_output\"},{\"default\":\"\",\"kind\":null,\"name\":\"debug_name\"},{\"default\":0,\"kind\":null,\"name\":\"clears\"}]},{\"extends\":null,\"module\":null,\"name\":\"NotificationAreaBase1\",\"overrides\":[],\"properties\":[{\"default\":\"bottom-right\",\"kind\":null,\"name\":\"position\"},{\"default\":0,\"kind\":null,\"name\":\"_clear\"}]},{\"extends\":null,\"module\":null,\"name\":\"NotificationArea1\",\"overrides\":[],\"properties\":[{\"default\":[],\"kind\":null,\"name\":\"notifications\"},{\"default\":\"bottom-right\",\"kind\":null,\"name\":\"position\"},{\"default\":0,\"kind\":null,\"name\":\"_clear\"},{\"default\":[{\"background\":\"#ffc107\",\"icon\":{\"className\":\"fas fa-exclamation-triangle\",\"color\":\"white\",\"tagName\":\"i\"},\"type\":\"warning\"},{\"background\":\"#007bff\",\"icon\":{\"className\":\"fas fa-info-circle\",\"color\":\"white\",\"tagName\":\"i\"},\"type\":\"info\"}],\"kind\":null,\"name\":\"types\"}]},{\"extends\":null,\"module\":null,\"name\":\"Notification\",\"overrides\":[],\"properties\":[{\"default\":null,\"kind\":null,\"name\":\"background\"},{\"default\":3000,\"kind\":null,\"name\":\"duration\"},{\"default\":null,\"kind\":null,\"name\":\"icon\"},{\"default\":\"\",\"kind\":null,\"name\":\"message\"},{\"default\":null,\"kind\":null,\"name\":\"notification_type\"},{\"default\":false,\"kind\":null,\"name\":\"_destroyed\"}]},{\"extends\":null,\"module\":null,\"name\":\"TemplateActions1\",\"overrides\":[],\"properties\":[{\"default\":0,\"kind\":null,\"name\":\"open_modal\"},{\"default\":0,\"kind\":null,\"name\":\"close_modal\"}]},{\"extends\":null,\"module\":null,\"name\":\"MaterialTemplateActions1\",\"overrides\":[],\"properties\":[{\"default\":0,\"kind\":null,\"name\":\"open_modal\"},{\"default\":0,\"kind\":null,\"name\":\"close_modal\"}]}],\"roots\":{\"references\":[{\"attributes\":{\"line_alpha\":0.1,\"line_color\":\"#30a2da\",\"line_width\":2,\"x\":{\"field\":\"course_id\"},\"y\":{\"field\":\"cantidad\"}},\"id\":\"1560\",\"type\":\"Line\"},{\"attributes\":{\"factors\":[\"social-psychology\",\"aws-fundamentals-going-cloud-native\",\"immunologyfundamentalsimmunitybcells\",\"leading-for-equity-diversity-inclusion\",\"intro-economic-theories\",\"verb-passives\",\"managing-as-a-coach\",\"astro\",\"norms\",\"music-business-foundations\",\"getting-started-with-essay-writing\",\"convolutional-neural-networks-tensorflow\",\"legaltech\",\"excel-aplicado-negocios-avanzado\",\"introcss\",\"neuroscience-neuroimaging\",\"sciwrite\",\"excel-essentials\",\"python-functions-files-dictionaries\",\"uva-darden-digital-product-management\",\"cancer\",\"search-engine-optimization\",\"human-language\",\"anatomy403-1x\",\"data-lakes-data-warehouses-gcp\",\"wharton-operations-analytics\",\"introduction-to-data-analytics\",\"project-management\",\"careerdevelopment\",\"womens-health-human-rights\",\"marketing-gerencial\",\"contact-tracing-for-covid-19\",\"probability-intro\",\"applied-data-science-capstone\",\"sports-society\",\"private-equity\",\"sample-based-learning-methods\",\"corporate-commercial-law-part1\",\"innovation-through-design\",\"transformation-global-food-system\",\"negotiation\",\"social-media-marketing-introduction\",\"sql-data-science\",\"essentials-global-health\",\"intro-data-science-programacion-estadistica-r\",\"big-data-introduction\",\"gis\",\"sas-programming-basics\",\"introancientegypt\",\"programming-fundamentals\",\"programming-languages\",\"global-financial-markets-instruments\",\"wharton-accounting\",\"positive-psychiatry\",\"race-cultural-diversity-american-life\",\"writing-for-business\",\"contrats\",\"build-a-computer\",\"innovation-management\",\"creative-thinking-techniques-and-tools-for-success\",\"truthinourbones-osteoarchaeology-archaeology\",\"wharton-quantitative-modeling\",\"clinical-research\",\"managing-human-resources\",\"model-thinking\",\"wharton-fintech-overview-payments-regulations\",\"mental-health\",\"social-innovation\",\"nlp-sequence-models\",\"machine-learning\",\"psychological-first-aid\",\"financial-engineering-1\",\"cs-fundamentals-1\",\"healing-with-the-arts\",\"stochasticprocesses\",\"role-of-advertising\",\"gcp-fundamentals\",\"gcp-big-data-ml-fundamentals\",\"natural-language-processing-tensorflow\",\"dog-emotion-and-cognition\",\"introduction-statistics-data-analysis-public-health\",\"os-power-user\",\"deep-neural-network\",\"multivariate-calculus-machine-learning\",\"cloud-azure-intro\",\"clinical-data-management\",\"dyslexia-difficulties\",\"gcp-infrastructure-core-services\",\"biohacking-your-brains-health\",\"digital-business-models\",\"magic-middle-ages\",\"system-administration-it-infrastructure-services\",\"contracts-1\",\"intro-programming\",\"fondamentaux-negociation\",\"beyond-the-sustainable-development-goals-addressing-sustainability-and-development\",\"uva-darden-agile-team-management\",\"wharton-people-analytics\",\"business\",\"industrial-biotech\",\"journalism\",\"containerized-apps-on-aws\",\"public-speaking\",\"intro-self-driving-cars\",\"systems-engineering\",\"everyday-excel-part-1\",\"neurobiology\",\"advanced-valuation-and-strategy\",\"oilandgas\",\"elearning\",\"batch-data-pipelines-gcp\",\"songwriting-lyrics\",\"the-cycle\",\"intro-business-analytics\",\"ibm-penetration-testing-incident-response-forensics\",\"enlinea\",\"seo-fundamentals\",\"c-plus-plus-white\",\"social-impact\",\"emt-foundations\",\"indigenous-canada\",\"global-sustainable-development\",\"digital-advertising-landscape\",\"introduction-embedded-systems\",\"classical-sociological-theory\",\"computational-thinking-problem-solving\",\"teach-online\",\"solar-energy-basics\",\"bioinformatics\",\"exposure-photography\",\"autism-spectrum-disorder\",\"creative-problem-solving\",\"international-security-management\",\"aprendiendo-programar-python\",\"trunk-anatomy\",\"gestion-organizaciones-efectivas\",\"machine-learning-projects\",\"finding-purpose-and-meaning-in-life\",\"international-relations-theory\",\"smart-cities\",\"challenging-forensic-science\",\"international-organizations-management\",\"uol-machine-learning-for-all\",\"health-behavior-change\",\"excel-data-analysis-fundamentals\",\"introduction-psychology\",\"introduction-tensorflow\",\"effective-compliance-programs\",\"horse-care\",\"google-kubernetes-engine\",\"teamwork-skills-effective-communication\",\"people-management\",\"python-statistics-financial-analysis\",\"gamification\",\"addiction-and-the-brain\",\"introduction-to-cloud\",\"memoir-reader-relationship\",\"analytics-business-metrics\",\"making-architecture\",\"how-things-work\",\"change-management\",\"powerpoint-presentations\",\"strategic-business-management-microeconomics\",\"what-is-datascience\",\"aws-machine-learning\",\"science-exercise\",\"international-criminal-law\",\"international-migrations\",\"engineering-mechanics-statics\",\"schizophrenia\",\"machine-learning-duke\",\"ml-foundations\",\"content-marketing\",\"drug-discovery\",\"progfun1\",\"blockchain-basics\",\"big-history\",\"music-theory\",\"conversational-experiences-dialogflow\",\"democracia\",\"english-composition\",\"getinmooc\",\"correccion-estilo-variaciones\",\"wharton-operations\",\"global-diplomacy\",\"data-scientists-tools\",\"six-sigma-principles\",\"anticorrupcion-introduccion\",\"ciencia-computacao-python-conceitos\",\"everyday-excel-part-2\",\"stem-cells\",\"dental-medicine-penn\",\"infrastructure-investing\",\"mindshift\",\"computational-neuroscience\",\"principles-of-microeconomics\",\"perfect-tenses-modals\",\"upravleniya-proektami-agile-scrum\",\"teachlanguageonline\",\"project-planning-1\",\"tensorflow-sequences-time-series-and-prediction\",\"fashion-design\",\"open-source-tools-for-data-science\",\"intro-common-law\",\"international-taxation\",\"competencias-digitales-ofimatica\",\"project-risk-management\",\"uva-darden-foundations-business-strategy\",\"django-database-web-apps\",\"fundamentals-of-graphic-design\",\"american-law\",\"introduction-to-calculus\",\"photography\",\"uva-darden-managerial-accounting\",\"introduction-blockchain-technologies\",\"tricky-american-english-pronunciation\",\"international-law-in-action\",\"visual-elements-user-interface-design\",\"english-principles\",\"introduction-genomics\",\"mathematical-thinking\",\"ux-design-fundamentals\",\"version-control-with-git\",\"python-machine-learning\",\"financial-markets-global\",\"sustainable-finance\",\"wine\",\"supply-chain-logistics\",\"java-programming\",\"camino-excelencia-gestion-proyectos\",\"addiction-treatment\",\"crash-course-in-causality\",\"python-osnovy-programmirovaniya\",\"leadership-21st-century\",\"excel-advanced\",\"fundamentals-of-reinforcement-learning\",\"initiating-planning\",\"python-plotting\",\"site-reliability-engineering-slos\",\"gcp-exploring-preparing-data-bigquery\",\"ai-for-everyone\",\"clinical-trials\",\"microeconomics\",\"getting-started-with-google-sheets\",\"troubleshooting-debugging-techniques\",\"positive-psychology-resilience\",\"global-energy\",\"what-is-a-proof\",\"embedded-software-hardware\",\"understanding-visualization-data\",\"bayesian-statistics\",\"mcmc-bayesian-statistics\",\"data-management\",\"uva-darden-bcg-pricing-strategy-cost-economics\",\"ds\",\"uva-darden-market-analytics\",\"research-methods\",\"discrete-optimization\",\"object-oriented-java\",\"einstein-relativity\",\"excel-para-negocios\",\"introduction-portfolio-construction-python\",\"transmedia-storytelling\",\"c-for-everyone\",\"contabilidad\",\"self-determination-theory\",\"epidemiology-tools\",\"python-data\",\"bcg-uva-darden-digital-transformation\",\"fintechlawandpolicy\",\"aboriginal-education\",\"mythology\",\"cats-and-dogs\",\"understanding-arguments\",\"python-operating-system\",\"golang-getting-started\",\"nanotechnology\",\"brand\",\"communication-strategies-virtual-age\",\"introtoux-principles-and-processes\",\"negociacion\",\"summary-statistics\",\"finanzas-personales\",\"project-planning\",\"terrorism\",\"learn-korean\",\"sustainable-fashion\",\"organizational-behavior\",\"weight-management-beyond-balancing-calories\",\"ibm-customer-engagement-specialist\",\"sdgbusiness\",\"what-is-social\",\"basic-statistics\",\"everyday-parenting\",\"uva-darden-design-thinking-innovation\",\"childrens-rights\",\"arts-heritage\",\"nutrition-pregnancy\",\"practical-time-series-analysis\",\"estrategia-marketing-digital\",\"global-diplomacy-un\",\"quality-healthcare\",\"family-planning\",\"cloud-infrastructure-design-process\",\"vlsi-cad-logic\",\"finance-healthcare-managers\",\"enfant-developpement\",\"global-financial-crisis\",\"wharton-contagious-viral-marketing\",\"entrepreneur-changement\",\"cybersecurity-roles-processes-operating-system-security\",\"mathematics-and-python\",\"etudier-en-france\",\"google-cloud-product-fundamentals\",\"web-development\",\"sleep\",\"linear-algebra-machine-learning\",\"cybersecurity-compliance-framework-system-administration\",\"philosophy\",\"nutricion-obesidad-sobrepeso\",\"sql-for-data-science\",\"datasciencemathskills\",\"duke-programming-web\",\"gestionar-personas\",\"sustainable-tourism\",\"the-science-of-well-being\",\"positive-psychology-visionary-science\",\"systematic-review\",\"marketing-digital\",\"crypto\",\"introduction-to-ai\",\"engineering-health-yoga-physiology\",\"clinicalsimulations\",\"erasmus-econometrics\",\"wind-energy\",\"it-security\",\"technical-support-fundamentals\",\"epidemic-pandemic-outbreak\",\"classification-vector-spaces-in-nlp\",\"python-network-data\",\"reussir-le-changement\",\"reporting-extra-financier-strategie-rse\",\"python-data-visualization\",\"genetics-evolution\",\"ai-for-medical-prognosis\",\"excel-intermediate-1\",\"enterprise-architecture\",\"probability-statistics\",\"python-basics\",\"corp-sustainability\",\"principles-of-macroeconomics\",\"kotlin-for-java-developers\",\"global-environmental-management\",\"agile-atlassian-jira\",\"excel-vba-for-creative-problem-solving-part-1\",\"finanzas-empresariales\",\"python-data-analysis\",\"clinical-terminology\",\"neuroeconomics\",\"iiot-google-cloud-platform\",\"mastering-final-cut-pro\",\"human-needs\",\"manage-health-covid-19\",\"gte-sustainable-cities\",\"social-work-practice-advocating-social-justice-and-change\",\"wharton-launching-startup\",\"sustainability\",\"writing-editing-words\",\"spanish-vocabulary-meeting-people\",\"pap\",\"introduction-git-github\",\"contemporary-art\",\"producing-music\",\"guitar\",\"droits-de-lhomme\",\"google-cbrs-cpi-training\",\"python-for-applied-data-science-ai\",\"refugees-21st-century\",\"cs-fundamentals-2\",\"ecology-conservation\",\"company-future-management\",\"duke-behavioral-finance\",\"sports-marketing\",\"forensic-science\",\"what-is-compliance\",\"equine\",\"environmental-law\",\"introduction-g-suite\",\"wharton-customer-analytics\",\"probabilistic-models-in-nlp\",\"electricity\",\"wharton-communication-skills\",\"financial-planning\",\"corporate-finance-essentials\",\"finance-for-non-financial-managers\",\"data-analysis-with-python\",\"strategic-management\",\"public-policy\",\"introduction-intellectual-property\",\"six-sigma-organization-advanced\",\"intro-chemistry\",\"html-css-javascript-for-web-developers\",\"feminism-social-justice\",\"modern-world-2\",\"object-oriented-design\",\"aws-fundamentals-addressing-security-risk\",\"globalenergyandclimatepolicy\",\"dermatology\",\"wharton-financial-accounting\",\"uva-darden-agile-testing\",\"learning-how-to-learn\",\"craft-of-plot\",\"matlab\",\"wharton-finance\",\"fe-exam\",\"customer-segmentation-prospecting\",\"python-programming-introduction\",\"python\",\"learn-to-program\",\"access-control-sscp\",\"golang-webservices-1\",\"information-security-data\",\"intercultural\",\"dentistry101\",\"quantitative-methods\",\"nand2tetris2\",\"database-management\",\"covid-19-what-you-need-to-know\",\"negotiation-skills\",\"finance-for-non-finance\",\"positive-psychology\",\"design-strategy\",\"moralities\",\"privacy-law-data-protection\",\"philosophy-cognitive-sciences\",\"aulaconstructivista\",\"money-banking\",\"grammar-punctuation\",\"modern-world\",\"develop-your-musicianship\",\"actualizacion-manejo-diabetes-tipo-2\",\"neural-networks-deep-learning\",\"bootstrap-4\",\"decision-making\",\"medical-research\",\"wharton-success\",\"corporatestrategy\",\"competencias-lab\",\"intro-sql\",\"wharton-cryptocurrency-blockchain-introduction-digital-currency\",\"european-law-fundamentals\",\"construction-project-management\",\"antibiotic-stewardship\",\"theropods-birds\",\"becoming-a-veterinarian\",\"python-crash-course\",\"troubles-spectre-autisme-diagnostic\",\"gender-sexuality\",\"information-systems-audit\",\"professional-emails-english\",\"medical-neuroscience\",\"moral-politics\",\"learn-speak-korean1\",\"dino101\",\"google-cloud-java-spring\",\"data-science-methodology\",\"data-science-k-means-clustering-python\",\"excel-data-analysis\",\"process-mining\",\"love-social-justice\",\"plato\",\"introduction-to-computers-and-office-productivity-software\",\"user-experience-design\",\"learn-chinese\",\"business-model\",\"law-student\",\"the-business-of-product-management-one\",\"computer-networking\",\"mafash\",\"animal-welfare\",\"gcp-infrastructure-foundation\",\"positive-psychology-applications\",\"devops-culture-and-mindset\",\"getting-started-with-tensor-flow2\",\"neuromarketing\",\"wharton-entrepreneurship-opportunity\",\"google-machine-learning\",\"humanrights\",\"roman-architecture\",\"technology-of-music-production\",\"vital-signs\",\"forensic-accounting\",\"excellence-operationnelle\",\"healthcarejobs\",\"countering-terror-violent-extremism\",\"microbiome\",\"gcp-infrastructure-scaling-automation\",\"wharton-marketing\",\"supply-chain-principles\",\"arbitration-international-disputes\",\"personal-branding\",\"revisao-sistematica\",\"physiology\",\"machine-learning-with-python\",\"drug-development\",\"python-databases\",\"python-for-data-visualization\",\"cultural-competence-aboriginal-sydney\",\"exploring-renewable-energy\",\"food-beverage-management\",\"r-programming\",\"business-english-intro\",\"uva-darden-design-thinking-social-sector\",\"spanish-in-healthcare-settings\",\"uva-darden-continous-delivery-devops\",\"understanding-financial-markets\",\"renewable-energy-entrepreneurship\",\"fundamental-machine-learning-healthcare\",\"electronics\",\"business-transformation-google-cloud\",\"statistical-inferences\",\"write-a-feature-length-screenplay-for-film-or-television\",\"success\",\"accounting-analytics\",\"legal-tech-startups\",\"food-and-health\",\"introduction-psych\",\"childnutrition\",\"intro-to-healthcare\",\"schedule-projects\",\"intro-accounting-data-analytics-visual\",\"painting\",\"introduction-to-software-product-management\",\"software-processes-and-agile-practices\",\"epidemiology\",\"introduction-programming-unity\",\"uva-darden-project-management\",\"modern-art-ideas\",\"algorithmic-toolbox\",\"data-analytics-for-lean-six-sigma\",\"preparing-cloud-professional-cloud-architect-exam\",\"everyday-chinese-medicine\",\"spectroscopy\",\"uva-darden-getting-started-agile\",\"speak-english-professionally\",\"data-visualization-tableau\",\"international-humanitarian-law\",\"excel-intermediate-2\",\"plantknows\",\"foundations-big-data-analysis-sql\",\"child-development\",\"aprendiendo-a-aprender\",\"ai-for-medical-diagnosis\",\"investment-management\",\"gestionempresarialpyme\",\"chemicals-health\",\"front-end-react\",\"systems-thinking\",\"diversity-inclusion-workplace\",\"ux-ui-design-de-interface\",\"autodesk-revit-architectural-design\",\"machine-learning-business-professionals\",\"uva-darden-financial-accounting\",\"bugs-101\",\"high-stakes-leadership\",\"game-development\",\"introclassicalmusic\",\"drug-commercialization\",\"foundations-of-mindfulness\",\"autodesk-autocad-design-drafting\",\"typography\",\"preparing-cloud-associate-cloud-engineer-exam\",\"motivate-people-teams\",\"community-organizing\",\"oralcavity\",\"introduction-cybersecurity-cyber-attacks\"],\"tags\":[[[\"course_id\",\"course_id\",null]]]},\"id\":\"1524\",\"type\":\"FactorRange\"},{\"attributes\":{\"active_drag\":{\"id\":\"1544\"},\"active_scroll\":{\"id\":\"1545\"},\"tools\":[{\"id\":\"1526\"},{\"id\":\"1543\"},{\"id\":\"1544\"},{\"id\":\"1545\"},{\"id\":\"1546\"},{\"id\":\"1547\"}]},\"id\":\"1549\",\"type\":\"Toolbar\"},{\"attributes\":{\"data\":{\"cantidad\":{\"__ndarray__\":\"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\",\"dtype\":\"uint32\",\"order\":\"little\",\"shape\":[576]},\"course_id\":[\"social-psychology\",\"aws-fundamentals-going-cloud-native\",\"immunologyfundamentalsimmunitybcells\",\"leading-for-equity-diversity-inclusion\",\"intro-economic-theories\",\"verb-passives\",\"managing-as-a-coach\",\"astro\",\"norms\",\"music-business-foundations\",\"getting-started-with-essay-writing\",\"convolutional-neural-networks-tensorflow\",\"legaltech\",\"excel-aplicado-negocios-avanzado\",\"introcss\",\"neuroscience-neuroimaging\",\"sciwrite\",\"excel-essentials\",\"python-functions-files-dictionaries\",\"uva-darden-digital-product-management\",\"cancer\",\"search-engine-optimization\",\"human-language\",\"anatomy403-1x\",\"data-lakes-data-warehouses-gcp\",\"wharton-operations-analytics\",\"introduction-to-data-analytics\",\"project-management\",\"careerdevelopment\",\"womens-health-human-rights\",\"marketing-gerencial\",\"contact-tracing-for-covid-19\",\"probability-intro\",\"applied-data-science-capstone\",\"sports-society\",\"private-equity\",\"sample-based-learning-methods\",\"corporate-commercial-law-part1\",\"innovation-through-design\",\"transformation-global-food-system\",\"negotiation\",\"social-media-marketing-introduction\",\"sql-data-science\",\"essentials-global-health\",\"intro-data-science-programacion-estadistica-r\",\"big-data-introduction\",\"gis\",\"sas-programming-basics\",\"introancientegypt\",\"programming-fundamentals\",\"programming-languages\",\"global-financial-markets-instruments\",\"wharton-accounting\",\"positive-psychiatry\",\"race-cultural-diversity-american-life\",\"writing-for-business\",\"contrats\",\"build-a-computer\",\"innovation-management\",\"creative-thinking-techniques-and-tools-for-success\",\"truthinourbones-osteoarchaeology-archaeology\",\"wharton-quantitative-modeling\",\"clinical-research\",\"managing-human-resources\",\"model-thinking\",\"wharton-fintech-overview-payments-regulations\",\"mental-health\",\"social-innovation\",\"nlp-sequence-models\",\"machine-learning\",\"psychological-first-aid\",\"financial-engineering-1\",\"cs-fundamentals-1\",\"healing-with-the-arts\",\"stochasticprocesses\",\"role-of-advertising\",\"gcp-fundamentals\",\"gcp-big-data-ml-fundamentals\",\"natural-language-processing-tensorflow\",\"dog-emotion-and-cognition\",\"introduction-statistics-data-analysis-public-health\",\"os-power-user\",\"deep-neural-network\",\"multivariate-calculus-machine-learning\",\"cloud-azure-intro\",\"clinical-data-management\",\"dyslexia-difficulties\",\"gcp-infrastructure-core-services\",\"biohacking-your-brains-health\",\"digital-business-models\",\"magic-middle-ages\",\"system-administration-it-infrastructure-services\",\"contracts-1\",\"intro-programming\",\"fondamentaux-negociation\",\"beyond-the-sustainable-development-goals-addressing-sustainability-and-development\",\"uva-darden-agile-team-management\",\"wharton-people-analytics\",\"business\",\"industrial-biotech\",\"journalism\",\"containerized-apps-on-aws\",\"public-speaking\",\"intro-self-driving-cars\",\"systems-engineering\",\"everyday-excel-part-1\",\"neurobiology\",\"advanced-valuation-and-strategy\",\"oilandgas\",\"elearning\",\"batch-data-pipelines-gcp\",\"songwriting-lyrics\",\"the-cycle\",\"intro-business-analytics\",\"ibm-penetration-testing-incident-response-forensics\",\"enlinea\",\"seo-fundamentals\",\"c-plus-plus-white\",\"social-impact\",\"emt-foundations\",\"indigenous-canada\",\"global-sustainable-development\",\"digital-advertising-landscape\",\"introduction-embedded-systems\",\"classical-sociological-theory\",\"computational-thinking-problem-solving\",\"teach-online\",\"solar-energy-basics\",\"bioinformatics\",\"exposure-photography\",\"autism-spectrum-disorder\",\"creative-problem-solving\",\"international-security-management\",\"aprendiendo-programar-python\",\"trunk-anatomy\",\"gestion-organizaciones-efectivas\",\"machine-learning-projects\",\"finding-purpose-and-meaning-in-life\",\"international-relations-theory\",\"smart-cities\",\"challenging-forensic-science\",\"international-organizations-management\",\"uol-machine-learning-for-all\",\"health-behavior-change\",\"excel-data-analysis-fundamentals\",\"introduction-psychology\",\"introduction-tensorflow\",\"effective-compliance-programs\",\"horse-care\",\"google-kubernetes-engine\",\"teamwork-skills-effective-communication\",\"people-management\",\"python-statistics-financial-analysis\",\"gamification\",\"addiction-and-the-brain\",\"introduction-to-cloud\",\"memoir-reader-relationship\",\"analytics-business-metrics\",\"making-architecture\",\"how-things-work\",\"change-management\",\"powerpoint-presentations\",\"strategic-business-management-microeconomics\",\"what-is-datascience\",\"aws-machine-learning\",\"science-exercise\",\"international-criminal-law\",\"international-migrations\",\"engineering-mechanics-statics\",\"schizophrenia\",\"machine-learning-duke\",\"ml-foundations\",\"content-marketing\",\"drug-discovery\",\"progfun1\",\"blockchain-basics\",\"big-history\",\"music-theory\",\"conversational-experiences-dialogflow\",\"democracia\",\"english-composition\",\"getinmooc\",\"correccion-estilo-variaciones\",\"wharton-operations\",\"global-diplomacy\",\"data-scientists-tools\",\"six-sigma-principles\",\"anticorrupcion-introduccion\",\"ciencia-computacao-python-conceitos\",\"everyday-excel-part-2\",\"stem-cells\",\"dental-medicine-penn\",\"infrastructure-investing\",\"mindshift\",\"computational-neuroscience\",\"principles-of-microeconomics\",\"perfect-tenses-modals\",\"upravleniya-proektami-agile-scrum\",\"teachlanguageonline\",\"project-planning-1\",\"tensorflow-sequences-time-series-and-prediction\",\"fashion-design\",\"open-source-tools-for-data-science\",\"intro-common-law\",\"international-taxation\",\"competencias-digitales-ofimatica\",\"project-risk-management\",\"uva-darden-foundations-business-strategy\",\"django-database-web-apps\",\"fundamentals-of-graphic-design\",\"american-law\",\"introduction-to-calculus\",\"photography\",\"uva-darden-managerial-accounting\",\"introduction-blockchain-technologies\",\"tricky-american-english-pronunciation\",\"international-law-in-action\",\"visual-elements-user-interface-design\",\"english-principles\",\"introduction-genomics\",\"mathematical-thinking\",\"ux-design-fundamentals\",\"version-control-with-git\",\"python-machine-learning\",\"financial-markets-global\",\"sustainable-finance\",\"wine\",\"supply-chain-logistics\",\"java-programming\",\"camino-excelencia-gestion-proyectos\",\"addiction-treatment\",\"crash-course-in-causality\",\"python-osnovy-programmirovaniya\",\"leadership-21st-century\",\"excel-advanced\",\"fundamentals-of-reinforcement-learning\",\"initiating-planning\",\"python-plotting\",\"site-reliability-engineering-slos\",\"gcp-exploring-preparing-data-bigquery\",\"ai-for-everyone\",\"clinical-trials\",\"microeconomics\",\"getting-started-with-google-sheets\",\"troubleshooting-debugging-techniques\",\"positive-psychology-resilience\",\"global-energy\",\"what-is-a-proof\",\"embedded-software-hardware\",\"understanding-visualization-data\",\"bayesian-statistics\",\"mcmc-bayesian-statistics\",\"data-management\",\"uva-darden-bcg-pricing-strategy-cost-economics\",\"ds\",\"uva-darden-market-analytics\",\"research-methods\",\"discrete-optimization\",\"object-oriented-java\",\"einstein-relativity\",\"excel-para-negocios\",\"introduction-portfolio-construction-python\",\"transmedia-storytelling\",\"c-for-everyone\",\"contabilidad\",\"self-determination-theory\",\"epidemiology-tools\",\"python-data\",\"bcg-uva-darden-digital-transformation\",\"fintechlawandpolicy\",\"aboriginal-education\",\"mythology\",\"cats-and-dogs\",\"understanding-arguments\",\"python-operating-system\",\"golang-getting-started\",\"nanotechnology\",\"brand\",\"communication-strategies-virtual-age\",\"introtoux-principles-and-processes\",\"negociacion\",\"summary-statistics\",\"finanzas-personales\",\"project-planning\",\"terrorism\",\"learn-korean\",\"sustainable-fashion\",\"organizational-behavior\",\"weight-management-beyond-balancing-calories\",\"ibm-customer-engagement-specialist\",\"sdgbusiness\",\"what-is-social\",\"basic-statistics\",\"everyday-parenting\",\"uva-darden-design-thinking-innovation\",\"childrens-rights\",\"arts-heritage\",\"nutrition-pregnancy\",\"practical-time-series-analysis\",\"estrategia-marketing-digital\",\"global-diplomacy-un\",\"quality-healthcare\",\"family-planning\",\"cloud-infrastructure-design-process\",\"vlsi-cad-logic\",\"finance-healthcare-managers\",\"enfant-developpement\",\"global-financial-crisis\",\"wharton-contagious-viral-marketing\",\"entrepreneur-changement\",\"cybersecurity-roles-processes-operating-system-security\",\"mathematics-and-python\",\"etudier-en-france\",\"google-cloud-product-fundamentals\",\"web-development\",\"sleep\",\"linear-algebra-machine-learning\",\"cybersecurity-compliance-framework-system-administration\",\"philosophy\",\"nutricion-obesidad-sobrepeso\",\"sql-for-data-science\",\"datasciencemathskills\",\"duke-programming-web\",\"gestionar-personas\",\"sustainable-tourism\",\"the-science-of-well-being\",\"positive-psychology-visionary-science\",\"systematic-review\",\"marketing-digital\",\"crypto\",\"introduction-to-ai\",\"engineering-health-yoga-physiology\",\"clinicalsimulations\",\"erasmus-econometrics\",\"wind-energy\",\"it-security\",\"technical-support-fundamentals\",\"epidemic-pandemic-outbreak\",\"classification-vector-spaces-in-nlp\",\"python-network-data\",\"reussir-le-changement\",\"reporting-extra-financier-strategie-rse\",\"python-data-visualization\",\"genetics-evolution\",\"ai-for-medical-prognosis\",\"excel-intermediate-1\",\"enterprise-architecture\",\"probability-statistics\",\"python-basics\",\"corp-sustainability\",\"principles-of-macroeconomics\",\"kotlin-for-java-developers\",\"global-environmental-management\",\"agile-atlassian-jira\",\"excel-vba-for-creative-problem-solving-part-1\",\"finanzas-empresariales\",\"python-data-analysis\",\"clinical-terminology\",\"neuroeconomics\",\"iiot-google-cloud-platform\",\"mastering-final-cut-pro\",\"human-needs\",\"manage-health-covid-19\",\"gte-sustainable-cities\",\"social-work-practice-advocating-social-justice-and-change\",\"wharton-launching-startup\",\"sustainability\",\"writing-editing-words\",\"spanish-vocabulary-meeting-people\",\"pap\",\"introduction-git-github\",\"contemporary-art\",\"producing-music\",\"guitar\",\"droits-de-lhomme\",\"google-cbrs-cpi-training\",\"python-for-applied-data-science-ai\",\"refugees-21st-century\",\"cs-fundamentals-2\",\"ecology-conservation\",\"company-future-management\",\"duke-behavioral-finance\",\"sports-marketing\",\"forensic-science\",\"what-is-compliance\",\"equine\",\"environmental-law\",\"introduction-g-suite\",\"wharton-customer-analytics\",\"probabilistic-models-in-nlp\",\"electricity\",\"wharton-communication-skills\",\"financial-planning\",\"corporate-finance-essentials\",\"finance-for-non-financial-managers\",\"data-analysis-with-python\",\"strategic-management\",\"public-policy\",\"introduction-intellectual-property\",\"six-sigma-organization-advanced\",\"intro-chemistry\",\"html-css-javascript-for-web-developers\",\"feminism-social-justice\",\"modern-world-2\",\"object-oriented-design\",\"aws-fundamentals-addressing-security-risk\",\"globalenergyandclimatepolicy\",\"dermatology\",\"wharton-financial-accounting\",\"uva-darden-agile-testing\",\"learning-how-to-learn\",\"craft-of-plot\",\"matlab\",\"wharton-finance\",\"fe-exam\",\"customer-segmentation-prospecting\",\"python-programming-introduction\",\"python\",\"learn-to-program\",\"access-control-sscp\",\"golang-webservices-1\",\"information-security-data\",\"intercultural\",\"dentistry101\",\"quantitative-methods\",\"nand2tetris2\",\"database-management\",\"covid-19-what-you-need-to-know\",\"negotiation-skills\",\"finance-for-non-finance\",\"positive-psychology\",\"design-strategy\",\"moralities\",\"privacy-law-data-protection\",\"philosophy-cognitive-sciences\",\"aulaconstructivista\",\"money-banking\",\"grammar-punctuation\",\"modern-world\",\"develop-your-musicianship\",\"actualizacion-manejo-diabetes-tipo-2\",\"neural-networks-deep-learning\",\"bootstrap-4\",\"decision-making\",\"medical-research\",\"wharton-success\",\"corporatestrategy\",\"competencias-lab\",\"intro-sql\",\"wharton-cryptocurrency-blockchain-introduction-digital-currency\",\"european-law-fundamentals\",\"construction-project-management\",\"antibiotic-stewardship\",\"theropods-birds\",\"becoming-a-veterinarian\",\"python-crash-course\",\"troubles-spectre-autisme-diagnostic\",\"gender-sexuality\",\"information-systems-audit\",\"professional-emails-english\",\"medical-neuroscience\",\"moral-politics\",\"learn-speak-korean1\",\"dino101\",\"google-cloud-java-spring\",\"data-science-methodology\",\"data-science-k-means-clustering-python\",\"excel-data-analysis\",\"process-mining\",\"love-social-justice\",\"plato\",\"introduction-to-computers-and-office-productivity-software\",\"user-experience-design\",\"learn-chinese\",\"business-model\",\"law-student\",\"the-business-of-product-management-one\",\"computer-networking\",\"mafash\",\"animal-welfare\",\"gcp-infrastructure-foundation\",\"positive-psychology-applications\",\"devops-culture-and-mindset\",\"getting-started-with-tensor-flow2\",\"neuromarketing\",\"wharton-entrepreneurship-opportunity\",\"google-machine-learning\",\"humanrights\",\"roman-architecture\",\"technology-of-music-production\",\"vital-signs\",\"forensic-accounting\",\"excellence-operationnelle\",\"healthcarejobs\",\"countering-terror-violent-extremism\",\"microbiome\",\"gcp-infrastructure-scaling-automation\",\"wharton-marketing\",\"supply-chain-principles\",\"arbitration-international-disputes\",\"personal-branding\",\"revisao-sistematica\",\"physiology\",\"machine-learning-with-python\",\"drug-development\",\"python-databases\",\"python-for-data-visualization\",\"cultural-competence-aboriginal-sydney\",\"exploring-renewable-energy\",\"food-beverage-management\",\"r-programming\",\"business-english-intro\",\"uva-darden-design-thinking-social-sector\",\"spanish-in-healthcare-settings\",\"uva-darden-continous-delivery-devops\",\"understanding-financial-markets\",\"renewable-energy-entrepreneurship\",\"fundamental-machine-learning-healthcare\",\"electronics\",\"business-transformation-google-cloud\",\"statistical-inferences\",\"write-a-feature-length-screenplay-for-film-or-television\",\"success\",\"accounting-analytics\",\"legal-tech-startups\",\"food-and-health\",\"introduction-psych\",\"childnutrition\",\"intro-to-healthcare\",\"schedule-projects\",\"intro-accounting-data-analytics-visual\",\"painting\",\"introduction-to-software-product-management\",\"software-processes-and-agile-practices\",\"epidemiology\",\"introduction-programming-unity\",\"uva-darden-project-management\",\"modern-art-ideas\",\"algorithmic-toolbox\",\"data-analytics-for-lean-six-sigma\",\"preparing-cloud-professional-cloud-architect-exam\",\"everyday-chinese-medicine\",\"spectroscopy\",\"uva-darden-getting-started-agile\",\"speak-english-professionally\",\"data-visualization-tableau\",\"international-humanitarian-law\",\"excel-intermediate-2\",\"plantknows\",\"foundations-big-data-analysis-sql\",\"child-development\",\"aprendiendo-a-aprender\",\"ai-for-medical-diagnosis\",\"investment-management\",\"gestionempresarialpyme\",\"chemicals-health\",\"front-end-react\",\"systems-thinking\",\"diversity-inclusion-workplace\",\"ux-ui-design-de-interface\",\"autodesk-revit-architectural-design\",\"machine-learning-business-professionals\",\"uva-darden-financial-accounting\",\"bugs-101\",\"high-stakes-leadership\",\"game-development\",\"introclassicalmusic\",\"drug-commercialization\",\"foundations-of-mindfulness\",\"autodesk-autocad-design-drafting\",\"typography\",\"preparing-cloud-associate-cloud-engineer-exam\",\"motivate-people-teams\",\"community-organizing\",\"oralcavity\",\"introduction-cybersecurity-cyber-attacks\"]},\"selected\":{\"id\":\"1557\"},\"selection_policy\":{\"id\":\"1582\"}},\"id\":\"1556\",\"type\":\"ColumnDataSource\"},{\"attributes\":{\"line_alpha\":0.2,\"line_color\":\"#30a2da\",\"line_width\":2,\"x\":{\"field\":\"course_id\"},\"y\":{\"field\":\"cantidad\"}},\"id\":\"1561\",\"type\":\"Line\"},{\"attributes\":{\"coordinates\":null,\"data_source\":{\"id\":\"1556\"},\"glyph\":{\"id\":\"1559\"},\"group\":null,\"hover_glyph\":null,\"muted_glyph\":{\"id\":\"1561\"},\"nonselection_glyph\":{\"id\":\"1560\"},\"selection_glyph\":{\"id\":\"1564\"},\"view\":{\"id\":\"1563\"}},\"id\":\"1562\",\"type\":\"GlyphRenderer\"},{\"attributes\":{\"below\":[{\"id\":\"1536\"}],\"center\":[{\"id\":\"1538\"},{\"id\":\"1542\"}],\"height\":300,\"left\":[{\"id\":\"1539\"}],\"margin\":[5,5,5,5],\"min_border_bottom\":10,\"min_border_left\":10,\"min_border_right\":10,\"min_border_top\":10,\"renderers\":[{\"id\":\"1562\"}],\"sizing_mode\":\"fixed\",\"title\":{\"id\":\"1528\"},\"toolbar\":{\"id\":\"1549\"},\"width\":700,\"x_range\":{\"id\":\"1524\"},\"x_scale\":{\"id\":\"1532\"},\"y_range\":{\"id\":\"1525\"},\"y_scale\":{\"id\":\"1534\"}},\"id\":\"1527\",\"subtype\":\"Figure\",\"type\":\"Plot\"},{\"attributes\":{\"source\":{\"id\":\"1556\"}},\"id\":\"1563\",\"type\":\"CDSView\"},{\"attributes\":{\"children\":[{\"id\":\"1527\"}],\"margin\":[0,0,0,0],\"name\":\"Row01388\"},\"id\":\"1523\",\"type\":\"Row\"},{\"attributes\":{},\"id\":\"1534\",\"type\":\"LinearScale\"},{\"attributes\":{\"callback\":null,\"renderers\":[{\"id\":\"1562\"}],\"tags\":[\"hv_created\"],\"tooltips\":[[\"course_id\",\"@{course_id}\"],[\"cantidad\",\"@{cantidad}\"]]},\"id\":\"1526\",\"type\":\"HoverTool\"},{\"attributes\":{},\"id\":\"1557\",\"type\":\"Selection\"},{\"attributes\":{\"line_color\":\"#30a2da\",\"line_width\":2,\"x\":{\"field\":\"course_id\"},\"y\":{\"field\":\"cantidad\"}},\"id\":\"1559\",\"type\":\"Line\"},{\"attributes\":{\"client_comm_id\":\"6c45ba799fde425f95a7e72e1e77068a\",\"comm_id\":\"3a5dca47c3604c3bb77744bb633a7741\",\"plot_id\":\"1520\"},\"id\":\"1615\",\"type\":\"panel.models.comm_manager.CommManager\"},{\"attributes\":{\"children\":[{\"id\":\"1521\"},{\"id\":\"1523\"}],\"margin\":[0,0,0,0],\"name\":\"Column01300\"},\"id\":\"1520\",\"type\":\"Column\"},{\"attributes\":{\"margin\":[5,10,5,10],\"options\":[\"4.0\",\"3.0\",\"5.0\",\"1.0\"],\"title\":\"Select\",\"value\":\"4.0\"},\"id\":\"1522\",\"type\":\"panel.models.widgets.CustomSelect\"},{\"attributes\":{},\"id\":\"1537\",\"type\":\"CategoricalTicker\"},{\"attributes\":{\"coordinates\":null,\"group\":null,\"text_color\":\"black\",\"text_font_size\":\"12pt\"},\"id\":\"1528\",\"type\":\"Title\"},{\"attributes\":{},\"id\":\"1569\",\"type\":\"BasicTickFormatter\"},{\"attributes\":{\"axis\":{\"id\":\"1536\"},\"coordinates\":null,\"grid_line_color\":null,\"group\":null,\"ticker\":null},\"id\":\"1538\",\"type\":\"Grid\"},{\"attributes\":{\"axis_label\":\"course_id\",\"coordinates\":null,\"formatter\":{\"id\":\"1566\"},\"group\":null,\"major_label_policy\":{\"id\":\"1567\"},\"ticker\":{\"id\":\"1537\"}},\"id\":\"1536\",\"type\":\"CategoricalAxis\"},{\"attributes\":{},\"id\":\"1532\",\"type\":\"CategoricalScale\"},{\"attributes\":{},\"id\":\"1582\",\"type\":\"UnionRenderers\"},{\"attributes\":{\"axis_label\":\"cantidad\",\"coordinates\":null,\"formatter\":{\"id\":\"1569\"},\"group\":null,\"major_label_policy\":{\"id\":\"1570\"},\"ticker\":{\"id\":\"1540\"}},\"id\":\"1539\",\"type\":\"LinearAxis\"},{\"attributes\":{},\"id\":\"1567\",\"type\":\"AllLabels\"},{\"attributes\":{\"axis\":{\"id\":\"1539\"},\"coordinates\":null,\"dimension\":1,\"grid_line_color\":null,\"group\":null,\"ticker\":null},\"id\":\"1542\",\"type\":\"Grid\"},{\"attributes\":{},\"id\":\"1540\",\"type\":\"BasicTicker\"},{\"attributes\":{},\"id\":\"1566\",\"type\":\"CategoricalTickFormatter\"},{\"attributes\":{},\"id\":\"1570\",\"type\":\"AllLabels\"},{\"attributes\":{},\"id\":\"1543\",\"type\":\"SaveTool\"},{\"attributes\":{},\"id\":\"1544\",\"type\":\"PanTool\"},{\"attributes\":{\"children\":[{\"id\":\"1522\"}],\"margin\":[0,0,0,0],\"name\":\"Column01389\"},\"id\":\"1521\",\"type\":\"Column\"},{\"attributes\":{},\"id\":\"1545\",\"type\":\"WheelZoomTool\"},{\"attributes\":{\"end\":49739.2,\"reset_end\":49739.2,\"reset_start\":-4515.2,\"start\":-4515.2,\"tags\":[[[\"cantidad\",\"cantidad\",null]]]},\"id\":\"1525\",\"type\":\"Range1d\"},{\"attributes\":{\"overlay\":{\"id\":\"1548\"}},\"id\":\"1546\",\"type\":\"BoxZoomTool\"},{\"attributes\":{},\"id\":\"1547\",\"type\":\"ResetTool\"},{\"attributes\":{\"bottom_units\":\"screen\",\"coordinates\":null,\"fill_alpha\":0.5,\"fill_color\":\"lightgrey\",\"group\":null,\"left_units\":\"screen\",\"level\":\"overlay\",\"line_alpha\":1.0,\"line_color\":\"black\",\"line_dash\":[4,4],\"line_width\":2,\"right_units\":\"screen\",\"syncable\":false,\"top_units\":\"screen\"},\"id\":\"1548\",\"type\":\"BoxAnnotation\"},{\"attributes\":{\"line_color\":\"#30a2da\",\"line_width\":2,\"x\":{\"field\":\"course_id\"},\"y\":{\"field\":\"cantidad\"}},\"id\":\"1564\",\"type\":\"Line\"}],\"root_ids\":[\"1520\",\"1615\"]},\"title\":\"Bokeh Application\",\"version\":\"2.4.3\"}};\n",
       "    var render_items = [{\"docid\":\"d41c5e98-8d3c-407e-873d-8198faaa146f\",\"root_ids\":[\"1520\"],\"roots\":{\"1520\":\"355c2ee1-0fa4-45ac-9a88-fb0464a3caf7\"}}];\n",
       "    root.Bokeh.embed.embed_items_notebook(docs_json, render_items);\n",
       "    for (const render_item of render_items) {\n",
       "      for (const root_id of render_item.root_ids) {\n",
       "\tconst id_el = document.getElementById(root_id)\n",
       "\tif (id_el.children.length && (id_el.children[0].className === 'bk-root')) {\n",
       "\t  const root_el = id_el.children[0]\n",
       "\t  root_el.id = root_el.id + '-rendered'\n",
       "\t}\n",
       "      }\n",
       "    }\n",
       "  }\n",
       "  if (root.Bokeh !== undefined && root.Bokeh.Panel !== undefined) {\n",
       "    embed_document(root);\n",
       "  } else {\n",
       "    var attempts = 0;\n",
       "    var timer = setInterval(function(root) {\n",
       "      if (root.Bokeh !== undefined && root.Bokeh.Panel !== undefined) {\n",
       "        clearInterval(timer);\n",
       "        embed_document(root);\n",
       "      } else if (document.readyState == \"complete\") {\n",
       "        attempts++;\n",
       "        if (attempts > 200) {\n",
       "          clearInterval(timer);\n",
       "          console.log(\"Bokeh: ERROR: Unable to run BokehJS code because BokehJS library is missing\");\n",
       "        }\n",
       "      }\n",
       "    }, 25, root)\n",
       "  }\n",
       "})(window);</script>"
      ],
      "text/plain": [
       "Column\n",
       "    [0] Column\n",
       "        [0] Select(options=[4.0, 3.0, 5.0, 1.0], value=4.0)\n",
       "    [1] Row\n",
       "        [0] HoloViews(Curve, name='interactive01299')"
      ]
     },
     "execution_count": 46,
     "metadata": {
      "application/vnd.holoviews_exec.v0+json": {
       "id": "1520"
      }
     },
     "output_type": "execute_result"
    }
   ],
   "source": [
    "# create widget\n",
    "select = pn.widgets.Select(name='Select',options=promedios)\n",
    "\n",
    "# create function\n",
    "def create_plot(promedio):\n",
    "    return dfr_group_rating.filter(pl.col('rating_promedio')==promedio).to_pandas().hvplot('course_id','cantidad')\n",
    "\n",
    "# create interaction\n",
    "interact(create_plot, promedio=select)\n",
    "\n"
   ]
  },
  {
   "cell_type": "code",
   "execution_count": 47,
   "id": "1a38889c-18e3-4e61-b94b-af548674bc69",
   "metadata": {},
   "outputs": [],
   "source": [
    "tipos = ['Precio','Nivel Complejidad','Rating','Idioma']"
   ]
  },
  {
   "cell_type": "code",
   "execution_count": 48,
   "id": "4a4c681d-9a52-471f-81f2-a4b0c30d61c9",
   "metadata": {},
   "outputs": [
    {
     "data": {},
     "metadata": {},
     "output_type": "display_data"
    },
    {
     "data": {},
     "metadata": {},
     "output_type": "display_data"
    },
    {
     "data": {
      "application/vnd.holoviews_exec.v0+json": "",
      "text/html": [
       "<div id='1666'>\n",
       "  <div class=\"bk-root\" id=\"470e2ac7-ecbc-4156-b864-38489ac79f88\" data-root-id=\"1666\"></div>\n",
       "</div>\n",
       "<script type=\"application/javascript\">(function(root) {\n",
       "  function embed_document(root) {\n",
       "    var docs_json = {\"14b11ef5-f9d5-4df9-940f-8afb53cf0ee7\":{\"defs\":[{\"extends\":null,\"module\":null,\"name\":\"ReactiveHTML1\",\"overrides\":[],\"properties\":[]},{\"extends\":null,\"module\":null,\"name\":\"FlexBox1\",\"overrides\":[],\"properties\":[{\"default\":\"flex-start\",\"kind\":null,\"name\":\"align_content\"},{\"default\":\"flex-start\",\"kind\":null,\"name\":\"align_items\"},{\"default\":\"row\",\"kind\":null,\"name\":\"flex_direction\"},{\"default\":\"wrap\",\"kind\":null,\"name\":\"flex_wrap\"},{\"default\":\"flex-start\",\"kind\":null,\"name\":\"justify_content\"}]},{\"extends\":null,\"module\":null,\"name\":\"GridStack1\",\"overrides\":[],\"properties\":[{\"default\":\"warn\",\"kind\":null,\"name\":\"mode\"},{\"default\":null,\"kind\":null,\"name\":\"ncols\"},{\"default\":null,\"kind\":null,\"name\":\"nrows\"},{\"default\":true,\"kind\":null,\"name\":\"allow_resize\"},{\"default\":true,\"kind\":null,\"name\":\"allow_drag\"},{\"default\":[],\"kind\":null,\"name\":\"state\"}]},{\"extends\":null,\"module\":null,\"name\":\"click1\",\"overrides\":[],\"properties\":[{\"default\":\"\",\"kind\":null,\"name\":\"terminal_output\"},{\"default\":\"\",\"kind\":null,\"name\":\"debug_name\"},{\"default\":0,\"kind\":null,\"name\":\"clears\"}]},{\"extends\":null,\"module\":null,\"name\":\"NotificationAreaBase1\",\"overrides\":[],\"properties\":[{\"default\":\"bottom-right\",\"kind\":null,\"name\":\"position\"},{\"default\":0,\"kind\":null,\"name\":\"_clear\"}]},{\"extends\":null,\"module\":null,\"name\":\"NotificationArea1\",\"overrides\":[],\"properties\":[{\"default\":[],\"kind\":null,\"name\":\"notifications\"},{\"default\":\"bottom-right\",\"kind\":null,\"name\":\"position\"},{\"default\":0,\"kind\":null,\"name\":\"_clear\"},{\"default\":[{\"background\":\"#ffc107\",\"icon\":{\"className\":\"fas fa-exclamation-triangle\",\"color\":\"white\",\"tagName\":\"i\"},\"type\":\"warning\"},{\"background\":\"#007bff\",\"icon\":{\"className\":\"fas fa-info-circle\",\"color\":\"white\",\"tagName\":\"i\"},\"type\":\"info\"}],\"kind\":null,\"name\":\"types\"}]},{\"extends\":null,\"module\":null,\"name\":\"Notification\",\"overrides\":[],\"properties\":[{\"default\":null,\"kind\":null,\"name\":\"background\"},{\"default\":3000,\"kind\":null,\"name\":\"duration\"},{\"default\":null,\"kind\":null,\"name\":\"icon\"},{\"default\":\"\",\"kind\":null,\"name\":\"message\"},{\"default\":null,\"kind\":null,\"name\":\"notification_type\"},{\"default\":false,\"kind\":null,\"name\":\"_destroyed\"}]},{\"extends\":null,\"module\":null,\"name\":\"TemplateActions1\",\"overrides\":[],\"properties\":[{\"default\":0,\"kind\":null,\"name\":\"open_modal\"},{\"default\":0,\"kind\":null,\"name\":\"close_modal\"}]},{\"extends\":null,\"module\":null,\"name\":\"MaterialTemplateActions1\",\"overrides\":[],\"properties\":[{\"default\":0,\"kind\":null,\"name\":\"open_modal\"},{\"default\":0,\"kind\":null,\"name\":\"close_modal\"}]}],\"roots\":{\"references\":[{\"attributes\":{\"below\":[{\"id\":\"1682\"}],\"center\":[{\"id\":\"1685\"},{\"id\":\"1689\"}],\"height\":300,\"left\":[{\"id\":\"1686\"}],\"margin\":[5,5,5,5],\"min_border_bottom\":10,\"min_border_left\":10,\"min_border_right\":10,\"min_border_top\":10,\"renderers\":[{\"id\":\"1709\"}],\"sizing_mode\":\"fixed\",\"title\":{\"id\":\"1674\"},\"toolbar\":{\"id\":\"1696\"},\"width\":700,\"x_range\":{\"id\":\"1670\"},\"x_scale\":{\"id\":\"1678\"},\"y_range\":{\"id\":\"1671\"},\"y_scale\":{\"id\":\"1680\"}},\"id\":\"1673\",\"subtype\":\"Figure\",\"type\":\"Plot\"},{\"attributes\":{\"source\":{\"id\":\"1703\"}},\"id\":\"1710\",\"type\":\"CDSView\"},{\"attributes\":{\"end\":912.8,\"reset_end\":912.8,\"reset_start\":-80.80000000000001,\"start\":-80.80000000000001,\"tags\":[[[\"cantidad_cursos\",\"cantidad_cursos\",null]]]},\"id\":\"1671\",\"type\":\"Range1d\"},{\"attributes\":{},\"id\":\"1704\",\"type\":\"Selection\"},{\"attributes\":{\"line_color\":\"#30a2da\",\"line_width\":2,\"x\":{\"field\":\"price\"},\"y\":{\"field\":\"cantidad_cursos\"}},\"id\":\"1706\",\"type\":\"Line\"},{\"attributes\":{\"callback\":null,\"renderers\":[{\"id\":\"1709\"}],\"tags\":[\"hv_created\"],\"tooltips\":[[\"price\",\"@{price}\"],[\"cantidad_cursos\",\"@{cantidad_cursos}\"]]},\"id\":\"1672\",\"type\":\"HoverTool\"},{\"attributes\":{},\"id\":\"1680\",\"type\":\"LinearScale\"},{\"attributes\":{\"margin\":[5,10,5,10],\"options\":[\"Precio\",\"Nivel Complejidad\",\"Rating\",\"Idioma\"],\"title\":\"Seleccionar Tipo\",\"value\":\"Precio\"},\"id\":\"1668\",\"type\":\"panel.models.widgets.CustomSelect\"},{\"attributes\":{},\"id\":\"1683\",\"type\":\"BasicTicker\"},{\"attributes\":{\"children\":[{\"id\":\"1668\"}],\"margin\":[0,0,0,0],\"name\":\"Column01501\"},\"id\":\"1667\",\"type\":\"Column\"},{\"attributes\":{\"coordinates\":null,\"group\":null,\"text_color\":\"black\",\"text_font_size\":\"12pt\"},\"id\":\"1674\",\"type\":\"Title\"},{\"attributes\":{\"axis\":{\"id\":\"1682\"},\"coordinates\":null,\"grid_line_color\":null,\"group\":null,\"ticker\":null},\"id\":\"1685\",\"type\":\"Grid\"},{\"attributes\":{\"axis_label\":\"price\",\"coordinates\":null,\"formatter\":{\"id\":\"1713\"},\"group\":null,\"major_label_policy\":{\"id\":\"1714\"},\"ticker\":{\"id\":\"1683\"}},\"id\":\"1682\",\"type\":\"LinearAxis\"},{\"attributes\":{},\"id\":\"1713\",\"type\":\"BasicTickFormatter\"},{\"attributes\":{},\"id\":\"1716\",\"type\":\"BasicTickFormatter\"},{\"attributes\":{},\"id\":\"1691\",\"type\":\"PanTool\"},{\"attributes\":{\"axis_label\":\"cantidad_cursos\",\"coordinates\":null,\"formatter\":{\"id\":\"1716\"},\"group\":null,\"major_label_policy\":{\"id\":\"1717\"},\"ticker\":{\"id\":\"1687\"}},\"id\":\"1686\",\"type\":\"LinearAxis\"},{\"attributes\":{\"axis\":{\"id\":\"1686\"},\"coordinates\":null,\"dimension\":1,\"grid_line_color\":null,\"group\":null,\"ticker\":null},\"id\":\"1689\",\"type\":\"Grid\"},{\"attributes\":{},\"id\":\"1687\",\"type\":\"BasicTicker\"},{\"attributes\":{},\"id\":\"1714\",\"type\":\"AllLabels\"},{\"attributes\":{},\"id\":\"1692\",\"type\":\"WheelZoomTool\"},{\"attributes\":{},\"id\":\"1717\",\"type\":\"AllLabels\"},{\"attributes\":{\"client_comm_id\":\"041b82ea47c54af691707b98fede1457\",\"comm_id\":\"175f897cf91d47a5bb8977fef2526a79\",\"plot_id\":\"1666\"},\"id\":\"1762\",\"type\":\"panel.models.comm_manager.CommManager\"},{\"attributes\":{},\"id\":\"1690\",\"type\":\"SaveTool\"},{\"attributes\":{},\"id\":\"1729\",\"type\":\"UnionRenderers\"},{\"attributes\":{},\"id\":\"1678\",\"type\":\"LinearScale\"},{\"attributes\":{\"overlay\":{\"id\":\"1695\"}},\"id\":\"1693\",\"type\":\"BoxZoomTool\"},{\"attributes\":{},\"id\":\"1694\",\"type\":\"ResetTool\"},{\"attributes\":{\"bottom_units\":\"screen\",\"coordinates\":null,\"fill_alpha\":0.5,\"fill_color\":\"lightgrey\",\"group\":null,\"left_units\":\"screen\",\"level\":\"overlay\",\"line_alpha\":1.0,\"line_color\":\"black\",\"line_dash\":[4,4],\"line_width\":2,\"right_units\":\"screen\",\"syncable\":false,\"top_units\":\"screen\"},\"id\":\"1695\",\"type\":\"BoxAnnotation\"},{\"attributes\":{\"children\":[{\"id\":\"1673\"}],\"margin\":[0,0,0,0],\"name\":\"Row01500\"},\"id\":\"1669\",\"type\":\"Row\"},{\"attributes\":{\"line_color\":\"#30a2da\",\"line_width\":2,\"x\":{\"field\":\"price\"},\"y\":{\"field\":\"cantidad_cursos\"}},\"id\":\"1711\",\"type\":\"Line\"},{\"attributes\":{\"line_alpha\":0.1,\"line_color\":\"#30a2da\",\"line_width\":2,\"x\":{\"field\":\"price\"},\"y\":{\"field\":\"cantidad_cursos\"}},\"id\":\"1707\",\"type\":\"Line\"},{\"attributes\":{\"children\":[{\"id\":\"1667\"},{\"id\":\"1669\"}],\"margin\":[0,0,0,0],\"name\":\"Column01413\"},\"id\":\"1666\",\"type\":\"Column\"},{\"attributes\":{\"active_drag\":{\"id\":\"1691\"},\"active_scroll\":{\"id\":\"1692\"},\"tools\":[{\"id\":\"1672\"},{\"id\":\"1690\"},{\"id\":\"1691\"},{\"id\":\"1692\"},{\"id\":\"1693\"},{\"id\":\"1694\"}]},\"id\":\"1696\",\"type\":\"Toolbar\"},{\"attributes\":{\"data\":{\"cantidad_cursos\":{\"__ndarray__\":\"PgMAAJoAAACmAAAAdAAAANkAAABTAAAA1AEAACMAAABLAAAAHgAAABoAAABRAAAAHQAAAB8AAAATAAAAmAAAAIUAAAALAAAACAAAABAAAAAlAAAAHgAAAAMAAAAIAAAACgAAABsAAABYAAAAAgAAAAQAAAAGAAAABQAAAA0AAAARAAAABgAAAAoAAAB/AAAAJwEAAA==\",\"dtype\":\"uint32\",\"order\":\"little\",\"shape\":[37]},\"price\":[20,25,30,35,40,45,50,55,60,65,70,75,80,85,90,95,100,105,110,115,120,125,130,135,140,145,150,155,160,165,170,175,180,185,190,195,200]},\"selected\":{\"id\":\"1704\"},\"selection_policy\":{\"id\":\"1729\"}},\"id\":\"1703\",\"type\":\"ColumnDataSource\"},{\"attributes\":{\"coordinates\":null,\"data_source\":{\"id\":\"1703\"},\"glyph\":{\"id\":\"1706\"},\"group\":null,\"hover_glyph\":null,\"muted_glyph\":{\"id\":\"1708\"},\"nonselection_glyph\":{\"id\":\"1707\"},\"selection_glyph\":{\"id\":\"1711\"},\"view\":{\"id\":\"1710\"}},\"id\":\"1709\",\"type\":\"GlyphRenderer\"},{\"attributes\":{\"line_alpha\":0.2,\"line_color\":\"#30a2da\",\"line_width\":2,\"x\":{\"field\":\"price\"},\"y\":{\"field\":\"cantidad_cursos\"}},\"id\":\"1708\",\"type\":\"Line\"},{\"attributes\":{\"end\":200.0,\"reset_end\":200.0,\"reset_start\":20.0,\"start\":20.0,\"tags\":[[[\"price\",\"price\",null]]]},\"id\":\"1670\",\"type\":\"Range1d\"}],\"root_ids\":[\"1666\",\"1762\"]},\"title\":\"Bokeh Application\",\"version\":\"2.4.3\"}};\n",
       "    var render_items = [{\"docid\":\"14b11ef5-f9d5-4df9-940f-8afb53cf0ee7\",\"root_ids\":[\"1666\"],\"roots\":{\"1666\":\"470e2ac7-ecbc-4156-b864-38489ac79f88\"}}];\n",
       "    root.Bokeh.embed.embed_items_notebook(docs_json, render_items);\n",
       "    for (const render_item of render_items) {\n",
       "      for (const root_id of render_item.root_ids) {\n",
       "\tconst id_el = document.getElementById(root_id)\n",
       "\tif (id_el.children.length && (id_el.children[0].className === 'bk-root')) {\n",
       "\t  const root_el = id_el.children[0]\n",
       "\t  root_el.id = root_el.id + '-rendered'\n",
       "\t}\n",
       "      }\n",
       "    }\n",
       "  }\n",
       "  if (root.Bokeh !== undefined && root.Bokeh.Panel !== undefined) {\n",
       "    embed_document(root);\n",
       "  } else {\n",
       "    var attempts = 0;\n",
       "    var timer = setInterval(function(root) {\n",
       "      if (root.Bokeh !== undefined && root.Bokeh.Panel !== undefined) {\n",
       "        clearInterval(timer);\n",
       "        embed_document(root);\n",
       "      } else if (document.readyState == \"complete\") {\n",
       "        attempts++;\n",
       "        if (attempts > 200) {\n",
       "          clearInterval(timer);\n",
       "          console.log(\"Bokeh: ERROR: Unable to run BokehJS code because BokehJS library is missing\");\n",
       "        }\n",
       "      }\n",
       "    }, 25, root)\n",
       "  }\n",
       "})(window);</script>"
      ],
      "text/plain": [
       "Column\n",
       "    [0] Column\n",
       "        [0] Select(name='Seleccionar Tipo', options=['Precio', 'Nivel Compleji...], value='Precio')\n",
       "    [1] Row\n",
       "        [0] HoloViews(Curve, name='interactive01412')"
      ]
     },
     "execution_count": 48,
     "metadata": {
      "application/vnd.holoviews_exec.v0+json": {
       "id": "1666"
      }
     },
     "output_type": "execute_result"
    }
   ],
   "source": [
    "# creo el widget\n",
    "select = pn.widgets.Select(name='Seleccionar Tipo',options = tipos)\n",
    "\n",
    "# funcion\n",
    "def ventas_por_tipo(tipo):\n",
    "    match tipo:\n",
    "        case 'Precio':\n",
    "            return dfu_group_precio.to_pandas().hvplot('price','cantidad_cursos')\n",
    "        case 'Nivel Complejidad':    \n",
    "            return dfu_group_level1.to_pandas().hvplot('nivel_complejidad','cantidad_cursos')\n",
    "        case 'Rating':\n",
    "            return dfr_group_rating_prom.to_pandas().hvplot('rating_promedio','cantidad_cursos')\n",
    "        case _:\n",
    "            return dfu_group_precio.to_pandas().hvplot('price','cantidad_cursos')\n",
    "    #    action-default\n",
    "    #return dfr_group_rating.filter(pl.col('rating_promedio')==promedio).to_pandas().hvplot('course_id','cantidad')\n",
    "\n",
    "# create interaction\n",
    "interact(ventas_por_tipo, tipo=select)"
   ]
  },
  {
   "cell_type": "markdown",
   "id": "006b764f-7cf2-4a95-bbcc-f5a083f5bc15",
   "metadata": {},
   "source": [
    "## Mismo ejemplo que el anterior pero usando depends decorator"
   ]
  },
  {
   "cell_type": "code",
   "execution_count": 68,
   "id": "9f9264b8-e8b9-4266-992b-730acb7fd67e",
   "metadata": {},
   "outputs": [
    {
     "data": {},
     "metadata": {},
     "output_type": "display_data"
    },
    {
     "data": {},
     "metadata": {},
     "output_type": "display_data"
    },
    {
     "data": {
      "application/vnd.holoviews_exec.v0+json": "",
      "text/html": [
       "<div id='2780'>\n",
       "  <div class=\"bk-root\" id=\"4dd0882c-1e75-432c-aaf0-66bc7d5f87d3\" data-root-id=\"2780\"></div>\n",
       "</div>\n",
       "<script type=\"application/javascript\">(function(root) {\n",
       "  function embed_document(root) {\n",
       "    var docs_json = {\"b9aea098-775c-4cec-b0c6-cf1be172deae\":{\"defs\":[{\"extends\":null,\"module\":null,\"name\":\"ReactiveHTML1\",\"overrides\":[],\"properties\":[]},{\"extends\":null,\"module\":null,\"name\":\"FlexBox1\",\"overrides\":[],\"properties\":[{\"default\":\"flex-start\",\"kind\":null,\"name\":\"align_content\"},{\"default\":\"flex-start\",\"kind\":null,\"name\":\"align_items\"},{\"default\":\"row\",\"kind\":null,\"name\":\"flex_direction\"},{\"default\":\"wrap\",\"kind\":null,\"name\":\"flex_wrap\"},{\"default\":\"flex-start\",\"kind\":null,\"name\":\"justify_content\"}]},{\"extends\":null,\"module\":null,\"name\":\"GridStack1\",\"overrides\":[],\"properties\":[{\"default\":\"warn\",\"kind\":null,\"name\":\"mode\"},{\"default\":null,\"kind\":null,\"name\":\"ncols\"},{\"default\":null,\"kind\":null,\"name\":\"nrows\"},{\"default\":true,\"kind\":null,\"name\":\"allow_resize\"},{\"default\":true,\"kind\":null,\"name\":\"allow_drag\"},{\"default\":[],\"kind\":null,\"name\":\"state\"}]},{\"extends\":null,\"module\":null,\"name\":\"click1\",\"overrides\":[],\"properties\":[{\"default\":\"\",\"kind\":null,\"name\":\"terminal_output\"},{\"default\":\"\",\"kind\":null,\"name\":\"debug_name\"},{\"default\":0,\"kind\":null,\"name\":\"clears\"}]},{\"extends\":null,\"module\":null,\"name\":\"NotificationAreaBase1\",\"overrides\":[],\"properties\":[{\"default\":\"bottom-right\",\"kind\":null,\"name\":\"position\"},{\"default\":0,\"kind\":null,\"name\":\"_clear\"}]},{\"extends\":null,\"module\":null,\"name\":\"NotificationArea1\",\"overrides\":[],\"properties\":[{\"default\":[],\"kind\":null,\"name\":\"notifications\"},{\"default\":\"bottom-right\",\"kind\":null,\"name\":\"position\"},{\"default\":0,\"kind\":null,\"name\":\"_clear\"},{\"default\":[{\"background\":\"#ffc107\",\"icon\":{\"className\":\"fas fa-exclamation-triangle\",\"color\":\"white\",\"tagName\":\"i\"},\"type\":\"warning\"},{\"background\":\"#007bff\",\"icon\":{\"className\":\"fas fa-info-circle\",\"color\":\"white\",\"tagName\":\"i\"},\"type\":\"info\"}],\"kind\":null,\"name\":\"types\"}]},{\"extends\":null,\"module\":null,\"name\":\"Notification\",\"overrides\":[],\"properties\":[{\"default\":null,\"kind\":null,\"name\":\"background\"},{\"default\":3000,\"kind\":null,\"name\":\"duration\"},{\"default\":null,\"kind\":null,\"name\":\"icon\"},{\"default\":\"\",\"kind\":null,\"name\":\"message\"},{\"default\":null,\"kind\":null,\"name\":\"notification_type\"},{\"default\":false,\"kind\":null,\"name\":\"_destroyed\"}]},{\"extends\":null,\"module\":null,\"name\":\"TemplateActions1\",\"overrides\":[],\"properties\":[{\"default\":0,\"kind\":null,\"name\":\"open_modal\"},{\"default\":0,\"kind\":null,\"name\":\"close_modal\"}]},{\"extends\":null,\"module\":null,\"name\":\"MaterialTemplateActions1\",\"overrides\":[],\"properties\":[{\"default\":0,\"kind\":null,\"name\":\"open_modal\"},{\"default\":0,\"kind\":null,\"name\":\"close_modal\"}]}],\"roots\":{\"references\":[{\"attributes\":{},\"id\":\"2830\",\"type\":\"BasicTickFormatter\"},{\"attributes\":{\"axis_label\":\"price\",\"coordinates\":null,\"formatter\":{\"id\":\"2827\"},\"group\":null,\"major_label_policy\":{\"id\":\"2828\"},\"ticker\":{\"id\":\"2797\"}},\"id\":\"2796\",\"type\":\"LinearAxis\"},{\"attributes\":{\"client_comm_id\":\"e1c381385dd34763870523141b9cd9b3\",\"comm_id\":\"b32e13a9e37141fe9c4b637b5939bbaa\",\"plot_id\":\"2780\"},\"id\":\"2876\",\"type\":\"panel.models.comm_manager.CommManager\"},{\"attributes\":{},\"id\":\"2794\",\"type\":\"LinearScale\"},{\"attributes\":{},\"id\":\"2806\",\"type\":\"WheelZoomTool\"},{\"attributes\":{},\"id\":\"2843\",\"type\":\"UnionRenderers\"},{\"attributes\":{},\"id\":\"2797\",\"type\":\"BasicTicker\"},{\"attributes\":{\"line_color\":\"#30a2da\",\"line_width\":2,\"x\":{\"field\":\"price\"},\"y\":{\"field\":\"cantidad_cursos\"}},\"id\":\"2820\",\"type\":\"Line\"},{\"attributes\":{\"axis_label\":\"cantidad_cursos\",\"coordinates\":null,\"formatter\":{\"id\":\"2830\"},\"group\":null,\"major_label_policy\":{\"id\":\"2831\"},\"ticker\":{\"id\":\"2801\"}},\"id\":\"2800\",\"type\":\"LinearAxis\"},{\"attributes\":{\"active_drag\":{\"id\":\"2805\"},\"active_scroll\":{\"id\":\"2806\"},\"tools\":[{\"id\":\"2786\"},{\"id\":\"2804\"},{\"id\":\"2805\"},{\"id\":\"2806\"},{\"id\":\"2807\"},{\"id\":\"2808\"}]},\"id\":\"2810\",\"type\":\"Toolbar\"},{\"attributes\":{},\"id\":\"2827\",\"type\":\"BasicTickFormatter\"},{\"attributes\":{\"line_color\":\"#30a2da\",\"line_width\":2,\"x\":{\"field\":\"price\"},\"y\":{\"field\":\"cantidad_cursos\"}},\"id\":\"2825\",\"type\":\"Line\"},{\"attributes\":{},\"id\":\"2818\",\"type\":\"Selection\"},{\"attributes\":{\"coordinates\":null,\"group\":null,\"text_color\":\"black\",\"text_font_size\":\"12pt\"},\"id\":\"2788\",\"type\":\"Title\"},{\"attributes\":{\"data\":{\"cantidad_cursos\":{\"__ndarray__\":\"PgMAAJoAAACmAAAAdAAAANkAAABTAAAA1AEAACMAAABLAAAAHgAAABoAAABRAAAAHQAAAB8AAAATAAAAmAAAAIUAAAALAAAACAAAABAAAAAlAAAAHgAAAAMAAAAIAAAACgAAABsAAABYAAAAAgAAAAQAAAAGAAAABQAAAA0AAAARAAAABgAAAAoAAAB/AAAAJwEAAA==\",\"dtype\":\"uint32\",\"order\":\"little\",\"shape\":[37]},\"price\":[20,25,30,35,40,45,50,55,60,65,70,75,80,85,90,95,100,105,110,115,120,125,130,135,140,145,150,155,160,165,170,175,180,185,190,195,200]},\"selected\":{\"id\":\"2818\"},\"selection_policy\":{\"id\":\"2843\"}},\"id\":\"2817\",\"type\":\"ColumnDataSource\"},{\"attributes\":{},\"id\":\"2792\",\"type\":\"LinearScale\"},{\"attributes\":{},\"id\":\"2805\",\"type\":\"PanTool\"},{\"attributes\":{\"children\":[{\"id\":\"2781\"},{\"id\":\"2783\"}],\"margin\":[0,0,0,0],\"name\":\"Column02364\"},\"id\":\"2780\",\"type\":\"Column\"},{\"attributes\":{\"end\":912.8,\"reset_end\":912.8,\"reset_start\":-80.80000000000001,\"start\":-80.80000000000001,\"tags\":[[[\"cantidad_cursos\",\"cantidad_cursos\",null]]]},\"id\":\"2785\",\"type\":\"Range1d\"},{\"attributes\":{\"source\":{\"id\":\"2817\"}},\"id\":\"2824\",\"type\":\"CDSView\"},{\"attributes\":{\"end\":200.0,\"reset_end\":200.0,\"reset_start\":20.0,\"start\":20.0,\"tags\":[[[\"price\",\"price\",null]]]},\"id\":\"2784\",\"type\":\"Range1d\"},{\"attributes\":{\"axis\":{\"id\":\"2796\"},\"coordinates\":null,\"grid_line_color\":null,\"group\":null,\"ticker\":null},\"id\":\"2799\",\"type\":\"Grid\"},{\"attributes\":{},\"id\":\"2828\",\"type\":\"AllLabels\"},{\"attributes\":{\"below\":[{\"id\":\"2796\"}],\"center\":[{\"id\":\"2799\"},{\"id\":\"2803\"}],\"height\":300,\"left\":[{\"id\":\"2800\"}],\"margin\":[5,5,5,5],\"min_border_bottom\":10,\"min_border_left\":10,\"min_border_right\":10,\"min_border_top\":10,\"renderers\":[{\"id\":\"2823\"}],\"sizing_mode\":\"fixed\",\"title\":{\"id\":\"2788\"},\"toolbar\":{\"id\":\"2810\"},\"width\":700,\"x_range\":{\"id\":\"2784\"},\"x_scale\":{\"id\":\"2792\"},\"y_range\":{\"id\":\"2785\"},\"y_scale\":{\"id\":\"2794\"}},\"id\":\"2787\",\"subtype\":\"Figure\",\"type\":\"Plot\"},{\"attributes\":{\"overlay\":{\"id\":\"2809\"}},\"id\":\"2807\",\"type\":\"BoxZoomTool\"},{\"attributes\":{\"coordinates\":null,\"data_source\":{\"id\":\"2817\"},\"glyph\":{\"id\":\"2820\"},\"group\":null,\"hover_glyph\":null,\"muted_glyph\":{\"id\":\"2822\"},\"nonselection_glyph\":{\"id\":\"2821\"},\"selection_glyph\":{\"id\":\"2825\"},\"view\":{\"id\":\"2824\"}},\"id\":\"2823\",\"type\":\"GlyphRenderer\"},{\"attributes\":{\"children\":[{\"id\":\"2787\"}],\"margin\":[0,0,0,0],\"name\":\"Row02278\"},\"id\":\"2783\",\"type\":\"Row\"},{\"attributes\":{\"bottom_units\":\"screen\",\"coordinates\":null,\"fill_alpha\":0.5,\"fill_color\":\"lightgrey\",\"group\":null,\"left_units\":\"screen\",\"level\":\"overlay\",\"line_alpha\":1.0,\"line_color\":\"black\",\"line_dash\":[4,4],\"line_width\":2,\"right_units\":\"screen\",\"syncable\":false,\"top_units\":\"screen\"},\"id\":\"2809\",\"type\":\"BoxAnnotation\"},{\"attributes\":{},\"id\":\"2804\",\"type\":\"SaveTool\"},{\"attributes\":{},\"id\":\"2831\",\"type\":\"AllLabels\"},{\"attributes\":{\"line_alpha\":0.2,\"line_color\":\"#30a2da\",\"line_width\":2,\"x\":{\"field\":\"price\"},\"y\":{\"field\":\"cantidad_cursos\"}},\"id\":\"2822\",\"type\":\"Line\"},{\"attributes\":{\"callback\":null,\"renderers\":[{\"id\":\"2823\"}],\"tags\":[\"hv_created\"],\"tooltips\":[[\"price\",\"@{price}\"],[\"cantidad_cursos\",\"@{cantidad_cursos}\"]]},\"id\":\"2786\",\"type\":\"HoverTool\"},{\"attributes\":{},\"id\":\"2808\",\"type\":\"ResetTool\"},{\"attributes\":{\"line_alpha\":0.1,\"line_color\":\"#30a2da\",\"line_width\":2,\"x\":{\"field\":\"price\"},\"y\":{\"field\":\"cantidad_cursos\"}},\"id\":\"2821\",\"type\":\"Line\"},{\"attributes\":{\"margin\":[5,10,5,10],\"options\":[\"Precio\",\"Nivel Complejidad\",\"Rating\",\"Idioma\"],\"title\":\"Seleccionar Tipo\",\"value\":\"Precio\"},\"id\":\"2782\",\"type\":\"panel.models.widgets.CustomSelect\"},{\"attributes\":{},\"id\":\"2801\",\"type\":\"BasicTicker\"},{\"attributes\":{\"children\":[{\"id\":\"2782\"}],\"margin\":[0,0,0,0],\"name\":\"Column02273\"},\"id\":\"2781\",\"type\":\"Column\"},{\"attributes\":{\"axis\":{\"id\":\"2800\"},\"coordinates\":null,\"dimension\":1,\"grid_line_color\":null,\"group\":null,\"ticker\":null},\"id\":\"2803\",\"type\":\"Grid\"}],\"root_ids\":[\"2780\",\"2876\"]},\"title\":\"Bokeh Application\",\"version\":\"2.4.3\"}};\n",
       "    var render_items = [{\"docid\":\"b9aea098-775c-4cec-b0c6-cf1be172deae\",\"root_ids\":[\"2780\"],\"roots\":{\"2780\":\"4dd0882c-1e75-432c-aaf0-66bc7d5f87d3\"}}];\n",
       "    root.Bokeh.embed.embed_items_notebook(docs_json, render_items);\n",
       "    for (const render_item of render_items) {\n",
       "      for (const root_id of render_item.root_ids) {\n",
       "\tconst id_el = document.getElementById(root_id)\n",
       "\tif (id_el.children.length && (id_el.children[0].className === 'bk-root')) {\n",
       "\t  const root_el = id_el.children[0]\n",
       "\t  root_el.id = root_el.id + '-rendered'\n",
       "\t}\n",
       "      }\n",
       "    }\n",
       "  }\n",
       "  if (root.Bokeh !== undefined && root.Bokeh.Panel !== undefined) {\n",
       "    embed_document(root);\n",
       "  } else {\n",
       "    var attempts = 0;\n",
       "    var timer = setInterval(function(root) {\n",
       "      if (root.Bokeh !== undefined && root.Bokeh.Panel !== undefined) {\n",
       "        clearInterval(timer);\n",
       "        embed_document(root);\n",
       "      } else if (document.readyState == \"complete\") {\n",
       "        attempts++;\n",
       "        if (attempts > 200) {\n",
       "          clearInterval(timer);\n",
       "          console.log(\"Bokeh: ERROR: Unable to run BokehJS code because BokehJS library is missing\");\n",
       "        }\n",
       "      }\n",
       "    }, 25, root)\n",
       "  }\n",
       "})(window);</script>"
      ],
      "text/plain": [
       "Column\n",
       "    [0] Column\n",
       "        [0] Select(name='Seleccionar Tipo', options=['Precio', 'Nivel Compleji...], value='Precio')\n",
       "    [1] ParamFunction(function)"
      ]
     },
     "execution_count": 68,
     "metadata": {
      "application/vnd.holoviews_exec.v0+json": {
       "id": "2780"
      }
     },
     "output_type": "execute_result"
    }
   ],
   "source": [
    "# creo el widget\n",
    "select = pn.widgets.Select(name='Seleccionar Tipo',options = tipos)\n",
    "\n",
    "# funcion usando depend decorator\n",
    "@pn.depends(select)\n",
    "def ventas_por_tipo(tipo):\n",
    "    match tipo:\n",
    "        case 'Precio':\n",
    "            return dfu_group_precio.to_pandas().hvplot('price','cantidad_cursos')\n",
    "        case 'Nivel Complejidad':    \n",
    "            return dfu_group_level1.to_pandas().hvplot('nivel_complejidad','cantidad_cursos')\n",
    "        case 'Rating':\n",
    "            return dfr_group_rating_prom.to_pandas().hvplot('rating_promedio','cantidad_cursos')\n",
    "        case _:\n",
    "            return dfu_group_precio.to_pandas().hvplot('price','cantidad_cursos')\n",
    "    #    action-default\n",
    "    #return dfr_group_rating.filter(pl.col('rating_promedio')==promedio).to_pandas().hvplot('course_id','cantidad')\n",
    "\n",
    "# layout\n",
    "# podia ser tambien pn.Row()\n",
    "columna1 = pn.Column(\n",
    "  pn.Column(select),\n",
    "  ventas_por_tipo  \n",
    ")\n",
    "columna1"
   ]
  },
  {
   "cell_type": "markdown",
   "id": "c69ac154-9674-42c2-81fd-966ed5681c1b",
   "metadata": {},
   "source": [
    "## Mismo ejemplo usando callback"
   ]
  },
  {
   "cell_type": "code",
   "execution_count": 50,
   "id": "0be1e4d4-09c9-4486-b428-0b730984317a",
   "metadata": {},
   "outputs": [
    {
     "data": {},
     "metadata": {},
     "output_type": "display_data"
    },
    {
     "data": {},
     "metadata": {},
     "output_type": "display_data"
    },
    {
     "data": {
      "application/vnd.holoviews_exec.v0+json": "",
      "text/html": [
       "<div id='1960'>\n",
       "  <div class=\"bk-root\" id=\"c3803f46-48ea-4d11-b61a-be6cdae93cce\" data-root-id=\"1960\"></div>\n",
       "</div>\n",
       "<script type=\"application/javascript\">(function(root) {\n",
       "  function embed_document(root) {\n",
       "    var docs_json = {\"4bd5654e-2979-4806-b2c4-be5ec0ed6b99\":{\"defs\":[{\"extends\":null,\"module\":null,\"name\":\"ReactiveHTML1\",\"overrides\":[],\"properties\":[]},{\"extends\":null,\"module\":null,\"name\":\"FlexBox1\",\"overrides\":[],\"properties\":[{\"default\":\"flex-start\",\"kind\":null,\"name\":\"align_content\"},{\"default\":\"flex-start\",\"kind\":null,\"name\":\"align_items\"},{\"default\":\"row\",\"kind\":null,\"name\":\"flex_direction\"},{\"default\":\"wrap\",\"kind\":null,\"name\":\"flex_wrap\"},{\"default\":\"flex-start\",\"kind\":null,\"name\":\"justify_content\"}]},{\"extends\":null,\"module\":null,\"name\":\"GridStack1\",\"overrides\":[],\"properties\":[{\"default\":\"warn\",\"kind\":null,\"name\":\"mode\"},{\"default\":null,\"kind\":null,\"name\":\"ncols\"},{\"default\":null,\"kind\":null,\"name\":\"nrows\"},{\"default\":true,\"kind\":null,\"name\":\"allow_resize\"},{\"default\":true,\"kind\":null,\"name\":\"allow_drag\"},{\"default\":[],\"kind\":null,\"name\":\"state\"}]},{\"extends\":null,\"module\":null,\"name\":\"click1\",\"overrides\":[],\"properties\":[{\"default\":\"\",\"kind\":null,\"name\":\"terminal_output\"},{\"default\":\"\",\"kind\":null,\"name\":\"debug_name\"},{\"default\":0,\"kind\":null,\"name\":\"clears\"}]},{\"extends\":null,\"module\":null,\"name\":\"NotificationAreaBase1\",\"overrides\":[],\"properties\":[{\"default\":\"bottom-right\",\"kind\":null,\"name\":\"position\"},{\"default\":0,\"kind\":null,\"name\":\"_clear\"}]},{\"extends\":null,\"module\":null,\"name\":\"NotificationArea1\",\"overrides\":[],\"properties\":[{\"default\":[],\"kind\":null,\"name\":\"notifications\"},{\"default\":\"bottom-right\",\"kind\":null,\"name\":\"position\"},{\"default\":0,\"kind\":null,\"name\":\"_clear\"},{\"default\":[{\"background\":\"#ffc107\",\"icon\":{\"className\":\"fas fa-exclamation-triangle\",\"color\":\"white\",\"tagName\":\"i\"},\"type\":\"warning\"},{\"background\":\"#007bff\",\"icon\":{\"className\":\"fas fa-info-circle\",\"color\":\"white\",\"tagName\":\"i\"},\"type\":\"info\"}],\"kind\":null,\"name\":\"types\"}]},{\"extends\":null,\"module\":null,\"name\":\"Notification\",\"overrides\":[],\"properties\":[{\"default\":null,\"kind\":null,\"name\":\"background\"},{\"default\":3000,\"kind\":null,\"name\":\"duration\"},{\"default\":null,\"kind\":null,\"name\":\"icon\"},{\"default\":\"\",\"kind\":null,\"name\":\"message\"},{\"default\":null,\"kind\":null,\"name\":\"notification_type\"},{\"default\":false,\"kind\":null,\"name\":\"_destroyed\"}]},{\"extends\":null,\"module\":null,\"name\":\"TemplateActions1\",\"overrides\":[],\"properties\":[{\"default\":0,\"kind\":null,\"name\":\"open_modal\"},{\"default\":0,\"kind\":null,\"name\":\"close_modal\"}]},{\"extends\":null,\"module\":null,\"name\":\"MaterialTemplateActions1\",\"overrides\":[],\"properties\":[{\"default\":0,\"kind\":null,\"name\":\"open_modal\"},{\"default\":0,\"kind\":null,\"name\":\"close_modal\"}]}],\"roots\":{\"references\":[{\"attributes\":{\"active_drag\":{\"id\":\"1984\"},\"active_scroll\":{\"id\":\"1985\"},\"tools\":[{\"id\":\"1965\"},{\"id\":\"1983\"},{\"id\":\"1984\"},{\"id\":\"1985\"},{\"id\":\"1986\"},{\"id\":\"1987\"}]},\"id\":\"1989\",\"type\":\"Toolbar\"},{\"attributes\":{},\"id\":\"1971\",\"type\":\"LinearScale\"},{\"attributes\":{},\"id\":\"2006\",\"type\":\"BasicTickFormatter\"},{\"attributes\":{\"below\":[{\"id\":\"1975\"}],\"center\":[{\"id\":\"1978\"},{\"id\":\"1982\"}],\"height\":300,\"left\":[{\"id\":\"1979\"}],\"margin\":[5,5,5,5],\"min_border_bottom\":10,\"min_border_left\":10,\"min_border_right\":10,\"min_border_top\":10,\"renderers\":[{\"id\":\"2002\"}],\"sizing_mode\":\"fixed\",\"title\":{\"id\":\"1967\"},\"toolbar\":{\"id\":\"1989\"},\"width\":700,\"x_range\":{\"id\":\"1963\"},\"x_scale\":{\"id\":\"1971\"},\"y_range\":{\"id\":\"1964\"},\"y_scale\":{\"id\":\"1973\"}},\"id\":\"1966\",\"subtype\":\"Figure\",\"type\":\"Plot\"},{\"attributes\":{\"line_alpha\":0.2,\"line_color\":\"#30a2da\",\"line_width\":2,\"x\":{\"field\":\"price\"},\"y\":{\"field\":\"cantidad_cursos\"}},\"id\":\"2001\",\"type\":\"Line\"},{\"attributes\":{\"coordinates\":null,\"data_source\":{\"id\":\"1996\"},\"glyph\":{\"id\":\"1999\"},\"group\":null,\"hover_glyph\":null,\"muted_glyph\":{\"id\":\"2001\"},\"nonselection_glyph\":{\"id\":\"2000\"},\"selection_glyph\":{\"id\":\"2004\"},\"view\":{\"id\":\"2003\"}},\"id\":\"2002\",\"type\":\"GlyphRenderer\"},{\"attributes\":{\"source\":{\"id\":\"1996\"}},\"id\":\"2003\",\"type\":\"CDSView\"},{\"attributes\":{\"data\":{\"cantidad_cursos\":{\"__ndarray__\":\"PgMAAJoAAACmAAAAdAAAANkAAABTAAAA1AEAACMAAABLAAAAHgAAABoAAABRAAAAHQAAAB8AAAATAAAAmAAAAIUAAAALAAAACAAAABAAAAAlAAAAHgAAAAMAAAAIAAAACgAAABsAAABYAAAAAgAAAAQAAAAGAAAABQAAAA0AAAARAAAABgAAAAoAAAB/AAAAJwEAAA==\",\"dtype\":\"uint32\",\"order\":\"little\",\"shape\":[37]},\"price\":[20,25,30,35,40,45,50,55,60,65,70,75,80,85,90,95,100,105,110,115,120,125,130,135,140,145,150,155,160,165,170,175,180,185,190,195,200]},\"selected\":{\"id\":\"1997\"},\"selection_policy\":{\"id\":\"2022\"}},\"id\":\"1996\",\"type\":\"ColumnDataSource\"},{\"attributes\":{\"end\":912.8,\"reset_end\":912.8,\"reset_start\":-80.80000000000001,\"start\":-80.80000000000001,\"tags\":[[[\"cantidad_cursos\",\"cantidad_cursos\",null]]]},\"id\":\"1964\",\"type\":\"Range1d\"},{\"attributes\":{},\"id\":\"1997\",\"type\":\"Selection\"},{\"attributes\":{\"line_color\":\"#30a2da\",\"line_width\":2,\"x\":{\"field\":\"price\"},\"y\":{\"field\":\"cantidad_cursos\"}},\"id\":\"1999\",\"type\":\"Line\"},{\"attributes\":{\"margin\":[5,10,5,10],\"options\":[\"Precio\",\"Nivel Complejidad\",\"Rating\",\"Idioma\"],\"title\":\"Seleccionar Tipo\",\"value\":\"Precio\"},\"id\":\"1962\",\"type\":\"panel.models.widgets.CustomSelect\"},{\"attributes\":{\"callback\":null,\"renderers\":[{\"id\":\"2002\"}],\"tags\":[\"hv_created\"],\"tooltips\":[[\"price\",\"@{price}\"],[\"cantidad_cursos\",\"@{cantidad_cursos}\"]]},\"id\":\"1965\",\"type\":\"HoverTool\"},{\"attributes\":{\"end\":200.0,\"reset_end\":200.0,\"reset_start\":20.0,\"start\":20.0,\"tags\":[[[\"price\",\"price\",null]]]},\"id\":\"1963\",\"type\":\"Range1d\"},{\"attributes\":{},\"id\":\"1973\",\"type\":\"LinearScale\"},{\"attributes\":{},\"id\":\"2022\",\"type\":\"UnionRenderers\"},{\"attributes\":{},\"id\":\"1976\",\"type\":\"BasicTicker\"},{\"attributes\":{\"coordinates\":null,\"group\":null,\"text_color\":\"black\",\"text_font_size\":\"12pt\"},\"id\":\"1967\",\"type\":\"Title\"},{\"attributes\":{\"children\":[{\"id\":\"1962\"}],\"margin\":[0,0,0,0],\"name\":\"Column01634\"},\"id\":\"1961\",\"type\":\"Column\"},{\"attributes\":{},\"id\":\"2009\",\"type\":\"BasicTickFormatter\"},{\"attributes\":{\"axis\":{\"id\":\"1975\"},\"coordinates\":null,\"grid_line_color\":null,\"group\":null,\"ticker\":null},\"id\":\"1978\",\"type\":\"Grid\"},{\"attributes\":{\"axis_label\":\"price\",\"coordinates\":null,\"formatter\":{\"id\":\"2006\"},\"group\":null,\"major_label_policy\":{\"id\":\"2007\"},\"ticker\":{\"id\":\"1976\"}},\"id\":\"1975\",\"type\":\"LinearAxis\"},{\"attributes\":{\"client_comm_id\":\"18fde13904a349a0857c1894e20127c4\",\"comm_id\":\"864c2b3ba0094686b97128f523edad11\",\"plot_id\":\"1960\"},\"id\":\"2055\",\"type\":\"panel.models.comm_manager.CommManager\"},{\"attributes\":{},\"id\":\"1984\",\"type\":\"PanTool\"},{\"attributes\":{\"axis_label\":\"cantidad_cursos\",\"coordinates\":null,\"formatter\":{\"id\":\"2009\"},\"group\":null,\"major_label_policy\":{\"id\":\"2010\"},\"ticker\":{\"id\":\"1980\"}},\"id\":\"1979\",\"type\":\"LinearAxis\"},{\"attributes\":{},\"id\":\"2007\",\"type\":\"AllLabels\"},{\"attributes\":{\"axis\":{\"id\":\"1979\"},\"coordinates\":null,\"dimension\":1,\"grid_line_color\":null,\"group\":null,\"ticker\":null},\"id\":\"1982\",\"type\":\"Grid\"},{\"attributes\":{},\"id\":\"1980\",\"type\":\"BasicTicker\"},{\"attributes\":{},\"id\":\"1985\",\"type\":\"WheelZoomTool\"},{\"attributes\":{},\"id\":\"2010\",\"type\":\"AllLabels\"},{\"attributes\":{\"children\":[{\"id\":\"1961\"},{\"id\":\"1966\"}],\"margin\":[0,0,0,0],\"name\":\"Column01720\"},\"id\":\"1960\",\"type\":\"Column\"},{\"attributes\":{},\"id\":\"1983\",\"type\":\"SaveTool\"},{\"attributes\":{\"overlay\":{\"id\":\"1988\"}},\"id\":\"1986\",\"type\":\"BoxZoomTool\"},{\"attributes\":{},\"id\":\"1987\",\"type\":\"ResetTool\"},{\"attributes\":{\"bottom_units\":\"screen\",\"coordinates\":null,\"fill_alpha\":0.5,\"fill_color\":\"lightgrey\",\"group\":null,\"left_units\":\"screen\",\"level\":\"overlay\",\"line_alpha\":1.0,\"line_color\":\"black\",\"line_dash\":[4,4],\"line_width\":2,\"right_units\":\"screen\",\"syncable\":false,\"top_units\":\"screen\"},\"id\":\"1988\",\"type\":\"BoxAnnotation\"},{\"attributes\":{\"line_color\":\"#30a2da\",\"line_width\":2,\"x\":{\"field\":\"price\"},\"y\":{\"field\":\"cantidad_cursos\"}},\"id\":\"2004\",\"type\":\"Line\"},{\"attributes\":{\"line_alpha\":0.1,\"line_color\":\"#30a2da\",\"line_width\":2,\"x\":{\"field\":\"price\"},\"y\":{\"field\":\"cantidad_cursos\"}},\"id\":\"2000\",\"type\":\"Line\"}],\"root_ids\":[\"1960\",\"2055\"]},\"title\":\"Bokeh Application\",\"version\":\"2.4.3\"}};\n",
       "    var render_items = [{\"docid\":\"4bd5654e-2979-4806-b2c4-be5ec0ed6b99\",\"root_ids\":[\"1960\"],\"roots\":{\"1960\":\"c3803f46-48ea-4d11-b61a-be6cdae93cce\"}}];\n",
       "    root.Bokeh.embed.embed_items_notebook(docs_json, render_items);\n",
       "    for (const render_item of render_items) {\n",
       "      for (const root_id of render_item.root_ids) {\n",
       "\tconst id_el = document.getElementById(root_id)\n",
       "\tif (id_el.children.length && (id_el.children[0].className === 'bk-root')) {\n",
       "\t  const root_el = id_el.children[0]\n",
       "\t  root_el.id = root_el.id + '-rendered'\n",
       "\t}\n",
       "      }\n",
       "    }\n",
       "  }\n",
       "  if (root.Bokeh !== undefined && root.Bokeh.Panel !== undefined) {\n",
       "    embed_document(root);\n",
       "  } else {\n",
       "    var attempts = 0;\n",
       "    var timer = setInterval(function(root) {\n",
       "      if (root.Bokeh !== undefined && root.Bokeh.Panel !== undefined) {\n",
       "        clearInterval(timer);\n",
       "        embed_document(root);\n",
       "      } else if (document.readyState == \"complete\") {\n",
       "        attempts++;\n",
       "        if (attempts > 200) {\n",
       "          clearInterval(timer);\n",
       "          console.log(\"Bokeh: ERROR: Unable to run BokehJS code because BokehJS library is missing\");\n",
       "        }\n",
       "      }\n",
       "    }, 25, root)\n",
       "  }\n",
       "})(window);</script>"
      ],
      "text/plain": [
       "Column\n",
       "    [0] Column\n",
       "        [0] Select(name='Seleccionar Tipo', options=['Precio', 'Nivel Compleji...], value='Precio')\n",
       "    [1] HoloViews(Curve)"
      ]
     },
     "execution_count": 50,
     "metadata": {
      "application/vnd.holoviews_exec.v0+json": {
       "id": "1960"
      }
     },
     "output_type": "execute_result"
    }
   ],
   "source": [
    "# creo el widget\n",
    "select = pn.widgets.Select(name='Seleccionar Tipo',options = tipos)\n",
    "\n",
    "# funcion \n",
    "def ventas_por_tipo(tipo):\n",
    "    match tipo:\n",
    "        case 'Precio':\n",
    "            return dfu_group_precio.to_pandas().hvplot('price','cantidad_cursos')\n",
    "        case 'Nivel Complejidad':    \n",
    "            return dfu_group_level1.to_pandas().hvplot('nivel_complejidad','cantidad_cursos')\n",
    "        case 'Rating':\n",
    "            return dfr_group_rating_prom.to_pandas().hvplot('rating_promedio','cantidad_cursos')\n",
    "        case _:\n",
    "            return dfu_group_precio.to_pandas().hvplot('price','cantidad_cursos')\n",
    "    #    action-default\n",
    "    #return dfr_group_rating.filter(pl.col('rating_promedio')==promedio).to_pandas().hvplot('course_id','cantidad')\n",
    "\n",
    "# layout\n",
    "layout = pn.Column(\n",
    "  pn.Column(select),\n",
    "  ventas_por_tipo(select.options[0]) \n",
    ")\n",
    "\n",
    "# callback\n",
    "def update(event):\n",
    "    layout[1].object = ventas_por_tipo(select.value)\n",
    "    \n",
    "# actualizar o reemplazar el componente cuando el parametro cambie\n",
    "select.param.watch(update,'value')\n",
    "\n",
    "#retorna el objeto panel para imprimirlo en el notebook\n",
    "layout.servable()"
   ]
  },
  {
   "cell_type": "markdown",
   "id": "6196703c-9133-4e44-b19c-0679679479bf",
   "metadata": {},
   "source": [
    "## Checkbox"
   ]
  },
  {
   "cell_type": "markdown",
   "id": "2b3f0a30-d274-409a-9cdf-d88ef8c81926",
   "metadata": {},
   "source": [
    "### Ejemplo usando depends decorator"
   ]
  },
  {
   "cell_type": "code",
   "execution_count": 51,
   "id": "52aa047a-4692-4944-b7c3-00a01dc14c5f",
   "metadata": {},
   "outputs": [
    {
     "data": {},
     "metadata": {},
     "output_type": "display_data"
    },
    {
     "data": {
      "application/vnd.holoviews_exec.v0+json": "",
      "text/html": [
       "<div id='2106'>\n",
       "  <div class=\"bk-root\" id=\"6eeadc91-5a5d-49d8-85c9-a2e6a69ce950\" data-root-id=\"2106\"></div>\n",
       "</div>\n",
       "<script type=\"application/javascript\">(function(root) {\n",
       "  function embed_document(root) {\n",
       "    var docs_json = {\"0be99146-b227-4a01-ae8a-abc33c9399c0\":{\"defs\":[{\"extends\":null,\"module\":null,\"name\":\"ReactiveHTML1\",\"overrides\":[],\"properties\":[]},{\"extends\":null,\"module\":null,\"name\":\"FlexBox1\",\"overrides\":[],\"properties\":[{\"default\":\"flex-start\",\"kind\":null,\"name\":\"align_content\"},{\"default\":\"flex-start\",\"kind\":null,\"name\":\"align_items\"},{\"default\":\"row\",\"kind\":null,\"name\":\"flex_direction\"},{\"default\":\"wrap\",\"kind\":null,\"name\":\"flex_wrap\"},{\"default\":\"flex-start\",\"kind\":null,\"name\":\"justify_content\"}]},{\"extends\":null,\"module\":null,\"name\":\"GridStack1\",\"overrides\":[],\"properties\":[{\"default\":\"warn\",\"kind\":null,\"name\":\"mode\"},{\"default\":null,\"kind\":null,\"name\":\"ncols\"},{\"default\":null,\"kind\":null,\"name\":\"nrows\"},{\"default\":true,\"kind\":null,\"name\":\"allow_resize\"},{\"default\":true,\"kind\":null,\"name\":\"allow_drag\"},{\"default\":[],\"kind\":null,\"name\":\"state\"}]},{\"extends\":null,\"module\":null,\"name\":\"click1\",\"overrides\":[],\"properties\":[{\"default\":\"\",\"kind\":null,\"name\":\"terminal_output\"},{\"default\":\"\",\"kind\":null,\"name\":\"debug_name\"},{\"default\":0,\"kind\":null,\"name\":\"clears\"}]},{\"extends\":null,\"module\":null,\"name\":\"NotificationAreaBase1\",\"overrides\":[],\"properties\":[{\"default\":\"bottom-right\",\"kind\":null,\"name\":\"position\"},{\"default\":0,\"kind\":null,\"name\":\"_clear\"}]},{\"extends\":null,\"module\":null,\"name\":\"NotificationArea1\",\"overrides\":[],\"properties\":[{\"default\":[],\"kind\":null,\"name\":\"notifications\"},{\"default\":\"bottom-right\",\"kind\":null,\"name\":\"position\"},{\"default\":0,\"kind\":null,\"name\":\"_clear\"},{\"default\":[{\"background\":\"#ffc107\",\"icon\":{\"className\":\"fas fa-exclamation-triangle\",\"color\":\"white\",\"tagName\":\"i\"},\"type\":\"warning\"},{\"background\":\"#007bff\",\"icon\":{\"className\":\"fas fa-info-circle\",\"color\":\"white\",\"tagName\":\"i\"},\"type\":\"info\"}],\"kind\":null,\"name\":\"types\"}]},{\"extends\":null,\"module\":null,\"name\":\"Notification\",\"overrides\":[],\"properties\":[{\"default\":null,\"kind\":null,\"name\":\"background\"},{\"default\":3000,\"kind\":null,\"name\":\"duration\"},{\"default\":null,\"kind\":null,\"name\":\"icon\"},{\"default\":\"\",\"kind\":null,\"name\":\"message\"},{\"default\":null,\"kind\":null,\"name\":\"notification_type\"},{\"default\":false,\"kind\":null,\"name\":\"_destroyed\"}]},{\"extends\":null,\"module\":null,\"name\":\"TemplateActions1\",\"overrides\":[],\"properties\":[{\"default\":0,\"kind\":null,\"name\":\"open_modal\"},{\"default\":0,\"kind\":null,\"name\":\"close_modal\"}]},{\"extends\":null,\"module\":null,\"name\":\"MaterialTemplateActions1\",\"overrides\":[],\"properties\":[{\"default\":0,\"kind\":null,\"name\":\"open_modal\"},{\"default\":0,\"kind\":null,\"name\":\"close_modal\"}]}],\"roots\":{\"references\":[{\"attributes\":{\"children\":[{\"id\":\"2108\"}],\"margin\":[0,0,0,0],\"name\":\"Column01741\"},\"id\":\"2107\",\"type\":\"Column\"},{\"attributes\":{\"css_classes\":[\"markdown\"],\"margin\":[5,5,5,5],\"name\":\"ParamFunction01742\",\"text\":\"&lt;p&gt;not checked&lt;/p&gt;\"},\"id\":\"2110\",\"type\":\"panel.models.markup.HTML\"},{\"attributes\":{\"children\":[{\"id\":\"2110\"}],\"margin\":[0,0,0,0],\"name\":\"Row01746\"},\"id\":\"2109\",\"type\":\"Row\"},{\"attributes\":{\"labels\":[\"Checkbox\"],\"margin\":[5,10,5,10]},\"id\":\"2108\",\"type\":\"CheckboxGroup\"},{\"attributes\":{\"client_comm_id\":\"936f14036528492f8885f591d62e9195\",\"comm_id\":\"26ba1017910543db84f1b6711aa9469e\",\"plot_id\":\"2106\"},\"id\":\"2111\",\"type\":\"panel.models.comm_manager.CommManager\"},{\"attributes\":{\"children\":[{\"id\":\"2107\"},{\"id\":\"2109\"}],\"margin\":[0,0,0,0],\"name\":\"Column01749\"},\"id\":\"2106\",\"type\":\"Column\"}],\"root_ids\":[\"2106\",\"2111\"]},\"title\":\"Bokeh Application\",\"version\":\"2.4.3\"}};\n",
       "    var render_items = [{\"docid\":\"0be99146-b227-4a01-ae8a-abc33c9399c0\",\"root_ids\":[\"2106\"],\"roots\":{\"2106\":\"6eeadc91-5a5d-49d8-85c9-a2e6a69ce950\"}}];\n",
       "    root.Bokeh.embed.embed_items_notebook(docs_json, render_items);\n",
       "    for (const render_item of render_items) {\n",
       "      for (const root_id of render_item.root_ids) {\n",
       "\tconst id_el = document.getElementById(root_id)\n",
       "\tif (id_el.children.length && (id_el.children[0].className === 'bk-root')) {\n",
       "\t  const root_el = id_el.children[0]\n",
       "\t  root_el.id = root_el.id + '-rendered'\n",
       "\t}\n",
       "      }\n",
       "    }\n",
       "  }\n",
       "  if (root.Bokeh !== undefined && root.Bokeh.Panel !== undefined) {\n",
       "    embed_document(root);\n",
       "  } else {\n",
       "    var attempts = 0;\n",
       "    var timer = setInterval(function(root) {\n",
       "      if (root.Bokeh !== undefined && root.Bokeh.Panel !== undefined) {\n",
       "        clearInterval(timer);\n",
       "        embed_document(root);\n",
       "      } else if (document.readyState == \"complete\") {\n",
       "        attempts++;\n",
       "        if (attempts > 200) {\n",
       "          clearInterval(timer);\n",
       "          console.log(\"Bokeh: ERROR: Unable to run BokehJS code because BokehJS library is missing\");\n",
       "        }\n",
       "      }\n",
       "    }, 25, root)\n",
       "  }\n",
       "})(window);</script>"
      ],
      "text/plain": [
       "Column\n",
       "    [0] Column\n",
       "        [0] Checkbox()\n",
       "    [1] ParamFunction(function)"
      ]
     },
     "execution_count": 51,
     "metadata": {
      "application/vnd.holoviews_exec.v0+json": {
       "id": "2106"
      }
     },
     "output_type": "execute_result"
    }
   ],
   "source": [
    "#widget\n",
    "checkbox = pn.widgets.Checkbox(name='Checkbox')\n",
    "\n",
    "# funcion\n",
    "@pn.depends(checkbox)\n",
    "def checked(x):\n",
    "    if x == True:\n",
    "        return 'checked'\n",
    "    else:\n",
    "        return 'not checked'\n",
    "    \n",
    "# interaccion\n",
    "pn.Column(pn.Column(checkbox),checked)\n",
    "    "
   ]
  },
  {
   "cell_type": "markdown",
   "id": "8bb38b60-3c02-4d66-b8cf-dd257b5813d4",
   "metadata": {},
   "source": [
    "## toggle on/off chart element"
   ]
  },
  {
   "cell_type": "code",
   "execution_count": 52,
   "id": "5fc8539b-bc8d-4120-8dca-c9fc6b32cda4",
   "metadata": {},
   "outputs": [
    {
     "data": {
      "text/html": [
       "<div>\n",
       "<style scoped>\n",
       "    .dataframe tbody tr th:only-of-type {\n",
       "        vertical-align: middle;\n",
       "    }\n",
       "\n",
       "    .dataframe tbody tr th {\n",
       "        vertical-align: top;\n",
       "    }\n",
       "\n",
       "    .dataframe thead th {\n",
       "        text-align: right;\n",
       "    }\n",
       "\n",
       "    .dataframe td {\n",
       "        white-space: pre;\n",
       "    }\n",
       "\n",
       "    .dataframe td {\n",
       "        padding-top: 0;\n",
       "    }\n",
       "\n",
       "    .dataframe td {\n",
       "        padding-bottom: 0;\n",
       "    }\n",
       "\n",
       "    .dataframe td {\n",
       "        line-height: 95%;\n",
       "    }\n",
       "</style>\n",
       "<table border=\"1\" class=\"dataframe\">\n",
       "<small>shape: (5, 2)</small>\n",
       "<thead>\n",
       "<tr>\n",
       "<th>\n",
       "price\n",
       "</th>\n",
       "<th>\n",
       "cantidad_cursos\n",
       "</th>\n",
       "</tr>\n",
       "<tr>\n",
       "<td>\n",
       "i64\n",
       "</td>\n",
       "<td>\n",
       "u32\n",
       "</td>\n",
       "</tr>\n",
       "</thead>\n",
       "<tbody>\n",
       "<tr>\n",
       "<td>\n",
       "20\n",
       "</td>\n",
       "<td>\n",
       "830\n",
       "</td>\n",
       "</tr>\n",
       "<tr>\n",
       "<td>\n",
       "25\n",
       "</td>\n",
       "<td>\n",
       "154\n",
       "</td>\n",
       "</tr>\n",
       "<tr>\n",
       "<td>\n",
       "30\n",
       "</td>\n",
       "<td>\n",
       "166\n",
       "</td>\n",
       "</tr>\n",
       "<tr>\n",
       "<td>\n",
       "35\n",
       "</td>\n",
       "<td>\n",
       "116\n",
       "</td>\n",
       "</tr>\n",
       "<tr>\n",
       "<td>\n",
       "40\n",
       "</td>\n",
       "<td>\n",
       "217\n",
       "</td>\n",
       "</tr>\n",
       "</tbody>\n",
       "</table>\n",
       "</div>"
      ],
      "text/plain": [
       "shape: (5, 2)\n",
       "┌───────┬─────────────────┐\n",
       "│ price ┆ cantidad_cursos │\n",
       "│ ---   ┆ ---             │\n",
       "│ i64   ┆ u32             │\n",
       "╞═══════╪═════════════════╡\n",
       "│ 20    ┆ 830             │\n",
       "│ 25    ┆ 154             │\n",
       "│ 30    ┆ 166             │\n",
       "│ 35    ┆ 116             │\n",
       "│ 40    ┆ 217             │\n",
       "└───────┴─────────────────┘"
      ]
     },
     "execution_count": 52,
     "metadata": {},
     "output_type": "execute_result"
    }
   ],
   "source": [
    "# datos\n",
    "dfu_group_precio.head()"
   ]
  },
  {
   "cell_type": "code",
   "execution_count": 53,
   "id": "80f236f4-6412-478a-a722-8caf44421ff0",
   "metadata": {},
   "outputs": [
    {
     "data": {},
     "metadata": {},
     "output_type": "display_data"
    },
    {
     "data": {},
     "metadata": {},
     "output_type": "display_data"
    },
    {
     "data": {
      "application/vnd.holoviews_exec.v0+json": "",
      "text/html": [
       "<div id='2112'>\n",
       "  <div class=\"bk-root\" id=\"921ac609-2805-4a31-a2f1-b58c1b23680b\" data-root-id=\"2112\"></div>\n",
       "</div>\n",
       "<script type=\"application/javascript\">(function(root) {\n",
       "  function embed_document(root) {\n",
       "    var docs_json = {\"39ded2ec-11c6-4622-ac6a-15e95617a1b0\":{\"defs\":[{\"extends\":null,\"module\":null,\"name\":\"ReactiveHTML1\",\"overrides\":[],\"properties\":[]},{\"extends\":null,\"module\":null,\"name\":\"FlexBox1\",\"overrides\":[],\"properties\":[{\"default\":\"flex-start\",\"kind\":null,\"name\":\"align_content\"},{\"default\":\"flex-start\",\"kind\":null,\"name\":\"align_items\"},{\"default\":\"row\",\"kind\":null,\"name\":\"flex_direction\"},{\"default\":\"wrap\",\"kind\":null,\"name\":\"flex_wrap\"},{\"default\":\"flex-start\",\"kind\":null,\"name\":\"justify_content\"}]},{\"extends\":null,\"module\":null,\"name\":\"GridStack1\",\"overrides\":[],\"properties\":[{\"default\":\"warn\",\"kind\":null,\"name\":\"mode\"},{\"default\":null,\"kind\":null,\"name\":\"ncols\"},{\"default\":null,\"kind\":null,\"name\":\"nrows\"},{\"default\":true,\"kind\":null,\"name\":\"allow_resize\"},{\"default\":true,\"kind\":null,\"name\":\"allow_drag\"},{\"default\":[],\"kind\":null,\"name\":\"state\"}]},{\"extends\":null,\"module\":null,\"name\":\"click1\",\"overrides\":[],\"properties\":[{\"default\":\"\",\"kind\":null,\"name\":\"terminal_output\"},{\"default\":\"\",\"kind\":null,\"name\":\"debug_name\"},{\"default\":0,\"kind\":null,\"name\":\"clears\"}]},{\"extends\":null,\"module\":null,\"name\":\"NotificationAreaBase1\",\"overrides\":[],\"properties\":[{\"default\":\"bottom-right\",\"kind\":null,\"name\":\"position\"},{\"default\":0,\"kind\":null,\"name\":\"_clear\"}]},{\"extends\":null,\"module\":null,\"name\":\"NotificationArea1\",\"overrides\":[],\"properties\":[{\"default\":[],\"kind\":null,\"name\":\"notifications\"},{\"default\":\"bottom-right\",\"kind\":null,\"name\":\"position\"},{\"default\":0,\"kind\":null,\"name\":\"_clear\"},{\"default\":[{\"background\":\"#ffc107\",\"icon\":{\"className\":\"fas fa-exclamation-triangle\",\"color\":\"white\",\"tagName\":\"i\"},\"type\":\"warning\"},{\"background\":\"#007bff\",\"icon\":{\"className\":\"fas fa-info-circle\",\"color\":\"white\",\"tagName\":\"i\"},\"type\":\"info\"}],\"kind\":null,\"name\":\"types\"}]},{\"extends\":null,\"module\":null,\"name\":\"Notification\",\"overrides\":[],\"properties\":[{\"default\":null,\"kind\":null,\"name\":\"background\"},{\"default\":3000,\"kind\":null,\"name\":\"duration\"},{\"default\":null,\"kind\":null,\"name\":\"icon\"},{\"default\":\"\",\"kind\":null,\"name\":\"message\"},{\"default\":null,\"kind\":null,\"name\":\"notification_type\"},{\"default\":false,\"kind\":null,\"name\":\"_destroyed\"}]},{\"extends\":null,\"module\":null,\"name\":\"TemplateActions1\",\"overrides\":[],\"properties\":[{\"default\":0,\"kind\":null,\"name\":\"open_modal\"},{\"default\":0,\"kind\":null,\"name\":\"close_modal\"}]},{\"extends\":null,\"module\":null,\"name\":\"MaterialTemplateActions1\",\"overrides\":[],\"properties\":[{\"default\":0,\"kind\":null,\"name\":\"open_modal\"},{\"default\":0,\"kind\":null,\"name\":\"close_modal\"}]}],\"roots\":{\"references\":[{\"attributes\":{\"fill_alpha\":{\"value\":0.2},\"fill_color\":{\"value\":\"#30a2da\"},\"hatch_alpha\":{\"value\":0.2},\"hatch_color\":{\"value\":\"#30a2da\"},\"line_alpha\":{\"value\":0.2},\"size\":{\"value\":10},\"x\":{\"field\":\"precio\"},\"y\":{\"field\":\"cantidad\"}},\"id\":\"2150\",\"type\":\"Scatter\"},{\"attributes\":{\"factors\":[\"1113822\",\"Complete GST Course & Certification - Grow Your CA Practice\",\"https://www.udemy.com/goods-and-services-tax/\",\"True\",\"75\",\"2792\",\"923\",\"274\",\"All Levels\",\"39.0\",\"2017-03-09T16:34:20Z\",\"Business Finance\"],\"tags\":[[[\"cantidad\",\"cantidad\",null]]]},\"id\":\"2117\",\"type\":\"FactorRange\"},{\"attributes\":{},\"id\":\"2156\",\"type\":\"AllLabels\"},{\"attributes\":{\"active_drag\":{\"id\":\"2134\"},\"active_scroll\":{\"id\":\"2135\"},\"tools\":[{\"id\":\"2133\"},{\"id\":\"2134\"},{\"id\":\"2135\"},{\"id\":\"2136\"},{\"id\":\"2137\"}]},\"id\":\"2139\",\"type\":\"Toolbar\"},{\"attributes\":{\"below\":[{\"id\":\"2127\"}],\"center\":[{\"id\":\"2129\"},{\"id\":\"2132\"}],\"height\":300,\"left\":[{\"id\":\"2130\"}],\"margin\":[5,5,5,5],\"min_border_bottom\":10,\"min_border_left\":10,\"min_border_right\":10,\"min_border_top\":10,\"renderers\":[{\"id\":\"2151\"}],\"sizing_mode\":\"fixed\",\"title\":{\"id\":\"2119\"},\"toolbar\":{\"id\":\"2139\"},\"x_range\":{\"id\":\"2116\"},\"x_scale\":{\"id\":\"2123\"},\"y_range\":{\"id\":\"2117\"},\"y_scale\":{\"id\":\"2125\"}},\"id\":\"2118\",\"subtype\":\"Figure\",\"type\":\"Plot\"},{\"attributes\":{\"source\":{\"id\":\"2145\"}},\"id\":\"2152\",\"type\":\"CDSView\"},{\"attributes\":{\"angle\":{\"value\":0.0},\"fill_alpha\":{\"value\":1.0},\"fill_color\":{\"value\":\"#30a2da\"},\"hatch_alpha\":{\"value\":1.0},\"hatch_color\":{\"value\":\"#30a2da\"},\"hatch_scale\":{\"value\":12.0},\"hatch_weight\":{\"value\":1.0},\"line_alpha\":{\"value\":1.0},\"line_cap\":{\"value\":\"butt\"},\"line_color\":{\"value\":\"black\"},\"line_dash\":{\"value\":[]},\"line_dash_offset\":{\"value\":0},\"line_join\":{\"value\":\"bevel\"},\"line_width\":{\"value\":1},\"marker\":{\"value\":\"circle\"},\"size\":{\"value\":10},\"x\":{\"field\":\"precio\"},\"y\":{\"field\":\"cantidad\"}},\"id\":\"2153\",\"type\":\"Scatter\"},{\"attributes\":{},\"id\":\"2123\",\"type\":\"CategoricalScale\"},{\"attributes\":{\"fill_alpha\":{\"value\":0.1},\"fill_color\":{\"value\":\"#30a2da\"},\"hatch_alpha\":{\"value\":0.1},\"hatch_color\":{\"value\":\"#30a2da\"},\"line_alpha\":{\"value\":0.1},\"size\":{\"value\":10},\"x\":{\"field\":\"precio\"},\"y\":{\"field\":\"cantidad\"}},\"id\":\"2149\",\"type\":\"Scatter\"},{\"attributes\":{\"data\":{\"cantidad\":[\"1113822\",\"Complete GST Course & Certification - Grow Your CA Practice\",\"https://www.udemy.com/goods-and-services-tax/\",\"True\",\"75\",\"2792\",\"923\",\"274\",\"All Levels\",\"39.0\",\"2017-03-09T16:34:20Z\",\"Business Finance\"],\"precio\":[\"1070968\",\"Ultimate Investment Banking Course\",\"https://www.udemy.com/ultimate-investment-banking-course/\",\"True\",\"200\",\"2147\",\"23\",\"51\",\"All Levels\",\"1.5\",\"2017-01-18T20:58:58Z\",\"Business Finance\"]},\"selected\":{\"id\":\"2146\"},\"selection_policy\":{\"id\":\"2171\"}},\"id\":\"2145\",\"type\":\"ColumnDataSource\"},{\"attributes\":{},\"id\":\"2135\",\"type\":\"WheelZoomTool\"},{\"attributes\":{},\"id\":\"2158\",\"type\":\"CategoricalTickFormatter\"},{\"attributes\":{\"coordinates\":null,\"group\":null,\"text_color\":\"black\",\"text_font_size\":\"12pt\"},\"id\":\"2119\",\"type\":\"Title\"},{\"attributes\":{},\"id\":\"2128\",\"type\":\"CategoricalTicker\"},{\"attributes\":{},\"id\":\"2171\",\"type\":\"UnionRenderers\"},{\"attributes\":{\"axis\":{\"id\":\"2127\"},\"coordinates\":null,\"grid_line_color\":null,\"group\":null,\"ticker\":null},\"id\":\"2129\",\"type\":\"Grid\"},{\"attributes\":{},\"id\":\"2146\",\"type\":\"Selection\"},{\"attributes\":{},\"id\":\"2125\",\"type\":\"CategoricalScale\"},{\"attributes\":{\"labels\":[\"fit_line\"],\"margin\":[5,10,5,10]},\"id\":\"2114\",\"type\":\"CheckboxGroup\"},{\"attributes\":{\"axis_label\":\"precio\",\"coordinates\":null,\"formatter\":{\"id\":\"2155\"},\"group\":null,\"major_label_policy\":{\"id\":\"2156\"},\"ticker\":{\"id\":\"2128\"}},\"id\":\"2127\",\"type\":\"CategoricalAxis\"},{\"attributes\":{},\"id\":\"2159\",\"type\":\"AllLabels\"},{\"attributes\":{},\"id\":\"2134\",\"type\":\"PanTool\"},{\"attributes\":{\"axis_label\":\"cantidad\",\"coordinates\":null,\"formatter\":{\"id\":\"2158\"},\"group\":null,\"major_label_policy\":{\"id\":\"2159\"},\"ticker\":{\"id\":\"2131\"}},\"id\":\"2130\",\"type\":\"CategoricalAxis\"},{\"attributes\":{\"axis\":{\"id\":\"2130\"},\"coordinates\":null,\"dimension\":1,\"grid_line_color\":null,\"group\":null,\"ticker\":null},\"id\":\"2132\",\"type\":\"Grid\"},{\"attributes\":{},\"id\":\"2131\",\"type\":\"CategoricalTicker\"},{\"attributes\":{\"children\":[{\"id\":\"2114\"}],\"margin\":[0,0,0,0],\"name\":\"Column01771\"},\"id\":\"2113\",\"type\":\"Column\"},{\"attributes\":{},\"id\":\"2155\",\"type\":\"CategoricalTickFormatter\"},{\"attributes\":{},\"id\":\"2133\",\"type\":\"SaveTool\"},{\"attributes\":{\"children\":[{\"id\":\"2113\"},{\"id\":\"2115\"}],\"margin\":[0,0,0,0],\"name\":\"Column01782\"},\"id\":\"2112\",\"type\":\"Column\"},{\"attributes\":{\"client_comm_id\":\"60c90cf850884df89906cbffc7a5e845\",\"comm_id\":\"697f0e42bc6d4142bac36b7a45d64cf7\",\"plot_id\":\"2112\"},\"id\":\"2204\",\"type\":\"panel.models.comm_manager.CommManager\"},{\"attributes\":{\"factors\":[\"1070968\",\"Ultimate Investment Banking Course\",\"https://www.udemy.com/ultimate-investment-banking-course/\",\"True\",\"200\",\"2147\",\"23\",\"51\",\"All Levels\",\"1.5\",\"2017-01-18T20:58:58Z\",\"Business Finance\"],\"tags\":[[[\"precio\",\"precio\",null]]]},\"id\":\"2116\",\"type\":\"FactorRange\"},{\"attributes\":{\"overlay\":{\"id\":\"2138\"}},\"id\":\"2136\",\"type\":\"BoxZoomTool\"},{\"attributes\":{},\"id\":\"2137\",\"type\":\"ResetTool\"},{\"attributes\":{\"children\":[{\"id\":\"2118\"}],\"margin\":[0,0,0,0],\"name\":\"Row01776\"},\"id\":\"2115\",\"type\":\"Row\"},{\"attributes\":{\"bottom_units\":\"screen\",\"coordinates\":null,\"fill_alpha\":0.5,\"fill_color\":\"lightgrey\",\"group\":null,\"left_units\":\"screen\",\"level\":\"overlay\",\"line_alpha\":1.0,\"line_color\":\"black\",\"line_dash\":[4,4],\"line_width\":2,\"right_units\":\"screen\",\"syncable\":false,\"top_units\":\"screen\"},\"id\":\"2138\",\"type\":\"BoxAnnotation\"},{\"attributes\":{\"coordinates\":null,\"data_source\":{\"id\":\"2145\"},\"glyph\":{\"id\":\"2148\"},\"group\":null,\"hover_glyph\":null,\"muted_glyph\":{\"id\":\"2150\"},\"nonselection_glyph\":{\"id\":\"2149\"},\"selection_glyph\":{\"id\":\"2153\"},\"view\":{\"id\":\"2152\"}},\"id\":\"2151\",\"type\":\"GlyphRenderer\"},{\"attributes\":{\"fill_color\":{\"value\":\"#30a2da\"},\"hatch_color\":{\"value\":\"#30a2da\"},\"size\":{\"value\":10},\"x\":{\"field\":\"precio\"},\"y\":{\"field\":\"cantidad\"}},\"id\":\"2148\",\"type\":\"Scatter\"}],\"root_ids\":[\"2112\",\"2204\"]},\"title\":\"Bokeh Application\",\"version\":\"2.4.3\"}};\n",
       "    var render_items = [{\"docid\":\"39ded2ec-11c6-4622-ac6a-15e95617a1b0\",\"root_ids\":[\"2112\"],\"roots\":{\"2112\":\"921ac609-2805-4a31-a2f1-b58c1b23680b\"}}];\n",
       "    root.Bokeh.embed.embed_items_notebook(docs_json, render_items);\n",
       "    for (const render_item of render_items) {\n",
       "      for (const root_id of render_item.root_ids) {\n",
       "\tconst id_el = document.getElementById(root_id)\n",
       "\tif (id_el.children.length && (id_el.children[0].className === 'bk-root')) {\n",
       "\t  const root_el = id_el.children[0]\n",
       "\t  root_el.id = root_el.id + '-rendered'\n",
       "\t}\n",
       "      }\n",
       "    }\n",
       "  }\n",
       "  if (root.Bokeh !== undefined && root.Bokeh.Panel !== undefined) {\n",
       "    embed_document(root);\n",
       "  } else {\n",
       "    var attempts = 0;\n",
       "    var timer = setInterval(function(root) {\n",
       "      if (root.Bokeh !== undefined && root.Bokeh.Panel !== undefined) {\n",
       "        clearInterval(timer);\n",
       "        embed_document(root);\n",
       "      } else if (document.readyState == \"complete\") {\n",
       "        attempts++;\n",
       "        if (attempts > 200) {\n",
       "          clearInterval(timer);\n",
       "          console.log(\"Bokeh: ERROR: Unable to run BokehJS code because BokehJS library is missing\");\n",
       "        }\n",
       "      }\n",
       "    }, 25, root)\n",
       "  }\n",
       "})(window);</script>"
      ],
      "text/plain": [
       "Column\n",
       "    [0] Column\n",
       "        [0] Checkbox(name='fit_line')\n",
       "    [1] ParamFunction(function)"
      ]
     },
     "execution_count": 53,
     "metadata": {
      "application/vnd.holoviews_exec.v0+json": {
       "id": "2112"
      }
     },
     "output_type": "execute_result"
    }
   ],
   "source": [
    "# widget\n",
    "fit_line_checkbox = pn.widgets.Checkbox(name='fit_line')\n",
    "\n",
    "# plot\n",
    "scatter_price_cantidad = hv.Scatter(data=df_u,kdims='precio',vdims='cantidad')\n",
    "scatter_price_cantidad.opts(line_color='black',width=600,size=10)\n",
    "\n",
    "# function\n",
    "@pn.depends(fit_line_checkbox)\n",
    "def fit_line(x):\n",
    "    if x== True:\n",
    "        return scatter_price_cantidad * hv.Slope.from_scatter(scatter_price_cantidad)\n",
    "    else:\n",
    "        return scatter_price_cantidad\n",
    "    \n",
    "pn.Column(pn.Column(fit_line_checkbox), fit_line)    \n"
   ]
  },
  {
   "cell_type": "markdown",
   "id": "09076359-a537-4d44-b67a-1cf3bb5cff71",
   "metadata": {},
   "source": [
    "## Radio Buttons"
   ]
  },
  {
   "cell_type": "code",
   "execution_count": null,
   "id": "cf475237-c7fa-45a3-9840-83dd7cf458f6",
   "metadata": {},
   "outputs": [],
   "source": [
    "#import geoviews as gv\n",
    "#gv.extension('boked')"
   ]
  },
  {
   "cell_type": "code",
   "execution_count": null,
   "id": "015d5e96-21f9-4c0f-9cc1-092e7a0636eb",
   "metadata": {},
   "outputs": [],
   "source": [
    "# widget\n",
    "radio_buttons = pn.widgets.RadioButtonGroup(options=['Uno','Dos','Tres'])\n",
    "\n",
    "#funcion\n",
    "@pn.depends(radio_buttons)\n",
    "def map_type(x):\n",
    "    match x:\n",
    "        case 'Uno':\n",
    "            return gv.tile_sources.CartoMidnight.opts(title='CartoMidnight',width=800,height=400)\n",
    "        case 'Dos':    \n",
    "            return gv.tile_sources.OSM.opts(title='OSM',width=800,height=400)\n",
    "        case _:\n",
    "            return gv.tile_sources.Wikipedia.opts(title='Wikipedia',width=800,height=400)\n",
    "        \n",
    "# interaccion\n",
    "interact(map_type, x=radio_buttons)"
   ]
  },
  {
   "cell_type": "markdown",
   "id": "8ca9656f-3e1a-4387-802f-3ab01c511f91",
   "metadata": {},
   "source": [
    "## Tabs"
   ]
  },
  {
   "cell_type": "code",
   "execution_count": 65,
   "id": "0a4296c1-2fcf-474c-abe2-5100b232e8e0",
   "metadata": {},
   "outputs": [
    {
     "data": {},
     "metadata": {},
     "output_type": "display_data"
    },
    {
     "data": {
      "application/vnd.holoviews_exec.v0+json": "",
      "text/html": [
       "<div id='2466'>\n",
       "  <div class=\"bk-root\" id=\"3f7b0801-e014-4bb0-97d0-5c96b00b708f\" data-root-id=\"2466\"></div>\n",
       "</div>\n",
       "<script type=\"application/javascript\">(function(root) {\n",
       "  function embed_document(root) {\n",
       "    var docs_json = {\"21cfd167-8f54-4e0d-81e3-c04cec07bce4\":{\"defs\":[{\"extends\":null,\"module\":null,\"name\":\"ReactiveHTML1\",\"overrides\":[],\"properties\":[]},{\"extends\":null,\"module\":null,\"name\":\"FlexBox1\",\"overrides\":[],\"properties\":[{\"default\":\"flex-start\",\"kind\":null,\"name\":\"align_content\"},{\"default\":\"flex-start\",\"kind\":null,\"name\":\"align_items\"},{\"default\":\"row\",\"kind\":null,\"name\":\"flex_direction\"},{\"default\":\"wrap\",\"kind\":null,\"name\":\"flex_wrap\"},{\"default\":\"flex-start\",\"kind\":null,\"name\":\"justify_content\"}]},{\"extends\":null,\"module\":null,\"name\":\"GridStack1\",\"overrides\":[],\"properties\":[{\"default\":\"warn\",\"kind\":null,\"name\":\"mode\"},{\"default\":null,\"kind\":null,\"name\":\"ncols\"},{\"default\":null,\"kind\":null,\"name\":\"nrows\"},{\"default\":true,\"kind\":null,\"name\":\"allow_resize\"},{\"default\":true,\"kind\":null,\"name\":\"allow_drag\"},{\"default\":[],\"kind\":null,\"name\":\"state\"}]},{\"extends\":null,\"module\":null,\"name\":\"click1\",\"overrides\":[],\"properties\":[{\"default\":\"\",\"kind\":null,\"name\":\"terminal_output\"},{\"default\":\"\",\"kind\":null,\"name\":\"debug_name\"},{\"default\":0,\"kind\":null,\"name\":\"clears\"}]},{\"extends\":null,\"module\":null,\"name\":\"NotificationAreaBase1\",\"overrides\":[],\"properties\":[{\"default\":\"bottom-right\",\"kind\":null,\"name\":\"position\"},{\"default\":0,\"kind\":null,\"name\":\"_clear\"}]},{\"extends\":null,\"module\":null,\"name\":\"NotificationArea1\",\"overrides\":[],\"properties\":[{\"default\":[],\"kind\":null,\"name\":\"notifications\"},{\"default\":\"bottom-right\",\"kind\":null,\"name\":\"position\"},{\"default\":0,\"kind\":null,\"name\":\"_clear\"},{\"default\":[{\"background\":\"#ffc107\",\"icon\":{\"className\":\"fas fa-exclamation-triangle\",\"color\":\"white\",\"tagName\":\"i\"},\"type\":\"warning\"},{\"background\":\"#007bff\",\"icon\":{\"className\":\"fas fa-info-circle\",\"color\":\"white\",\"tagName\":\"i\"},\"type\":\"info\"}],\"kind\":null,\"name\":\"types\"}]},{\"extends\":null,\"module\":null,\"name\":\"Notification\",\"overrides\":[],\"properties\":[{\"default\":null,\"kind\":null,\"name\":\"background\"},{\"default\":3000,\"kind\":null,\"name\":\"duration\"},{\"default\":null,\"kind\":null,\"name\":\"icon\"},{\"default\":\"\",\"kind\":null,\"name\":\"message\"},{\"default\":null,\"kind\":null,\"name\":\"notification_type\"},{\"default\":false,\"kind\":null,\"name\":\"_destroyed\"}]},{\"extends\":null,\"module\":null,\"name\":\"TemplateActions1\",\"overrides\":[],\"properties\":[{\"default\":0,\"kind\":null,\"name\":\"open_modal\"},{\"default\":0,\"kind\":null,\"name\":\"close_modal\"}]},{\"extends\":null,\"module\":null,\"name\":\"MaterialTemplateActions1\",\"overrides\":[],\"properties\":[{\"default\":0,\"kind\":null,\"name\":\"open_modal\"},{\"default\":0,\"kind\":null,\"name\":\"close_modal\"}]}],\"roots\":{\"references\":[{\"attributes\":{\"children\":[{\"id\":\"2487\"}],\"margin\":[0,0,0,0],\"name\":\"Row01973\"},\"id\":\"2486\",\"type\":\"Row\"},{\"attributes\":{\"margin\":[5,5,5,5],\"name\":\"interactive01959\",\"text\":\"&lt;pre&gt;7&lt;/pre&gt;\"},\"id\":\"2481\",\"type\":\"panel.models.markup.HTML\"},{\"attributes\":{\"end\":10,\"margin\":[5,10,5,10],\"start\":1,\"title\":\"x\",\"value\":5},\"id\":\"2485\",\"type\":\"Slider\"},{\"attributes\":{\"children\":[{\"id\":\"2472\"},{\"id\":\"2474\"}],\"margin\":[0,0,0,0],\"name\":\"Column01952\"},\"id\":\"2471\",\"type\":\"Column\"},{\"attributes\":{\"children\":[{\"id\":\"2481\"}],\"margin\":[0,0,0,0],\"name\":\"Row01965\"},\"id\":\"2480\",\"type\":\"Row\"},{\"attributes\":{\"children\":[{\"id\":\"2479\"}],\"margin\":[0,0,0,0],\"name\":\"Column01966\"},\"id\":\"2478\",\"type\":\"Column\"},{\"attributes\":{\"margin\":[5,10,5,10],\"max_length\":5000},\"id\":\"2467\",\"type\":\"TextInput\"},{\"attributes\":{\"child\":{\"id\":\"2483\"},\"name\":\"Column01968\",\"title\":\"function 3\"},\"id\":\"2488\",\"type\":\"Panel\"},{\"attributes\":{\"margin\":[0,0,0,0],\"tabs\":[{\"id\":\"2468\"},{\"id\":\"2470\"},{\"id\":\"2476\"},{\"id\":\"2482\"},{\"id\":\"2488\"}]},\"id\":\"2466\",\"type\":\"panel.models.tabs.Tabs\"},{\"attributes\":{\"end\":10,\"margin\":[5,10,5,10],\"start\":1,\"title\":\"x\",\"value\":5},\"id\":\"2473\",\"type\":\"Slider\"},{\"attributes\":{\"children\":[{\"id\":\"2484\"},{\"id\":\"2486\"}],\"margin\":[0,0,0,0],\"name\":\"Column01968\"},\"id\":\"2483\",\"type\":\"Column\"},{\"attributes\":{\"margin\":[5,5,5,5],\"name\":\"interactive01951\",\"text\":\"&lt;pre&gt;6&lt;/pre&gt;\"},\"id\":\"2475\",\"type\":\"panel.models.markup.HTML\"},{\"attributes\":{\"children\":[{\"id\":\"2478\"},{\"id\":\"2480\"}],\"margin\":[0,0,0,0],\"name\":\"Column01960\"},\"id\":\"2477\",\"type\":\"Column\"},{\"attributes\":{\"end\":10,\"margin\":[5,10,5,10],\"start\":1,\"title\":\"x\",\"value\":5},\"id\":\"2479\",\"type\":\"Slider\"},{\"attributes\":{\"child\":{\"id\":\"2471\"},\"name\":\"Column01952\",\"title\":\"function 1\"},\"id\":\"2476\",\"type\":\"Panel\"},{\"attributes\":{\"children\":[{\"id\":\"2475\"}],\"margin\":[0,0,0,0],\"name\":\"Row01957\"},\"id\":\"2474\",\"type\":\"Row\"},{\"attributes\":{\"children\":[{\"id\":\"2473\"}],\"margin\":[0,0,0,0],\"name\":\"Column01958\"},\"id\":\"2472\",\"type\":\"Column\"},{\"attributes\":{\"child\":{\"id\":\"2467\"},\"name\":\"\",\"title\":\"text\"},\"id\":\"2468\",\"type\":\"Panel\"},{\"attributes\":{\"margin\":[5,10,5,10]},\"id\":\"2469\",\"type\":\"ColorPicker\"},{\"attributes\":{\"client_comm_id\":\"db18ec527bf84e0fb165b6a57c053253\",\"comm_id\":\"56d1a1042acd429196aef141feac5cd1\",\"plot_id\":\"2466\"},\"id\":\"2489\",\"type\":\"panel.models.comm_manager.CommManager\"},{\"attributes\":{\"child\":{\"id\":\"2477\"},\"name\":\"Column01960\",\"title\":\"function 2\"},\"id\":\"2482\",\"type\":\"Panel\"},{\"attributes\":{\"children\":[{\"id\":\"2485\"}],\"margin\":[0,0,0,0],\"name\":\"Column01974\"},\"id\":\"2484\",\"type\":\"Column\"},{\"attributes\":{\"margin\":[5,5,5,5],\"name\":\"interactive01967\",\"text\":\"&lt;pre&gt;8&lt;/pre&gt;\"},\"id\":\"2487\",\"type\":\"panel.models.markup.HTML\"},{\"attributes\":{\"child\":{\"id\":\"2469\"},\"name\":\"\",\"title\":\"color\"},\"id\":\"2470\",\"type\":\"Panel\"}],\"root_ids\":[\"2466\",\"2489\"]},\"title\":\"Bokeh Application\",\"version\":\"2.4.3\"}};\n",
       "    var render_items = [{\"docid\":\"21cfd167-8f54-4e0d-81e3-c04cec07bce4\",\"root_ids\":[\"2466\"],\"roots\":{\"2466\":\"3f7b0801-e014-4bb0-97d0-5c96b00b708f\"}}];\n",
       "    root.Bokeh.embed.embed_items_notebook(docs_json, render_items);\n",
       "    for (const render_item of render_items) {\n",
       "      for (const root_id of render_item.root_ids) {\n",
       "\tconst id_el = document.getElementById(root_id)\n",
       "\tif (id_el.children.length && (id_el.children[0].className === 'bk-root')) {\n",
       "\t  const root_el = id_el.children[0]\n",
       "\t  root_el.id = root_el.id + '-rendered'\n",
       "\t}\n",
       "      }\n",
       "    }\n",
       "  }\n",
       "  if (root.Bokeh !== undefined && root.Bokeh.Panel !== undefined) {\n",
       "    embed_document(root);\n",
       "  } else {\n",
       "    var attempts = 0;\n",
       "    var timer = setInterval(function(root) {\n",
       "      if (root.Bokeh !== undefined && root.Bokeh.Panel !== undefined) {\n",
       "        clearInterval(timer);\n",
       "        embed_document(root);\n",
       "      } else if (document.readyState == \"complete\") {\n",
       "        attempts++;\n",
       "        if (attempts > 200) {\n",
       "          clearInterval(timer);\n",
       "          console.log(\"Bokeh: ERROR: Unable to run BokehJS code because BokehJS library is missing\");\n",
       "        }\n",
       "      }\n",
       "    }, 25, root)\n",
       "  }\n",
       "})(window);</script>"
      ],
      "text/plain": [
       "Tabs\n",
       "    [0] TextInput()\n",
       "    [1] ColorPicker()\n",
       "    [2] Column\n",
       "        [0] Column\n",
       "            [0] IntSlider(end=10, name='x', start=1, value=5)\n",
       "        [1] Row\n",
       "            [0] Str(int, name='interactive01951')\n",
       "    [3] Column\n",
       "        [0] Column\n",
       "            [0] IntSlider(end=10, name='x', start=1, value=5)\n",
       "        [1] Row\n",
       "            [0] Str(int, name='interactive01959')\n",
       "    [4] Column\n",
       "        [0] Column\n",
       "            [0] IntSlider(end=10, name='x', start=1, value=5)\n",
       "        [1] Row\n",
       "            [0] Str(int, name='interactive01967')"
      ]
     },
     "execution_count": 65,
     "metadata": {
      "application/vnd.holoviews_exec.v0+json": {
       "id": "2466"
      }
     },
     "output_type": "execute_result"
    }
   ],
   "source": [
    "# widgets\n",
    "tabs = pn.Tabs()\n",
    "\n",
    "# funciones\n",
    "@interact(x=(1,10))\n",
    "def f1(x): return x+1\n",
    "\n",
    "@interact(x=(1,10))\n",
    "def f2(x): return x+2\n",
    "\n",
    "@interact(x=(1,10))\n",
    "def f3(x): return x+3\n",
    "\n",
    "tabs.extend(\n",
    "[\n",
    " ('text',pn.widgets.TextInput()),\n",
    " ('color',pn.widgets.ColorPicker()),\n",
    " ('function 1',f1)   ,\n",
    " ('function 2',f2),\n",
    " ('function 3',f3)   \n",
    "]\n",
    ")\n",
    "tabs"
   ]
  },
  {
   "cell_type": "markdown",
   "id": "cb5f9f6a-de72-45d9-8c6b-ad186ae3ab55",
   "metadata": {},
   "source": [
    "## Link Widgets to plot with jslink"
   ]
  },
  {
   "cell_type": "code",
   "execution_count": 56,
   "id": "a004bc3f-19d1-4bcb-9cfc-7ccc3aeb84b7",
   "metadata": {},
   "outputs": [],
   "source": [
    "pd_u = df_u.to_pandas()"
   ]
  },
  {
   "cell_type": "code",
   "execution_count": 57,
   "id": "fc5276db-8aca-4e00-9345-47ce1b457d44",
   "metadata": {},
   "outputs": [
    {
     "name": "stdout",
     "output_type": "stream",
     "text": [
      "<class 'pandas.core.frame.DataFrame'>\n",
      "RangeIndex: 3678 entries, 0 to 3677\n",
      "Data columns (total 12 columns):\n",
      " #   Column               Non-Null Count  Dtype  \n",
      "---  ------               --------------  -----  \n",
      " 0   course_id            3678 non-null   int64  \n",
      " 1   course_title         3678 non-null   object \n",
      " 2   url                  3678 non-null   object \n",
      " 3   is_paid              3678 non-null   bool   \n",
      " 4   price                3678 non-null   int64  \n",
      " 5   num_subscribers      3678 non-null   int64  \n",
      " 6   num_reviews          3678 non-null   int64  \n",
      " 7   num_lectures         3678 non-null   int64  \n",
      " 8   level                3678 non-null   object \n",
      " 9   content_duration     3678 non-null   float64\n",
      " 10  published_timestamp  3678 non-null   object \n",
      " 11  subject              3678 non-null   object \n",
      "dtypes: bool(1), float64(1), int64(5), object(5)\n",
      "memory usage: 319.8+ KB\n"
     ]
    }
   ],
   "source": [
    "pd_u.info()"
   ]
  },
  {
   "cell_type": "code",
   "execution_count": 58,
   "id": "d23dd30f-12cf-40a1-bc4b-5054c6851873",
   "metadata": {},
   "outputs": [
    {
     "data": {},
     "metadata": {},
     "output_type": "display_data"
    },
    {
     "data": {},
     "metadata": {},
     "output_type": "display_data"
    },
    {
     "data": {
      "application/vnd.holoviews_exec.v0+json": "",
      "text/html": [
       "<div id='2279'>\n",
       "  <div class=\"bk-root\" id=\"8508e81b-b9cb-4005-b9f5-622ac6d5e19b\" data-root-id=\"2279\"></div>\n",
       "</div>\n",
       "<script type=\"application/javascript\">(function(root) {\n",
       "  function embed_document(root) {\n",
       "    var docs_json = {\"52672f27-7173-4588-afd1-7ee088879914\":{\"defs\":[{\"extends\":null,\"module\":null,\"name\":\"ReactiveHTML1\",\"overrides\":[],\"properties\":[]},{\"extends\":null,\"module\":null,\"name\":\"FlexBox1\",\"overrides\":[],\"properties\":[{\"default\":\"flex-start\",\"kind\":null,\"name\":\"align_content\"},{\"default\":\"flex-start\",\"kind\":null,\"name\":\"align_items\"},{\"default\":\"row\",\"kind\":null,\"name\":\"flex_direction\"},{\"default\":\"wrap\",\"kind\":null,\"name\":\"flex_wrap\"},{\"default\":\"flex-start\",\"kind\":null,\"name\":\"justify_content\"}]},{\"extends\":null,\"module\":null,\"name\":\"GridStack1\",\"overrides\":[],\"properties\":[{\"default\":\"warn\",\"kind\":null,\"name\":\"mode\"},{\"default\":null,\"kind\":null,\"name\":\"ncols\"},{\"default\":null,\"kind\":null,\"name\":\"nrows\"},{\"default\":true,\"kind\":null,\"name\":\"allow_resize\"},{\"default\":true,\"kind\":null,\"name\":\"allow_drag\"},{\"default\":[],\"kind\":null,\"name\":\"state\"}]},{\"extends\":null,\"module\":null,\"name\":\"click1\",\"overrides\":[],\"properties\":[{\"default\":\"\",\"kind\":null,\"name\":\"terminal_output\"},{\"default\":\"\",\"kind\":null,\"name\":\"debug_name\"},{\"default\":0,\"kind\":null,\"name\":\"clears\"}]},{\"extends\":null,\"module\":null,\"name\":\"NotificationAreaBase1\",\"overrides\":[],\"properties\":[{\"default\":\"bottom-right\",\"kind\":null,\"name\":\"position\"},{\"default\":0,\"kind\":null,\"name\":\"_clear\"}]},{\"extends\":null,\"module\":null,\"name\":\"NotificationArea1\",\"overrides\":[],\"properties\":[{\"default\":[],\"kind\":null,\"name\":\"notifications\"},{\"default\":\"bottom-right\",\"kind\":null,\"name\":\"position\"},{\"default\":0,\"kind\":null,\"name\":\"_clear\"},{\"default\":[{\"background\":\"#ffc107\",\"icon\":{\"className\":\"fas fa-exclamation-triangle\",\"color\":\"white\",\"tagName\":\"i\"},\"type\":\"warning\"},{\"background\":\"#007bff\",\"icon\":{\"className\":\"fas fa-info-circle\",\"color\":\"white\",\"tagName\":\"i\"},\"type\":\"info\"}],\"kind\":null,\"name\":\"types\"}]},{\"extends\":null,\"module\":null,\"name\":\"Notification\",\"overrides\":[],\"properties\":[{\"default\":null,\"kind\":null,\"name\":\"background\"},{\"default\":3000,\"kind\":null,\"name\":\"duration\"},{\"default\":null,\"kind\":null,\"name\":\"icon\"},{\"default\":\"\",\"kind\":null,\"name\":\"message\"},{\"default\":null,\"kind\":null,\"name\":\"notification_type\"},{\"default\":false,\"kind\":null,\"name\":\"_destroyed\"}]},{\"extends\":null,\"module\":null,\"name\":\"TemplateActions1\",\"overrides\":[],\"properties\":[{\"default\":0,\"kind\":null,\"name\":\"open_modal\"},{\"default\":0,\"kind\":null,\"name\":\"close_modal\"}]},{\"extends\":null,\"module\":null,\"name\":\"MaterialTemplateActions1\",\"overrides\":[],\"properties\":[{\"default\":0,\"kind\":null,\"name\":\"open_modal\"},{\"default\":0,\"kind\":null,\"name\":\"close_modal\"}]}],\"roots\":{\"references\":[{\"attributes\":{\"overlay\":{\"id\":\"2304\"}},\"id\":\"2302\",\"type\":\"BoxZoomTool\"},{\"attributes\":{},\"id\":\"2289\",\"type\":\"LinearScale\"},{\"attributes\":{\"coordinates\":null,\"gradient\":0.06397152755383018,\"group\":null,\"level\":\"glyph\",\"line_color\":\"#30a2da\",\"line_width\":3,\"y_intercept\":-48.2675011116901},\"id\":\"2328\",\"type\":\"Slope\"},{\"attributes\":{\"client_comm_id\":\"9b9f823a79f34490b404cb6f34109e44\",\"comm_id\":\"a4fb0ba2b4a84123a22e8cccdd7b9e61\",\"plot_id\":\"2279\"},\"id\":\"2380\",\"type\":\"panel.models.comm_manager.CommManager\"},{\"attributes\":{},\"id\":\"2292\",\"type\":\"BasicTicker\"},{\"attributes\":{\"args\":{\"bidirectional\":false,\"cds\":{\"id\":\"2317\"},\"glyph\":{\"id\":\"2320\"},\"glyph_renderer\":{\"id\":\"2323\"},\"plot\":{\"id\":\"2282\"},\"properties\":{\"value\":\"glyph.fill_alpha\"},\"selected\":{\"id\":\"2318\"},\"source\":{\"id\":\"2346\"},\"target\":{\"id\":\"2320\"},\"target_source\":{\"id\":\"2317\"},\"x_range\":{\"id\":\"2280\"},\"xaxis\":{\"id\":\"2291\"},\"y_range\":{\"id\":\"2281\"},\"yaxis\":{\"id\":\"2295\"}},\"code\":\"\\n    var value = source['value'];\\n    value = value;\\n    value = value;\\n    try {\\n      var property = target.properties['fill_alpha'];\\n      if (property !== undefined) { property.validate(value); }\\n    } catch(err) {\\n      console.log('WARNING: Could not set fill_alpha on target, raised error: ' + err);\\n      return;\\n    }\\n    try {\\n      target['fill_alpha'] = value;\\n    } catch(err) {\\n      console.log(err)\\n    }\\n    \",\"tags\":[[2127147367008,[null,\"value\"],[\"glyph\",\"fill_alpha\"]]]},\"id\":\"2359\",\"type\":\"CustomJS\"},{\"attributes\":{\"js_property_callbacks\":{\"change:color\":[{\"id\":\"2358\"}]},\"margin\":[5,10,5,10],\"title\":\"color picker\"},\"id\":\"2345\",\"type\":\"ColorPicker\"},{\"attributes\":{\"end\":1,\"js_property_callbacks\":{\"change:value\":[{\"id\":\"2359\"}]},\"margin\":[5,10,5,10],\"start\":0,\"step\":0.1,\"title\":\"alpha\",\"value\":0.5},\"id\":\"2346\",\"type\":\"Slider\"},{\"attributes\":{\"axis\":{\"id\":\"2295\"},\"coordinates\":null,\"dimension\":1,\"grid_line_color\":null,\"group\":null,\"ticker\":null},\"id\":\"2298\",\"type\":\"Grid\"},{\"attributes\":{\"axis_label\":\"num_reviews\",\"coordinates\":null,\"formatter\":{\"id\":\"2315\"},\"group\":null,\"major_label_policy\":{\"id\":\"2316\"},\"ticker\":{\"id\":\"2296\"}},\"id\":\"2295\",\"type\":\"LinearAxis\"},{\"attributes\":{},\"id\":\"2316\",\"type\":\"AllLabels\"},{\"attributes\":{\"args\":{\"bidirectional\":false,\"cds\":{\"id\":\"2317\"},\"glyph\":{\"id\":\"2320\"},\"glyph_renderer\":{\"id\":\"2323\"},\"plot\":{\"id\":\"2282\"},\"properties\":{\"value\":\"glyph.size\"},\"selected\":{\"id\":\"2318\"},\"source\":{\"id\":\"2344\"},\"target\":{\"id\":\"2320\"},\"target_source\":{\"id\":\"2317\"},\"x_range\":{\"id\":\"2280\"},\"xaxis\":{\"id\":\"2291\"},\"y_range\":{\"id\":\"2281\"},\"yaxis\":{\"id\":\"2295\"}},\"code\":\"\\n    var value = source['value'];\\n    value = value;\\n    value = value;\\n    try {\\n      var property = target.properties['size'];\\n      if (property !== undefined) { property.validate(value); }\\n    } catch(err) {\\n      console.log('WARNING: Could not set size on target, raised error: ' + err);\\n      return;\\n    }\\n    try {\\n      target['size'] = value;\\n    } catch(err) {\\n      console.log(err)\\n    }\\n    \",\"tags\":[[2127147367968,[null,\"value\"],[\"glyph\",\"size\"]]]},\"id\":\"2357\",\"type\":\"CustomJS\"},{\"attributes\":{\"fill_alpha\":{\"value\":0.2},\"fill_color\":{\"value\":\"#30a2da\"},\"hatch_alpha\":{\"value\":0.2},\"hatch_color\":{\"value\":\"#30a2da\"},\"line_alpha\":{\"value\":0.2},\"size\":{\"value\":2.449489742783178},\"x\":{\"field\":\"num_subscribers\"},\"y\":{\"field\":\"num_reviews\"}},\"id\":\"2322\",\"type\":\"Scatter\"},{\"attributes\":{},\"id\":\"2287\",\"type\":\"LinearScale\"},{\"attributes\":{},\"id\":\"2299\",\"type\":\"SaveTool\"},{\"attributes\":{},\"id\":\"2296\",\"type\":\"BasicTicker\"},{\"attributes\":{},\"id\":\"2301\",\"type\":\"WheelZoomTool\"},{\"attributes\":{},\"id\":\"2313\",\"type\":\"AllLabels\"},{\"attributes\":{\"args\":{\"bidirectional\":false,\"cds\":{\"id\":\"2317\"},\"glyph\":{\"id\":\"2320\"},\"glyph_renderer\":{\"id\":\"2323\"},\"plot\":{\"id\":\"2282\"},\"properties\":{\"value\":\"glyph.fill_color\"},\"selected\":{\"id\":\"2318\"},\"source\":{\"id\":\"2345\"},\"target\":{\"id\":\"2320\"},\"target_source\":{\"id\":\"2317\"},\"x_range\":{\"id\":\"2280\"},\"xaxis\":{\"id\":\"2291\"},\"y_range\":{\"id\":\"2281\"},\"yaxis\":{\"id\":\"2295\"}},\"code\":\"\\n    var value = source['color'];\\n    value = value;\\n    value = value;\\n    try {\\n      var property = target.properties['fill_color'];\\n      if (property !== undefined) { property.validate(value); }\\n    } catch(err) {\\n      console.log('WARNING: Could not set fill_color on target, raised error: ' + err);\\n      return;\\n    }\\n    try {\\n      target['fill_color'] = value;\\n    } catch(err) {\\n      console.log(err)\\n    }\\n    \",\"tags\":[[2127147365904,[null,\"color\"],[\"glyph\",\"fill_color\"]]]},\"id\":\"2358\",\"type\":\"CustomJS\"},{\"attributes\":{},\"id\":\"2312\",\"type\":\"BasicTickFormatter\"},{\"attributes\":{},\"id\":\"2318\",\"type\":\"Selection\"},{\"attributes\":{},\"id\":\"2303\",\"type\":\"ResetTool\"},{\"attributes\":{\"active_drag\":{\"id\":\"2300\"},\"active_scroll\":{\"id\":\"2301\"},\"tools\":[{\"id\":\"2299\"},{\"id\":\"2300\"},{\"id\":\"2301\"},{\"id\":\"2302\"},{\"id\":\"2303\"}]},\"id\":\"2305\",\"type\":\"Toolbar\"},{\"attributes\":{\"angle\":{\"value\":0.0},\"fill_alpha\":{\"value\":1.0},\"fill_color\":{\"value\":\"#30a2da\"},\"hatch_alpha\":{\"value\":1.0},\"hatch_color\":{\"value\":\"#30a2da\"},\"hatch_scale\":{\"value\":12.0},\"hatch_weight\":{\"value\":1.0},\"line_alpha\":{\"value\":1.0},\"line_cap\":{\"value\":\"butt\"},\"line_color\":{\"value\":\"black\"},\"line_dash\":{\"value\":[]},\"line_dash_offset\":{\"value\":0},\"line_join\":{\"value\":\"bevel\"},\"line_width\":{\"value\":1},\"marker\":{\"value\":\"circle\"},\"size\":{\"value\":2.449489742783178},\"x\":{\"field\":\"num_subscribers\"},\"y\":{\"field\":\"num_reviews\"}},\"id\":\"2325\",\"type\":\"Scatter\"},{\"attributes\":{\"end\":282369.15,\"reset_end\":282369.15,\"reset_start\":-13446.150000000001,\"start\":-13446.150000000001,\"tags\":[[[\"num_subscribers\",\"num_subscribers\",null]]]},\"id\":\"2280\",\"type\":\"Range1d\"},{\"attributes\":{\"coordinates\":null,\"group\":null,\"text_color\":\"black\",\"text_font_size\":\"12pt\"},\"id\":\"2283\",\"type\":\"Title\"},{\"attributes\":{\"fill_alpha\":{\"value\":0.5},\"fill_color\":{\"value\":\"#000000\"},\"hatch_color\":{\"value\":\"#30a2da\"},\"size\":{\"value\":10},\"x\":{\"field\":\"num_subscribers\"},\"y\":{\"field\":\"num_reviews\"}},\"id\":\"2320\",\"type\":\"Scatter\"},{\"attributes\":{\"axis\":{\"id\":\"2291\"},\"coordinates\":null,\"grid_line_color\":null,\"group\":null,\"ticker\":null},\"id\":\"2294\",\"type\":\"Grid\"},{\"attributes\":{\"coordinates\":null,\"data_source\":{\"id\":\"2317\"},\"glyph\":{\"id\":\"2320\"},\"group\":null,\"hover_glyph\":null,\"muted_glyph\":{\"id\":\"2322\"},\"nonselection_glyph\":{\"id\":\"2321\"},\"selection_glyph\":{\"id\":\"2325\"},\"view\":{\"id\":\"2324\"}},\"id\":\"2323\",\"type\":\"GlyphRenderer\"},{\"attributes\":{\"end\":20,\"js_property_callbacks\":{\"change:value\":[{\"id\":\"2357\"}]},\"margin\":[5,10,5,10],\"start\":1,\"title\":\"size\",\"value\":10},\"id\":\"2344\",\"type\":\"Slider\"},{\"attributes\":{\"source\":{\"id\":\"2317\"}},\"id\":\"2324\",\"type\":\"CDSView\"},{\"attributes\":{\"children\":[{\"id\":\"2282\"},{\"id\":\"2343\"}],\"margin\":[0,0,0,0],\"name\":\"Row01867\"},\"id\":\"2279\",\"type\":\"Row\"},{\"attributes\":{\"bottom_units\":\"screen\",\"coordinates\":null,\"fill_alpha\":0.5,\"fill_color\":\"lightgrey\",\"group\":null,\"left_units\":\"screen\",\"level\":\"overlay\",\"line_alpha\":1.0,\"line_color\":\"black\",\"line_dash\":[4,4],\"line_width\":2,\"right_units\":\"screen\",\"syncable\":false,\"top_units\":\"screen\"},\"id\":\"2304\",\"type\":\"BoxAnnotation\"},{\"attributes\":{\"children\":[{\"id\":\"2344\"},{\"id\":\"2345\"},{\"id\":\"2346\"}],\"margin\":[0,0,0,0],\"name\":\"Column01861\"},\"id\":\"2343\",\"type\":\"Column\"},{\"attributes\":{\"end\":30189.5,\"reset_end\":30189.5,\"reset_start\":-2744.5,\"start\":-2744.5,\"tags\":[[[\"num_reviews\",\"num_reviews\",null]]]},\"id\":\"2281\",\"type\":\"Range1d\"},{\"attributes\":{},\"id\":\"2340\",\"type\":\"UnionRenderers\"},{\"attributes\":{\"fill_alpha\":{\"value\":0.1},\"fill_color\":{\"value\":\"#30a2da\"},\"hatch_alpha\":{\"value\":0.1},\"hatch_color\":{\"value\":\"#30a2da\"},\"line_alpha\":{\"value\":0.1},\"size\":{\"value\":2.449489742783178},\"x\":{\"field\":\"num_subscribers\"},\"y\":{\"field\":\"num_reviews\"}},\"id\":\"2321\",\"type\":\"Scatter\"},{\"attributes\":{},\"id\":\"2300\",\"type\":\"PanTool\"},{\"attributes\":{\"data\":{\"num_reviews\":[23,923,74,11,45,138,178,148,34,14,93,42,21,52,19,106,79,115,24,249,3,84,83,38,333,518,373,237,103,25,21,171,449,11,12,118,2476,1118,2697,809,2347,278,137,1190,1113,594,42,872,11,65,12,71,200,23,11,83,123,169,6,2,689,600,497,340,713,158,985,461,162,506,237,218,18,240,273,16,232,331,40,244,71,225,370,340,55,69,53,212,57,15,100,5,276,402,30,66,1,18,31,19,15,25,12,2698,13,9,620,38,151,17,19,14,794,8,16,29,8,48,48,1463,1,194,6,48,10,11,30,35,649,54,1,3,187,9,16,14,4,149,65,4,110,140,46,4397,101,424,96,42,12,142,25,13,16,11,43,9,2,86,21,158,351,267,15,70,6,12,31,10,34,45,54,6,25,352,7,59,102,234,265,138,67,9,252,21,23,15,24,59,23,3,31,45,2,281,54,17,42,12,22,36,139,26,12,12,3,16,207,32,64,161,4,15,107,0,6,28,12,6,16,26,44,3,9,8,29,10,55,30,33,17,4,23,24,27,13,54,12,110,117,18,80,79,48,23,15,31,19,40,32,181,1,1,1,32,1,1,0,5,2,2,10,6,12,47,2,117,77,185,38,20,4,11,64,8,22,9,4,3,2,3,7,6,11,258,5,11,7,57,41,5,395,12,52,14,49,11,45,799,27,43,13,36,10,51,11,5,41,6,21,6,17,2,7,5,9,14,8,5,14,18,10,33,3,38,9,4,16,10,49,81,70,1,23,24,35,7,14,17,4,41,202,4,35,12,2,46,83,31,584,22,44,17,4,51,158,154,9,21,6,14,12,14,18,48,25,33,15,8,27,11,27,224,29,7,1440,25,21,19,31,0,95,70,12,4,32,22,54,6,12,218,137,56,8,137,20,281,33,19,52,103,89,40,17,61,92,0,1,1,0,0,1,0,1,0,1,0,2,6,3,2,6,3,4,6,3,8,2,11,6,1,10,4,29,60,7,5,4,20,4,6,5,26,3,7,11,64,16,9,19,34,56,35,6,0,0,0,0,0,0,0,0,0,0,0,0,47,10,34,13,14,2,16,10,10,2,13,10,6,2,9,4,1,1,3,53,2,1,4,11,30,44,256,936,76,712,4,58,37,5,23,38,10,70,1,20,6,33,13,8,8,6,8,11,0,0,0,0,0,0,0,0,0,0,1,0,2,12,9,36,1,15,18,7,15,24,2,25,15,4,9,9,23,9,16,47,29,20,13,25,10,8,8,3,17,3,9,11,7,22,4,10,128,33,40,34,12,48,2,135,8,444,85,635,0,0,0,0,1,2,0,0,0,0,0,0,1,1,4,1,3,7,1,2,1,7,2,5,18,3,4,18,5,3,3,25,15,14,4,3,1,2,3,10,2,1,1,6,1,1,1,1,24,13,96,24,27,109,14,7,109,84,44,15,1,1,2,2,1,0,0,2,1,3,1,3,16,49,54,20,19,32,98,27,19,34,4,24,2,2,3,3,0,3,2,2,7,0,1,2,86,890,49,40,67,55,11,20,10,13,68,39,2,2,15,4,2,2,15,1,2,2,81,3,12,12,169,13,71,12,10,61,17,39,14,40,14,3,34,55,0,12,17,45,60,45,14,2,2,7,1,30,2,9,4,25,35,7,66,5,140,11,34,1,45,13,51,2,9,23,14,58,9,69,4,5,4,5,13,3,4,6,5,4,10,11,83,30,23,11,12,3,14,17,22,6,8,2,9,3,32,3,5,5,5,10,7,5,0,0,0,0,0,0,0,0,0,0,0,0,41,63,19,56,11,14,10,8,54,8,24,4,43,11,38,5,69,12,45,27,74,6,17,7,1,1,3,1,6,3,38,6,3,37,4,9,6,351,138,70,86,192,183,60,144,6,109,5,5,48,10,102,11,11,71,4,24,8,2,4,6,4,3,3,1,1,5,5,5,6,23,12,17,12,13,90,8,120,6,10,0,14,16,2,4,33,43,4,1,0,1,1,1,1,4,0,0,0,0,0,0,0,0,0,0,0,0,25,20,10,0,25,18,12,41,21,13,25,50,11,17,7,5,13,5,10,18,17,16,5,3,0,0,0,0,0,1,1,1,2,0,0,0,2,6,2,13,3,2,2,4,2,2,2,111,28,15,43,6,6,6,5,7,20,17,13,19,13,4,3,3,3,9,15,7,5,6,42,19,7,12,1,24,7,20,16,3,2,5,76,2,4,6,2,4,1,0,4,2,3,6,2,7,7,16,4,2,9,18,16,3,11,35,14,1,0,0,0,22,2,1,0,0,1,1,0,0,0,0,1,0,0,0,0,1,0,0,1,39,14,19,16,22,36,5,41,6,210,13,200,5,0,6,5,2,3,1,5,2,3,2,1,49,135,547,230,109,145,37,47,40,51,94,23,1,3,3,2,0,1,0,0,2,1,3,1,0,0,0,0,4,1,1,2,2,0,0,0,9,16,6,11,3,306,11,4,5,2,96,3,0,0,0,0,50,0,7,3,9,0,296,819,10,48,29,1,7,40,19,52,24,28,32,19,15,92,14,142,128,19,11,71,14,8,17,5,1,8,10,3,8,17,10,1,4,7,5,14,13,62,21,78,3,25,45,16,54,22,36,4,1,5,3,8,14,7,6,8,5,4,5,22,46,31,39,37,3,60,122,28,12,7,77,46,45,22,3,3,44,30,0,3,23,21,46,8,240,50,40,44,337,15,104,424,427,182,124,11,24,6,0,1740,2379,447,737,754,1629,650,479,175,382,202,102,5,5,3,6,10,76,2,21,7,50,24,24,0,0,0,0,0,0,0,0,2,26,42,21,28,95,26,39,18,122,329,17,40,311,30,205,437,466,470,10,85,99,2,18,193,220,39,3,11,11,5,57,10,39,16,20,28,63,27,54,6,109,197,41,1041,103,12,52,20,172,16,30,92,12,88,50,245,1,25,10,31,68,15,29,8,15,16,10,11,30,42,14,15,3,11,21,5,1,3,3,9,1,2,3,1,2,1,1,49,6,3,13,10,10,14,68,5,53,0,4,40,34,8,12,13,3,8,6,25,27,12,3,158,11,29,53,20,9,29,11,5,57,203,35,24,423,26,470,58,30,61,74,49,121,38,49,6,143,5,7,654,120,15,0,15,11,46,27,1563,61,52,8,125,143,24,0,20,6,44,26,30,21,25,51,13,8,115,2215,62,24,28,68,4,2,0,3,190,198,108,9,42,6,96,27,24,10,2,7,11,6,28,8,5,3,16,2,30,8,12,25,17,15,10,10,42,8,2,13,162,17,9,23,5,37,48,31,576,57,49,1779,3,0,0,0,0,0,0,0,0,0,0,0,1,5,1,3,3,4,0,0,1,0,0,1,12,26,2,15,95,26,29,40,11,117,38,17,10,33,43,49,18,4,2,10,79,9,24,40,2,1,1,1,1,14,2,2,14,0,4,4,145,128,100,21,35,38,57,15,86,481,10,25,11,11,7,9,11,4,10,10,2,8,5,3,0,1,0,0,0,0,0,1,0,0,1,1,0,0,0,0,1,0,0,0,0,0,0,0,176,11,5,109,19,28,55,27,4,46,18,17,13,13,15,0,3,5,18,6,9,27,0,5,0,0,0,0,2,0,0,0,0,0,0,0,9,20,2,23,7,16,1,23,15,12,12,5,0,0,0,0,0,0,0,0,92,45,183,25,7,24,19,5,69,388,53,18,345,39,522,8,0,0,2,0,3,0,2,0,2,0,0,0,72,43,38,20,136,24,44,20,19,155,3,1,10,2,10,6,3,1,5,9,3,57,9,1,6,7,10,5,1,31,11,6,6,4,2,8,3,5,14,2,6,10,2,8,9,13,2,1,14,1,7,26,44,99,131,25,74,35,2,29,3,7,0,1,0,1,1,3,4,3,1,4,32,5,13,36,15,121,18,6,5,3,9,5,2,2,2,6,3,4,5,4,3,3,3,8,11,13,5,8,22,35,4,25,4,9,9,3,4,5,5,5,2,2,3,0,3,0,0,0,5,3,9,7,3,1,6,2,0,1,5,1,14,7,3,9,3,4,3,5,2,8,4,10,193,11,4,11,4,6,29,10,66,52,30,10,5,5,11,12,7,20,14,13,18,21,24,21,10,12,12,39,27,5,8,9,21,9,47,12,21,16,116,3,58,157,93,15,11,11,8,57,7,6,44,6,22,43,158,19,17,7,6,10,6,4,4,8,24,7,4,30,7,15,20,4,18,18,39,8,2,20,4,13,27,14,11,9,4,41,14,6,7,5,37,19,8,8,5,357,29,19,1042,64,29,8,34,224,82,31,38,35,11,38,15,27,12,34,31,49,46,113,21,18,308,40,9,17,1,772,52,10,4,4,9,1,28,26,3,21,5,107,9,11,8,15,3,10,11,2,6,3,28,44,40,5,331,129,71,20,18,8,5,39,15,78,30,10,39,26,13,39,38,183,398,125,79,17,4,65,88,26,410,0,6,7676,1340,375,2713,2257,159,128,718,665,79,260,33,52,13,18,1,12,3,89,6,252,37,8,8,2,1141,3,8,15,26,5,2,10,16,34,10,3,10,2,11,101,177,1,55,173,14,20,72,26,35,4,6,3,16,19,3,54,68,21,38,276,11,175,41,192,10,136,29,107,3,2,2,2,5,45,6,4,2,7,2,4,1,4,109,25,26,15,88,136,10,6,27,4,7,9,25,33,11,4,5,35,4,2,5,28,2,3,23,4,2,0,2,2,2,1,1,1,6,1,3,4,3,1,2,2,3,2,2,1,0,0,0,0,0,0,0,0,0,0,0,0,3,2,3,6,3,64,5,7,7,4,4,12,3,3,1,1,1,1,2,0,0,2,2,0,9,8,4,10,11,17,2,3,5,7,7,6,9,0,18,6,10,5,4,5,14,3,15,8,3,5,3,33,7,3,4,15,4,161,9,22,32,263,23,42,109,4,17,12,26,5,4,1,7,6,9,5,2,4,4,6,11,3,1,2,2,4,2,1,2,1,2,1,3,1,2,2,6,7,1,3,3,30,1,1,1,1,2,1,1,2,0,4,3,3,1,2,0,1,3,7,1,3,3,3,5,2,6,1,4,2,1,1,0,0,0,0,1,0,0,0,1,0,1,0,1,1,0,1,1,0,0,3,0,0,4,11,4,3,3,2,6,8,5,7,2,7,7,3,5,3,1,5,4,8,2,3,4,1,9,7,3,6,6,5,23,16,18,3,3,8,8,8,9,4,6,8,4,2,5,8,0,4,2,7,1,2,4,4,3,1,8,2,6,3,3,3,2,4,4,4,2,6,1,12,1,7,3,3,4,1,0,5,2,1,3,1,8,3,0,0,0,0,0,0,0,0,0,0,1,0,0,2,0,0,1,1,1,1,1,1,0,1,0,0,0,0,0,0,0,0,0,1,1,0,1,1,0,0,0,0,0,0,0,0,0,0,2,12,11,25,47,3,6,20,13,13,3,3,0,14,29,1,0,28,26,12,30,1,9,1,1,1,3,4,3,2,1,1,1,1,5,0,2,2,2,2,11,3,2,5,6,21,2,11,51,17,6,4,7,19,10,21,25,9,12,3,1,0,0,0,0,0,2,0,0,0,0,0,525,285,529,206,490,202,112,359,178,210,540,351,167,253,220,106,333,147,94,217,317,218,110,131,848,506,1017,655,820,662,1445,1981,104,1358,1304,418,73,38,52,56,59,35,21,41,200,83,324,13,41,401,198,368,137,142,116,333,193,277,220,111,223,46,340,6,76,201,75,43,53,49,31,237,783,121,312,268,117,215,212,674,165,680,395,525,188,414,1111,331,941,129,72,179,799,836,453,997,232,20,1220,411,89,110,8,13,82,43,23,64,31,80,0,6512,21,75,4047,16,7,16,30,139,473,79,56,111,34,110,118,46,1097,35,57,173,31,159,359,276,253,78,216,219,105,2685,96,423,94,142,16,212,102,5,210,43,81,35,169,69,970,570,901,876,303,129,286,302,629,292,262,0,62,125,164,1342,314,178,114,47,978,43,30,522,44,101,159,63,874,68,88,243,24,63,27,160,147,37,147,220,129,53,118,29,50,231,306,125,17,38,80,291,4,9,185,138,22,23,8,10,1838,330,1548,531,622,660,1090,2408,1846,497,116,214,193,117,627,105,931,383,134,26,329,401,685,466,64,43,65,26,523,11,16,120,20,63,131,12,514,589,28,237,276,26,742,471,174,22,231,144,92,136,90,213,8,16,144,30,92,9,64,185,15,61,10,15,81,4,188,212,10,60,258,24,53,38,49,28,92,48,228,20,93,39,32,129,22,1005,27,34,2575,5924,5,44,33,183,69,24,22,129,10,129,138,52,6,15,47,52,14,15,415,463,482,224,1813,34,260,99,247,380,44,210,450,43,17,17,95,1112,99,27,126,78,26,137,21,8629,69,441,154,105,17,7,354,74,750,20,108,71,15,47,51,115,96,73,112,52,46,292,44,110,31,37,16,1,52,6,53,38,63,4,14,33,38,20,5,7,21,4,23,34,26,20,65,33,50,11,12,5,72,46,74,42,30,95,34,11,14,40,17,107,358,37,45,19,166,6,20,49,165,78,62,18,54,69,102,5,145,439,44,33,31,165,29,30,172,278,17,126,137,99,242,16,85,9,91,32,239,55,23,10,18,110,8,9,16,10,33,393,34,28,40,17,92,54,34,90,121,245,27,62,15,37,15,57,57,36,77,261,53,68,39,96,20,415,4,989,25,84,25,133,215,15,145,9,11,39,63,28,117,18,40,111,131,195,1106,141,84,19,8,31,22,38,249,2,15,56,28,52,36,92,95,25,52,37,76,134,53,12,171,46,302,95,102,92,39,435,94,216,119,28,154,169,239,106,162,235,285,107,45,13,279,99,12,10,72,99,4,7,97,311,92,39,12,2,24,11,33,28,22,10,6,58,90,50,31,141,29,32,89,138,87,52,318,44,115,206,44,58,536,106,95,89,94,28,14,64,65,4,154,36,95,416,17,93,438,40,32,111,13,136,137,8,178,32,19,14,17,14,25,60,32,130,228,81,91,235,35,31,411,28,48,8,110,365,93,602,589,139,508,137,721,55,59,360,11,2,19,13,41,48,12,50,58,13,72,74,941,1724,527,1213,372,688,16,983,525,620,407,174,169,185,128,4,20,35,72,27,179,49,489,39,8,21,67,12,32,15,40,42,67,102,8,150,51,1225,384,260,382,95,28,634,434,780,526,123,16,54,149,17,28,97,25,62,21,84,8,172,850,166,1883,1375,828,737,19649,1955,4316,676,3809,3137,223,171,22,283,303,86,35,103,9,2692,26,33,1286,241,4675,288,4340,3166,8341,1384,27445,2144,22412,4434,914,561,99,30,2618,76,50,162,271,313,59,22,11580,16976,1893,7106,2709,11123,1560,3326,15117,307,6357,987,17,86,139,23,56,22,22,17,24,62,10,6,71,19,89,3,137,59,19,5,65,4,14,28,173,22,56,49,615,126,32,4598,945,1236,58,386,87,101,8,152,93,7,38,16,27,29,112,52,30,138,55,85,32,42,183,368,689,132,19,18,6,1080,54,183,166,104,135,5660,98,87,2104,177,16,137,16,26,54,27,146,336,30,3,18,45,15,46,50,19,64,15,15,9,148,38,128,38,20,84,240,12,241,12,23,71,88,546,26,1948,8,13,46,11,29,87,15,8,12,93,5,59,137,96,163,11,2,79,10,5590,108,85,406,40,13,11,145,11,161,24,37,12,22,201,26,60,290,114,17,154,59,33,64,149,58,30,57,43,13,33,12,20,126,101,304,59,25,34,61,9,4,14,171,346,23,9,78,35,10,19,10,217,46,125,6,41,14,241,47,37,49,16,8,212,17,188,78,14,56,15,44,180,17,81,54,92,17,283,521,174,16,401,72,69,107,173,5,286,15,75,19,132,40,69,78,14,8,19,7,30,8,196,10,13,61,24,221,52,309,59,35,88,73,25,52,9,130,12,6,81,163,319,125,165,33,18,19,300,21,29,19,48,20,14,27,135,19,101,117,29,3,104,42,75,7,103,17,143,1036,34,46,18,72,1234,13,16,93,245,27,235,26,104,26,86,36,34,15,90,7,54,13,16,21,91,394,91,206,67,11,85,21,8,93,390,14,37,21,33,9,28,4,33,65,45,0,48,97,9,50,183,111,425,17,203,86,125,53,108,53,7,16,34,21,77,88,45,19,29,26,9,40,48,39,89,22,45,196,91,2,48,41,9,86,16,5,26,28,9,43,10,0,16,15,8,4,3,22,56,8,164,11,72,379,6,17,31,48,53,14,39,13,26,0,2,13,23,37,2,62,112,41,43,61,10,40,12,193,81,1,1716,6,14,205,89,113,36,28,14,3,169,31,36],\"num_subscribers\":[2147,2792,2174,2451,1276,9221,1540,2917,5172,827,4284,1380,3607,4061,294,2276,4919,2666,5354,8095,809,2295,10149,1916,2507,5786,5334,4005,2877,1026,1165,1843,8797,1030,1041,7884,16900,11441,22257,8575,24481,3811,4991,7489,20195,10042,367,10603,1197,2893,1580,10605,2996,6219,1113,8314,5572,1433,936,658,8121,4187,9445,3255,7941,1680,10100,5050,2310,5528,6451,12394,1793,3223,16385,1487,2951,2697,3979,3190,1406,4252,11958,7743,2134,1214,3870,2146,484,1057,1754,1239,2493,2602,2000,1514,1361,61,1513,1374,2103,1480,2516,50855,1971,837,17160,1723,6811,2060,2318,2153,19339,3177,1535,1027,307,2096,1315,29167,1056,2212,2946,271,3771,3143,1951,4022,11724,2283,1181,1852,4661,989,5841,1087,611,1922,9015,661,1077,6050,3523,56659,1444,2900,1437,453,2437,5057,6092,4530,6967,727,1560,1047,1045,3050,2988,2623,1924,3804,4133,1420,1120,668,4086,1033,832,677,3125,1081,1645,3348,939,2115,2230,2053,1793,3775,521,2222,1097,2506,975,1398,1096,1703,1446,2736,2000,853,3094,4077,4117,1369,1224,3870,897,1311,1338,1589,1189,701,1105,123,5874,354,727,3465,54,627,650,965,1113,739,1201,2474,494,1580,617,2235,2293,1094,1449,3251,607,1218,1132,656,3339,1271,1574,1393,1029,843,1730,1182,1160,1730,1260,871,1566,2987,973,2177,1772,1850,1780,4607,12,13,2,2571,8,7,217,22,131,5,116,27,912,1964,1033,913,2092,2240,4601,2953,1091,1459,4855,4034,57,26,14,49,11,9,91,44,106,2079,135,31,217,611,5007,1168,4653,3035,454,325,228,562,577,10540,912,2955,190,1736,1135,2101,1048,1740,1749,1187,1263,115,43,55,18,14,47,134,153,47,42,120,68,844,2045,1168,2342,2268,967,1185,631,968,1132,114,204,1548,409,1169,249,690,1340,274,4863,1923,224,721,51,1276,2768,1735,8985,1119,2591,1046,2239,1882,5931,4931,3056,1303,2924,1405,1121,1776,1643,801,951,1278,1184,1115,1086,3730,810,2338,3403,4695,17847,2692,6374,2305,589,22,2490,2715,1506,2197,338,1076,2769,1531,1136,2187,1609,2895,1023,1988,1053,4497,2379,993,10338,1423,3555,567,1085,7159,11517,1,10,41,8,43,23,9,25,7,12,1,29,17,132,126,32,480,27,167,131,927,37,19,43,751,49,45,1685,4269,124,811,956,126,26,91,30,226,52,89,267,4770,265,2046,605,472,388,98,1888,0,0,0,0,0,0,0,0,0,0,0,0,495,375,1730,283,136,23,683,618,188,911,512,769,302,149,72,33,13,79,139,2247,17,45,33,54,1498,2317,5077,65576,1202,22344,2189,431,1199,5685,1512,1806,668,3757,828,111,39,613,57,246,83,62,31,367,3,3,2,3,1,1,2,1,2,1,1,0,731,66,51,507,9,375,80,152,37,194,1184,638,64,44,814,211,768,29,156,2144,376,214,406,394,438,56,58,1047,166,605,38,46,217,78,35,80,1941,1367,1519,2025,1213,1092,5099,869,59,10670,1741,19614,4,1,4,4,8,8,11,18,16,6,4,1,210,4,273,237,368,86,204,570,225,37,36,218,50,148,74,260,299,4,65,101,92,76,14,18,21,18,21,49,168,16,2,336,20,28,11,11,360,1189,9995,100,3426,592,1222,1532,5768,343,540,2031,7,4,21,29,50,1,5,6,16,70,110,7,1186,632,1237,513,4103,1489,547,353,507,1079,3667,2222,9,225,13,373,306,14,51,13,1318,347,274,9,359,6024,315,280,401,701,57,205,62,114,789,446,17,16,117,147,7,247,143,621,6,5,2674,227,4480,1329,5144,2635,1750,3360,3425,2688,1095,1680,2046,1699,1071,1037,223,653,230,2281,4702,366,521,252,1101,223,135,23,112,2122,152,267,155,87,2146,154,4248,517,2638,2914,6050,16,3917,1122,4158,1252,5108,2981,1223,7750,564,2075,45,44,308,55,718,206,18,86,294,27,375,94,2080,3137,155,1732,3372,2185,1008,256,1173,1352,49,124,105,117,6533,7,30,91,28,83,623,1625,0,0,0,1,0,0,0,0,0,0,0,0,737,554,807,779,1777,841,56,1909,775,1255,1193,1309,623,276,314,1942,885,226,461,152,1017,1074,440,978,36,74,78,10,39,37,2166,78,21,1086,7,168,2801,12217,6185,477,1334,5407,9483,1032,8236,2383,3283,2650,1551,545,663,3519,825,70,357,853,397,74,1254,89,38,18,103,7,104,42,507,241,226,50,100,99,99,1192,209,5529,81,1924,646,520,1440,452,178,21,12,209,505,16,25,229,6,1,10,1,34,0,0,0,0,0,0,0,0,0,0,0,0,459,266,104,1509,212,462,90,153,1055,157,103,1067,58,74,338,27,76,27,68,112,72,335,22,41,1,16,3,4,2,12,10,12,5,1,2,9,42,110,420,206,164,69,28,90,13,31,13,2119,136,797,503,1150,1403,916,627,168,2554,120,750,217,106,397,44,30,95,55,94,578,393,116,1888,412,40,222,831,485,232,135,61,61,874,22,5597,261,83,152,176,8,327,264,15,104,71,26,11,1294,32,313,635,1311,288,97,53,1102,57,694,137,12,18,170,119,2058,35,40,13,4,71,71,6,1,5,1,4,10,6,2,2,2,2,6,2,206,313,193,66,270,139,77,225,23,4876,244,1278,31,8,40,9,45,13,4,20,9,29,6,7,859,5983,1673,1284,394,689,649,187,1798,465,813,326,26,26,28,122,149,205,11,3,108,8,9,16,11,12,11,2,9,15,7,27,5,3,5,5,132,112,285,91,32,2740,59,16,22,15,1059,187,0,0,0,0,1089,743,1362,405,1168,16,3840,7183,483,172,256,1542,64,384,3014,454,312,315,609,207,399,1175,543,1634,1013,319,1125,2481,1006,1044,1240,504,15,358,80,133,207,426,45,1280,142,188,718,293,93,894,353,829,1195,335,500,159,739,87,185,741,576,1046,486,52,106,38,32,171,79,397,85,1696,201,1235,137,384,103,379,1573,150,48,781,952,612,1819,551,788,408,944,323,101,984,89,129,249,75,2252,462,1720,390,4297,1076,9367,8901,4235,14440,12340,2027,381,69,21,15276,26742,5326,36288,15500,7282,10875,8196,1360,6858,18303,1789,293,662,1279,1080,120,1085,447,372,721,736,114,331,0,0,0,0,0,0,0,0,217,334,817,637,2358,3721,1148,2489,1782,6975,9464,2044,5787,25277,6944,6028,5104,2476,3000,185,418,431,23,126,3329,720,800,1477,1552,1076,1016,919,1224,774,715,1768,2555,426,3108,276,390,6754,5086,1146,47811,1564,739,1029,2665,1079,1440,1401,2634,1046,505,827,8786,253,1933,1504,1332,1150,1056,1350,1586,821,56,1150,1557,246,3103,1090,1235,946,1500,1452,24,3,20,33,97,8,4,10,2,5,1,3,311,447,616,797,549,274,709,3812,1373,441,201,661,300,211,65,43,44,33,20,37,190,129,123,38,3251,2091,1002,806,389,1031,500,68,651,341,867,142,1825,24687,2266,5175,3512,797,2745,2361,1530,1873,1338,1479,38,934,50,27,6429,422,410,15,115,272,280,354,44044,1367,1754,2067,5301,4294,1679,327,740,1348,1249,1275,3117,896,4208,3903,1710,1606,4776,23229,1456,1534,2199,1202,2004,778,502,1526,1468,798,2044,1310,1145,326,2228,2420,387,421,987,324,319,1087,270,124,371,1098,107,507,646,1738,2354,238,165,1080,489,706,507,770,1028,545,690,2911,734,4353,521,3481,711,1123,12103,1418,3390,53851,3,1,3,1,2,1,1,2,1,0,0,0,3,25,1,108,13,11,37,7,1,1,6,18,1905,3360,941,4927,2087,2938,2911,1797,3192,1538,5072,1086,213,135,164,290,183,35,86,96,353,33,172,155,27,2,7,18,4,139,18,5,167,311,13,34,1522,6039,4449,6428,24857,2873,5840,1011,6215,33205,1452,1343,41,314,239,507,228,21,92,91,33,177,668,92,8,22,3,2,2,1,2,11,9,9,1,1,6,1,4,1,2,4,4,1,1,1,1,0,885,2863,915,3525,2035,2267,1197,1043,1356,1657,655,1282,35,220,481,1013,593,679,2346,140,528,297,228,1207,5,4,36,3,3,1,2,13,1,1,5,3,970,342,106,229,437,500,725,142,317,50,115,780,0,0,0,0,0,343,0,0,384,677,1110,858,1359,9847,2416,1524,11893,3381,1270,1753,3618,2489,4080,1602,7,8,7,57,91,11,6,5,5,6,34,7,5471,3599,4961,3377,1323,2599,6612,1675,5850,2325,1276,1000,86,11,42,28,5,74,27,13,27,1433,110,15,19,87,802,14,1132,347,219,30,130,509,342,87,259,72,363,23,78,99,14,282,113,66,52,116,623,827,5000,793,972,2427,3131,5950,4550,2081,785,2424,57,50,262,45,272,10,12,43,165,83,17,34,293,113,72,155,48,1447,86,13,15,28,62,125,33,51,361,50,4,134,36,32,30,22,452,67,1081,189,775,88,598,145,445,237,1005,485,238,1116,105,23,82,13,19,105,94,5,98,5,6,5,91,3,121,105,17,380,494,518,214,11,33,9,817,286,774,41,30,837,11,254,40,84,23,32,4529,823,1472,1327,924,898,1039,1474,1167,1589,219,835,747,1337,530,1297,295,2084,515,1026,414,198,250,180,128,709,117,305,153,81,85,73,178,122,402,119,605,476,707,438,1199,966,877,1504,1064,117,1229,922,662,1732,326,1284,1029,886,1213,1605,2673,1987,1052,1548,257,1818,543,95,321,408,43,239,584,144,297,1137,86,98,2566,55,537,595,659,186,460,252,87,1720,390,2618,390,496,341,97,1249,861,973,868,193,9193,5830,1224,101154,407,3481,124,2002,14495,746,920,362,927,953,469,450,600,1018,181,8240,582,1235,380,1842,3137,4967,2154,936,1224,1030,14922,2788,2686,1594,1018,1194,270,3325,172,834,382,452,5543,153,1582,560,111,1060,452,2346,103,833,2358,1814,2543,3042,809,9351,811,1424,193,65,59,545,668,100,5769,293,492,500,346,353,1174,1513,6292,6853,475,776,1337,701,1350,1141,1203,5188,0,462,75499,21701,3157,32935,10869,5316,4192,8857,10435,8113,7178,2102,1329,1220,3206,482,2498,478,1788,1249,1976,567,2045,1204,1227,47652,1638,568,3013,2795,491,1018,2164,2415,2285,1268,2026,2164,969,1987,1319,4560,1593,6565,4133,1541,14560,7140,1495,1200,1674,54,940,1152,2558,850,3937,6271,4557,5292,4982,4733,3371,1409,26504,3141,1449,2692,3312,2015,2015,7,228,65,1094,60,83,122,106,55,77,92,29,8217,1305,916,2357,1951,1284,769,3122,1269,1618,89,66,630,249,198,84,58,186,21,431,53,2610,26,32,1631,12,12,236,7,11,11,12,135,5,57,7,73,35,30,32,39,90,37,42,276,88,10,11,29,7,9,8,8,8,17,2,4,8,122,5,11,36,111,888,53,65,38,18,22,211,10,12,17,11,8,7,6,2,5,14,11,11,57,377,273,406,556,115,420,32,26,116,425,736,68,104,189,738,365,146,383,92,291,61,288,78,594,489,13,103,231,44,261,114,45,3167,105,85,335,4452,332,287,1876,113,158,480,228,42,10,103,75,66,61,184,24,205,19,120,232,148,10,72,172,10,25,1,13,69,10,25,21,5,418,113,78,51,58,56,162,2577,62,42,28,261,44,4,98,19,197,58,21,92,239,5,173,10,12,54,28,238,512,177,61,21,115,510,147,9,5,7,4,4,4,2,3,3,3,1,1,1,9,44,13,17,118,5,11,113,36,10,12,78,31,205,213,33,284,8,98,119,45,297,137,112,28,79,333,48,41,209,119,139,41,95,184,8,376,37,169,20,89,98,265,196,292,14,16,114,185,42,57,17,70,245,76,44,80,68,54,80,85,57,12,11,42,20,41,5,119,22,20,17,82,79,21,29,31,156,12,74,353,137,59,47,71,21,36,8,375,215,80,31,56,18,57,59,6,4,4,3,7,2,3,3,1,3,3,3,164,28,47,15,151,14,16,19,14,40,41,9,46,75,19,22,17,26,2,13,1,14,6,31,1,1,1,0,0,0,0,0,0,0,0,0,31,237,120,384,3160,455,82,136,63,64,28,27,0,970,991,61,1,1981,245,38,255,62,186,62,13,25,17,36,349,85,24,26,19,30,45,305,26,75,32,70,200,478,73,33,59,192,57,81,2995,181,589,48,81,225,438,152,244,248,111,52,10,10,9,7,7,1,6,4,6,3,5,5,43285,47886,2577,8777,23764,3541,2669,1966,4090,2578,24978,3133,15276,12458,1087,14074,26800,9425,2780,35267,2607,1502,9359,14842,6082,12366,4720,7057,16829,4872,5809,13439,733,14813,6601,2804,9421,9668,2760,9831,486,11170,9384,9067,10247,10610,6162,1802,4783,2097,17714,9554,1129,22213,2412,18324,1696,7169,12893,4708,1050,7852,1683,119,1735,3699,10103,7380,3903,4892,2786,15064,22623,952,3415,7827,9773,13457,1399,4028,1371,12953,5125,43285,25864,5211,8234,2687,5143,1827,5026,1301,23412,8691,3119,10150,14026,2214,21147,19909,1385,10780,604,1772,3357,796,4123,2697,997,713,4259,98867,1849,1645,64128,2160,7660,2025,1548,2472,13535,5795,2643,3704,1678,960,1811,4123,26697,5921,3011,8768,1673,16158,4057,6851,2234,9607,4689,9375,4848,84897,12838,24861,9762,11262,1270,17895,11285,1040,23572,3801,12068,5559,1838,2104,15187,10606,6497,11536,16282,949,1995,6636,7146,1703,12815,44,502,627,851,29990,10179,563,2320,2353,13210,1004,3015,8693,8711,9945,18143,13882,57422,10179,18101,2789,1437,10864,14254,6134,7867,8594,1892,3960,10518,10008,1023,3392,7213,4183,25854,6153,4010,5022,5547,2532,2362,7741,1658,3324,7184,4442,7196,2371,8496,1346,14103,3295,4375,12021,26673,69186,11384,2390,7059,3179,1870,18170,6073,5335,8755,4144,6420,1741,9881,3252,5089,5962,5181,3493,417,1599,15134,2596,1783,12974,785,4115,13242,1154,16212,16409,1337,1469,2660,421,31070,1737,11492,5439,8059,12105,3877,2919,2409,2083,2076,2918,842,7130,5549,155,1697,2526,2342,21730,1117,2401,3887,1156,1385,10890,1126,3652,1723,3759,1653,5387,4563,3757,4193,3694,1905,2875,613,633,1515,900,2382,32260,3249,1274,72932,120291,387,2227,2652,2520,3150,4011,6937,4839,2346,897,9381,7090,2204,1212,5328,5715,2074,12328,4537,5117,3854,1902,37141,1649,3012,6890,4628,17113,244,1472,31499,3539,1415,2965,655,18777,1591,1925,16926,13406,5739,16731,1613,268923,1780,7438,21087,1157,912,2039,16527,1000,26541,467,947,9832,2184,2853,16590,1626,9056,8320,4106,5324,5603,4183,301,3883,236,1758,1266,920,5004,880,342,205,527,1517,130,1018,4830,402,755,1087,170,1054,245,353,464,298,2238,1764,3380,1030,1406,4732,1724,1618,5056,1562,1547,2626,11167,466,1355,5065,1763,6413,5398,7017,6510,1898,3299,817,1798,3688,1611,11574,2547,2063,22355,8577,10674,783,12781,5484,7884,15724,3106,6293,8711,8067,9332,3271,1367,5077,6508,4687,11758,300,3784,1209,1428,716,12563,1518,1241,380,395,1169,1114,5738,6648,1605,4848,4743,1520,3601,4033,17071,13708,430,2643,1731,1313,775,2243,2749,2012,1080,3831,2071,2755,1216,2314,8770,1764,2837,1655,2721,1152,15493,1562,9786,1904,3357,2200,5456,2134,4675,1433,1734,3461,4076,567,1723,1282,2052,1874,1119,1023,3697,21682,1975,553,2650,2964,1624,1640,1627,1815,1011,2430,5318,7018,1634,3590,4030,4020,2635,7211,1496,4447,1410,6628,1908,1248,4587,2351,3898,3185,557,408,1703,17554,7368,676,3632,10576,11643,13960,5085,1130,14606,2971,2814,1355,2335,161029,2051,1069,1439,1948,841,937,583,577,9364,5052,694,511,937,1611,103,670,1606,260,122,877,1215,3323,11892,15106,975,5263,596,7517,21653,9028,7375,5177,6548,28125,9349,14260,7720,2142,12873,12882,12368,8625,2641,1052,13920,7416,1822,1010,1425,7014,7785,4407,602,1712,1894,3258,7449,538,1271,1407,2311,1002,2565,210,1186,1421,958,1550,1309,251,723,11026,1318,3894,12293,1447,487,9110,1519,948,2023,1858,2244,3619,22999,2743,1229,3701,710,6588,7331,4463,1873,1388,1292,1147,1109,2002,876,1186,973,379,2177,1063,1309,7489,9103,3169,7501,1967,28694,909,4820,24575,9109,18818,1121,14551,5800,4867,1006,4616,8968,7062,3073,2706,1702,3420,7130,918,1520,461,116,207,333,305,644,415,926,3118,4290,959,55332,2273,17784,25799,2865,346,4957,4128,29348,32696,3503,2354,586,1949,1825,2296,550,578,7706,1339,6760,1096,7407,5811,2145,11832,5279,5332,5151,73783,51257,28880,17334,33677,19210,2215,1322,3485,2185,2494,2091,1777,2573,228,59639,1705,1950,10945,2606,17671,2273,27801,17297,40070,6527,121584,17802,114512,33788,21245,7905,869,293,36322,2760,522,1628,12336,6437,2797,333,59361,79612,8964,43977,13010,58208,9132,21998,50815,4138,20652,6412,2464,6474,2388,1494,1463,1057,1049,109,2073,1116,1125,802,4409,686,1154,885,2437,716,1867,91,586,601,81,1018,1448,1296,1299,1769,20073,601,2281,83737,20890,48650,1945,18496,1193,4905,1699,11812,746,189,1419,1237,1703,1849,5397,4410,1554,4499,1993,424,3782,1551,954,7304,15462,6958,964,3571,2421,21689,5542,7922,7055,767,3766,70773,2497,799,41478,867,2097,5533,534,197,533,1036,4503,8592,183,903,1236,305,1544,1020,325,3227,659,2528,550,1032,1142,1766,912,1305,653,3411,11533,3397,7865,715,988,4405,1936,11666,361,30531,88,55,494,1294,976,1586,1550,1209,850,5421,255,707,6856,1007,12952,2299,19,1736,2195,47062,4569,3655,15715,578,1747,197,4198,540,942,2470,478,2558,2178,860,2888,3026,2164,10874,1935,1871,7789,10394,17759,4714,3209,14118,11847,11339,1156,1534,1102,783,627,891,7484,876,1235,1143,450,1442,426,2814,4645,13130,3933,2197,1318,1553,2007,1540,1655,12201,1284,869,396,7142,1414,9833,604,685,549,1220,1588,8371,2570,6117,5368,2225,2086,1732,6751,5228,1477,1626,4529,3254,2267,17463,23669,5301,1033,6909,4040,546,2459,1284,1122,13016,1098,481,376,898,1393,434,394,263,1061,1312,764,289,4001,5097,3193,11011,3492,3559,2784,5495,2912,9687,3444,12629,1659,1305,651,1926,396,1062,578,4735,4306,10917,1701,11080,636,1478,362,8337,702,2698,177,714,1062,1552,102,613,2152,1063,3142,1566,2306,633,2859,299,1002,631,1386,2355,6742,1853,252,1302,1658,15092,165,4333,976,1276,1476,5351,2402,6402,223,654,1262,253,1780,1266,2389,1468,838,2649,6000,1839,10689,7449,4157,3388,1343,3399,2510,1537,6134,9355,1024,325,166,203,1134,216,25,1096,770,424,755,652,4797,2783,8462,5129,5272,2784,3086,6008,16486,2076,1353,3770,722,1404,1688,214,788,1128,608,359,1532,791,395,322,151,208,385,666,237,240,5014,3033,458,1779,334,222,422,227,50,194,458,61,314,586,770,735,1299,791,426,796,1316,8415,1085,817,1275,1526,10110,1832,945,1272,442,6315,1322,557,540,327,358,803,1557,1942,279,34,1420,1812,2472,1525,2650,2753,2985,2360,948,392,944,73110,878,1454,7318,555,496,436,382,1040,306,513,300,901]},\"selected\":{\"id\":\"2318\"},\"selection_policy\":{\"id\":\"2340\"}},\"id\":\"2317\",\"type\":\"ColumnDataSource\"},{\"attributes\":{\"axis_label\":\"num_subscribers\",\"coordinates\":null,\"formatter\":{\"id\":\"2312\"},\"group\":null,\"major_label_policy\":{\"id\":\"2313\"},\"ticker\":{\"id\":\"2292\"}},\"id\":\"2291\",\"type\":\"LinearAxis\"},{\"attributes\":{\"below\":[{\"id\":\"2291\"}],\"center\":[{\"id\":\"2294\"},{\"id\":\"2298\"},{\"id\":\"2328\"}],\"height\":300,\"left\":[{\"id\":\"2295\"}],\"margin\":[5,5,5,5],\"min_border_bottom\":10,\"min_border_left\":10,\"min_border_right\":10,\"min_border_top\":10,\"renderers\":[{\"id\":\"2323\"}],\"sizing_mode\":\"fixed\",\"title\":{\"id\":\"2283\"},\"toolbar\":{\"id\":\"2305\"},\"x_range\":{\"id\":\"2280\"},\"x_scale\":{\"id\":\"2287\"},\"y_range\":{\"id\":\"2281\"},\"y_scale\":{\"id\":\"2289\"}},\"id\":\"2282\",\"subtype\":\"Figure\",\"type\":\"Plot\"},{\"attributes\":{},\"id\":\"2315\",\"type\":\"BasicTickFormatter\"}],\"root_ids\":[\"2279\",\"2380\"]},\"title\":\"Bokeh Application\",\"version\":\"2.4.3\"}};\n",
       "    var render_items = [{\"docid\":\"52672f27-7173-4588-afd1-7ee088879914\",\"root_ids\":[\"2279\"],\"roots\":{\"2279\":\"8508e81b-b9cb-4005-b9f5-622ac6d5e19b\"}}];\n",
       "    root.Bokeh.embed.embed_items_notebook(docs_json, render_items);\n",
       "    for (const render_item of render_items) {\n",
       "      for (const root_id of render_item.root_ids) {\n",
       "\tconst id_el = document.getElementById(root_id)\n",
       "\tif (id_el.children.length && (id_el.children[0].className === 'bk-root')) {\n",
       "\t  const root_el = id_el.children[0]\n",
       "\t  root_el.id = root_el.id + '-rendered'\n",
       "\t}\n",
       "      }\n",
       "    }\n",
       "  }\n",
       "  if (root.Bokeh !== undefined && root.Bokeh.Panel !== undefined) {\n",
       "    embed_document(root);\n",
       "  } else {\n",
       "    var attempts = 0;\n",
       "    var timer = setInterval(function(root) {\n",
       "      if (root.Bokeh !== undefined && root.Bokeh.Panel !== undefined) {\n",
       "        clearInterval(timer);\n",
       "        embed_document(root);\n",
       "      } else if (document.readyState == \"complete\") {\n",
       "        attempts++;\n",
       "        if (attempts > 200) {\n",
       "          clearInterval(timer);\n",
       "          console.log(\"Bokeh: ERROR: Unable to run BokehJS code because BokehJS library is missing\");\n",
       "        }\n",
       "      }\n",
       "    }, 25, root)\n",
       "  }\n",
       "})(window);</script>"
      ],
      "text/plain": [
       "Row\n",
       "    [0] HoloViews(Overlay)\n",
       "    [1] Column\n",
       "        [0] IntSlider(end=20, name='size', start=1, value=10)\n",
       "        [1] ColorPicker(name='color picker')\n",
       "        [2] FloatSlider(name='alpha', value=0.5)"
      ]
     },
     "execution_count": 58,
     "metadata": {
      "application/vnd.holoviews_exec.v0+json": {
       "id": "2279"
      }
     },
     "output_type": "execute_result"
    }
   ],
   "source": [
    "# widgets\n",
    "size = pn.widgets.IntSlider(value=10,start=1,end=20,name='size')\n",
    "color = pn.widgets.ColorPicker(name='color picker')\n",
    "alpha = pn.widgets.FloatSlider(value=0.5,start=0,end=1,name='alpha')\n",
    "\n",
    "#plot\n",
    "scatter = hv.Scatter(data=pd_u,kdims='num_subscribers',vdims='num_reviews')\n",
    "scatter.opts(line_color='black',width=600)\n",
    "\n",
    "#link\n",
    "size.jslink(scatter,value='glyph.size')\n",
    "color.jslink(scatter, value='glyph.fill_color')\n",
    "alpha.jslink(scatter, value='glyph.fill_alpha')\n",
    "\n",
    "#layout\n",
    "pn.Row(scatter * hv.Slope.from_scatter(scatter), pn.Column(size,color,alpha))"
   ]
  },
  {
   "cell_type": "markdown",
   "id": "5700dd1c-3cbc-4ae8-9f01-f4abe354ac12",
   "metadata": {},
   "source": [
    "## Dashboard"
   ]
  },
  {
   "cell_type": "code",
   "execution_count": 59,
   "id": "a367b75b-a77d-4616-9b45-15abc2f8969f",
   "metadata": {},
   "outputs": [
    {
     "data": {
      "text/plain": [
       "['Beginner Level', 'All Levels', 'Intermediate Level', 'Expert Level']"
      ]
     },
     "execution_count": 59,
     "metadata": {},
     "output_type": "execute_result"
    }
   ],
   "source": [
    "levels = list(df_u['level'].unique())\n",
    "levels"
   ]
  },
  {
   "cell_type": "code",
   "execution_count": 60,
   "id": "223e6617-d2bf-4810-a4ba-56e389479972",
   "metadata": {},
   "outputs": [],
   "source": [
    "png = pn.panel('Images.png', width=200)"
   ]
  },
  {
   "cell_type": "code",
   "execution_count": 61,
   "id": "cd786b48-5721-4dce-b24e-c4c3d9356133",
   "metadata": {},
   "outputs": [
    {
     "data": {},
     "metadata": {},
     "output_type": "display_data"
    },
    {
     "data": {
      "application/vnd.holoviews_exec.v0+json": "",
      "text/html": [
       "<div id='2431'>\n",
       "  <div class=\"bk-root\" id=\"5e2ab1fd-9494-41ef-bf38-7e95ff790412\" data-root-id=\"2431\"></div>\n",
       "</div>\n",
       "<script type=\"application/javascript\">(function(root) {\n",
       "  function embed_document(root) {\n",
       "    var docs_json = {\"0b2bc090-4ef8-48fa-b375-154c7db0da60\":{\"defs\":[{\"extends\":null,\"module\":null,\"name\":\"ReactiveHTML1\",\"overrides\":[],\"properties\":[]},{\"extends\":null,\"module\":null,\"name\":\"FlexBox1\",\"overrides\":[],\"properties\":[{\"default\":\"flex-start\",\"kind\":null,\"name\":\"align_content\"},{\"default\":\"flex-start\",\"kind\":null,\"name\":\"align_items\"},{\"default\":\"row\",\"kind\":null,\"name\":\"flex_direction\"},{\"default\":\"wrap\",\"kind\":null,\"name\":\"flex_wrap\"},{\"default\":\"flex-start\",\"kind\":null,\"name\":\"justify_content\"}]},{\"extends\":null,\"module\":null,\"name\":\"GridStack1\",\"overrides\":[],\"properties\":[{\"default\":\"warn\",\"kind\":null,\"name\":\"mode\"},{\"default\":null,\"kind\":null,\"name\":\"ncols\"},{\"default\":null,\"kind\":null,\"name\":\"nrows\"},{\"default\":true,\"kind\":null,\"name\":\"allow_resize\"},{\"default\":true,\"kind\":null,\"name\":\"allow_drag\"},{\"default\":[],\"kind\":null,\"name\":\"state\"}]},{\"extends\":null,\"module\":null,\"name\":\"click1\",\"overrides\":[],\"properties\":[{\"default\":\"\",\"kind\":null,\"name\":\"terminal_output\"},{\"default\":\"\",\"kind\":null,\"name\":\"debug_name\"},{\"default\":0,\"kind\":null,\"name\":\"clears\"}]},{\"extends\":null,\"module\":null,\"name\":\"NotificationAreaBase1\",\"overrides\":[],\"properties\":[{\"default\":\"bottom-right\",\"kind\":null,\"name\":\"position\"},{\"default\":0,\"kind\":null,\"name\":\"_clear\"}]},{\"extends\":null,\"module\":null,\"name\":\"NotificationArea1\",\"overrides\":[],\"properties\":[{\"default\":[],\"kind\":null,\"name\":\"notifications\"},{\"default\":\"bottom-right\",\"kind\":null,\"name\":\"position\"},{\"default\":0,\"kind\":null,\"name\":\"_clear\"},{\"default\":[{\"background\":\"#ffc107\",\"icon\":{\"className\":\"fas fa-exclamation-triangle\",\"color\":\"white\",\"tagName\":\"i\"},\"type\":\"warning\"},{\"background\":\"#007bff\",\"icon\":{\"className\":\"fas fa-info-circle\",\"color\":\"white\",\"tagName\":\"i\"},\"type\":\"info\"}],\"kind\":null,\"name\":\"types\"}]},{\"extends\":null,\"module\":null,\"name\":\"Notification\",\"overrides\":[],\"properties\":[{\"default\":null,\"kind\":null,\"name\":\"background\"},{\"default\":3000,\"kind\":null,\"name\":\"duration\"},{\"default\":null,\"kind\":null,\"name\":\"icon\"},{\"default\":\"\",\"kind\":null,\"name\":\"message\"},{\"default\":null,\"kind\":null,\"name\":\"notification_type\"},{\"default\":false,\"kind\":null,\"name\":\"_destroyed\"}]},{\"extends\":null,\"module\":null,\"name\":\"TemplateActions1\",\"overrides\":[],\"properties\":[{\"default\":0,\"kind\":null,\"name\":\"open_modal\"},{\"default\":0,\"kind\":null,\"name\":\"close_modal\"}]},{\"extends\":null,\"module\":null,\"name\":\"MaterialTemplateActions1\",\"overrides\":[],\"properties\":[{\"default\":0,\"kind\":null,\"name\":\"open_modal\"},{\"default\":0,\"kind\":null,\"name\":\"close_modal\"}]}],\"roots\":{\"references\":[{\"attributes\":{\"height\":149,\"margin\":[5,5,5,5],\"name\":\"PNG01904\",\"text\":\"&lt;img src=&quot;data:image/png;base64,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&quot; width=&quot;200px&quot; height=&quot;149px&quot; alt=&quot;&quot;&gt;&lt;/img&gt;\",\"width\":200},\"id\":\"2432\",\"type\":\"panel.models.markup.HTML\"},{\"attributes\":{\"client_comm_id\":\"59d663fb23304cf994cff7a4547e73d5\",\"comm_id\":\"b3ccdc4b62bb482ea215c4fa512ea97e\",\"plot_id\":\"2431\"},\"id\":\"2433\",\"type\":\"panel.models.comm_manager.CommManager\"},{\"attributes\":{\"children\":[{\"id\":\"2432\"}],\"margin\":[0,0,0,0],\"name\":\"Column01906\"},\"id\":\"2431\",\"type\":\"Column\"}],\"root_ids\":[\"2431\",\"2433\"]},\"title\":\"Bokeh Application\",\"version\":\"2.4.3\"}};\n",
       "    var render_items = [{\"docid\":\"0b2bc090-4ef8-48fa-b375-154c7db0da60\",\"root_ids\":[\"2431\"],\"roots\":{\"2431\":\"5e2ab1fd-9494-41ef-bf38-7e95ff790412\"}}];\n",
       "    root.Bokeh.embed.embed_items_notebook(docs_json, render_items);\n",
       "    for (const render_item of render_items) {\n",
       "      for (const root_id of render_item.root_ids) {\n",
       "\tconst id_el = document.getElementById(root_id)\n",
       "\tif (id_el.children.length && (id_el.children[0].className === 'bk-root')) {\n",
       "\t  const root_el = id_el.children[0]\n",
       "\t  root_el.id = root_el.id + '-rendered'\n",
       "\t}\n",
       "      }\n",
       "    }\n",
       "  }\n",
       "  if (root.Bokeh !== undefined && root.Bokeh.Panel !== undefined) {\n",
       "    embed_document(root);\n",
       "  } else {\n",
       "    var attempts = 0;\n",
       "    var timer = setInterval(function(root) {\n",
       "      if (root.Bokeh !== undefined && root.Bokeh.Panel !== undefined) {\n",
       "        clearInterval(timer);\n",
       "        embed_document(root);\n",
       "      } else if (document.readyState == \"complete\") {\n",
       "        attempts++;\n",
       "        if (attempts > 200) {\n",
       "          clearInterval(timer);\n",
       "          console.log(\"Bokeh: ERROR: Unable to run BokehJS code because BokehJS library is missing\");\n",
       "        }\n",
       "      }\n",
       "    }, 25, root)\n",
       "  }\n",
       "})(window);</script>"
      ],
      "text/plain": [
       "Column\n",
       "    [0] PNG(str, width=200)"
      ]
     },
     "execution_count": 61,
     "metadata": {
      "application/vnd.holoviews_exec.v0+json": {
       "id": "2431"
      }
     },
     "output_type": "execute_result"
    }
   ],
   "source": [
    "column_sidebar = pn.Column(png)\n",
    "#column.append('\\n')\n",
    "column_sidebar"
   ]
  },
  {
   "cell_type": "code",
   "execution_count": 69,
   "id": "56383a97-9ba5-490d-92ed-4760918237cd",
   "metadata": {},
   "outputs": [
    {
     "data": {},
     "metadata": {},
     "output_type": "display_data"
    },
    {
     "data": {},
     "metadata": {},
     "output_type": "display_data"
    },
    {
     "data": {
      "application/vnd.holoviews_exec.v0+json": "",
      "text/html": [
       "\n",
       "\n",
       "<link rel=\"icon\" href=\"/static/extensions/panel/images/favicon.ico\" type=\"\"><meta name=\"name\" content=\"Cursos Online\"><!-- Template CSS -->\n",
       "<link rel=\"stylesheet\" href=\"static/extensions/panel/bundled/fastbasetemplate/fast_root.css\">\n",
       "<link rel=\"stylesheet\" href=\"static/extensions/panel/bundled/fastbasetemplate/fast_bokeh.css\">\n",
       "<link rel=\"stylesheet\" href=\"static/extensions/panel/bundled/fastbasetemplate/fast_bokeh_slickgrid.css\">\n",
       "<link rel=\"stylesheet\" href=\"static/extensions/panel/bundled/fastbasetemplate/fast_panel.css\">\n",
       "<link rel=\"stylesheet\" href=\"static/extensions/panel/bundled/fastbasetemplate/fast_panel_dataframe.css\">\n",
       "<link rel=\"stylesheet\" href=\"static/extensions/panel/bundled/fastbasetemplate/fast_panel_widgets.css\">\n",
       "<link rel=\"stylesheet\" href=\"static/extensions/panel/bundled/fastbasetemplate/fast_panel_markdown.css\">\n",
       "<link rel=\"stylesheet\" href=\"static/extensions/panel/bundled/fastbasetemplate/fast_awesome.css\">\n",
       "<link rel=\"stylesheet\" href=\"static/extensions/panel/bundled/fastlisttemplate/fast_list_template.css\">\n",
       "<link rel=\"stylesheet\" href=\"static/extensions/panel/bundled/fastdefaulttheme/fast_root_default.css\">\n",
       "<link rel=\"stylesheet\" href=\"static/extensions/panel/bundled/fastlisttemplate/default.css\">\n",
       "<link rel=\"stylesheet\" type=\"text/css\" href=\"//fonts.googleapis.com/css?family=Open+Sans\" />\n",
       "\n",
       "<style>\n",
       "  :root {\n",
       "    --body-font: Open Sans, sans-serif;\n",
       "  }\n",
       "  body {\n",
       "    color: #00aa41;\n",
       "    background-color: #ffffff;\n",
       "    font-family: var(--body-font);\n",
       "  }\n",
       "  #header a {\n",
       "    color: currentColor;\n",
       "  }\n",
       "  #header-design-provider {\n",
       "    --neutral-foreground-rest: #ffffff;\n",
       "  }\n",
       "  #sidebar {\n",
       "    width: 330px;\n",
       "  }\n",
       "  #header {\n",
       "      box-shadow: 2px 2px 10px silver;\n",
       "  }\n",
       "  #sidebar {\n",
       "      box-shadow: 2px 2px 10px silver;\n",
       "  }\n",
       "</style>\n",
       "\n",
       "<!-- Template JS -->\n",
       "<script src=\"static/extensions/panel/bundled/fastbasetemplate/fast_template.js\"></script>\n",
       "<script src=\"./static/extensions/panel/bundled/js/@microsoft/fast-colors@5.3.1/dist/index.js\" type=\"module\"></script>\n",
       "<script src=\"./static/extensions/panel/bundled/js/@microsoft/fast-components@1.21.8/dist/fast-components.js\" type=\"module\"></script>\n",
       "\n",
       "<!-- Fast Script -->\n",
       "<script type=\"module\">\n",
       "  import { parseColorHexRGB } from \"./static/extensions/panel/bundled/js/@microsoft/fast-colors@5.3.1/dist/index.js\";\n",
       "  import {\n",
       "    createColorPalette,\n",
       "    accentFillActiveBehavior,\n",
       "    accentFillHoverBehavior,\n",
       "    accentFillRestBehavior,\n",
       "    accentForegroundActiveBehavior,\n",
       "    accentForegroundCutRestBehavior,\n",
       "    accentForegroundFocusBehavior,\n",
       "    accentForegroundHoverBehavior,\n",
       "    accentForegroundRestBehavior,\n",
       "    neutralDividerRestBehavior,\n",
       "    neutralFillHoverBehavior,\n",
       "    neutralFillInputActiveBehavior,\n",
       "    neutralFillInputHoverBehavior,\n",
       "    neutralFillInputRestBehavior,\n",
       "    neutralFillRestBehavior,\n",
       "    neutralFillStealthActiveBehavior,\n",
       "    neutralFillStealthHoverBehavior,\n",
       "    neutralFillStealthRestBehavior,\n",
       "    neutralFocusBehavior,\n",
       "    neutralFocusInnerAccentBehavior,\n",
       "    neutralForegroundActiveBehavior,\n",
       "    neutralForegroundHoverBehavior,\n",
       "    neutralLayerFloatingBehavior,\n",
       "    neutralOutlineActiveBehavior,\n",
       "    neutralOutlineHoverBehavior,\n",
       "    neutralOutlineRestBehavior\n",
       "  } from \"./static/extensions/panel/bundled/js/@microsoft/fast-components@1.21.8/dist/fast-components.js\";\n",
       "\n",
       "  function standardize_color(str){\n",
       "    var ctx = document.createElement('canvas').getContext('2d');\n",
       "    ctx.fillStyle = str;\n",
       "    return ctx.fillStyle;\n",
       "  }\n",
       "\n",
       "  function setAccentColor(color, selector){\n",
       "      color = standardize_color(color);\n",
       "      const accent = color;\n",
       "      const palette = createColorPalette(parseColorHexRGB(accent));\n",
       "      const provider = document.querySelector(selector);\n",
       "      provider.accentBaseColor = accent;\n",
       "      provider.accentPalette = palette;\n",
       "  }\n",
       "  setAccentColor(\"#0072B5\", \"#body-design-provider\");\n",
       "  setAccentColor(\"#ffffff\", \"#header-design-provider\");\n",
       "\n",
       "  function setNeutralColor(color, selector){\n",
       "      color = standardize_color(color);\n",
       "      const palette = createColorPalette(parseColorHexRGB(color));\n",
       "      const provider = document.querySelector(selector);\n",
       "\n",
       "      provider.neutralPalette = palette;\n",
       "  }\n",
       "  setNeutralColor(\"#ffffff\", \"#header-design-provider\");\n",
       "  setNeutralColor(\"#000000\", \"#body-design-provider\");\n",
       "\n",
       "  function setBackgroundColor(color, selector){\n",
       "    color = standardize_color(color);\n",
       "    const provider = document.querySelector(selector);\n",
       "    provider.backgroundColor=color;\n",
       "  }\n",
       "  setBackgroundColor(\"#0072B5\", \"#header-design-provider\");\n",
       "  setBackgroundColor(\"#ffffff\", \"#body-design-provider\");\n",
       "\n",
       "  document.querySelector(\"#body-design-provider\").cornerRadius=3;\n",
       "\n",
       "  function registerCSSCustomProperties(selector)  {\n",
       "    const provider = document.querySelector(selector);\n",
       "    provider.registerCSSCustomProperty(accentFillActiveBehavior)\n",
       "    provider.registerCSSCustomProperty(neutralFillRestBehavior)\n",
       "    provider.registerCSSCustomProperty(accentFillHoverBehavior)\n",
       "    provider.registerCSSCustomProperty(accentFillRestBehavior)\n",
       "    provider.registerCSSCustomProperty(accentForegroundActiveBehavior)\n",
       "    provider.registerCSSCustomProperty(accentForegroundCutRestBehavior)\n",
       "    provider.registerCSSCustomProperty(accentForegroundFocusBehavior)\n",
       "    provider.registerCSSCustomProperty(accentForegroundHoverBehavior)\n",
       "    provider.registerCSSCustomProperty(accentForegroundRestBehavior)\n",
       "    provider.registerCSSCustomProperty(neutralDividerRestBehavior)\n",
       "    provider.registerCSSCustomProperty(neutralFillHoverBehavior)\n",
       "    provider.registerCSSCustomProperty(neutralFillInputActiveBehavior)\n",
       "    provider.registerCSSCustomProperty(neutralFillInputHoverBehavior)\n",
       "    provider.registerCSSCustomProperty(neutralFillInputRestBehavior)\n",
       "    provider.registerCSSCustomProperty(neutralFillRestBehavior)\n",
       "    provider.registerCSSCustomProperty(neutralFillStealthActiveBehavior)\n",
       "    provider.registerCSSCustomProperty(neutralFillStealthHoverBehavior)\n",
       "    provider.registerCSSCustomProperty(neutralFillStealthRestBehavior)\n",
       "    provider.registerCSSCustomProperty(neutralFocusBehavior)\n",
       "    provider.registerCSSCustomProperty(neutralFocusInnerAccentBehavior)\n",
       "    provider.registerCSSCustomProperty(neutralForegroundActiveBehavior)\n",
       "    provider.registerCSSCustomProperty(neutralForegroundHoverBehavior)\n",
       "    provider.registerCSSCustomProperty(neutralLayerFloatingBehavior)\n",
       "    provider.registerCSSCustomProperty(neutralOutlineActiveBehavior)\n",
       "    provider.registerCSSCustomProperty(neutralOutlineHoverBehavior)\n",
       "    provider.registerCSSCustomProperty(neutralOutlineRestBehavior)\n",
       "  }\n",
       "  registerCSSCustomProperties(\"#header-design-provider\")\n",
       "  registerCSSCustomProperties(\"#body-design-provider\")\n",
       "\n",
       "  class FastDesignProvider {\n",
       "    setAccentColor(value, element){\n",
       "      setAccentColor(value, element);\n",
       "    }\n",
       "    setNeutralColor(value, element){\n",
       "      setNeutralColor(value, element);\n",
       "    }\n",
       "    setBackgroundColor(value, element){\n",
       "      setBackgroundColor(value, element)\n",
       "    }\n",
       "  }\n",
       "  window.fastDesignProvider = new FastDesignProvider()\n",
       "</script>\n",
       "<fast-design-system-provider id=\"body-design-provider\" use-defaults accent-foreground-cut-rest=\"#FFFFFF\"\n",
       "background-color=\"#ffffff\"accent-base-color=\"#0072B5\"  >\n",
       "  <div id=\"container\">\n",
       "  <fast-design-system-provider id=\"header-design-provider\"\n",
       "background-color=\"#0072B5\"  >\n",
       "  <nav id=\"header\">\n",
       "    <span onclick=\"closeNav()\" id=\"sidebar-button\">\n",
       "      <div class=\"pn-bar\"></div>\n",
       "      <div class=\"pn-bar\"></div>\n",
       "      <div class=\"pn-bar\"></div>\n",
       "\t  </span>\n",
       "    <fast-tooltip anchor=\"sidebar-button\" position=\"right\">\n",
       "      Toggle the Sidebar\n",
       "    </fast-tooltip>\n",
       "    <div class=\"app-header\">\n",
       "<a class=\"title\" href=\"\" >Cursos Online</a>    </div>\n",
       "    <div id=\"header-items\">\n",
       "  </div>\n",
       "  <div class=\"pn-toggle-theme\">\n",
       "    <fast-switch id=\"theme-switch\" style=\"float: right;\" onChange=\"toggleLightDarkTheme('default')\" checked>\n",
       "      <span slot=\"checked-message\">\n",
       "        <svg class=\"theme-toggle-icon\" fill=\"currentColor\" xmlns=\"http://www.w3.org/2000/svg\" viewBox=\"0 0 25 25\"><path d=\"M0 0h24v24H0z\" fill=\"none\"/><path d=\"M6.76 4.84l-1.8-1.79-1.41 1.41 1.79 1.79 1.42-1.41zM4 10.5H1v2h3v-2zm9-9.95h-2V3.5h2V.55zm7.45 3.91l-1.41-1.41-1.79 1.79 1.41 1.41 1.79-1.79zm-3.21 13.7l1.79 1.8 1.41-1.41-1.8-1.79-1.4 1.4zM20 10.5v2h3v-2h-3zm-8-5c-3.31 0-6 2.69-6 6s2.69 6 6 6 6-2.69 6-6-2.69-6-6-6zm-1 16.95h2V19.5h-2v2.95zm-7.45-3.91l1.41 1.41 1.79-1.8-1.41-1.41-1.79 1.8z\"/></svg>\n",
       "      </span>\n",
       "      <span slot=\"unchecked-message\">\n",
       "        <svg class=\"theme-toggle-icon\" fill=\"currentColor\" xmlns=\"http://www.w3.org/2000/svg\" viewBox=\"0 0 25 25\"><path d=\"M0 0h24v24H0z\" fill=\"none\"/><path d=\"M10 2c-1.82 0-3.53.5-5 1.35C7.99 5.08 10 8.3 10 12s-2.01 6.92-5 8.65C6.47 21.5 8.18 22 10 22c5.52 0 10-4.48 10-10S15.52 2 10 2z\"/></svg>\n",
       "      </span>\n",
       "    </fast-switch>\n",
       "    <fast-tooltip anchor=\"theme-switch\" position=\"bottom\">\n",
       "      Toggle the Theme\n",
       "    </fast-tooltip>\n",
       "  </div>\n",
       "\t<div class=\"pn-busy-container\" id=\"busy-container\">\n",
       "\t  <div class=\"bk-root\" id=\"201d578f-16e1-40d1-825f-8471b7868011\" data-root-id=\"3149\"></div>\n",
       "\t</div>\n",
       "  <fast-tooltip anchor=\"busy-container\" position=\"left\">\n",
       "    Busy Indicator\n",
       "  </fast-tooltip>\n",
       "\n",
       "  </nav>\n",
       "  </fast-design-system-provider>\n",
       "\n",
       "  <div class=\"row\" id=\"content\">\n",
       "    <div class=\"sidenav\" id=\"sidebar\">\n",
       "      <ul class=\"nav flex-column\">\n",
       "        <div class=\"bk-root\" id=\"c0ebbb88-adc3-4112-b58d-2d6a0e796f09\" data-root-id=\"3238\"></div>\n",
       "      </ul>\n",
       "    </div>\n",
       "\n",
       "    <div class=\"main\" id=\"main\"\n",
       "    style=\"margin-left: 360px;\"\n",
       "    >\n",
       "      <div class=\"card-margin\">\n",
       "<fast-card class=\"pn-wrapper\">        <span class=\"fullscreen-button\" onclick=\"toggleFullScreen(this)\">\n",
       "          <svg xmlns=\"http://www.w3.org/2000/svg\" fill=\"currentColor\" viewBox=\"0 0 18 18\"><path d=\"M4.5 11H3v4h4v-1.5H4.5V11zM3 7h1.5V4.5H7V3H3v4zm10.5 6.5H11V15h4v-4h-1.5v2.5zM11 3v1.5h2.5V7H15V3h-4z\"/></svg>\n",
       "        </span>\n",
       "        <div class=\"bk-root\" id=\"408ea42d-75f1-4297-b6d0-46a0e43e78dd\" data-root-id=\"3150\"></div>\n",
       "</fast-card>      </div>\n",
       "\n",
       "      <fast-dialog id=\"pn-Modal\" hidden style=\"--dialog-width: 80%; --dialog-height: auto; --background-color: var(--neutral-layer-floating);\">\n",
       "        <fast-button class=\"pn-modal-close\" id=\"pn-closeModal\">&times;</fast-button>\n",
       "\t<div>\n",
       "\t</div>\n",
       "      </fast-dialog>\n",
       "  </div>\n",
       "  </div>\n",
       "</div>\n",
       "</fast-design-system-provider>\n",
       "<script>\n",
       "  \n",
       "</script>\n",
       "<script>\n",
       "  function openNav() {\n",
       "    document.getElementById(\"sidebar\").style.left = 0;\n",
       "    document.getElementById(\"main\").style.marginLeft = \"360px\";\n",
       "    document.getElementById(\"sidebar-button\").onclick = closeNav;\n",
       "    var interval = setInterval(function () { window.dispatchEvent(new Event('resize')); }, 10);\n",
       "    setTimeout(function () { clearInterval(interval) }, 210)\n",
       "  }\n",
       "\n",
       "  function closeNav() {\n",
       "    document.getElementById(\"sidebar\").style.left = \"-360px\";\n",
       "    document.getElementById(\"main\").style.marginLeft = 0;\n",
       "    document.getElementById(\"sidebar-button\").onclick = openNav;\n",
       "    var interval = setInterval(function () { window.dispatchEvent(new Event('resize')); }, 10);\n",
       "    setTimeout(function () { clearInterval(interval) }, 210)\n",
       "  }\n",
       "\n",
       "  var modal = document.getElementById(\"pn-Modal\");\n",
       "  var span = document.getElementById(\"pn-closeModal\");\n",
       "\n",
       "  span.onclick = function() {\n",
       "    modal.style.display = \"none\";\n",
       "  }\n",
       "\n",
       "  window.onclick = function(event) {\n",
       "    if (event.target == modal) {\n",
       "      modal.style.display = \"none\";\n",
       "    }\n",
       "  }\n",
       "</script>\n",
       "\n",
       "<div class=\"bk-root\" id=\"bbce56f2-41c0-4b8b-8fd0-3b63784595de\" data-root-id=\"3146\"></div>\n",
       "<div class=\"bk-root\" id=\"27ce2583-bee0-41f4-a943-8c8c9dab9b31\" data-root-id=\"3148\"></div>\n",
       "<div class=\"bk-root\" id=\"4d28a4e8-b826-416a-82c4-9e2593f9b1ff\" data-root-id=\"3144\"></div>\n",
       "\n",
       "    \n",
       "        <script type=\"application/json\" id=\"3280\">\n",
       "          {\"9b26980e-1757-4616-ae2c-8d34e7b2ac60\":{\"defs\":[{\"extends\":null,\"module\":null,\"name\":\"ReactiveHTML1\",\"overrides\":[],\"properties\":[]},{\"extends\":null,\"module\":null,\"name\":\"FlexBox1\",\"overrides\":[],\"properties\":[{\"default\":\"flex-start\",\"kind\":null,\"name\":\"align_content\"},{\"default\":\"flex-start\",\"kind\":null,\"name\":\"align_items\"},{\"default\":\"row\",\"kind\":null,\"name\":\"flex_direction\"},{\"default\":\"wrap\",\"kind\":null,\"name\":\"flex_wrap\"},{\"default\":\"flex-start\",\"kind\":null,\"name\":\"justify_content\"}]},{\"extends\":null,\"module\":null,\"name\":\"GridStack1\",\"overrides\":[],\"properties\":[{\"default\":\"warn\",\"kind\":null,\"name\":\"mode\"},{\"default\":null,\"kind\":null,\"name\":\"ncols\"},{\"default\":null,\"kind\":null,\"name\":\"nrows\"},{\"default\":true,\"kind\":null,\"name\":\"allow_resize\"},{\"default\":true,\"kind\":null,\"name\":\"allow_drag\"},{\"default\":[],\"kind\":null,\"name\":\"state\"}]},{\"extends\":null,\"module\":null,\"name\":\"click1\",\"overrides\":[],\"properties\":[{\"default\":\"\",\"kind\":null,\"name\":\"terminal_output\"},{\"default\":\"\",\"kind\":null,\"name\":\"debug_name\"},{\"default\":0,\"kind\":null,\"name\":\"clears\"}]},{\"extends\":null,\"module\":null,\"name\":\"NotificationAreaBase1\",\"overrides\":[],\"properties\":[{\"default\":\"bottom-right\",\"kind\":null,\"name\":\"position\"},{\"default\":0,\"kind\":null,\"name\":\"_clear\"}]},{\"extends\":null,\"module\":null,\"name\":\"NotificationArea1\",\"overrides\":[],\"properties\":[{\"default\":[],\"kind\":null,\"name\":\"notifications\"},{\"default\":\"bottom-right\",\"kind\":null,\"name\":\"position\"},{\"default\":0,\"kind\":null,\"name\":\"_clear\"},{\"default\":[{\"background\":\"#ffc107\",\"icon\":{\"className\":\"fas fa-exclamation-triangle\",\"color\":\"white\",\"tagName\":\"i\"},\"type\":\"warning\"},{\"background\":\"#007bff\",\"icon\":{\"className\":\"fas fa-info-circle\",\"color\":\"white\",\"tagName\":\"i\"},\"type\":\"info\"}],\"kind\":null,\"name\":\"types\"}]},{\"extends\":null,\"module\":null,\"name\":\"Notification\",\"overrides\":[],\"properties\":[{\"default\":null,\"kind\":null,\"name\":\"background\"},{\"default\":3000,\"kind\":null,\"name\":\"duration\"},{\"default\":null,\"kind\":null,\"name\":\"icon\"},{\"default\":\"\",\"kind\":null,\"name\":\"message\"},{\"default\":null,\"kind\":null,\"name\":\"notification_type\"},{\"default\":false,\"kind\":null,\"name\":\"_destroyed\"}]},{\"extends\":null,\"module\":null,\"name\":\"TemplateActions1\",\"overrides\":[],\"properties\":[{\"default\":0,\"kind\":null,\"name\":\"open_modal\"},{\"default\":0,\"kind\":null,\"name\":\"close_modal\"}]},{\"extends\":null,\"module\":null,\"name\":\"MaterialTemplateActions1\",\"overrides\":[],\"properties\":[{\"default\":0,\"kind\":null,\"name\":\"open_modal\"},{\"default\":0,\"kind\":null,\"name\":\"close_modal\"}]}],\"roots\":{\"references\":[{\"attributes\":{\"data\":{\"cantidad_cursos\":{\"__ndarray__\":\"BAAAABQAAABAAgAABAAAAA==\",\"dtype\":\"uint32\",\"order\":\"little\",\"shape\":[4]},\"rating_promedio\":{\"__ndarray__\":\"AAAAAAAA8D8AAAAAAAAIQAAAAAAAABBAAAAAAAAAFEA=\",\"dtype\":\"float64\",\"order\":\"little\",\"shape\":[4]}},\"selected\":{\"id\":\"3190\"},\"selection_policy\":{\"id\":\"3215\"}},\"id\":\"3189\",\"type\":\"ColumnDataSource\"},{\"attributes\":{\"active_drag\":{\"id\":\"3177\"},\"active_scroll\":{\"id\":\"3178\"},\"tools\":[{\"id\":\"3158\"},{\"id\":\"3176\"},{\"id\":\"3177\"},{\"id\":\"3178\"},{\"id\":\"3179\"},{\"id\":\"3180\"}]},\"id\":\"3182\",\"type\":\"Toolbar\"},{\"attributes\":{\"children\":[{\"id\":\"3153\"},{\"id\":\"3155\"}],\"margin\":[0,0,0,0],\"name\":\"Column02364\"},\"id\":\"3152\",\"type\":\"Column\"},{\"attributes\":{},\"id\":\"3178\",\"type\":\"WheelZoomTool\"},{\"attributes\":{\"children\":[{\"id\":\"3152\"}],\"margin\":[0,0,0,0],\"name\":\"Column02587\"},\"id\":\"3151\",\"type\":\"Column\"},{\"attributes\":{},\"id\":\"3176\",\"type\":\"SaveTool\"},{\"attributes\":{\"css_classes\":[\"loader\",\"light\"],\"height\":20,\"margin\":[5,10,5,10],\"name\":\"busy_indicator\",\"sizing_mode\":\"fixed\",\"width\":20},\"id\":\"3149\",\"type\":\"panel.models.markup.HTML\"},{\"attributes\":{\"height\":149,\"margin\":[5,5,5,5],\"name\":\"2127271155008\",\"tags\":[\"nav\"],\"text\":\"&amp;lt;img src=&amp;quot;data:image/png;base64,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&amp;quot; width=&amp;quot;200px&amp;quot; height=&amp;quot;149px&amp;quot; alt=&amp;quot;&amp;quot;&amp;gt;&amp;lt;/img&amp;gt;\",\"width\":200},\"id\":\"3238\",\"type\":\"panel.models.markup.HTML\"},{\"attributes\":{\"height\":0,\"margin\":[0,0,0,0],\"name\":\"js_area\",\"sizing_mode\":\"fixed\",\"width\":0},\"id\":\"3146\",\"type\":\"panel.models.markup.HTML\"},{\"attributes\":{\"client_comm_id\":\"1d93a67744144c7d8f7a4f8733d17494\",\"comm_id\":\"d76ea7747f9f456e99e15c5f46e67a79\",\"name\":\"comm_manager\",\"plot_id\":\"3144\"},\"id\":\"3259\",\"type\":\"panel.models.comm_manager.CommManager\"},{\"attributes\":{\"children\":[{\"id\":\"3151\"}],\"margin\":[0,0,0,0],\"name\":\"2127271239136\",\"tags\":[\"main\"]},\"id\":\"3150\",\"type\":\"Row\"},{\"attributes\":{\"end\":5.0,\"reset_end\":5.0,\"reset_start\":1.0,\"start\":1.0,\"tags\":[[[\"rating_promedio\",\"rating_promedio\",null]]]},\"id\":\"3156\",\"type\":\"Range1d\"},{\"attributes\":{\"background_fill_color\":\"#ffffff\",\"below\":[{\"id\":\"3168\"}],\"border_fill_alpha\":0,\"border_fill_color\":\"#F7F7F7\",\"center\":[{\"id\":\"3171\"},{\"id\":\"3175\"}],\"height\":300,\"left\":[{\"id\":\"3172\"}],\"margin\":[5,5,5,5],\"min_border_bottom\":10,\"min_border_left\":10,\"min_border_right\":10,\"min_border_top\":10,\"outline_line_alpha\":0.5,\"outline_line_color\":\"#888888\",\"outline_line_width\":1,\"renderers\":[{\"id\":\"3195\"}],\"sizing_mode\":\"fixed\",\"title\":{\"id\":\"3160\"},\"toolbar\":{\"id\":\"3182\"},\"width\":700,\"x_range\":{\"id\":\"3156\"},\"x_scale\":{\"id\":\"3164\"},\"y_range\":{\"id\":\"3157\"},\"y_scale\":{\"id\":\"3166\"}},\"id\":\"3159\",\"subtype\":\"Figure\",\"type\":\"Plot\"},{\"attributes\":{\"data\":{\"id\":\"3147\"},\"margin\":[0,0,0,0],\"name\":\"actions\",\"scripts\":{\"close_modal\":[\"document.getElementById(&amp;#x27;pn-Modal&amp;#x27;).style.display = &amp;#x27;none&amp;#x27;\"],\"open_modal\":[\"document.getElementById(&amp;#x27;pn-Modal&amp;#x27;).style.display = &amp;#x27;block&amp;#x27;\"]},\"subscribed_events\":[\"dom_event\"]},\"id\":\"3148\",\"type\":\"panel.models.reactive_html.ReactiveHTML\"},{\"attributes\":{},\"id\":\"3164\",\"type\":\"LinearScale\"},{\"attributes\":{\"callback\":null,\"renderers\":[{\"id\":\"3195\"}],\"tags\":[\"hv_created\"],\"tooltips\":[[\"rating_promedio\",\"@{rating_promedio}\"],[\"cantidad_cursos\",\"@{cantidad_cursos}\"]]},\"id\":\"3158\",\"type\":\"HoverTool\"},{\"attributes\":{\"margin\":[5,10,5,10],\"options\":[\"Precio\",\"Nivel Complejidad\",\"Rating\",\"Idioma\"],\"title\":\"Seleccionar Tipo\",\"value\":\"Rating\"},\"id\":\"3154\",\"type\":\"panel.models.widgets.CustomSelect\"},{\"attributes\":{},\"id\":\"3190\",\"type\":\"Selection\"},{\"attributes\":{\"children\":[{\"id\":\"3154\"}],\"margin\":[0,0,0,0],\"name\":\"Column02273\"},\"id\":\"3153\",\"type\":\"Column\"},{\"attributes\":{},\"id\":\"3166\",\"type\":\"LinearScale\"},{\"attributes\":{},\"id\":\"3215\",\"type\":\"UnionRenderers\"},{\"attributes\":{},\"id\":\"3169\",\"type\":\"BasicTicker\"},{\"attributes\":{\"coordinates\":null,\"group\":null,\"text_color\":\"#2B2B2B\",\"text_font\":\"Open Sans, sans-serif\",\"text_font_size\":\"1.15em\"},\"id\":\"3160\",\"type\":\"Title\"},{\"attributes\":{\"axis\":{\"id\":\"3168\"},\"coordinates\":null,\"grid_line_alpha\":0.25,\"grid_line_color\":null,\"group\":null,\"ticker\":null},\"id\":\"3171\",\"type\":\"Grid\"},{\"attributes\":{\"name\":\"TemplateActions02595\"},\"id\":\"3147\",\"type\":\"TemplateActions1\"},{\"attributes\":{\"axis_label\":\"rating_promedio\",\"axis_label_standoff\":10,\"axis_label_text_color\":\"#2B2B2B\",\"axis_label_text_font\":\"Open Sans, sans-serif\",\"axis_label_text_font_size\":\"1.25em\",\"axis_label_text_font_style\":\"normal\",\"axis_line_alpha\":0.1,\"axis_line_color\":\"#2B2B2B\",\"coordinates\":null,\"formatter\":{\"id\":\"3199\"},\"group\":null,\"major_label_policy\":{\"id\":\"3200\"},\"major_label_text_color\":\"#2B2B2B\",\"major_label_text_font\":\"Open Sans, sans-serif\",\"major_tick_line_alpha\":0.5,\"major_tick_line_color\":\"#2B2B2B\",\"minor_tick_line_alpha\":0.25,\"minor_tick_line_color\":\"#2B2B2B\",\"ticker\":{\"id\":\"3169\"}},\"id\":\"3168\",\"type\":\"LinearAxis\"},{\"attributes\":{},\"id\":\"3202\",\"type\":\"BasicTickFormatter\"},{\"attributes\":{\"children\":[{\"id\":\"3159\"}],\"margin\":[0,0,0,0],\"name\":\"Row02278\"},\"id\":\"3155\",\"type\":\"Row\"},{\"attributes\":{\"line_color\":\"#30a2da\",\"line_width\":2,\"x\":{\"field\":\"rating_promedio\"},\"y\":{\"field\":\"cantidad_cursos\"}},\"id\":\"3192\",\"type\":\"Line\"},{\"attributes\":{},\"id\":\"3199\",\"type\":\"BasicTickFormatter\"},{\"attributes\":{\"overlay\":{\"id\":\"3181\"}},\"id\":\"3179\",\"type\":\"BoxZoomTool\"},{\"attributes\":{},\"id\":\"3177\",\"type\":\"PanTool\"},{\"attributes\":{\"end\":633.2,\"reset_end\":633.2,\"reset_start\":-53.2,\"start\":-53.2,\"tags\":[[[\"cantidad_cursos\",\"cantidad_cursos\",null]]]},\"id\":\"3157\",\"type\":\"Range1d\"},{\"attributes\":{},\"id\":\"3180\",\"type\":\"ResetTool\"},{\"attributes\":{\"axis_label\":\"cantidad_cursos\",\"axis_label_standoff\":10,\"axis_label_text_color\":\"#2B2B2B\",\"axis_label_text_font\":\"Open Sans, sans-serif\",\"axis_label_text_font_size\":\"1.25em\",\"axis_label_text_font_style\":\"normal\",\"axis_line_alpha\":0.1,\"axis_line_color\":\"#2B2B2B\",\"coordinates\":null,\"formatter\":{\"id\":\"3202\"},\"group\":null,\"major_label_policy\":{\"id\":\"3203\"},\"major_label_text_color\":\"#2B2B2B\",\"major_label_text_font\":\"Open Sans, sans-serif\",\"major_tick_line_alpha\":0.5,\"major_tick_line_color\":\"#2B2B2B\",\"minor_tick_line_alpha\":0.25,\"minor_tick_line_color\":\"#2B2B2B\",\"ticker\":{\"id\":\"3173\"}},\"id\":\"3172\",\"type\":\"LinearAxis\"},{\"attributes\":{\"bottom_units\":\"screen\",\"coordinates\":null,\"fill_alpha\":0.5,\"fill_color\":\"lightgrey\",\"group\":null,\"left_units\":\"screen\",\"level\":\"overlay\",\"line_alpha\":1.0,\"line_color\":\"black\",\"line_dash\":[4,4],\"line_width\":2,\"right_units\":\"screen\",\"syncable\":false,\"top_units\":\"screen\"},\"id\":\"3181\",\"type\":\"BoxAnnotation\"},{\"attributes\":{\"axis\":{\"id\":\"3172\"},\"coordinates\":null,\"dimension\":1,\"grid_line_alpha\":0.25,\"grid_line_color\":null,\"group\":null,\"ticker\":null},\"id\":\"3175\",\"type\":\"Grid\"},{\"attributes\":{\"source\":{\"id\":\"3189\"}},\"id\":\"3196\",\"type\":\"CDSView\"},{\"attributes\":{},\"id\":\"3173\",\"type\":\"BasicTicker\"},{\"attributes\":{\"coordinates\":null,\"data_source\":{\"id\":\"3189\"},\"glyph\":{\"id\":\"3192\"},\"group\":null,\"hover_glyph\":null,\"muted_glyph\":{\"id\":\"3194\"},\"nonselection_glyph\":{\"id\":\"3193\"},\"selection_glyph\":{\"id\":\"3197\"},\"view\":{\"id\":\"3196\"}},\"id\":\"3195\",\"type\":\"GlyphRenderer\"},{\"attributes\":{},\"id\":\"3200\",\"type\":\"AllLabels\"},{\"attributes\":{\"name\":\"location\",\"reload\":false},\"id\":\"3144\",\"type\":\"panel.models.location.Location\"},{\"attributes\":{\"line_color\":\"#30a2da\",\"line_width\":2,\"x\":{\"field\":\"rating_promedio\"},\"y\":{\"field\":\"cantidad_cursos\"}},\"id\":\"3197\",\"type\":\"Line\"},{\"attributes\":{\"line_alpha\":0.1,\"line_color\":\"#30a2da\",\"line_width\":2,\"x\":{\"field\":\"rating_promedio\"},\"y\":{\"field\":\"cantidad_cursos\"}},\"id\":\"3193\",\"type\":\"Line\"},{\"attributes\":{\"line_alpha\":0.2,\"line_color\":\"#30a2da\",\"line_width\":2,\"x\":{\"field\":\"rating_promedio\"},\"y\":{\"field\":\"cantidad_cursos\"}},\"id\":\"3194\",\"type\":\"Line\"},{\"attributes\":{},\"id\":\"3203\",\"type\":\"AllLabels\"}],\"root_ids\":[\"3144\",\"3146\",\"3148\",\"3149\",\"3150\",\"3238\",\"3259\"]},\"title\":\"Cursos Online\",\"version\":\"2.4.3\"}}\n",
       "        </script>\n",
       "        <script type=\"text/javascript\">\n",
       "          (function() {\n",
       "            const fn = function() {\n",
       "              Bokeh.safely(function() {\n",
       "                (function(root) {\n",
       "                  function embed_document(root) {\n",
       "                  const docs_json = document.getElementById('3280').textContent;\n",
       "                  const render_items = [{\"docid\":\"9b26980e-1757-4616-ae2c-8d34e7b2ac60\",\"root_ids\":[\"3144\",\"3146\",\"3148\",\"3149\",\"3150\",\"3238\"],\"roots\":{\"3144\":\"4d28a4e8-b826-416a-82c4-9e2593f9b1ff\",\"3146\":\"bbce56f2-41c0-4b8b-8fd0-3b63784595de\",\"3148\":\"27ce2583-bee0-41f4-a943-8c8c9dab9b31\",\"3149\":\"201d578f-16e1-40d1-825f-8471b7868011\",\"3150\":\"408ea42d-75f1-4297-b6d0-46a0e43e78dd\",\"3238\":\"c0ebbb88-adc3-4112-b58d-2d6a0e796f09\"}}];\n",
       "                  root.Bokeh.embed.embed_items(docs_json, render_items);\n",
       "                  }\n",
       "                  if (root.Bokeh !== undefined) {\n",
       "                    embed_document(root);\n",
       "                  } else {\n",
       "                    let attempts = 0;\n",
       "                    const timer = setInterval(function(root) {\n",
       "                      if (root.Bokeh !== undefined) {\n",
       "                        clearInterval(timer);\n",
       "                        embed_document(root);\n",
       "                      } else {\n",
       "                        attempts++;\n",
       "                        if (attempts > 100) {\n",
       "                          clearInterval(timer);\n",
       "                          console.log(\"Bokeh: ERROR: Unable to run BokehJS code because BokehJS library is missing\");\n",
       "                        }\n",
       "                      }\n",
       "                    }, 10, root)\n",
       "                  }\n",
       "                })(window);\n",
       "              });\n",
       "            };\n",
       "            if (document.readyState != \"loading\") fn();\n",
       "            else document.addEventListener(\"DOMContentLoaded\", fn);\n",
       "          })();\n",
       "        </script>\n"
      ],
      "text/plain": [
       "FastListTemplate\n",
       "    [js_area] HTML(None, height=0, margin=0, sizing_mode='fixed', width=0)\n",
       "    [actions] TemplateActions()\n",
       "    [busy_indicator] LoadingSpinner(height=20, width=20)\n",
       "    [2127271239136] Row\n",
       "        [0] Column\n",
       "            [0] Column\n",
       "                [0] Column\n",
       "                    [0] Select(name='Seleccionar Tipo', options=['Precio', 'Nivel Compleji...], value='Rating')\n",
       "                [1] ParamFunction(function)\n",
       "    [2127271155008] PNG(str, width=200)"
      ]
     },
     "execution_count": 69,
     "metadata": {
      "application/vnd.holoviews_exec.v0+json": {
       "id": "3144"
      }
     },
     "output_type": "execute_result"
    }
   ],
   "source": [
    "template = pn.template.FastListTemplate(\n",
    " title = 'Cursos Online',\n",
    " sidebar = column_sidebar,\n",
    " main=[pn.Row(pn.Column(columna1))\n",
    "   \n",
    " ]   \n",
    ")\n",
    "template.servable()\n"
   ]
  },
  {
   "cell_type": "code",
   "execution_count": null,
   "id": "b9c6724e-934d-4c7b-a81e-85d05e932233",
   "metadata": {},
   "outputs": [],
   "source": []
  }
 ],
 "metadata": {
  "kernelspec": {
   "display_name": "Python 3 (ipykernel)",
   "language": "python",
   "name": "python3"
  },
  "language_info": {
   "codemirror_mode": {
    "name": "ipython",
    "version": 3
   },
   "file_extension": ".py",
   "mimetype": "text/x-python",
   "name": "python",
   "nbconvert_exporter": "python",
   "pygments_lexer": "ipython3",
   "version": "3.10.5"
  }
 },
 "nbformat": 4,
 "nbformat_minor": 5
}
